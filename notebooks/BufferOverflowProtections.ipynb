{
 "cells": [
  {
   "cell_type": "markdown",
   "metadata": {},
   "source": [
    "# Buffer Overflow Protections\n",
    "- modern kernel/OS and compilers provide various protections from buffer overflow attacks\n",
    "- Reference: https://ocw.cs.pub.ro/courses/cns/labs/lab-06"
   ]
  },
  {
   "cell_type": "markdown",
   "metadata": {},
   "source": [
    "## 1. ASLR - Address Space Layout Randomization\n",
    "- Kernel specific protection\n",
    "- loads the stack, data and program in random memory locations making it difficult (not impossible) to guess their addresses\n",
    "\n",
    "- the following segments are possible to randomize on x86:\n",
    "    - **stack** is easily randomizable, as all stack addresses are relative to `esp` or `ebp`\n",
    "    - **Data segment** may be randomized, if e.g., the data segment is set to a random value\n",
    "    - **Code** can only be randomized by comiling the program as Position Independent Code/Position Independent Executable\n",
    "       - default for shared libraries, but otherwise executable code is usually placed at fixed addresses\n",
    "\n",
    "### ASLR values\n",
    "- Linux allows 3 options:\n",
    "    - 0: disabled\n",
    "    - 1: randomize stack, vdso, libraries (except data? not sure...)\n",
    "    - 2: enabled (including data segment - default value)\n",
    "    \n",
    "### checking ASLR\n",
    "- compile and run demos/aslr.cpp program to check ASLR\n",
    "- run gdb-peda \n",
    "\n",
    "    ```bash\n",
    "    aslr # run aslr command\n",
    "    ASLR is OFF # output\n",
    "    ```"
   ]
  },
  {
   "cell_type": "code",
   "execution_count": 1,
   "metadata": {},
   "outputs": [
    {
     "name": "stdout",
     "output_type": "stream",
     "text": [
      "[sudo] password for kali: 2\r",
      "\r\n"
     ]
    }
   ],
   "source": [
    "! echo kali | sudo -S cat /proc/sys/kernel/randomize_va_space"
   ]
  },
  {
   "cell_type": "code",
   "execution_count": 2,
   "metadata": {},
   "outputs": [
    {
     "name": "stdout",
     "output_type": "stream",
     "text": [
      "[sudo] password for kali: 2\r",
      "\r",
      "\r\n"
     ]
    }
   ],
   "source": [
    "! echo kali | sudo -S bash -c 'echo 2 | sudo -S tee /proc/sys/kernel/randomize_va_space'"
   ]
  },
  {
   "cell_type": "code",
   "execution_count": 4,
   "metadata": {},
   "outputs": [
    {
     "name": "stdout",
     "output_type": "stream",
     "text": [
      "// aslr.cpp - program to check address space layout randomization\r\n",
      "// compile and run the program multiple times\r\n",
      "// if you see same value for $esp, ASLR is disabled\r\n",
      "// $ g++ -g -m 32 -o aslr.exe aslr.cpp\r\n",
      "#include <stdio.h>\r\n",
      "#include <iostream>\r\n",
      "using namespace std;\r\n",
      "\r\n",
      "int global_var = 100; // data segment\r\n",
      "char global_name[20]; // bss segment\r\n",
      "\r\n",
      "int main(void) {\r\n",
      "    char buffer[] = \"Hello World!\";\r\n",
      "    register int esp asm(\"esp\");\r\n",
      "    register int ebp asm(\"ebp\");\r\n",
      "    cout << \"Registers info:\\n\";\r\n",
      "    cout << \"===============\\n\";\r\n",
      "    printf(\"$esp = %p\\n\", esp);\r\n",
      "    printf(\"$ebp = %p\\n\", ebp);\r\n",
      "    cout << \"\\nData and BSS segement\\n\";\r\n",
      "    cout << \"======================\\n\";\r\n",
      "    printf(\"global_var is at: %p\\n\", &global_var);\r\n",
      "    printf(\"global_name is at: %p\\n\", global_name);\r\n",
      "    cout << \"\\nStack variable:\\n\";\r\n",
      "    cout << \"===============\\n\";\r\n",
      "    printf(\"buffer is at: %p\\n\", buffer);\r\n",
      "    cout << \"\\nCode segment:\\n\";\r\n",
      "    cout << \"=============\\n\";\r\n",
      "    printf(\"main is at %p\\n\", main);\r\n",
      "    cout << \"\\nShared library code\\n\";\r\n",
      "    cout << \"=====================\\n\";\r\n",
      "    printf(\"printf is at %p\\n\", printf);\r\n",
      "    printf(\"cout is at %p\\n\", &cout); // cout is an operator\r\n",
      "    return 0;\r\n",
      "}"
     ]
    }
   ],
   "source": [
    "! cat demos/aslr/aslr.cpp"
   ]
  },
  {
   "cell_type": "code",
   "execution_count": 5,
   "metadata": {},
   "outputs": [],
   "source": [
    "%%bash\n",
    "input=\"demos/aslr/aslr.cpp\"\n",
    "output=\"aslr.exe\"\n",
    "g++ -m32 $input -o $output"
   ]
  },
  {
   "cell_type": "code",
   "execution_count": 6,
   "metadata": {},
   "outputs": [
    {
     "name": "stdout",
     "output_type": "stream",
     "text": [
      "Registers info:\r\n",
      "===============\r\n",
      "$esp = 0xffc3a300\r\n",
      "$ebp = 0xffc3a318\r\n",
      "\r\n",
      "Data and BSS segement\r\n",
      "======================\r\n",
      "global_var is at: 0x5657a018\r\n",
      "global_name is at: 0x5657a020\r\n",
      "\r\n",
      "Stack variable:\r\n",
      "===============\r\n",
      "buffer is at: 0xffc3a303\r\n",
      "\r\n",
      "Code segment:\r\n",
      "=============\r\n",
      "main is at 0x565771ad\r\n",
      "\r\n",
      "Shared library code\r\n",
      "=====================\r\n",
      "printf is at 0xf7853df0\r\n",
      "cout is at 0xf7e23c40\r\n"
     ]
    }
   ],
   "source": [
    "! ./aslr.exe | tee aslr2-1.txt"
   ]
  },
  {
   "cell_type": "code",
   "execution_count": 7,
   "metadata": {},
   "outputs": [
    {
     "name": "stdout",
     "output_type": "stream",
     "text": [
      "Registers info:\r\n",
      "===============\r\n",
      "$esp = 0xffdc6ab0\r\n",
      "$ebp = 0xffdc6ac8\r\n",
      "\r\n",
      "Data and BSS segement\r\n",
      "======================\r\n",
      "global_var is at: 0x56657018\r\n",
      "global_name is at: 0x56657020\r\n",
      "\r\n",
      "Stack variable:\r\n",
      "===============\r\n",
      "buffer is at: 0xffdc6ab3\r\n",
      "\r\n",
      "Code segment:\r\n",
      "=============\r\n",
      "main is at 0x566541ad\r\n",
      "\r\n",
      "Shared library code\r\n",
      "=====================\r\n",
      "printf is at 0xf7853df0\r\n",
      "cout is at 0xf7e23c40\r\n"
     ]
    }
   ],
   "source": [
    "! ./aslr.exe | tee aslr2-2.txt"
   ]
  },
  {
   "cell_type": "code",
   "execution_count": 8,
   "metadata": {},
   "outputs": [
    {
     "name": "stdout",
     "output_type": "stream",
     "text": [
      "3,4c3,4\r\n",
      "< $esp = 0xffc3a300\r\n",
      "< $ebp = 0xffc3a318\r\n",
      "---\r\n",
      "> $esp = 0xffdc6ab0\r\n",
      "> $ebp = 0xffdc6ac8\r\n",
      "8,9c8,9\r\n",
      "< global_var is at: 0x5657a018\r\n",
      "< global_name is at: 0x5657a020\r\n",
      "---\r\n",
      "> global_var is at: 0x56657018\r\n",
      "> global_name is at: 0x56657020\r\n",
      "13c13\r\n",
      "< buffer is at: 0xffc3a303\r\n",
      "---\r\n",
      "> buffer is at: 0xffdc6ab3\r\n",
      "17c17\r\n",
      "< main is at 0x565771ad\r\n",
      "---\r\n",
      "> main is at 0x566541ad\r\n"
     ]
    }
   ],
   "source": [
    "# run the diff of aslr2-1.txt and aslr2-2.txt\n",
    "! diff aslr2-1.txt aslr2-2.txt"
   ]
  },
  {
   "cell_type": "code",
   "execution_count": 9,
   "metadata": {},
   "outputs": [
    {
     "name": "stdout",
     "output_type": "stream",
     "text": [
      "\tlinux-gate.so.1 (0xf7f83000)\r\n",
      "\tlibstdc++.so.6 => /lib32/libstdc++.so.6 (0xf7c00000)\r\n",
      "\tlibc.so.6 => /lib32/libc.so.6 (0xf7800000)\r\n",
      "\tlibm.so.6 => /lib32/libm.so.6 (0xf7e5a000)\r\n",
      "\t/lib/ld-linux.so.2 (0xf7f85000)\r\n",
      "\tlibgcc_s.so.1 => /lib32/libgcc_s.so.1 (0xf7e33000)\r\n"
     ]
    }
   ],
   "source": [
    "# ldd invokes the standard dynamic linker with LD_TRACE_LOADED OBJECTS\n",
    "# causes the dynamic linker to inspect the program's dynamic dependencies and the objects\n",
    "! ldd ./aslr.exe"
   ]
  },
  {
   "cell_type": "code",
   "execution_count": 13,
   "metadata": {},
   "outputs": [
    {
     "name": "stdout",
     "output_type": "stream",
     "text": [
      "\tlinux-gate.so.1 (0xf7fc3000)\r\n",
      "\tlibstdc++.so.6 => /lib32/libstdc++.so.6 (0xf7c00000)\r\n",
      "\tlibc.so.6 => /lib32/libc.so.6 (0xf7800000)\r\n",
      "\tlibm.so.6 => /lib32/libm.so.6 (0xf7e9a000)\r\n",
      "\t/lib/ld-linux.so.2 (0xf7fc5000)\r\n",
      "\tlibgcc_s.so.1 => /lib32/libgcc_s.so.1 (0xf7e73000)\r\n"
     ]
    }
   ],
   "source": [
    "# see the library loaded in different addresses\n",
    "# run it few times to see the random addresses...\n",
    "! ldd ./aslr.exe"
   ]
  },
  {
   "cell_type": "markdown",
   "metadata": {},
   "source": [
    "### Set ASLR to option 1\n",
    "- randomize stack, vdso, libraries (except data?)\n",
    "- actually, global data and bss segments are also randomized!"
   ]
  },
  {
   "cell_type": "code",
   "execution_count": 14,
   "metadata": {},
   "outputs": [
    {
     "name": "stdout",
     "output_type": "stream",
     "text": [
      "[sudo] password for kali: 1\n"
     ]
    }
   ],
   "source": [
    "! echo kali | sudo -S bash -c 'echo 1 | sudo -S tee /proc/sys/kernel/randomize_va_space'"
   ]
  },
  {
   "cell_type": "code",
   "execution_count": 15,
   "metadata": {},
   "outputs": [
    {
     "name": "stdout",
     "output_type": "stream",
     "text": [
      "[sudo] password for kali: 1\r",
      "\r\n"
     ]
    }
   ],
   "source": [
    "! echo kali | sudo -S cat /proc/sys/kernel/randomize_va_space"
   ]
  },
  {
   "cell_type": "code",
   "execution_count": 16,
   "metadata": {},
   "outputs": [
    {
     "name": "stdout",
     "output_type": "stream",
     "text": [
      "Registers info:\r\n",
      "===============\r\n",
      "$esp = 0xff86e510\r\n",
      "$ebp = 0xff86e528\r\n",
      "\r\n",
      "Data and BSS segement\r\n",
      "======================\r\n",
      "global_var is at: 0x5658a018\r\n",
      "global_name is at: 0x5658a020\r\n",
      "\r\n",
      "Stack variable:\r\n",
      "===============\r\n",
      "buffer is at: 0xff86e513\r\n",
      "\r\n",
      "Code segment:\r\n",
      "=============\r\n",
      "main is at 0x565871ad\r\n",
      "\r\n",
      "Shared library code\r\n",
      "=====================\r\n",
      "printf is at 0xf7853df0\r\n",
      "cout is at 0xf7e23c40\r\n"
     ]
    }
   ],
   "source": [
    "! ./aslr.exe | tee aslr1-1.txt"
   ]
  },
  {
   "cell_type": "code",
   "execution_count": 17,
   "metadata": {},
   "outputs": [
    {
     "name": "stdout",
     "output_type": "stream",
     "text": [
      "Registers info:\r\n",
      "===============\r\n",
      "$esp = 0xff80c2a0\r\n",
      "$ebp = 0xff80c2b8\r\n",
      "\r\n",
      "Data and BSS segement\r\n",
      "======================\r\n",
      "global_var is at: 0x5656e018\r\n",
      "global_name is at: 0x5656e020\r\n",
      "\r\n",
      "Stack variable:\r\n",
      "===============\r\n",
      "buffer is at: 0xff80c2a3\r\n",
      "\r\n",
      "Code segment:\r\n",
      "=============\r\n",
      "main is at 0x5656b1ad\r\n",
      "\r\n",
      "Shared library code\r\n",
      "=====================\r\n",
      "printf is at 0xf7853df0\r\n",
      "cout is at 0xf7e23c40\r\n"
     ]
    }
   ],
   "source": [
    "! ./aslr.exe | tee aslr1-2.txt"
   ]
  },
  {
   "cell_type": "code",
   "execution_count": 18,
   "metadata": {},
   "outputs": [
    {
     "name": "stdout",
     "output_type": "stream",
     "text": [
      "3,4c3,4\r\n",
      "< $esp = 0xff86e510\r\n",
      "< $ebp = 0xff86e528\r\n",
      "---\r\n",
      "> $esp = 0xff80c2a0\r\n",
      "> $ebp = 0xff80c2b8\r\n",
      "8,9c8,9\r\n",
      "< global_var is at: 0x5658a018\r\n",
      "< global_name is at: 0x5658a020\r\n",
      "---\r\n",
      "> global_var is at: 0x5656e018\r\n",
      "> global_name is at: 0x5656e020\r\n",
      "13c13\r\n",
      "< buffer is at: 0xff86e513\r\n",
      "---\r\n",
      "> buffer is at: 0xff80c2a3\r\n",
      "17c17\r\n",
      "< main is at 0x565871ad\r\n",
      "---\r\n",
      "> main is at 0x5656b1ad\r\n"
     ]
    }
   ],
   "source": [
    "! diff aslr1-1.txt aslr1-2.txt"
   ]
  },
  {
   "cell_type": "code",
   "execution_count": 20,
   "metadata": {},
   "outputs": [
    {
     "name": "stdout",
     "output_type": "stream",
     "text": [
      "\tlinux-gate.so.1 (0xf7f8a000)\r\n",
      "\tlibstdc++.so.6 => /lib32/libstdc++.so.6 (0xf7c00000)\r\n",
      "\tlibc.so.6 => /lib32/libc.so.6 (0xf7800000)\r\n",
      "\tlibm.so.6 => /lib32/libm.so.6 (0xf7e61000)\r\n",
      "\t/lib/ld-linux.so.2 (0xf7f8c000)\r\n",
      "\tlibgcc_s.so.1 => /lib32/libgcc_s.so.1 (0xf7e3a000)\r\n"
     ]
    }
   ],
   "source": [
    "! ldd ./aslr.exe"
   ]
  },
  {
   "cell_type": "code",
   "execution_count": 21,
   "metadata": {},
   "outputs": [
    {
     "name": "stdout",
     "output_type": "stream",
     "text": [
      "\tlinux-gate.so.1 (0xf7fbb000)\r\n",
      "\tlibstdc++.so.6 => /lib32/libstdc++.so.6 (0xf7c00000)\r\n",
      "\tlibc.so.6 => /lib32/libc.so.6 (0xf7800000)\r\n",
      "\tlibm.so.6 => /lib32/libm.so.6 (0xf7e92000)\r\n",
      "\t/lib/ld-linux.so.2 (0xf7fbd000)\r\n",
      "\tlibgcc_s.so.1 => /lib32/libgcc_s.so.1 (0xf7e6b000)\r\n"
     ]
    }
   ],
   "source": [
    "! ldd ./aslr.exe"
   ]
  },
  {
   "cell_type": "markdown",
   "metadata": {},
   "source": [
    "### Set ASLR to option 0\n",
    "- disable ASLR"
   ]
  },
  {
   "cell_type": "code",
   "execution_count": 22,
   "metadata": {},
   "outputs": [
    {
     "name": "stdout",
     "output_type": "stream",
     "text": [
      "[sudo] password for kali: 0\n"
     ]
    }
   ],
   "source": [
    "! echo kali | sudo -S bash -c 'echo 0 | sudo tee /proc/sys/kernel/randomize_va_space'"
   ]
  },
  {
   "cell_type": "code",
   "execution_count": 23,
   "metadata": {},
   "outputs": [
    {
     "name": "stdout",
     "output_type": "stream",
     "text": [
      "[sudo] password for kali: 0\n"
     ]
    }
   ],
   "source": [
    "! echo kali | sudo -S cat /proc/sys/kernel/randomize_va_space"
   ]
  },
  {
   "cell_type": "code",
   "execution_count": 24,
   "metadata": {},
   "outputs": [
    {
     "name": "stdout",
     "output_type": "stream",
     "text": [
      "Registers info:\r\n",
      "===============\r\n",
      "$esp = 0xffffbdd0\r\n",
      "$ebp = 0xffffbde8\r\n",
      "\r\n",
      "Data and BSS segement\r\n",
      "======================\r\n",
      "global_var is at: 0x56559018\r\n",
      "global_name is at: 0x56559020\r\n",
      "\r\n",
      "Stack variable:\r\n",
      "===============\r\n",
      "buffer is at: 0xffffbdd3\r\n",
      "\r\n",
      "Code segment:\r\n",
      "=============\r\n",
      "main is at 0x565561ad\r\n",
      "\r\n",
      "Shared library code\r\n",
      "=====================\r\n",
      "printf is at 0xf7853df0\r\n",
      "cout is at 0xf7e23c40\r\n"
     ]
    }
   ],
   "source": [
    "! ./aslr.exe | tee aslr0-1.txt"
   ]
  },
  {
   "cell_type": "code",
   "execution_count": 25,
   "metadata": {},
   "outputs": [
    {
     "name": "stdout",
     "output_type": "stream",
     "text": [
      "Registers info:\r\n",
      "===============\r\n",
      "$esp = 0xffffbdd0\r\n",
      "$ebp = 0xffffbde8\r\n",
      "\r\n",
      "Data and BSS segement\r\n",
      "======================\r\n",
      "global_var is at: 0x56559018\r\n",
      "global_name is at: 0x56559020\r\n",
      "\r\n",
      "Stack variable:\r\n",
      "===============\r\n",
      "buffer is at: 0xffffbdd3\r\n",
      "\r\n",
      "Code segment:\r\n",
      "=============\r\n",
      "main is at 0x565561ad\r\n",
      "\r\n",
      "Shared library code\r\n",
      "=====================\r\n",
      "printf is at 0xf7853df0\r\n",
      "cout is at 0xf7e23c40\r\n"
     ]
    }
   ],
   "source": [
    "! ./aslr.exe | tee aslr0-2.txt"
   ]
  },
  {
   "cell_type": "code",
   "execution_count": 26,
   "metadata": {},
   "outputs": [],
   "source": [
    "! diff aslr0-1.txt aslr0-2.txt\n",
    "# no difference!"
   ]
  },
  {
   "cell_type": "code",
   "execution_count": 27,
   "metadata": {},
   "outputs": [
    {
     "name": "stdout",
     "output_type": "stream",
     "text": [
      "\tlinux-gate.so.1 (0xf7fc7000)\r\n",
      "\tlibstdc++.so.6 => /lib32/libstdc++.so.6 (0xf7c00000)\r\n",
      "\tlibc.so.6 => /lib32/libc.so.6 (0xf7800000)\r\n",
      "\tlibm.so.6 => /lib32/libm.so.6 (0xf7e9e000)\r\n",
      "\t/lib/ld-linux.so.2 (0xf7fc9000)\r\n",
      "\tlibgcc_s.so.1 => /lib32/libgcc_s.so.1 (0xf7e77000)\r\n"
     ]
    }
   ],
   "source": [
    "! ldd ./aslr.exe"
   ]
  },
  {
   "cell_type": "code",
   "execution_count": 28,
   "metadata": {},
   "outputs": [
    {
     "name": "stdout",
     "output_type": "stream",
     "text": [
      "\tlinux-gate.so.1 (0xf7fc7000)\r\n",
      "\tlibstdc++.so.6 => /lib32/libstdc++.so.6 (0xf7c00000)\r\n",
      "\tlibc.so.6 => /lib32/libc.so.6 (0xf7800000)\r\n",
      "\tlibm.so.6 => /lib32/libm.so.6 (0xf7e9e000)\r\n",
      "\t/lib/ld-linux.so.2 (0xf7fc9000)\r\n",
      "\tlibgcc_s.so.1 => /lib32/libgcc_s.so.1 (0xf7e77000)\r\n"
     ]
    }
   ],
   "source": [
    "! ldd ./aslr.exe"
   ]
  },
  {
   "cell_type": "markdown",
   "metadata": {},
   "source": [
    "### ldd command\n",
    "\n",
    "- print shared object dependencies\n",
    "- https://man7.org/linux/man-pages/man1/ldd.1.html\n",
    "- don't run ldd on untrusted ELF\n",
    "- use objectdump instead\n",
    "\n",
    "```bass\n",
    " $ objdump -p /path/to/program | grep NEEDED\n",
    " ```"
   ]
  },
  {
   "cell_type": "code",
   "execution_count": 29,
   "metadata": {},
   "outputs": [
    {
     "name": "stdout",
     "output_type": "stream",
     "text": [
      "\tlinux-gate.so.1 (0xf7fc7000)\r\n",
      "\tlibstdc++.so.6 => /lib32/libstdc++.so.6 (0xf7c00000)\r\n",
      "\tlibc.so.6 => /lib32/libc.so.6 (0xf7800000)\r\n",
      "\tlibm.so.6 => /lib32/libm.so.6 (0xf7e9e000)\r\n",
      "\t/lib/ld-linux.so.2 (0xf7fc9000)\r\n",
      "\tlibgcc_s.so.1 => /lib32/libgcc_s.so.1 (0xf7e77000)\r\n"
     ]
    }
   ],
   "source": [
    "! ldd ./aslr.exe"
   ]
  },
  {
   "cell_type": "code",
   "execution_count": 30,
   "metadata": {},
   "outputs": [
    {
     "name": "stdout",
     "output_type": "stream",
     "text": [
      "\tlinux-gate.so.1 (0xf7fc7000)\r\n",
      "\tlibstdc++.so.6 => /lib32/libstdc++.so.6 (0xf7c00000)\r\n",
      "\tlibc.so.6 => /lib32/libc.so.6 (0xf7800000)\r\n",
      "\tlibm.so.6 => /lib32/libm.so.6 (0xf7e9e000)\r\n",
      "\t/lib/ld-linux.so.2 (0xf7fc9000)\r\n",
      "\tlibgcc_s.so.1 => /lib32/libgcc_s.so.1 (0xf7e77000)\r\n"
     ]
    }
   ],
   "source": [
    "! ldd ./aslr.exe"
   ]
  },
  {
   "cell_type": "code",
   "execution_count": 31,
   "metadata": {},
   "outputs": [
    {
     "name": "stdout",
     "output_type": "stream",
     "text": [
      "\r\n",
      "./aslr.exe:     file format elf32-i386\r\n",
      "\r\n",
      "Program Header:\r\n",
      "    PHDR off    0x00000034 vaddr 0x00000034 paddr 0x00000034 align 2**2\r\n",
      "         filesz 0x00000160 memsz 0x00000160 flags r--\r\n",
      "  INTERP off    0x00000194 vaddr 0x00000194 paddr 0x00000194 align 2**0\r\n",
      "         filesz 0x00000013 memsz 0x00000013 flags r--\r\n",
      "    LOAD off    0x00000000 vaddr 0x00000000 paddr 0x00000000 align 2**12\r\n",
      "         filesz 0x00000518 memsz 0x00000518 flags r--\r\n",
      "    LOAD off    0x00001000 vaddr 0x00001000 paddr 0x00001000 align 2**12\r\n",
      "         filesz 0x00000440 memsz 0x00000440 flags r-x\r\n",
      "    LOAD off    0x00002000 vaddr 0x00002000 paddr 0x00002000 align 2**12\r\n",
      "         filesz 0x00000290 memsz 0x00000290 flags r--\r\n",
      "    LOAD off    0x00002ed0 vaddr 0x00003ed0 paddr 0x00003ed0 align 2**12\r\n",
      "         filesz 0x0000014c memsz 0x00000168 flags rw-\r\n",
      " DYNAMIC off    0x00002edc vaddr 0x00003edc paddr 0x00003edc align 2**2\r\n",
      "         filesz 0x000000f8 memsz 0x000000f8 flags rw-\r\n",
      "    NOTE off    0x000001a8 vaddr 0x000001a8 paddr 0x000001a8 align 2**2\r\n",
      "         filesz 0x00000044 memsz 0x00000044 flags r--\r\n",
      "EH_FRAME off    0x0000213c vaddr 0x0000213c paddr 0x0000213c align 2**2\r\n",
      "         filesz 0x00000044 memsz 0x00000044 flags r--\r\n",
      "   STACK off    0x00000000 vaddr 0x00000000 paddr 0x00000000 align 2**4\r\n",
      "         filesz 0x00000000 memsz 0x00000000 flags rw-\r\n",
      "   RELRO off    0x00002ed0 vaddr 0x00003ed0 paddr 0x00003ed0 align 2**0\r\n",
      "         filesz 0x00000130 memsz 0x00000130 flags r--\r\n",
      "\r\n",
      "Dynamic Section:\r\n",
      "  NEEDED               libstdc++.so.6\r\n",
      "  NEEDED               libc.so.6\r\n",
      "  INIT                 0x00001000\r\n",
      "  FINI                 0x0000142c\r\n",
      "  INIT_ARRAY           0x00003ed0\r\n",
      "  INIT_ARRAYSZ         0x00000008\r\n",
      "  FINI_ARRAY           0x00003ed8\r\n",
      "  FINI_ARRAYSZ         0x00000004\r\n",
      "  GNU_HASH             0x000001ec\r\n",
      "  STRTAB               0x000002dc\r\n",
      "  SYMTAB               0x0000020c\r\n",
      "  STRSZ                0x00000142\r\n",
      "  SYMENT               0x00000010\r\n",
      "  DEBUG                0x00000000\r\n",
      "  PLTGOT               0x00003ff4\r\n",
      "  PLTRELSZ             0x00000020\r\n",
      "  PLTREL               0x00000011\r\n",
      "  JMPREL               0x000004f8\r\n",
      "  REL                  0x00000498\r\n",
      "  RELSZ                0x00000060\r\n",
      "  RELENT               0x00000008\r\n",
      "  FLAGS_1              0x08000000\r\n",
      "  VERNEED              0x00000438\r\n",
      "  VERNEEDNUM           0x00000002\r\n",
      "  VERSYM               0x0000041e\r\n",
      "  RELCOUNT             0x00000005\r\n",
      "\r\n",
      "Version References:\r\n",
      "  required from libstdc++.so.6:\r\n",
      "    0x08922974 0x00 04 GLIBCXX_3.4\r\n",
      "  required from libc.so.6:\r\n",
      "    0x0d696910 0x00 05 GLIBC_2.0\r\n",
      "    0x069691b4 0x00 03 GLIBC_2.34\r\n",
      "    0x09691f73 0x00 02 GLIBC_2.1.3\r\n",
      "\r\n"
     ]
    }
   ],
   "source": [
    "# detailed but not as good results as ldd\n",
    "! objdump -p ./aslr.exe"
   ]
  },
  {
   "cell_type": "markdown",
   "metadata": {},
   "source": [
    "#### Allow ptrace processes\n",
    "**ptrace** - allows parent process to observe and control the execution of another process\n",
    "- used primarily to implement breakpoint debugging and system call tracing"
   ]
  },
  {
   "cell_type": "code",
   "execution_count": 32,
   "metadata": {},
   "outputs": [
    {
     "name": "stdout",
     "output_type": "stream",
     "text": [
      "[sudo] password for kali: kernel.yama.ptrace_scope = 0\n"
     ]
    }
   ],
   "source": [
    "# check the ptrace value\n",
    "! echo kali | sudo -S sysctl kernel.yama.ptrace_scope"
   ]
  },
  {
   "cell_type": "code",
   "execution_count": 33,
   "metadata": {},
   "outputs": [
    {
     "name": "stdout",
     "output_type": "stream",
     "text": [
      "[sudo] password for kali: kernel.yama.ptrace_scope = 0\n"
     ]
    }
   ],
   "source": [
    "# set the ptrace value\n",
    "! echo kali | sudo -S sysctl -w kernel.yama.ptrace_scope=0"
   ]
  },
  {
   "cell_type": "markdown",
   "metadata": {},
   "source": [
    "### 2. PIE\n",
    "- Position Independent Executable\n",
    "- randomizes Code segment base address\n",
    "- randomizes GOT (Global Offset Table for global data-variables) and PLT (Procedure Linkage Table)\n",
    "    - PLT addresses are fixed during  linking to load the libc.so library codes/functions\n",
    "    - shared libraries are position independent code (PIC); they don't know where they are being loaded\n",
    "- disable PIE in gcc/g++ using **-no-pie** flag"
   ]
  },
  {
   "cell_type": "markdown",
   "metadata": {},
   "source": [
    "### 3. Executable Stack Protection (NX) also called (DEP)\n",
    "- also called DEP - Data Execution Prevention\n",
    "- in newer g++, programs must be compiled by disabling stack protector to execute code injected into stack\n",
    "- check executable stack:\n",
    "`$ readelf -l <filename>`\n",
    "- note the line: \n",
    "GNU_STACK      0x000000 0x00000000 0x00000000 0x00000 0x00000 RW  0x10\n",
    "RW \n",
    "- RW - Read and Write but not Executable\n",
    "- RWE - Read, Write, and Executable"
   ]
  },
  {
   "cell_type": "code",
   "execution_count": 34,
   "metadata": {},
   "outputs": [
    {
     "name": "stdout",
     "output_type": "stream",
     "text": [
      "  GNU_STACK      0x000000 0x00000000 0x00000000 0x00000 0x00000 RW  0x10\n"
     ]
    }
   ],
   "source": [
    "%%bash\n",
    "in=./demos/hello.cpp\n",
    "out=hello\n",
    "g++ -g -m32 -o $out $in \n",
    "\n",
    "readelf -l $out | grep GNU_STACK"
   ]
  },
  {
   "cell_type": "markdown",
   "metadata": {},
   "source": [
    "#### enable RWX/disable DEP\n",
    "- compile the program using -z execstack switch of gcc/g++"
   ]
  },
  {
   "cell_type": "code",
   "execution_count": 35,
   "metadata": {
    "scrolled": true
   },
   "outputs": [
    {
     "name": "stdout",
     "output_type": "stream",
     "text": [
      "  GNU_STACK      0x000000 0x00000000 0x00000000 0x00000 0x00000 RWE 0x10\n"
     ]
    }
   ],
   "source": [
    "%%bash\n",
    "in=./demos/hello.cpp\n",
    "out=hello\n",
    "g++ -g -m32 -z execstack -o $out $in \n",
    "\n",
    "readelf -l $out | grep GNU_STACK"
   ]
  },
  {
   "cell_type": "markdown",
   "metadata": {},
   "source": [
    "### 4. Stack Canaries\n",
    "- \"canary in a coal mine\" to detect carbon monoxide by using a warm blooded animal like a bird\n",
    "- place a small random integer just before the stack return address\n",
    "    - if the value is overwritten/corrupted during the function call, there's a stack overflow attempt!\n",
    "- use **-fno-stack-protector** flag in gcc/g++ to disable canaries\n"
   ]
  },
  {
   "cell_type": "markdown",
   "metadata": {},
   "source": [
    "### checksec command\n",
    "\n",
    "- program to check security settings on an ELF\n",
    "- GDB/PEDA provides checksec command\n",
    "- to run from bash, need to install checksec"
   ]
  },
  {
   "cell_type": "code",
   "execution_count": 36,
   "metadata": {},
   "outputs": [
    {
     "name": "stdout",
     "output_type": "stream",
     "text": [
      "Reading package lists... Done\n",
      "Building dependency tree... Done\n",
      "Reading state information... Done\n",
      "checksec is already the newest version (2.6.0-2).\n",
      "The following packages were automatically installed and are no longer required:\n",
      "  catfish dh-elpa-helper docutils-common gir1.2-xfconf-0 libcfitsio9 libgdal31\n",
      "  libmpdec3 libnginx-mod-http-geoip libnginx-mod-http-image-filter\n",
      "  libnginx-mod-http-xslt-filter libnginx-mod-mail libnginx-mod-stream\n",
      "  libnginx-mod-stream-geoip libpoppler123 libprotobuf23 libpython3.10\n",
      "  libpython3.10-dev libpython3.10-minimal libpython3.10-stdlib libtiff5\n",
      "  libzxingcore1 nginx-common nginx-core python-pastedeploy-tpl\n",
      "  python3-alabaster python3-commonmark python3-docutils python3-imagesize\n",
      "  python3-roman python3-snowballstemmer python3-speaklater python3-sphinx\n",
      "  python3.10 python3.10-dev python3.10-minimal ruby3.0 ruby3.0-dev ruby3.0-doc\n",
      "  sphinx-common\n",
      "Use 'sudo apt autoremove' to remove them.\n",
      "0 upgraded, 0 newly installed, 0 to remove and 0 not upgraded.\n"
     ]
    }
   ],
   "source": [
    "! echo kali | sudo -S apt install checksec"
   ]
  },
  {
   "cell_type": "code",
   "execution_count": 37,
   "metadata": {},
   "outputs": [
    {
     "name": "stdout",
     "output_type": "stream",
     "text": [
      "RELRO           STACK CANARY      NX            PIE             RPATH      RUNPATH\tSymbols\t\tFORTIFY\tFortified\tFortifiable\tFILE\n",
      "\u001b[33mPartial RELRO\u001b[m   \u001b[31mNo canary found\u001b[m   \u001b[32mNX enabled \u001b[m   \u001b[32mPIE enabled  \u001b[m   \u001b[32mNo RPATH \u001b[m  \u001b[32mNo RUNPATH \u001b[m  \u001b[31m50 Symbols\t\u001b[m  \u001b[31mNo\u001b[m\t0\t\t1\t\t./aslr.exe\n"
     ]
    }
   ],
   "source": [
    "! checksec --file=./aslr.exe"
   ]
  },
  {
   "cell_type": "markdown",
   "metadata": {},
   "source": [
    "### High level explanation\n",
    "\n",
    "- https://blog.siphos.be/2011/07/high-level-explanation-on-some-binary-executable-security/\n",
    "\n",
    "#### RELRO - Relocation Read Only\n",
    "\n",
    "- the following resource provides good overview and example of RELRO\n",
    "- https://www.redhat.com/en/blog/hardening-elf-binaries-using-relocation-read-only-relro\n",
    "- Global Offset Table (GOT) and Procedure Linkage Table (PLT) can be made Read only\n",
    "\n",
    "#### FORTIFY\n",
    "\n",
    "- use compiler functionality to fortify certain variables that could potentially be overflown\n",
    "- depends on the intelligence/feature of the compiler\n"
   ]
  },
  {
   "cell_type": "code",
   "execution_count": null,
   "metadata": {},
   "outputs": [],
   "source": []
  }
 ],
 "metadata": {
  "kernelspec": {
   "display_name": "Python 3 (ipykernel)",
   "language": "python",
   "name": "python3"
  },
  "language_info": {
   "codemirror_mode": {
    "name": "ipython",
    "version": 3
   },
   "file_extension": ".py",
   "mimetype": "text/x-python",
   "name": "python",
   "nbconvert_exporter": "python",
   "pygments_lexer": "ipython3",
   "version": "3.10.9"
  }
 },
 "nbformat": 4,
 "nbformat_minor": 4
}
