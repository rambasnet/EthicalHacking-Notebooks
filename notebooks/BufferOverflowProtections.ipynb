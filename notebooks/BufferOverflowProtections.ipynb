{
 "cells": [
  {
   "cell_type": "markdown",
   "metadata": {},
   "source": [
    "# Buffer Overflow Protections\n",
    "- modern kernel/OS and compilers provide various protections from buffer overflow attacks\n",
    "- Reference: https://ocw.cs.pub.ro/courses/cns/labs/lab-06"
   ]
  },
  {
   "cell_type": "markdown",
   "metadata": {},
   "source": [
    "## 1. ASLR - Address Space Layout Randomization\n",
    "- Kernel specific protection\n",
    "- loads the stack, data and program in random memory locations making it difficult (not impossible) to guess their addresses\n",
    "\n",
    "- the following segments are possible to randomize on x86:\n",
    "    - **stack** is easily randomizable, as all stack addresses are relative to `esp` or `ebp`\n",
    "    - **Data segment** may be randomized, if e.g., the data segment is set to a random value\n",
    "    - **Code** can only be randomized by comiling the program as Position Independent Code/Position Independent Executable\n",
    "       - default for shared libraries, but otherwise executable code is usually placed at fixed addresses\n",
    "\n",
    "### ASLR values\n",
    "- Linux allows 3 options:\n",
    "    - 0: disabled\n",
    "    - 1: randomize stack, vdso, libraries (except data? not sure...)\n",
    "    - 2: enabled (including data segment - default value)\n",
    "    \n",
    "### checking ASLR\n",
    "- compile and run demos/aslr.cpp program to check ASLR\n",
    "- run gdb-peda \n",
    "\n",
    "    ```bash\n",
    "    aslr # run aslr command\n",
    "    ASLR is OFF # output\n",
    "    ```"
   ]
  },
  {
   "cell_type": "code",
   "execution_count": 17,
   "metadata": {},
   "outputs": [
    {
     "name": "stdout",
     "output_type": "stream",
     "text": [
      "0\n"
     ]
    }
   ],
   "source": [
    "! echo kali | sudo -S cat /proc/sys/kernel/randomize_va_space"
   ]
  },
  {
   "cell_type": "code",
   "execution_count": 2,
   "metadata": {},
   "outputs": [
    {
     "name": "stdout",
     "output_type": "stream",
     "text": [
      "2\n"
     ]
    }
   ],
   "source": [
    "! echo kali | sudo -S bash -c 'echo 2 | sudo -S tee /proc/sys/kernel/randomize_va_space'"
   ]
  },
  {
   "cell_type": "code",
   "execution_count": 5,
   "metadata": {},
   "outputs": [
    {
     "name": "stdout",
     "output_type": "stream",
     "text": [
      "// aslr.cpp - program to check address space layout randomization\n",
      "// compile and run the program multiple times\n",
      "// if you see same value for $esp, ASLR is disabled\n",
      "// $ g++ -g -m 32 -o aslr.exe aslr.cpp\n",
      "#include <stdio.h>\n",
      "#include <iostream>\n",
      "using namespace std;\n",
      "\n",
      "int global_var = 100; // data segment\n",
      "char global_name[20]; // bss segment\n",
      "\n",
      "int main(void) {\n",
      "    char buffer[] = \"Hello World!\";\n",
      "    register int esp asm(\"esp\");\n",
      "    register int ebp asm(\"ebp\");\n",
      "    cout << \"Registers info:\\n\";\n",
      "    cout << \"===============\\n\";\n",
      "    printf(\"$esp = %p\\n\", esp);\n",
      "    printf(\"$ebp = %p\\n\", ebp);\n",
      "    cout << \"\\nData and BSS segement\\n\";\n",
      "    cout << \"======================\\n\";\n",
      "    printf(\"global_var is at: %p\\n\", &global_var);\n",
      "    printf(\"global_name is at: %p\\n\", global_name);\n",
      "    cout << \"\\nStack variable:\\n\";\n",
      "    cout << \"===============\\n\";\n",
      "    printf(\"buffer is at: %p\\n\", buffer);\n",
      "    cout << \"\\nCode segment:\\n\";\n",
      "    cout << \"=============\\n\";\n",
      "    printf(\"main is at %p\\n\", main);\n",
      "    cout << \"\\nShared library code\\n\";\n",
      "    cout << \"=====================\\n\";\n",
      "    printf(\"printf is at %p\\n\", printf);\n",
      "    printf(\"cout is at %p\\n\", &cout); // cout is an operator\n",
      "    return 0;\n",
      "}"
     ]
    }
   ],
   "source": [
    "! cat ../demos/aslr/aslr.cpp"
   ]
  },
  {
   "cell_type": "code",
   "execution_count": 20,
   "metadata": {},
   "outputs": [
    {
     "name": "stderr",
     "output_type": "stream",
     "text": [
      "../demos/aslr/aslr.cpp: In function ‘int main()’:\n",
      "../demos/aslr/aslr.cpp:19:21: warning: format ‘%p’ expects argument of type ‘void*’, but argument 2 has type ‘int’ [-Wformat=]\n",
      "   19 |     printf(\"$esp = %p\\n\", esp);\n",
      "      |                    ~^     ~~~\n",
      "      |                     |     |\n",
      "      |                     void* int\n",
      "      |                    %d\n",
      "../demos/aslr/aslr.cpp:20:21: warning: format ‘%p’ expects argument of type ‘void*’, but argument 2 has type ‘int’ [-Wformat=]\n",
      "   20 |     printf(\"$ebp = %p\\n\", ebp);\n",
      "      |                    ~^     ~~~\n",
      "      |                     |     |\n",
      "      |                     void* int\n",
      "      |                    %d\n"
     ]
    }
   ],
   "source": [
    "%%bash\n",
    "input=\"../demos/aslr/aslr.cpp\"\n",
    "output=\"aslr.exe\"\n",
    "g++ -m32 $input -o $output"
   ]
  },
  {
   "cell_type": "code",
   "execution_count": 21,
   "metadata": {},
   "outputs": [
    {
     "name": "stdout",
     "output_type": "stream",
     "text": [
      "Registers info:\n",
      "===============\n",
      "$esp = 0xffffc460\n",
      "$ebp = 0xffffc488\n",
      "\n",
      "Data and BSS segement\n",
      "======================\n",
      "global_var is at: 0x56559008\n",
      "global_name is at: 0x56559010\n",
      "\n",
      "Stack variable:\n",
      "===============\n",
      "buffer is at: 0xffffc46f\n",
      "\n",
      "Code segment:\n",
      "=============\n",
      "main is at 0x5655623d\n",
      "\n",
      "Shared library code\n",
      "=====================\n",
      "printf is at 0xf7c4bd30\n",
      "cout is at 0xf7fbbc00\n"
     ]
    }
   ],
   "source": [
    "! ./aslr.exe | tee aslr2-1.txt"
   ]
  },
  {
   "cell_type": "code",
   "execution_count": 22,
   "metadata": {},
   "outputs": [
    {
     "name": "stdout",
     "output_type": "stream",
     "text": [
      "Registers info:\n",
      "===============\n",
      "$esp = 0xffffc460\n",
      "$ebp = 0xffffc488\n",
      "\n",
      "Data and BSS segement\n",
      "======================\n",
      "global_var is at: 0x56559008\n",
      "global_name is at: 0x56559010\n",
      "\n",
      "Stack variable:\n",
      "===============\n",
      "buffer is at: 0xffffc46f\n",
      "\n",
      "Code segment:\n",
      "=============\n",
      "main is at 0x5655623d\n",
      "\n",
      "Shared library code\n",
      "=====================\n",
      "printf is at 0xf7c4bd30\n",
      "cout is at 0xf7fbbc00\n"
     ]
    }
   ],
   "source": [
    "! ./aslr.exe | tee aslr2-2.txt"
   ]
  },
  {
   "cell_type": "code",
   "execution_count": 23,
   "metadata": {},
   "outputs": [],
   "source": [
    "# run the diff of aslr2-1.txt and aslr2-2.txt\n",
    "! diff aslr2-1.txt aslr2-2.txt"
   ]
  },
  {
   "cell_type": "code",
   "execution_count": 9,
   "metadata": {},
   "outputs": [
    {
     "name": "stdout",
     "output_type": "stream",
     "text": [
      "\tlinux-gate.so.1 (0xf7f83000)\r\n",
      "\tlibstdc++.so.6 => /lib32/libstdc++.so.6 (0xf7c00000)\r\n",
      "\tlibc.so.6 => /lib32/libc.so.6 (0xf7800000)\r\n",
      "\tlibm.so.6 => /lib32/libm.so.6 (0xf7e5a000)\r\n",
      "\t/lib/ld-linux.so.2 (0xf7f85000)\r\n",
      "\tlibgcc_s.so.1 => /lib32/libgcc_s.so.1 (0xf7e33000)\r\n"
     ]
    }
   ],
   "source": [
    "# ldd invokes the standard dynamic linker with LD_TRACE_LOADED OBJECTS\n",
    "# causes the dynamic linker to inspect the program's dynamic dependencies and the objects\n",
    "! ldd ./aslr.exe"
   ]
  },
  {
   "cell_type": "code",
   "execution_count": 13,
   "metadata": {},
   "outputs": [
    {
     "name": "stdout",
     "output_type": "stream",
     "text": [
      "\tlinux-gate.so.1 (0xf7fc3000)\r\n",
      "\tlibstdc++.so.6 => /lib32/libstdc++.so.6 (0xf7c00000)\r\n",
      "\tlibc.so.6 => /lib32/libc.so.6 (0xf7800000)\r\n",
      "\tlibm.so.6 => /lib32/libm.so.6 (0xf7e9a000)\r\n",
      "\t/lib/ld-linux.so.2 (0xf7fc5000)\r\n",
      "\tlibgcc_s.so.1 => /lib32/libgcc_s.so.1 (0xf7e73000)\r\n"
     ]
    }
   ],
   "source": [
    "# see the library loaded in different addresses\n",
    "# run it few times to see the random addresses...\n",
    "! ldd ./aslr.exe"
   ]
  },
  {
   "cell_type": "markdown",
   "metadata": {},
   "source": [
    "### Set ASLR to option 0\n",
    "- disable ASLR"
   ]
  },
  {
   "cell_type": "code",
   "execution_count": 24,
   "metadata": {},
   "outputs": [
    {
     "name": "stdout",
     "output_type": "stream",
     "text": [
      "0\n"
     ]
    }
   ],
   "source": [
    "! echo kali | sudo -S bash -c 'echo 0 | sudo tee /proc/sys/kernel/randomize_va_space'"
   ]
  },
  {
   "cell_type": "code",
   "execution_count": 25,
   "metadata": {},
   "outputs": [
    {
     "name": "stdout",
     "output_type": "stream",
     "text": [
      "0\n"
     ]
    }
   ],
   "source": [
    "! echo kali | sudo -S cat /proc/sys/kernel/randomize_va_space"
   ]
  },
  {
   "cell_type": "code",
   "execution_count": 26,
   "metadata": {},
   "outputs": [
    {
     "name": "stdout",
     "output_type": "stream",
     "text": [
      "Registers info:\n",
      "===============\n",
      "$esp = 0xffffc460\n",
      "$ebp = 0xffffc488\n",
      "\n",
      "Data and BSS segement\n",
      "======================\n",
      "global_var is at: 0x56559008\n",
      "global_name is at: 0x56559010\n",
      "\n",
      "Stack variable:\n",
      "===============\n",
      "buffer is at: 0xffffc46f\n",
      "\n",
      "Code segment:\n",
      "=============\n",
      "main is at 0x5655623d\n",
      "\n",
      "Shared library code\n",
      "=====================\n",
      "printf is at 0xf7c4bd30\n",
      "cout is at 0xf7fbbc00\n"
     ]
    }
   ],
   "source": [
    "! ./aslr.exe | tee aslr0-1.txt"
   ]
  },
  {
   "cell_type": "code",
   "execution_count": 27,
   "metadata": {},
   "outputs": [
    {
     "name": "stdout",
     "output_type": "stream",
     "text": [
      "Registers info:\n",
      "===============\n",
      "$esp = 0xffffc460\n",
      "$ebp = 0xffffc488\n",
      "\n",
      "Data and BSS segement\n",
      "======================\n",
      "global_var is at: 0x56559008\n",
      "global_name is at: 0x56559010\n",
      "\n",
      "Stack variable:\n",
      "===============\n",
      "buffer is at: 0xffffc46f\n",
      "\n",
      "Code segment:\n",
      "=============\n",
      "main is at 0x5655623d\n",
      "\n",
      "Shared library code\n",
      "=====================\n",
      "printf is at 0xf7c4bd30\n",
      "cout is at 0xf7fbbc00\n"
     ]
    }
   ],
   "source": [
    "! ./aslr.exe | tee aslr0-2.txt"
   ]
  },
  {
   "cell_type": "code",
   "execution_count": 28,
   "metadata": {},
   "outputs": [],
   "source": [
    "! diff aslr0-1.txt aslr0-2.txt\n",
    "# no difference!"
   ]
  },
  {
   "cell_type": "markdown",
   "metadata": {},
   "source": [
    "### ldd command\n",
    "\n",
    "- print shared object dependencies\n",
    "- https://man7.org/linux/man-pages/man1/ldd.1.html\n",
    "- don't run ldd on untrusted ELF\n",
    "- use objectdump instead\n",
    "\n",
    "```bass\n",
    " $ objdump -p /path/to/program | grep NEEDED\n",
    " ```"
   ]
  },
  {
   "cell_type": "code",
   "execution_count": 29,
   "metadata": {},
   "outputs": [
    {
     "name": "stdout",
     "output_type": "stream",
     "text": [
      "\tlinux-gate.so.1 (0xf7fc7000)\r\n",
      "\tlibstdc++.so.6 => /lib32/libstdc++.so.6 (0xf7c00000)\r\n",
      "\tlibc.so.6 => /lib32/libc.so.6 (0xf7800000)\r\n",
      "\tlibm.so.6 => /lib32/libm.so.6 (0xf7e9e000)\r\n",
      "\t/lib/ld-linux.so.2 (0xf7fc9000)\r\n",
      "\tlibgcc_s.so.1 => /lib32/libgcc_s.so.1 (0xf7e77000)\r\n"
     ]
    }
   ],
   "source": [
    "! ldd ./aslr.exe"
   ]
  },
  {
   "cell_type": "code",
   "execution_count": 30,
   "metadata": {},
   "outputs": [
    {
     "name": "stdout",
     "output_type": "stream",
     "text": [
      "\tlinux-gate.so.1 (0xf7fc7000)\r\n",
      "\tlibstdc++.so.6 => /lib32/libstdc++.so.6 (0xf7c00000)\r\n",
      "\tlibc.so.6 => /lib32/libc.so.6 (0xf7800000)\r\n",
      "\tlibm.so.6 => /lib32/libm.so.6 (0xf7e9e000)\r\n",
      "\t/lib/ld-linux.so.2 (0xf7fc9000)\r\n",
      "\tlibgcc_s.so.1 => /lib32/libgcc_s.so.1 (0xf7e77000)\r\n"
     ]
    }
   ],
   "source": [
    "! ldd ./aslr.exe"
   ]
  },
  {
   "cell_type": "code",
   "execution_count": 30,
   "metadata": {},
   "outputs": [
    {
     "name": "stdout",
     "output_type": "stream",
     "text": [
      "\n",
      "./aslr.exe:     file format elf32-i386\n",
      "\n",
      "Program Header:\n",
      "    PHDR off    0x00000034 vaddr 0x00000034 paddr 0x00000034 align 2**2\n",
      "         filesz 0x00000180 memsz 0x00000180 flags r--\n",
      "  INTERP off    0x000001b4 vaddr 0x000001b4 paddr 0x000001b4 align 2**0\n",
      "         filesz 0x00000013 memsz 0x00000013 flags r--\n",
      "    LOAD off    0x00000000 vaddr 0x00000000 paddr 0x00000000 align 2**12\n",
      "         filesz 0x00000580 memsz 0x00000580 flags r--\n",
      "    LOAD off    0x00001000 vaddr 0x00001000 paddr 0x00001000 align 2**12\n",
      "         filesz 0x000005a0 memsz 0x000005a0 flags r-x\n",
      "    LOAD off    0x00002000 vaddr 0x00002000 paddr 0x00002000 align 2**12\n",
      "         filesz 0x00000348 memsz 0x00000348 flags r--\n",
      "    LOAD off    0x00002eb4 vaddr 0x00003eb4 paddr 0x00003eb4 align 2**12\n",
      "         filesz 0x00000158 memsz 0x00000174 flags rw-\n",
      " DYNAMIC off    0x00002ec0 vaddr 0x00003ec0 paddr 0x00003ec0 align 2**2\n",
      "         filesz 0x00000100 memsz 0x00000100 flags rw-\n",
      "    NOTE off    0x000001c8 vaddr 0x000001c8 paddr 0x000001c8 align 2**2\n",
      "         filesz 0x00000060 memsz 0x00000060 flags r--\n",
      "0x6474e553 off    0x000001ec vaddr 0x000001ec paddr 0x000001ec align 2**2\n",
      "         filesz 0x0000001c memsz 0x0000001c flags r--\n",
      "EH_FRAME off    0x00002140 vaddr 0x00002140 paddr 0x00002140 align 2**2\n",
      "         filesz 0x0000006c memsz 0x0000006c flags r--\n",
      "   STACK off    0x00000000 vaddr 0x00000000 paddr 0x00000000 align 2**4\n",
      "         filesz 0x00000000 memsz 0x00000000 flags rw-\n",
      "   RELRO off    0x00002eb4 vaddr 0x00003eb4 paddr 0x00003eb4 align 2**0\n",
      "         filesz 0x0000014c memsz 0x0000014c flags r--\n",
      "\n",
      "Dynamic Section:\n",
      "  NEEDED               libstdc++.so.6\n",
      "  NEEDED               libc.so.6\n",
      "  INIT                 0x00001000\n",
      "  FINI                 0x00001588\n",
      "  INIT_ARRAY           0x00003eb4\n",
      "  INIT_ARRAYSZ         0x00000008\n",
      "  FINI_ARRAY           0x00003ebc\n",
      "  FINI_ARRAYSZ         0x00000004\n",
      "  GNU_HASH             0x00000228\n",
      "  STRTAB               0x00000328\n",
      "  SYMTAB               0x00000248\n",
      "  STRSZ                0x00000152\n",
      "  SYMENT               0x00000010\n",
      "  DEBUG                0x00000000\n",
      "  PLTGOT               0x00003fc0\n",
      "  PLTRELSZ             0x00000028\n",
      "  PLTREL               0x00000011\n",
      "  JMPREL               0x00000558\n",
      "  REL                  0x000004f8\n",
      "  RELSZ                0x00000060\n",
      "  RELENT               0x00000008\n",
      "  FLAGS                0x00000008\n",
      "  FLAGS_1              0x08000001\n",
      "  VERNEED              0x00000498\n",
      "  VERNEEDNUM           0x00000002\n",
      "  VERSYM               0x0000047a\n",
      "  RELCOUNT             0x00000005\n",
      "\n",
      "Version References:\n",
      "  required from libstdc++.so.6:\n",
      "    0x08922974 0x00 04 GLIBCXX_3.4\n",
      "  required from libc.so.6:\n",
      "    0x0d696914 0x00 05 GLIBC_2.4\n",
      "    0x0d696910 0x00 03 GLIBC_2.0\n",
      "    0x09691f73 0x00 02 GLIBC_2.1.3\n",
      "\n"
     ]
    }
   ],
   "source": [
    "# detailed but not as good results as ldd\n",
    "! objdump -p ./aslr.exe"
   ]
  },
  {
   "cell_type": "markdown",
   "metadata": {},
   "source": [
    "#### Allow ptrace processes\n",
    "**ptrace** - allows parent process to observe and control the execution of another process\n",
    "- used primarily to implement breakpoint debugging and system call tracing"
   ]
  },
  {
   "cell_type": "code",
   "execution_count": 32,
   "metadata": {},
   "outputs": [
    {
     "name": "stdout",
     "output_type": "stream",
     "text": [
      "[sudo] password for kali: kernel.yama.ptrace_scope = 0\n"
     ]
    }
   ],
   "source": [
    "# check the ptrace value\n",
    "! echo kali | sudo -S sysctl kernel.yama.ptrace_scope"
   ]
  },
  {
   "cell_type": "code",
   "execution_count": 33,
   "metadata": {},
   "outputs": [
    {
     "name": "stdout",
     "output_type": "stream",
     "text": [
      "[sudo] password for kali: kernel.yama.ptrace_scope = 0\n"
     ]
    }
   ],
   "source": [
    "# set the ptrace value\n",
    "! echo kali | sudo -S sysctl -w kernel.yama.ptrace_scope=0"
   ]
  },
  {
   "cell_type": "markdown",
   "metadata": {},
   "source": [
    "### 2. PIE\n",
    "- Position Independent Executable\n",
    "- randomizes Code segment base address\n",
    "- randomizes GOT (Global Offset Table for global data-variables) and PLT (Procedure Linkage Table)\n",
    "    - PLT addresses are fixed during  linking to load the libc.so library codes/functions\n",
    "    - shared libraries are position independent code (PIC); they don't know where they are being loaded\n",
    "- disable PIE in gcc/g++ using **-no-pie** flag"
   ]
  },
  {
   "cell_type": "markdown",
   "metadata": {},
   "source": [
    "### 3. Executable Stack Protection (NX) also called (DEP)\n",
    "- also called DEP - Data Execution Prevention\n",
    "- in newer g++, programs must be compiled by disabling stack protector to execute code injected into stack\n",
    "- check executable stack:\n",
    "`$ readelf -l <filename>`\n",
    "- note the line: \n",
    "GNU_STACK      0x000000 0x00000000 0x00000000 0x00000 0x00000 RW  0x10\n",
    "RW \n",
    "- RW - Read and Write but not Executable\n",
    "- RWE - Read, Write, and Executable"
   ]
  },
  {
   "cell_type": "code",
   "execution_count": 33,
   "metadata": {},
   "outputs": [
    {
     "name": "stdout",
     "output_type": "stream",
     "text": [
      "  GNU_STACK      0x000000 0x00000000 0x00000000 0x00000 0x00000 RW  0x10\n"
     ]
    }
   ],
   "source": [
    "%%bash\n",
    "in=../demos/hello.cpp\n",
    "out=hello.exe\n",
    "g++ -g -m32 -o $out $in \n",
    "\n",
    "readelf -l $out | grep GNU_STACK"
   ]
  },
  {
   "cell_type": "markdown",
   "metadata": {},
   "source": [
    "#### enable RWX/disable DEP\n",
    "- compile the program using -z execstack switch of gcc/g++"
   ]
  },
  {
   "cell_type": "code",
   "execution_count": null,
   "metadata": {
    "scrolled": true
   },
   "outputs": [
    {
     "name": "stdout",
     "output_type": "stream",
     "text": [
      "  GNU_STACK      0x000000 0x00000000 0x00000000 0x00000 0x00000 RWE 0x10\n"
     ]
    }
   ],
   "source": [
    "%%bash\n",
    "in=../demos/hello.cpp\n",
    "out=hello1.exe\n",
    "g++ -g -m32 -z execstack -o $out $in \n",
    "\n",
    "readelf -l $out | grep GNU_STACK"
   ]
  },
  {
   "cell_type": "markdown",
   "metadata": {},
   "source": [
    "### 4. Stack Canaries\n",
    "- \"canary in a coal mine\" to detect carbon monoxide by using a warm blooded animal like a bird\n",
    "- place a small random integer just before the stack return address\n",
    "    - if the value is overwritten/corrupted during the function call, there's a stack overflow attempt!\n",
    "- use **-fno-stack-protector** flag in gcc/g++ to disable canaries\n"
   ]
  },
  {
   "cell_type": "markdown",
   "metadata": {},
   "source": [
    "### checksec command\n",
    "\n",
    "- program to check security settings on an ELF\n",
    "- GDB/PEDA provides checksec command\n",
    "- to run from bash, need to install checksec"
   ]
  },
  {
   "cell_type": "code",
   "execution_count": 36,
   "metadata": {},
   "outputs": [
    {
     "name": "stdout",
     "output_type": "stream",
     "text": [
      "Reading package lists... Done\n",
      "Building dependency tree       \n",
      "Reading state information... Done\n",
      "The following NEW packages will be installed:\n",
      "  checksec\n",
      "0 upgraded, 1 newly installed, 0 to remove and 14 not upgraded.\n",
      "Need to get 21.7 kB of archives.\n",
      "After this operation, 104 kB of additional disk space will be used.\n",
      "Get:1 http://archive.ubuntu.com/ubuntu focal/universe amd64 checksec all 2.1.0+git20191113.bf85698-2 [21.7 kB]\n",
      "Fetched 21.7 kB in 1s (42.9 kB/s)   \u001b[0m\u001b[33m\n",
      "\n",
      "\u001b7\u001b[0;23r\u001b8\u001b[1ASelecting previously unselected package checksec.\n",
      "(Reading database ... 70774 files and directories currently installed.)\n",
      "Preparing to unpack .../checksec_2.1.0+git20191113.bf85698-2_all.deb ...\n",
      "\u001b7\u001b[24;0f\u001b[42m\u001b[30mProgress: [  0%]\u001b[49m\u001b[39m [..........................................................] \u001b8\u001b7\u001b[24;0f\u001b[42m\u001b[30mProgress: [ 20%]\u001b[49m\u001b[39m [###########...............................................] \u001b8Unpacking checksec (2.1.0+git20191113.bf85698-2) ...\n",
      "\u001b7\u001b[24;0f\u001b[42m\u001b[30mProgress: [ 40%]\u001b[49m\u001b[39m [#######################...................................] \u001b8Setting up checksec (2.1.0+git20191113.bf85698-2) ...\n",
      "\u001b7\u001b[24;0f\u001b[42m\u001b[30mProgress: [ 60%]\u001b[49m\u001b[39m [##################################........................] \u001b8\u001b7\u001b[24;0f\u001b[42m\u001b[30mProgress: [ 80%]\u001b[49m\u001b[39m [##############################################............] \u001b8Processing triggers for man-db (2.9.1-1) ...\n",
      "\n",
      "\u001b7\u001b[0;24r\u001b8\u001b[1A\u001b[J"
     ]
    }
   ],
   "source": [
    "! echo kali | sudo -S apt install checksec"
   ]
  },
  {
   "cell_type": "code",
   "execution_count": 37,
   "metadata": {},
   "outputs": [
    {
     "name": "stdout",
     "output_type": "stream",
     "text": [
      "RELRO           STACK CANARY      NX            PIE             RPATH      RUNPATH\tSymbols\t\tFORTIFY\tFortified\tFortifiable  FILE\n",
      "\u001b[32mFull RELRO   \u001b[m   \u001b[32mCanary found   \u001b[m   \u001b[32mNX enabled \u001b[m   \u001b[32mPIE enabled  \u001b[m   \u001b[32mNo RPATH \u001b[m  \u001b[32mNo RUNPATH \u001b[m  \u001b[31m83 Symbols   \u001b[m  \u001b[32mYes\u001b[m\t0\t\t1\t./aslr.exe\n"
     ]
    }
   ],
   "source": [
    "! checksec --file=./aslr.exe"
   ]
  },
  {
   "cell_type": "markdown",
   "metadata": {},
   "source": [
    "### High level explanation\n",
    "\n",
    "- https://blog.siphos.be/2011/07/high-level-explanation-on-some-binary-executable-security/\n",
    "\n",
    "#### RELRO - Relocation Read Only\n",
    "\n",
    "- the following resource provides good overview and example of RELRO\n",
    "- https://www.redhat.com/en/blog/hardening-elf-binaries-using-relocation-read-only-relro\n",
    "- Global Offset Table (GOT) and Procedure Linkage Table (PLT) can be made Read only\n",
    "\n",
    "#### FORTIFY\n",
    "\n",
    "- use compiler functionality to fortify certain variables that could potentially be overflown\n",
    "- depends on the intelligence/feature of the compiler\n"
   ]
  },
  {
   "cell_type": "code",
   "execution_count": null,
   "metadata": {},
   "outputs": [],
   "source": []
  }
 ],
 "metadata": {
  "kernelspec": {
   "display_name": "Python 3 (ipykernel)",
   "language": "python",
   "name": "python3"
  },
  "language_info": {
   "codemirror_mode": {
    "name": "ipython",
    "version": 3
   },
   "file_extension": ".py",
   "mimetype": "text/x-python",
   "name": "python",
   "nbconvert_exporter": "python",
   "pygments_lexer": "ipython3",
   "version": "3.10.9"
  }
 },
 "nbformat": 4,
 "nbformat_minor": 4
}
