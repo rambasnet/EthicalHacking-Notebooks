{
 "cells": [
  {
   "cell_type": "markdown",
   "metadata": {},
   "source": [
    "# Python fundamentals\n",
    "\n",
    "- Learn fundamentals and basic syntax\n",
    "- learn in-depth from my Jupyter Notebooks: https://github.com/rambasnet/Python-Fundamentals\n",
    "- find and learn from tutorials, e.g. https://realpython.com/\n",
    "- use interactive mode on a Terminal\n",
    "- use Jupyter Notebook with ipykernel (default) with conda installation\n",
    "- learn how script works\n",
    "- Basic Building Blocks/Concepts\n",
    "    1. Data types and Variables\n",
    "    2. Input/Output\n",
    "    3. Basic Math and operators\n",
    "    4. Functions\n",
    "    5. Conditional Statements\n",
    "    6. Loops\n",
    "    \n",
    "\n",
    "## Data Types and Variables\n",
    "- 3 fundamental types (int, float and string)\n",
    "- boolen type is also supported"
   ]
  },
  {
   "cell_type": "code",
   "execution_count": null,
   "metadata": {},
   "outputs": [],
   "source": [
    "num = 10"
   ]
  },
  {
   "cell_type": "code",
   "execution_count": null,
   "metadata": {},
   "outputs": [],
   "source": [
    "num = \"sfasf\""
   ]
  },
  {
   "cell_type": "code",
   "execution_count": null,
   "metadata": {},
   "outputs": [],
   "source": [
    "name = \"John Smith\""
   ]
  },
  {
   "cell_type": "code",
   "execution_count": null,
   "metadata": {},
   "outputs": [],
   "source": [
    "speed = 19.5"
   ]
  },
  {
   "cell_type": "code",
   "execution_count": null,
   "metadata": {},
   "outputs": [],
   "source": [
    "ans = num*speed"
   ]
  },
  {
   "cell_type": "code",
   "execution_count": null,
   "metadata": {},
   "outputs": [],
   "source": [
    "ans"
   ]
  },
  {
   "cell_type": "code",
   "execution_count": null,
   "metadata": {},
   "outputs": [],
   "source": [
    "hex(10)"
   ]
  },
  {
   "cell_type": "code",
   "execution_count": null,
   "metadata": {},
   "outputs": [],
   "source": [
    "int('10')"
   ]
  },
  {
   "cell_type": "code",
   "execution_count": null,
   "metadata": {},
   "outputs": [],
   "source": [
    "str(99.9)"
   ]
  },
  {
   "cell_type": "code",
   "execution_count": 19,
   "metadata": {},
   "outputs": [
    {
     "data": {
      "text/plain": [
       "10"
      ]
     },
     "execution_count": 19,
     "metadata": {},
     "output_type": "execute_result"
    }
   ],
   "source": [
    "# convert hex string to integer\n",
    "int('0xa', 16)"
   ]
  },
  {
   "cell_type": "markdown",
   "metadata": {},
   "source": [
    "## Standard Input/Output"
   ]
  },
  {
   "cell_type": "code",
   "execution_count": 20,
   "metadata": {},
   "outputs": [
    {
     "name": "stdout",
     "output_type": "stream",
     "text": [
      "Hello World!\n"
     ]
    }
   ],
   "source": [
    "print('Hello World!')"
   ]
  },
  {
   "cell_type": "code",
   "execution_count": 24,
   "metadata": {},
   "outputs": [
    {
     "name": "stdout",
     "output_type": "stream",
     "text": [
      "b'Hello World!' 11 4.55\n"
     ]
    }
   ],
   "source": [
    "print(b'Hello World!', 11,  4.55)"
   ]
  },
  {
   "cell_type": "code",
   "execution_count": 22,
   "metadata": {},
   "outputs": [
    {
     "name": "stdin",
     "output_type": "stream",
     "text": [
      "Enter your full name:  afasd asdfad\n"
     ]
    }
   ],
   "source": [
    "name = input(\"Enter your full name: \")"
   ]
  },
  {
   "cell_type": "code",
   "execution_count": 23,
   "metadata": {},
   "outputs": [
    {
     "name": "stdout",
     "output_type": "stream",
     "text": [
      "Hello there afasd asdfad!\n"
     ]
    }
   ],
   "source": [
    "print(f'Hello there {name}!')"
   ]
  },
  {
   "cell_type": "markdown",
   "metadata": {},
   "source": [
    "## Mathematics"
   ]
  },
  {
   "cell_type": "code",
   "execution_count": 25,
   "metadata": {},
   "outputs": [
    {
     "data": {
      "text/plain": [
       "4"
      ]
     },
     "execution_count": 25,
     "metadata": {},
     "output_type": "execute_result"
    }
   ],
   "source": [
    "2+2"
   ]
  },
  {
   "cell_type": "code",
   "execution_count": 26,
   "metadata": {},
   "outputs": [
    {
     "data": {
      "text/plain": [
       "0"
      ]
     },
     "execution_count": 26,
     "metadata": {},
     "output_type": "execute_result"
    }
   ],
   "source": [
    "2-2"
   ]
  },
  {
   "cell_type": "code",
   "execution_count": 27,
   "metadata": {},
   "outputs": [
    {
     "data": {
      "text/plain": [
       "4"
      ]
     },
     "execution_count": 27,
     "metadata": {},
     "output_type": "execute_result"
    }
   ],
   "source": [
    "2*2"
   ]
  },
  {
   "cell_type": "code",
   "execution_count": 28,
   "metadata": {},
   "outputs": [
    {
     "data": {
      "text/plain": [
       "8"
      ]
     },
     "execution_count": 28,
     "metadata": {},
     "output_type": "execute_result"
    }
   ],
   "source": [
    "2**3"
   ]
  },
  {
   "cell_type": "code",
   "execution_count": 29,
   "metadata": {},
   "outputs": [
    {
     "data": {
      "text/plain": [
       "0"
      ]
     },
     "execution_count": 29,
     "metadata": {},
     "output_type": "execute_result"
    }
   ],
   "source": [
    "4%2"
   ]
  },
  {
   "cell_type": "code",
   "execution_count": 30,
   "metadata": {},
   "outputs": [
    {
     "data": {
      "text/plain": [
       "1.5"
      ]
     },
     "execution_count": 30,
     "metadata": {},
     "output_type": "execute_result"
    }
   ],
   "source": [
    "3/2"
   ]
  },
  {
   "cell_type": "code",
   "execution_count": 31,
   "metadata": {},
   "outputs": [
    {
     "data": {
      "text/plain": [
       "1"
      ]
     },
     "execution_count": 31,
     "metadata": {},
     "output_type": "execute_result"
    }
   ],
   "source": [
    "3//2"
   ]
  },
  {
   "cell_type": "markdown",
   "metadata": {},
   "source": [
    "## Conditional Statements"
   ]
  },
  {
   "cell_type": "code",
   "execution_count": 35,
   "metadata": {},
   "outputs": [
    {
     "ename": "IndentationError",
     "evalue": "unexpected indent (<ipython-input-35-4a444961ab9f>, line 3)",
     "output_type": "error",
     "traceback": [
      "\u001b[0;36m  File \u001b[0;32m\"<ipython-input-35-4a444961ab9f>\"\u001b[0;36m, line \u001b[0;32m3\u001b[0m\n\u001b[0;31m    print(1)\u001b[0m\n\u001b[0m    ^\u001b[0m\n\u001b[0;31mIndentationError\u001b[0m\u001b[0;31m:\u001b[0m unexpected indent\n"
     ]
    }
   ],
   "source": [
    "if True:\n",
    "    print(\"this line...\")\n",
    "    print(1)"
   ]
  },
  {
   "cell_type": "code",
   "execution_count": 36,
   "metadata": {},
   "outputs": [
    {
     "name": "stdout",
     "output_type": "stream",
     "text": [
      "You're not John Smith!\n"
     ]
    }
   ],
   "source": [
    "if name == \"John Smith\":\n",
    "    print(\"You're John Smith!\")\n",
    "else:\n",
    "    print(\"You're not John Smith!\")"
   ]
  },
  {
   "cell_type": "code",
   "execution_count": 37,
   "metadata": {},
   "outputs": [
    {
     "name": "stdin",
     "output_type": "stream",
     "text": [
      "Enter an integer: 10\n"
     ]
    },
    {
     "name": "stdout",
     "output_type": "stream",
     "text": [
      "10 is Even.\n"
     ]
    }
   ],
   "source": [
    "num = int(input('Enter an integer:' ))\n",
    "if num == 0:\n",
    "    print(f'{num} is Zero.')\n",
    "elif num%2 == 0:\n",
    "    print(f'{num} is Even.')\n",
    "else:\n",
    "    print(f'{num} is odd.')"
   ]
  },
  {
   "cell_type": "markdown",
   "metadata": {},
   "source": [
    "## Loops"
   ]
  },
  {
   "cell_type": "code",
   "execution_count": 38,
   "metadata": {},
   "outputs": [
    {
     "name": "stdout",
     "output_type": "stream",
     "text": [
      "1 Mississippi!\n",
      "2 Mississippi!\n",
      "3 Mississippi!\n",
      "4 Mississippi!\n",
      "5 Mississippi!\n",
      "6 Mississippi!\n",
      "7 Mississippi!\n",
      "8 Mississippi!\n",
      "9 Mississippi!\n",
      "10 Mississippi!\n"
     ]
    }
   ],
   "source": [
    "for i in range(10):\n",
    "    print(f'{i+1} Mississippi!')"
   ]
  },
  {
   "cell_type": "code",
   "execution_count": 41,
   "metadata": {},
   "outputs": [
    {
     "name": "stdin",
     "output_type": "stream",
     "text": [
      "Enter a number:  10\n"
     ]
    },
    {
     "name": "stdout",
     "output_type": "stream",
     "text": [
      "You entered 10\n"
     ]
    },
    {
     "name": "stdin",
     "output_type": "stream",
     "text": [
      "Enter a number:  23\n"
     ]
    },
    {
     "name": "stdout",
     "output_type": "stream",
     "text": [
      "You entered 23\n"
     ]
    },
    {
     "name": "stdin",
     "output_type": "stream",
     "text": [
      "Enter a number:  4\n"
     ]
    },
    {
     "name": "stdout",
     "output_type": "stream",
     "text": [
      "You entered 4\n"
     ]
    },
    {
     "name": "stdin",
     "output_type": "stream",
     "text": [
      "Enter a number:  0\n"
     ]
    }
   ],
   "source": [
    "while True:\n",
    "    num = int(input('Enter a number: '))\n",
    "    if num == 0:\n",
    "        break\n",
    "    else:\n",
    "        print(f'You entered {num}')"
   ]
  },
  {
   "cell_type": "markdown",
   "metadata": {},
   "source": [
    "## Functions"
   ]
  },
  {
   "cell_type": "code",
   "execution_count": 45,
   "metadata": {},
   "outputs": [],
   "source": [
    "def sayHello(str:name=\"John\") -> str:\n",
    "    return f\"Hello {name}\""
   ]
  },
  {
   "cell_type": "code",
   "execution_count": 46,
   "metadata": {},
   "outputs": [
    {
     "name": "stdout",
     "output_type": "stream",
     "text": [
      "Hello afasd asdfad\n"
     ]
    }
   ],
   "source": [
    "print(sayHello())"
   ]
  },
  {
   "cell_type": "code",
   "execution_count": 47,
   "metadata": {},
   "outputs": [
    {
     "name": "stdout",
     "output_type": "stream",
     "text": [
      "Hello afasd asdfad\n"
     ]
    }
   ],
   "source": [
    "print(sayHello(\"David\"))"
   ]
  },
  {
   "cell_type": "markdown",
   "metadata": {},
   "source": [
    "## Built-in Data Structures\n",
    "\n",
    "### Tuple"
   ]
  },
  {
   "cell_type": "code",
   "execution_count": 48,
   "metadata": {},
   "outputs": [],
   "source": [
    "a = (1, 2, 'hello')"
   ]
  },
  {
   "cell_type": "code",
   "execution_count": 49,
   "metadata": {},
   "outputs": [
    {
     "data": {
      "text/plain": [
       "1"
      ]
     },
     "execution_count": 49,
     "metadata": {},
     "output_type": "execute_result"
    }
   ],
   "source": [
    "a[0]"
   ]
  },
  {
   "cell_type": "markdown",
   "metadata": {},
   "source": [
    "### List\n",
    "- similar to array/vector in C++"
   ]
  },
  {
   "cell_type": "code",
   "execution_count": 50,
   "metadata": {},
   "outputs": [],
   "source": [
    "values = [1, 2, 'hi', [1, 2, 3], a]"
   ]
  },
  {
   "cell_type": "code",
   "execution_count": 51,
   "metadata": {},
   "outputs": [
    {
     "data": {
      "text/plain": [
       "[1, 2, 'hi', [1, 2, 3], (1, 2, 'hello')]"
      ]
     },
     "execution_count": 51,
     "metadata": {},
     "output_type": "execute_result"
    }
   ],
   "source": [
    "values"
   ]
  },
  {
   "cell_type": "code",
   "execution_count": 52,
   "metadata": {},
   "outputs": [
    {
     "name": "stdout",
     "output_type": "stream",
     "text": [
      "Help on class list in module builtins:\n",
      "\n",
      "class list(object)\n",
      " |  list(iterable=(), /)\n",
      " |  \n",
      " |  Built-in mutable sequence.\n",
      " |  \n",
      " |  If no argument is given, the constructor creates a new empty list.\n",
      " |  The argument must be an iterable if specified.\n",
      " |  \n",
      " |  Methods defined here:\n",
      " |  \n",
      " |  __add__(self, value, /)\n",
      " |      Return self+value.\n",
      " |  \n",
      " |  __contains__(self, key, /)\n",
      " |      Return key in self.\n",
      " |  \n",
      " |  __delitem__(self, key, /)\n",
      " |      Delete self[key].\n",
      " |  \n",
      " |  __eq__(self, value, /)\n",
      " |      Return self==value.\n",
      " |  \n",
      " |  __ge__(self, value, /)\n",
      " |      Return self>=value.\n",
      " |  \n",
      " |  __getattribute__(self, name, /)\n",
      " |      Return getattr(self, name).\n",
      " |  \n",
      " |  __getitem__(...)\n",
      " |      x.__getitem__(y) <==> x[y]\n",
      " |  \n",
      " |  __gt__(self, value, /)\n",
      " |      Return self>value.\n",
      " |  \n",
      " |  __iadd__(self, value, /)\n",
      " |      Implement self+=value.\n",
      " |  \n",
      " |  __imul__(self, value, /)\n",
      " |      Implement self*=value.\n",
      " |  \n",
      " |  __init__(self, /, *args, **kwargs)\n",
      " |      Initialize self.  See help(type(self)) for accurate signature.\n",
      " |  \n",
      " |  __iter__(self, /)\n",
      " |      Implement iter(self).\n",
      " |  \n",
      " |  __le__(self, value, /)\n",
      " |      Return self<=value.\n",
      " |  \n",
      " |  __len__(self, /)\n",
      " |      Return len(self).\n",
      " |  \n",
      " |  __lt__(self, value, /)\n",
      " |      Return self<value.\n",
      " |  \n",
      " |  __mul__(self, value, /)\n",
      " |      Return self*value.\n",
      " |  \n",
      " |  __ne__(self, value, /)\n",
      " |      Return self!=value.\n",
      " |  \n",
      " |  __repr__(self, /)\n",
      " |      Return repr(self).\n",
      " |  \n",
      " |  __reversed__(self, /)\n",
      " |      Return a reverse iterator over the list.\n",
      " |  \n",
      " |  __rmul__(self, value, /)\n",
      " |      Return value*self.\n",
      " |  \n",
      " |  __setitem__(self, key, value, /)\n",
      " |      Set self[key] to value.\n",
      " |  \n",
      " |  __sizeof__(self, /)\n",
      " |      Return the size of the list in memory, in bytes.\n",
      " |  \n",
      " |  append(self, object, /)\n",
      " |      Append object to the end of the list.\n",
      " |  \n",
      " |  clear(self, /)\n",
      " |      Remove all items from list.\n",
      " |  \n",
      " |  copy(self, /)\n",
      " |      Return a shallow copy of the list.\n",
      " |  \n",
      " |  count(self, value, /)\n",
      " |      Return number of occurrences of value.\n",
      " |  \n",
      " |  extend(self, iterable, /)\n",
      " |      Extend list by appending elements from the iterable.\n",
      " |  \n",
      " |  index(self, value, start=0, stop=9223372036854775807, /)\n",
      " |      Return first index of value.\n",
      " |      \n",
      " |      Raises ValueError if the value is not present.\n",
      " |  \n",
      " |  insert(self, index, object, /)\n",
      " |      Insert object before index.\n",
      " |  \n",
      " |  pop(self, index=-1, /)\n",
      " |      Remove and return item at index (default last).\n",
      " |      \n",
      " |      Raises IndexError if list is empty or index is out of range.\n",
      " |  \n",
      " |  remove(self, value, /)\n",
      " |      Remove first occurrence of value.\n",
      " |      \n",
      " |      Raises ValueError if the value is not present.\n",
      " |  \n",
      " |  reverse(self, /)\n",
      " |      Reverse *IN PLACE*.\n",
      " |  \n",
      " |  sort(self, /, *, key=None, reverse=False)\n",
      " |      Sort the list in ascending order and return None.\n",
      " |      \n",
      " |      The sort is in-place (i.e. the list itself is modified) and stable (i.e. the\n",
      " |      order of two equal elements is maintained).\n",
      " |      \n",
      " |      If a key function is given, apply it once to each list item and sort them,\n",
      " |      ascending or descending, according to their function values.\n",
      " |      \n",
      " |      The reverse flag can be set to sort in descending order.\n",
      " |  \n",
      " |  ----------------------------------------------------------------------\n",
      " |  Static methods defined here:\n",
      " |  \n",
      " |  __new__(*args, **kwargs) from builtins.type\n",
      " |      Create and return a new object.  See help(type) for accurate signature.\n",
      " |  \n",
      " |  ----------------------------------------------------------------------\n",
      " |  Data and other attributes defined here:\n",
      " |  \n",
      " |  __hash__ = None\n",
      "\n"
     ]
    }
   ],
   "source": [
    "help(list)"
   ]
  },
  {
   "cell_type": "markdown",
   "metadata": {},
   "source": [
    "### Dictionary\n",
    "- key->vlue mapping DS"
   ]
  },
  {
   "cell_type": "code",
   "execution_count": 53,
   "metadata": {},
   "outputs": [],
   "source": [
    "engToSpan = {'one': 'uno'}"
   ]
  },
  {
   "cell_type": "code",
   "execution_count": 54,
   "metadata": {},
   "outputs": [],
   "source": [
    "engToSpan['two'] = 'dos'"
   ]
  },
  {
   "cell_type": "code",
   "execution_count": 55,
   "metadata": {},
   "outputs": [
    {
     "data": {
      "text/plain": [
       "{'one': 'uno', 'two': 'dos'}"
      ]
     },
     "execution_count": 55,
     "metadata": {},
     "output_type": "execute_result"
    }
   ],
   "source": [
    "engToSpan"
   ]
  },
  {
   "cell_type": "code",
   "execution_count": 58,
   "metadata": {},
   "outputs": [
    {
     "data": {
      "text/plain": [
       "'nada'"
      ]
     },
     "execution_count": 58,
     "metadata": {},
     "output_type": "execute_result"
    }
   ],
   "source": [
    "engToSpan.get('three', 'nada')"
   ]
  },
  {
   "cell_type": "code",
   "execution_count": 59,
   "metadata": {},
   "outputs": [
    {
     "name": "stdout",
     "output_type": "stream",
     "text": [
      "Help on class dict in module builtins:\n",
      "\n",
      "class dict(object)\n",
      " |  dict() -> new empty dictionary\n",
      " |  dict(mapping) -> new dictionary initialized from a mapping object's\n",
      " |      (key, value) pairs\n",
      " |  dict(iterable) -> new dictionary initialized as if via:\n",
      " |      d = {}\n",
      " |      for k, v in iterable:\n",
      " |          d[k] = v\n",
      " |  dict(**kwargs) -> new dictionary initialized with the name=value pairs\n",
      " |      in the keyword argument list.  For example:  dict(one=1, two=2)\n",
      " |  \n",
      " |  Built-in subclasses:\n",
      " |      StgDict\n",
      " |  \n",
      " |  Methods defined here:\n",
      " |  \n",
      " |  __contains__(self, key, /)\n",
      " |      True if the dictionary has the specified key, else False.\n",
      " |  \n",
      " |  __delitem__(self, key, /)\n",
      " |      Delete self[key].\n",
      " |  \n",
      " |  __eq__(self, value, /)\n",
      " |      Return self==value.\n",
      " |  \n",
      " |  __ge__(self, value, /)\n",
      " |      Return self>=value.\n",
      " |  \n",
      " |  __getattribute__(self, name, /)\n",
      " |      Return getattr(self, name).\n",
      " |  \n",
      " |  __getitem__(...)\n",
      " |      x.__getitem__(y) <==> x[y]\n",
      " |  \n",
      " |  __gt__(self, value, /)\n",
      " |      Return self>value.\n",
      " |  \n",
      " |  __init__(self, /, *args, **kwargs)\n",
      " |      Initialize self.  See help(type(self)) for accurate signature.\n",
      " |  \n",
      " |  __iter__(self, /)\n",
      " |      Implement iter(self).\n",
      " |  \n",
      " |  __le__(self, value, /)\n",
      " |      Return self<=value.\n",
      " |  \n",
      " |  __len__(self, /)\n",
      " |      Return len(self).\n",
      " |  \n",
      " |  __lt__(self, value, /)\n",
      " |      Return self<value.\n",
      " |  \n",
      " |  __ne__(self, value, /)\n",
      " |      Return self!=value.\n",
      " |  \n",
      " |  __repr__(self, /)\n",
      " |      Return repr(self).\n",
      " |  \n",
      " |  __reversed__(self, /)\n",
      " |      Return a reverse iterator over the dict keys.\n",
      " |  \n",
      " |  __setitem__(self, key, value, /)\n",
      " |      Set self[key] to value.\n",
      " |  \n",
      " |  __sizeof__(...)\n",
      " |      D.__sizeof__() -> size of D in memory, in bytes\n",
      " |  \n",
      " |  clear(...)\n",
      " |      D.clear() -> None.  Remove all items from D.\n",
      " |  \n",
      " |  copy(...)\n",
      " |      D.copy() -> a shallow copy of D\n",
      " |  \n",
      " |  get(self, key, default=None, /)\n",
      " |      Return the value for key if key is in the dictionary, else default.\n",
      " |  \n",
      " |  items(...)\n",
      " |      D.items() -> a set-like object providing a view on D's items\n",
      " |  \n",
      " |  keys(...)\n",
      " |      D.keys() -> a set-like object providing a view on D's keys\n",
      " |  \n",
      " |  pop(...)\n",
      " |      D.pop(k[,d]) -> v, remove specified key and return the corresponding value.\n",
      " |      If key is not found, d is returned if given, otherwise KeyError is raised\n",
      " |  \n",
      " |  popitem(self, /)\n",
      " |      Remove and return a (key, value) pair as a 2-tuple.\n",
      " |      \n",
      " |      Pairs are returned in LIFO (last-in, first-out) order.\n",
      " |      Raises KeyError if the dict is empty.\n",
      " |  \n",
      " |  setdefault(self, key, default=None, /)\n",
      " |      Insert key with a value of default if key is not in the dictionary.\n",
      " |      \n",
      " |      Return the value for key if key is in the dictionary, else default.\n",
      " |  \n",
      " |  update(...)\n",
      " |      D.update([E, ]**F) -> None.  Update D from dict/iterable E and F.\n",
      " |      If E is present and has a .keys() method, then does:  for k in E: D[k] = E[k]\n",
      " |      If E is present and lacks a .keys() method, then does:  for k, v in E: D[k] = v\n",
      " |      In either case, this is followed by: for k in F:  D[k] = F[k]\n",
      " |  \n",
      " |  values(...)\n",
      " |      D.values() -> an object providing a view on D's values\n",
      " |  \n",
      " |  ----------------------------------------------------------------------\n",
      " |  Class methods defined here:\n",
      " |  \n",
      " |  fromkeys(iterable, value=None, /) from builtins.type\n",
      " |      Create a new dictionary with keys from iterable and values set to value.\n",
      " |  \n",
      " |  ----------------------------------------------------------------------\n",
      " |  Static methods defined here:\n",
      " |  \n",
      " |  __new__(*args, **kwargs) from builtins.type\n",
      " |      Create and return a new object.  See help(type) for accurate signature.\n",
      " |  \n",
      " |  ----------------------------------------------------------------------\n",
      " |  Data and other attributes defined here:\n",
      " |  \n",
      " |  __hash__ = None\n",
      "\n"
     ]
    }
   ],
   "source": [
    "help(dict)"
   ]
  },
  {
   "cell_type": "markdown",
   "metadata": {},
   "source": [
    "## Modules\n",
    "- see `python/module.py` file\n",
    "- typically run module from terminal"
   ]
  },
  {
   "cell_type": "code",
   "execution_count": 70,
   "metadata": {},
   "outputs": [
    {
     "name": "stdout",
     "output_type": "stream",
     "text": [
      "import sys\n",
      "\n",
      "print('Hello There!')\n",
      "\n",
      "def add(num1, num2):\n",
      "    return num1 + num2\n",
      "\n",
      "def test():\n",
      "    print('running test...')\n",
      "    assert 1 == 1\n",
      "    assert add(2, 3) == 5\n",
      "    print('OK!')\n",
      "\n",
      "if __name__ == \"__main__\":\n",
      "    if len(sys.argv) > 1 and sys.argv[1] == \"test\":\n",
      "        test()\n",
      "\n",
      "    sys.stdout.buffer.write(b\"\\x41\\x41\\x41\\x41\\n\")"
     ]
    }
   ],
   "source": [
    "! cat python/module.py"
   ]
  },
  {
   "cell_type": "code",
   "execution_count": 69,
   "metadata": {},
   "outputs": [
    {
     "name": "stdout",
     "output_type": "stream",
     "text": [
      "Hello There!\n",
      "AAAA\n"
     ]
    }
   ],
   "source": [
    "# run script without argument\n",
    "! python python/module.py"
   ]
  },
  {
   "cell_type": "code",
   "execution_count": 72,
   "metadata": {},
   "outputs": [
    {
     "name": "stdout",
     "output_type": "stream",
     "text": [
      "Hello There!\n",
      "running test...\n",
      "OK!\n",
      "AAAA\n"
     ]
    }
   ],
   "source": [
    "# run script with argument\n",
    "! python python/module.py test"
   ]
  },
  {
   "cell_type": "markdown",
   "metadata": {},
   "source": [
    "## System command\n",
    "- execute system/shell commands from with Python\n",
    "\n",
    "### os.system()"
   ]
  },
  {
   "cell_type": "code",
   "execution_count": 60,
   "metadata": {},
   "outputs": [],
   "source": [
    "import os"
   ]
  },
  {
   "cell_type": "code",
   "execution_count": 61,
   "metadata": {},
   "outputs": [
    {
     "name": "stdout",
     "output_type": "stream",
     "text": [
      "returned: 0\n"
     ]
    }
   ],
   "source": [
    "cmd = \"git --version\"\n",
    "ret_val = os.system(cmd)\n",
    "print(f'returned: {ret_val}')"
   ]
  },
  {
   "cell_type": "markdown",
   "metadata": {},
   "source": [
    "### subprocess.call( )\n",
    "- subprocess.check_output() allows to store the output in a variable"
   ]
  },
  {
   "cell_type": "code",
   "execution_count": 2,
   "metadata": {},
   "outputs": [],
   "source": [
    "import subprocess"
   ]
  },
  {
   "cell_type": "code",
   "execution_count": 63,
   "metadata": {},
   "outputs": [],
   "source": [
    "ret_val = subprocess.call(cmd, shell=True)"
   ]
  },
  {
   "cell_type": "code",
   "execution_count": 64,
   "metadata": {},
   "outputs": [
    {
     "data": {
      "text/plain": [
       "0"
      ]
     },
     "execution_count": 64,
     "metadata": {},
     "output_type": "execute_result"
    }
   ],
   "source": [
    "ret_val"
   ]
  },
  {
   "cell_type": "code",
   "execution_count": 65,
   "metadata": {},
   "outputs": [],
   "source": [
    "output = subprocess.check_output(cmd, shell=True)"
   ]
  },
  {
   "cell_type": "code",
   "execution_count": 66,
   "metadata": {},
   "outputs": [
    {
     "data": {
      "text/plain": [
       "b'git version 2.34.1\\n'"
      ]
     },
     "execution_count": 66,
     "metadata": {},
     "output_type": "execute_result"
    }
   ],
   "source": [
    "output"
   ]
  },
  {
   "cell_type": "code",
   "execution_count": 67,
   "metadata": {},
   "outputs": [
    {
     "name": "stdout",
     "output_type": "stream",
     "text": [
      "103 105 116 32 118 101 114 115 105 111 110 32 50 46 51 52 46 49 10\n"
     ]
    }
   ],
   "source": [
    "# print the output binary in ASCII\n",
    "print(*output)"
   ]
  },
  {
   "cell_type": "code",
   "execution_count": 68,
   "metadata": {},
   "outputs": [
    {
     "name": "stdout",
     "output_type": "stream",
     "text": [
      "git version 2.34.1\n",
      "\n"
     ]
    }
   ],
   "source": [
    "# print the returned binary as a utf-8 encoded string\n",
    "print(output.decode('utf-8'))"
   ]
  },
  {
   "cell_type": "code",
   "execution_count": 3,
   "metadata": {},
   "outputs": [],
   "source": [
    "# providing list as command is recommended\n",
    "output = subprocess.check_output(['git --version'], shell=True)"
   ]
  },
  {
   "cell_type": "code",
   "execution_count": 4,
   "metadata": {},
   "outputs": [
    {
     "name": "stdout",
     "output_type": "stream",
     "text": [
      "git version 2.37.1 (Apple Git-137.1)\n",
      "\n"
     ]
    }
   ],
   "source": [
    "print(output.decode('utf-8'))"
   ]
  },
  {
   "cell_type": "code",
   "execution_count": 6,
   "metadata": {},
   "outputs": [],
   "source": [
    "import sys\n",
    "# providing list as command is recommended\n",
    "output = subprocess.check_output([\"/bin/sh\", \"-c\", \"ls -l; exit 0\"], \n",
    "             stderr=sys.stdout)"
   ]
  },
  {
   "cell_type": "code",
   "execution_count": 9,
   "metadata": {},
   "outputs": [
    {
     "name": "stdout",
     "output_type": "stream",
     "text": [
      "b'total 4416\\n-rw-r--r--   1 rbasnet  AD\\\\Domain Users    4376 Feb  1 08:41 00-TableOfContents.ipynb\\n-rw-r--r--   1 rbasnet  AD\\\\Domain Users   35262 Feb  1 08:38 BufferOverflowBasics.ipynb\\n-rw-r--r--   1 rbasnet  AD\\\\Domain Users   20213 Feb  1 08:38 BufferOverflowProtections.ipynb\\n-rw-r--r--   1 rbasnet  AD\\\\Domain Users   25444 Feb  1 08:38 C-Arrays.ipynb\\n-rw-r--r--   1 rbasnet  AD\\\\Domain Users    7763 Feb  1 08:38 C-Strings.ipynb\\n-rw-r--r--   1 rbasnet  AD\\\\Domain Users   48332 Feb  1 08:38 CS1-Review.ipynb\\n-rw-r--r--   1 rbasnet  AD\\\\Domain Users   25731 Feb  1 08:38 CTF.ipynb\\n-rw-r--r--   1 rbasnet  AD\\\\Domain Users   43531 Feb  1 08:38 DetectingMemoryCorruptionErrors.ipynb\\n-rw-r--r--   1 rbasnet  AD\\\\Domain Users  229567 Feb  1 08:38 ELF.ipynb\\n-rw-r--r--   1 rbasnet  AD\\\\Domain Users   22537 Feb  1 08:38 ExploitCode-UsingBashScript.ipynb\\n-rw-r--r--   1 rbasnet  AD\\\\Domain Users   19210 Feb  1 08:38 ExploitCode-UsingCPP.ipynb\\n-rw-r--r--   1 rbasnet  AD\\\\Domain Users   28785 Feb  1 08:38 ExploitCode-UsingPythonScript.ipynb\\n-rw-r--r--   1 rbasnet  AD\\\\Domain Users  411383 Feb  1 08:38 FormatStrings.ipynb\\n-rw-r--r--   1 rbasnet  AD\\\\Domain Users    6889 Feb  1 08:38 Function-Pointers.ipynb\\n-rw-r--r--   1 rbasnet  AD\\\\Domain Users   23327 Feb  1 08:38 FunctionsAndUnittesting.ipynb\\n-rw-r--r--   1 rbasnet  AD\\\\Domain Users    9231 Feb  1 08:38 GDB-Peda.ipynb\\n-rw-r--r--   1 rbasnet  AD\\\\Domain Users   64126 Feb  1 08:38 GlobalSegmentOverflow.ipynb\\n-rw-r--r--   1 rbasnet  AD\\\\Domain Users  470021 Feb  1 08:38 HackingTools.ipynb\\n-rw-r--r--   1 rbasnet  AD\\\\Domain Users   13663 Feb  1 08:38 HeapOverflowExploitation.ipynb\\n-rw-r--r--   1 rbasnet  AD\\\\Domain Users    1067 Feb  1 08:38 LICENSE\\n-rw-r--r--   1 rbasnet  AD\\\\Domain Users    7272 Feb  1 08:38 MemorySegments.ipynb\\n-rw-r--r--   1 rbasnet  AD\\\\Domain Users   53905 Feb  1 08:38 OverflowingFunctionPointers.ipynb\\n-rw-r--r--   1 rbasnet  AD\\\\Domain Users    8163 Feb  1 08:38 PenTesting.ipynb\\n-rw-r--r--   1 rbasnet  AD\\\\Domain Users   14457 Feb  1 08:38 Pointers.ipynb\\n-rw-r--r--   1 rbasnet  AD\\\\Domain Users   57683 Feb  1 08:38 PwntoolsTutorials.ipynb\\n-rw-r--r--   1 rbasnet  AD\\\\Domain Users   28427 Feb  1 08:49 PythonBasics.ipynb\\n-rw-r--r--   1 rbasnet  AD\\\\Domain Users    2011 Feb  1 08:38 README.md\\n-rw-r--r--   1 rbasnet  AD\\\\Domain Users   31600 Feb  1 08:38 ROP-new.ipynb\\n-rw-r--r--   1 rbasnet  AD\\\\Domain Users   27536 Feb  1 08:38 ROP.ipynb\\n-rw-r--r--   1 rbasnet  AD\\\\Domain Users   14599 Feb  1 08:38 SQLInjection.ipynb\\n-rw-r--r--   1 rbasnet  AD\\\\Domain Users   12016 Feb  1 08:38 SQLite3-Database.ipynb\\n-rw-r--r--   1 rbasnet  AD\\\\Domain Users   12099 Feb  1 08:38 SetupVM.ipynb\\n-rw-r--r--   1 rbasnet  AD\\\\Domain Users   10524 Feb  1 08:38 StackOverflow-EnvVariable.ipynb\\n-rw-r--r--   1 rbasnet  AD\\\\Domain Users   37751 Feb  1 08:38 StackOverflow-ExecutionFlow.ipynb\\n-rw-r--r--   1 rbasnet  AD\\\\Domain Users  248976 Feb  1 08:38 StackOverflow-MemoryCorruption.ipynb\\n-rw-r--r--   1 rbasnet  AD\\\\Domain Users   43270 Feb  1 08:38 StackOverflow-RemoteCodeExecution.ipynb\\n-rwxr-xr-x   1 rbasnet  AD\\\\Domain Users     699 Feb  1 08:38 compile.sh\\ndrwxr-xr-x   7 rbasnet  AD\\\\Domain Users     224 Feb  1 08:38 ctf-demos\\ndrwxr-xr-x  30 rbasnet  AD\\\\Domain Users     960 Feb  1 08:38 demos\\n-rw-r--r--   1 rbasnet  AD\\\\Domain Users     100 Feb  1 08:38 exploit_fmt.bin\\n-rw-r--r--   1 rbasnet  AD\\\\Domain Users    1244 Feb  1 08:38 exploit_vuln_cpp.py\\n-rw-r--r--   1 rbasnet  AD\\\\Domain Users    1222 Feb  1 08:38 hacking.h\\ndrwxr-xr-x   6 rbasnet  AD\\\\Domain Users     192 Feb  1 08:38 labs\\ndrwxr-xr-x  20 rbasnet  AD\\\\Domain Users     640 Feb  1 08:38 media\\n-rw-r--r--   1 rbasnet  AD\\\\Domain Users     164 Feb  1 08:38 payload.bin\\n-rw-r--r--   1 rbasnet  AD\\\\Domain Users      80 Feb  1 08:38 payload_env.bin\\ndrwxr-xr-x   6 rbasnet  AD\\\\Domain Users     192 Feb  1 08:38 pwntools-demos\\ndrwxr-xr-x   4 rbasnet  AD\\\\Domain Users     128 Feb  1 08:38 python\\ndrwxr-xr-x   7 rbasnet  AD\\\\Domain Users     224 Feb  1 08:38 shellcode\\n-rw-r--r--   1 rbasnet  AD\\\\Domain Users      24 Feb  1 08:38 shellcode.bin\\n-rw-r--r--   1 rbasnet  AD\\\\Domain Users      24 Feb  1 08:38 shellcode1_py3.bin\\n-rw-r--r--   1 rbasnet  AD\\\\Domain Users      24 Feb  1 08:38 shellcode_bash.bin\\n-rw-r--r--   1 rbasnet  AD\\\\Domain Users      24 Feb  1 08:38 shellcode_py3.bin\\n-rw-r--r--   1 rbasnet  AD\\\\Domain Users      35 Feb  1 08:38 shellcode_root.bin\\n-rw-r--r--   1 rbasnet  AD\\\\Domain Users     101 Feb  1 08:38 so_arg_cpp_exploit.sh\\n-rw-r--r--   1 rbasnet  AD\\\\Domain Users     110 Feb  1 08:38 so_arg_cpp_exploit_aslr_on.sh\\n-rw-r--r--   1 rbasnet  AD\\\\Domain Users    1976 Feb  1 08:38 so_arg_exploit.sh\\n-rw-r--r--   1 rbasnet  AD\\\\Domain Users     144 Feb  1 08:38 stdio_payload.bin\\n-rw-r--r--   1 rbasnet  AD\\\\Domain Users     126 Feb  1 08:38 testfile\\n-rw-r--r--   1 rbasnet  AD\\\\Domain Users    5881 Feb  1 08:38 x86-AssemblyAndStack.ipynb\\n'\n"
     ]
    }
   ],
   "source": [
    "print(output)"
   ]
  },
  {
   "cell_type": "code",
   "execution_count": 7,
   "metadata": {},
   "outputs": [
    {
     "name": "stdout",
     "output_type": "stream",
     "text": [
      "total 4416\n",
      "-rw-r--r--   1 rbasnet  AD\\Domain Users    4376 Feb  1 08:41 00-TableOfContents.ipynb\n",
      "-rw-r--r--   1 rbasnet  AD\\Domain Users   35262 Feb  1 08:38 BufferOverflowBasics.ipynb\n",
      "-rw-r--r--   1 rbasnet  AD\\Domain Users   20213 Feb  1 08:38 BufferOverflowProtections.ipynb\n",
      "-rw-r--r--   1 rbasnet  AD\\Domain Users   25444 Feb  1 08:38 C-Arrays.ipynb\n",
      "-rw-r--r--   1 rbasnet  AD\\Domain Users    7763 Feb  1 08:38 C-Strings.ipynb\n",
      "-rw-r--r--   1 rbasnet  AD\\Domain Users   48332 Feb  1 08:38 CS1-Review.ipynb\n",
      "-rw-r--r--   1 rbasnet  AD\\Domain Users   25731 Feb  1 08:38 CTF.ipynb\n",
      "-rw-r--r--   1 rbasnet  AD\\Domain Users   43531 Feb  1 08:38 DetectingMemoryCorruptionErrors.ipynb\n",
      "-rw-r--r--   1 rbasnet  AD\\Domain Users  229567 Feb  1 08:38 ELF.ipynb\n",
      "-rw-r--r--   1 rbasnet  AD\\Domain Users   22537 Feb  1 08:38 ExploitCode-UsingBashScript.ipynb\n",
      "-rw-r--r--   1 rbasnet  AD\\Domain Users   19210 Feb  1 08:38 ExploitCode-UsingCPP.ipynb\n",
      "-rw-r--r--   1 rbasnet  AD\\Domain Users   28785 Feb  1 08:38 ExploitCode-UsingPythonScript.ipynb\n",
      "-rw-r--r--   1 rbasnet  AD\\Domain Users  411383 Feb  1 08:38 FormatStrings.ipynb\n",
      "-rw-r--r--   1 rbasnet  AD\\Domain Users    6889 Feb  1 08:38 Function-Pointers.ipynb\n",
      "-rw-r--r--   1 rbasnet  AD\\Domain Users   23327 Feb  1 08:38 FunctionsAndUnittesting.ipynb\n",
      "-rw-r--r--   1 rbasnet  AD\\Domain Users    9231 Feb  1 08:38 GDB-Peda.ipynb\n",
      "-rw-r--r--   1 rbasnet  AD\\Domain Users   64126 Feb  1 08:38 GlobalSegmentOverflow.ipynb\n",
      "-rw-r--r--   1 rbasnet  AD\\Domain Users  470021 Feb  1 08:38 HackingTools.ipynb\n",
      "-rw-r--r--   1 rbasnet  AD\\Domain Users   13663 Feb  1 08:38 HeapOverflowExploitation.ipynb\n",
      "-rw-r--r--   1 rbasnet  AD\\Domain Users    1067 Feb  1 08:38 LICENSE\n",
      "-rw-r--r--   1 rbasnet  AD\\Domain Users    7272 Feb  1 08:38 MemorySegments.ipynb\n",
      "-rw-r--r--   1 rbasnet  AD\\Domain Users   53905 Feb  1 08:38 OverflowingFunctionPointers.ipynb\n",
      "-rw-r--r--   1 rbasnet  AD\\Domain Users    8163 Feb  1 08:38 PenTesting.ipynb\n",
      "-rw-r--r--   1 rbasnet  AD\\Domain Users   14457 Feb  1 08:38 Pointers.ipynb\n",
      "-rw-r--r--   1 rbasnet  AD\\Domain Users   57683 Feb  1 08:38 PwntoolsTutorials.ipynb\n",
      "-rw-r--r--   1 rbasnet  AD\\Domain Users   28427 Feb  1 08:49 PythonBasics.ipynb\n",
      "-rw-r--r--   1 rbasnet  AD\\Domain Users    2011 Feb  1 08:38 README.md\n",
      "-rw-r--r--   1 rbasnet  AD\\Domain Users   31600 Feb  1 08:38 ROP-new.ipynb\n",
      "-rw-r--r--   1 rbasnet  AD\\Domain Users   27536 Feb  1 08:38 ROP.ipynb\n",
      "-rw-r--r--   1 rbasnet  AD\\Domain Users   14599 Feb  1 08:38 SQLInjection.ipynb\n",
      "-rw-r--r--   1 rbasnet  AD\\Domain Users   12016 Feb  1 08:38 SQLite3-Database.ipynb\n",
      "-rw-r--r--   1 rbasnet  AD\\Domain Users   12099 Feb  1 08:38 SetupVM.ipynb\n",
      "-rw-r--r--   1 rbasnet  AD\\Domain Users   10524 Feb  1 08:38 StackOverflow-EnvVariable.ipynb\n",
      "-rw-r--r--   1 rbasnet  AD\\Domain Users   37751 Feb  1 08:38 StackOverflow-ExecutionFlow.ipynb\n",
      "-rw-r--r--   1 rbasnet  AD\\Domain Users  248976 Feb  1 08:38 StackOverflow-MemoryCorruption.ipynb\n",
      "-rw-r--r--   1 rbasnet  AD\\Domain Users   43270 Feb  1 08:38 StackOverflow-RemoteCodeExecution.ipynb\n",
      "-rwxr-xr-x   1 rbasnet  AD\\Domain Users     699 Feb  1 08:38 compile.sh\n",
      "drwxr-xr-x   7 rbasnet  AD\\Domain Users     224 Feb  1 08:38 ctf-demos\n",
      "drwxr-xr-x  30 rbasnet  AD\\Domain Users     960 Feb  1 08:38 demos\n",
      "-rw-r--r--   1 rbasnet  AD\\Domain Users     100 Feb  1 08:38 exploit_fmt.bin\n",
      "-rw-r--r--   1 rbasnet  AD\\Domain Users    1244 Feb  1 08:38 exploit_vuln_cpp.py\n",
      "-rw-r--r--   1 rbasnet  AD\\Domain Users    1222 Feb  1 08:38 hacking.h\n",
      "drwxr-xr-x   6 rbasnet  AD\\Domain Users     192 Feb  1 08:38 labs\n",
      "drwxr-xr-x  20 rbasnet  AD\\Domain Users     640 Feb  1 08:38 media\n",
      "-rw-r--r--   1 rbasnet  AD\\Domain Users     164 Feb  1 08:38 payload.bin\n",
      "-rw-r--r--   1 rbasnet  AD\\Domain Users      80 Feb  1 08:38 payload_env.bin\n",
      "drwxr-xr-x   6 rbasnet  AD\\Domain Users     192 Feb  1 08:38 pwntools-demos\n",
      "drwxr-xr-x   4 rbasnet  AD\\Domain Users     128 Feb  1 08:38 python\n",
      "drwxr-xr-x   7 rbasnet  AD\\Domain Users     224 Feb  1 08:38 shellcode\n",
      "-rw-r--r--   1 rbasnet  AD\\Domain Users      24 Feb  1 08:38 shellcode.bin\n",
      "-rw-r--r--   1 rbasnet  AD\\Domain Users      24 Feb  1 08:38 shellcode1_py3.bin\n",
      "-rw-r--r--   1 rbasnet  AD\\Domain Users      24 Feb  1 08:38 shellcode_bash.bin\n",
      "-rw-r--r--   1 rbasnet  AD\\Domain Users      24 Feb  1 08:38 shellcode_py3.bin\n",
      "-rw-r--r--   1 rbasnet  AD\\Domain Users      35 Feb  1 08:38 shellcode_root.bin\n",
      "-rw-r--r--   1 rbasnet  AD\\Domain Users     101 Feb  1 08:38 so_arg_cpp_exploit.sh\n",
      "-rw-r--r--   1 rbasnet  AD\\Domain Users     110 Feb  1 08:38 so_arg_cpp_exploit_aslr_on.sh\n",
      "-rw-r--r--   1 rbasnet  AD\\Domain Users    1976 Feb  1 08:38 so_arg_exploit.sh\n",
      "-rw-r--r--   1 rbasnet  AD\\Domain Users     144 Feb  1 08:38 stdio_payload.bin\n",
      "-rw-r--r--   1 rbasnet  AD\\Domain Users     126 Feb  1 08:38 testfile\n",
      "-rw-r--r--   1 rbasnet  AD\\Domain Users    5881 Feb  1 08:38 x86-AssemblyAndStack.ipynb\n",
      "\n"
     ]
    }
   ],
   "source": [
    "for line in output.decode('utf-8').split('\\n'):\n",
    "    print(line)"
   ]
  },
  {
   "cell_type": "code",
   "execution_count": 12,
   "metadata": {},
   "outputs": [
    {
     "data": {
      "text/plain": [
       "b'(2**3)=8\\n'"
      ]
     },
     "execution_count": 12,
     "metadata": {},
     "output_type": "execute_result"
    }
   ],
   "source": [
    "import sys\n",
    "# providing list as command is recommended\n",
    "subprocess.check_output([\"python\", \"-c\", \"print(f'{(2**3)=}')\"], \n",
    "             stderr=sys.stdout)"
   ]
  },
  {
   "cell_type": "markdown",
   "metadata": {},
   "source": [
    "## Exercise\n",
    "\n",
    "- Complete the following quizzes from: https://realpython.com/quizzes/\n",
    "- Take the screenshot of the first attempt. Take the screenshot of the final attempt when you receive 100%\n",
    "\n",
    "1. Basic Data Types in Python ( https://realpython.com/quizzes/python-data-types/) \n",
    "2. How to Run Your Python Scrpts (https://realpython.com/quizzes/run-python-scripts/)\n",
    "3. Python Basics: Code Your First Python Program - https://realpython.com/quizzes/python-basics-first-program/\n",
    "4. Python Basics: Conditional Logic and Control Flow (https://realpython.com/quizzes/python-basics-conditional-logic-and-control-flow/)\n",
    "5. Python Basics: Dictionaries - https://realpython.com/quizzes/python-basics-dictionaries/\n",
    "6. Python Basics: Functions and Loops - https://realpython.com/quizzes/python-basics-functions-and-loops/\n",
    "7. Python Basics: Numbers and Math - https://realpython.com/quizzes/python-basics-numbers-and-math/\n",
    "8. Python Basics: Scopes - https://realpython.com/quizzes/python-basics-scopes/\n",
    "9. Python Basics: Strings and String Methods - https://realpython.com/quizzes/python-basics-strings-and-string-methods/\n",
    "10. Python Basics: Python Lists and Tuples - https://realpython.com/quizzes/python-lists-tuples/\n",
    "11. Python Operators and Expressions - https://realpython.com/quizzes/python-operators-expressions/\n",
    "12. Python f-String: https://realpython.com/quizzes/f-strings/\n",
    "13. HTTP Requests with \"requests\" Library - https://realpython.com/quizzes/python-requests/"
   ]
  },
  {
   "cell_type": "code",
   "execution_count": null,
   "metadata": {},
   "outputs": [],
   "source": []
  }
 ],
 "metadata": {
  "kernelspec": {
   "display_name": "Python 3 (ipykernel)",
   "language": "python",
   "name": "python3"
  },
  "language_info": {
   "codemirror_mode": {
    "name": "ipython",
    "version": 3
   },
   "file_extension": ".py",
   "mimetype": "text/x-python",
   "name": "python",
   "nbconvert_exporter": "python",
   "pygments_lexer": "ipython3",
   "version": "3.9.13"
  }
 },
 "nbformat": 4,
 "nbformat_minor": 4
}
