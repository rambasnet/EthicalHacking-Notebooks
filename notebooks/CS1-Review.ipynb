{
 "cells": [
  {
   "cell_type": "markdown",
   "metadata": {},
   "source": [
    "# Basic Programming concepts & C++ fundamentals\n",
    "- Note: use your installed C++ compiler or online compilers in case C++ kernel crashes on this notebook or doesn't work in some cases:\n",
    "    - [https://repl.it/](https://repl.it/)\n",
    "    - [https://coliru.stacked-crooked.com/](https://coliru.stacked-crooked.com/)\n",
    "    - [http://cpp.sh](http://cpp.sh/)\n",
    "    \n",
    "\n",
    "## Table of Contents\n",
    "\n",
    "- [Fundamental concepts](#concepts)\n",
    "- [Fundamental types](#types)\n",
    "- [Variables](#variables)\n",
    "- [Type casting](#casting)\n",
    "- [Input/Output](#io)\n",
    "- [Output formatting](#format)\n",
    "- [Functions](#functions)\n",
    "- [Unit test](#unittest)\n",
    "- [String data](#string)\n",
    "- [Escape sequences](#escape)\n",
    "- [Operators](#operators)\n",
    "    - [Unary operators](#unary)\n",
    "    - [Binary operators](#binary)\n",
    "    - [Bitwise operators](#bitwise)\n",
    "    - [Ternary operator](#ternary)\n",
    "    - [Other operators](#other)\n",
    "- [Math functions](#math)\n",
    "- [Conditionals](#conditionals)\n",
    "    - [One-way selector](#oneway)\n",
    "    - [Two-way selector](#twoway)\n",
    "    - [Multi-way selector](#multiway)\n",
    "    - [Switch statement](#switch)\n",
    "- [Loops](#loop)\n",
    "    - [for loop](#for)\n",
    "    - [range-based for loop](#range)\n",
    "    - [while loop](#while)\n",
    "    - [do while loop](#dowhile)\n",
    "- [Arrays](#arrays)\n",
    "    - [2D Arrays](#2darrays)"
   ]
  },
  {
   "cell_type": "markdown",
   "metadata": {},
   "source": [
    "<a id=\"concepts\"></a>"
   ]
  },
  {
   "cell_type": "markdown",
   "metadata": {},
   "source": [
    "## Fundamental concepts/building blocks\n",
    " - Data types and variables\n",
    " - Input/Output\n",
    " - Math operations\n",
    " - Decision/Conditionals\n",
    " - Loops"
   ]
  },
  {
   "cell_type": "markdown",
   "metadata": {},
   "source": [
    "## Headers and helper functions\n",
    "- run include headers and helper function cells right below if Kernel crashes or is restarted"
   ]
  },
  {
   "cell_type": "code",
   "execution_count": 1,
   "metadata": {},
   "outputs": [],
   "source": [
    "// headers and namespace required in this notebook demo codes\n",
    "#include <iostream> //cin, cout\n",
    "#include <cstdio> //printf\n",
    "#include <cstring> // funciton to work with cstring\n",
    "#include <string> // string functions\n",
    "#include <fstream> // file io\n",
    "#include <iomanip> // output formatting\n",
    "\n",
    "using namespace std;"
   ]
  },
  {
   "cell_type": "markdown",
   "metadata": {},
   "source": [
    "<a id=\"types\"></a>"
   ]
  },
  {
   "cell_type": "markdown",
   "metadata": {},
   "source": [
    "## fundamental data types\n",
    "https://en.cppreference.com/w/cpp/language/types\n",
    "- void : type with an empty set of values\n",
    "- bool : true or false\n",
    "- int : integer/whole number\n",
    "    - signed int : signed representation (default)\n",
    "    - unsigned int : unsigned representation\n",
    "- short : target type will have width of atleast 16 bits\n",
    "- long : width of at least 32 bits\n",
    "- long long : width of at least 64 bits\n",
    "- size_t : unsigned int type\n",
    "- int32_t : signed int 32\n",
    "- int64_t : signed int 64\n",
    "- char : signed char representation\n",
    "- float : single precision float (32 bit)\n",
    "- double : double precision (64 bit)\n",
    "- long double: extended precision floating point type\n",
    "\n",
    "- No fundadamental type available to work with string data (array of characters or buffer)"
   ]
  },
  {
   "cell_type": "markdown",
   "metadata": {},
   "source": [
    "<a id='variables'></a>"
   ]
  },
  {
   "cell_type": "markdown",
   "metadata": {
    "heading_collapsed": true
   },
   "source": [
    "## variables\n",
    "- identifier or named memory location that allows us to store data\n",
    "- syntax to declare a variable: \n",
    "```c++\n",
    "type varName;\n",
    "```\n",
    "- know the rules of naming identifiers"
   ]
  },
  {
   "cell_type": "code",
   "execution_count": 2,
   "metadata": {
    "hidden": true
   },
   "outputs": [],
   "source": [
    "// declaring variables\n",
    "int x, y, z;\n",
    "string buffer;\n",
    "float test1, test2, test3;"
   ]
  },
  {
   "cell_type": "code",
   "execution_count": 3,
   "metadata": {
    "hidden": true
   },
   "outputs": [],
   "source": [
    "// variable declaration and initialization\n",
    "// = assignment operator;\n",
    "bool a = true;\n",
    "char b = 'Z';\n",
    "short c = 100;\n",
    "int d = -2000000000;\n",
    "unsigned int dd = 23232; // must be positive value only!\n",
    "long e = 2000000000;\n",
    "long long f = 123456789;\n",
    "size_t g = 111;\n",
    "int64_t h = 2345;\n",
    "float i = 123.1234567;\n",
    "double j = 1234.123456789;\n",
    "long double k = 12112.1212121211121;\n",
    "string l = \"some string\";"
   ]
  },
  {
   "cell_type": "code",
   "execution_count": 4,
   "metadata": {
    "hidden": true
   },
   "outputs": [
    {
     "name": "stdout",
     "output_type": "stream",
     "text": [
      "sizeof(bool) = 8 bits.\n",
      "sizeof(b) = 8 bits.\n",
      "sizeof(short) = 16 bits.\n",
      "sizeof(int) = 32 bits.\n",
      "sizeof(unsigned int) = 32 bits.\n",
      "sizeof(long) = 64 bits.\n",
      "sizeof(long long) = 64 bits.\n",
      "sizeof(size_t) = 64 bits.\n",
      "sizeof(int32_t) = 32 bits.\n",
      "sizeof(int64_t) = 64 bits.\n",
      "sizeof(float) = 32 bits.\n",
      "sizeof(double) = 64 bits.\n",
      "sizeof(long double) = 128 bits.\n",
      "sizeof(string) = 192 bits.\n"
     ]
    }
   ],
   "source": [
    "cout << \"sizeof(bool) = \" << 8*sizeof(bool) << \" bits.\" << endl;\n",
    "// printf(\"sizeof(b) = %lu\\n\", sizeof(b)*8); doesn't work!\n",
    "cout << \"sizeof(b) = \" << 8*sizeof(b) << \" bits.\" << endl;\n",
    "cout << \"sizeof(short) = \" << 8*sizeof(short) << \" bits.\" << endl;\n",
    "cout << \"sizeof(int) = \" << 8*sizeof(int) << \" bits.\" << endl;\n",
    "cout << \"sizeof(unsigned int) = \" << 8*sizeof(unsigned int) << \" bits.\" << endl;\n",
    "cout << \"sizeof(long) = \" << 8*sizeof(long) << \" bits.\" << endl;\n",
    "cout << \"sizeof(long long) = \" << 8*sizeof(long long) << \" bits.\" << endl;\n",
    "cout << \"sizeof(size_t) = \" << 8*sizeof(size_t) << \" bits.\" << endl;\n",
    "cout << \"sizeof(int32_t) = \" << 8*sizeof(int32_t) << \" bits.\" << endl;\n",
    "cout << \"sizeof(int64_t) = \" << 8*sizeof(int64_t) << \" bits.\" << endl;\n",
    "cout << \"sizeof(float) = \" << 8*sizeof(float) << \" bits.\" << endl;\n",
    "cout << \"sizeof(double) = \" << 8*sizeof(double) << \" bits.\" << endl;\n",
    "cout << \"sizeof(long double) = \" << 8*sizeof(long double) << \" bits.\" << endl;\n",
    "cout << \"sizeof(string) = \" << 8*sizeof(string) << \" bits.\" << endl;"
   ]
  },
  {
   "cell_type": "markdown",
   "metadata": {
    "hidden": true
   },
   "source": [
    "<a id='casting'></a>"
   ]
  },
  {
   "cell_type": "markdown",
   "metadata": {
    "heading_collapsed": true
   },
   "source": [
    "## type casting\n",
    "https://en.cppreference.com/w/cpp/string/basic_string\n",
    "- converting one type into another if possible\n",
    "- stoi(), stol(), stoll() : converts a string to a signed int\n",
    "- stoul(), stoull() : converts a string to unsigned int\n",
    "- stof(), stod(), stold() : converts a string to float\n",
    "- to_string() : converts an int or float to string"
   ]
  },
  {
   "cell_type": "code",
   "execution_count": 5,
   "metadata": {
    "hidden": true
   },
   "outputs": [],
   "source": [
    "int id = stoi(\"111\");\n",
    "float PI = stof(\"3.1416\");\n",
    "string strNum = to_string(1000.99);"
   ]
  },
  {
   "cell_type": "code",
   "execution_count": 6,
   "metadata": {
    "hidden": true
   },
   "outputs": [
    {
     "name": "stdout",
     "output_type": "stream",
     "text": [
      "1244"
     ]
    }
   ],
   "source": [
    "int num = stoi(\"1234\");\n",
    "cout << num+10;"
   ]
  },
  {
   "cell_type": "code",
   "execution_count": 7,
   "metadata": {
    "hidden": true
   },
   "outputs": [
    {
     "name": "stdout",
     "output_type": "stream",
     "text": [
      "109.9"
     ]
    }
   ],
   "source": [
    "float price = stof(\"10.99\");\n",
    "cout << price*10;"
   ]
  },
  {
   "cell_type": "code",
   "execution_count": 8,
   "metadata": {
    "hidden": true
   },
   "outputs": [
    {
     "name": "stdout",
     "output_type": "stream",
     "text": [
      "100.99000099\n"
     ]
    }
   ],
   "source": [
    "string strNum = to_string(100.99);\n",
    "cout << strNum + \"99\" << endl;"
   ]
  },
  {
   "cell_type": "markdown",
   "metadata": {
    "hidden": true
   },
   "source": [
    "<a id='io'></a>"
   ]
  },
  {
   "cell_type": "markdown",
   "metadata": {
    "heading_collapsed": true
   },
   "source": [
    "## input/output\n",
    "- standard input/output\n",
    "    - iostream: cin, cout\n",
    "        - getline - read the whole line (until \\n) into a string\n",
    "    - cstdio: printf, scanf\n",
    "    \n",
    "- file input/output\n",
    "    - fstream, ifstream, ofstream\n",
    "    - steps working with files:\n",
    "        1. declare file handlers\n",
    "        2. open file\n",
    "        3. check if file opened successfully\n",
    "        4. read from or write to file\n",
    "        5. close file"
   ]
  },
  {
   "cell_type": "code",
   "execution_count": 9,
   "metadata": {
    "hidden": true
   },
   "outputs": [],
   "source": [
    "int fileio() {\n",
    "    ifstream fin;\n",
    "    string line;\n",
    "    fin.open(\"README.md\");\n",
    "    if (!fin)\n",
    "        cout << \"file couldn't be opened!\" << endl;\n",
    "    else {\n",
    "        while(!fin.eof()) {\n",
    "            getline(fin, line);\n",
    "            cout << line << endl;\n",
    "        }\n",
    "    }\n",
    "    return 0;\n",
    "}"
   ]
  },
  {
   "cell_type": "code",
   "execution_count": 10,
   "metadata": {
    "hidden": true
   },
   "outputs": [
    {
     "name": "stdout",
     "output_type": "stream",
     "text": [
      "# System and Software Security and Exploitation\n",
      "\n",
      "- Fundamentals of System and C++ Software Security and Exploitation\n",
      "- Hacking Tricks, Techniques & Tools\n",
      "- Primary Tools: C++, Bash, Python3\n",
      "- CTF\n",
      "\n",
      "# Requirements\n",
      "\n",
      "- Ubuntu/Debian Linux (Kali Linux 64-bit Preferred)\n",
      "  - add account kali:kali with sudo access\n",
      "- gcc/g++\n",
      "- Jupyter Notebook\n",
      "- Python3\n",
      "- gdb\n",
      "- peda - python exploit development assistant for gdb\n",
      "- sqlite3 C/C++ library\n",
      "- sqlitebrowser\n",
      "- pwntools\n",
      "- boost C++ libraries\n",
      "\n",
      "# Install Required Tools\n",
      "- update Linux and install tools\n",
      "- install Python 3.x Miniconda for Linux: https://conda.io/en/latest/miniconda.html\n",
      "- run the following commands on a Terminal\n",
      "\n",
      "```bash\n",
      "sudo apt update\n",
      "sudo apt upgrade\n",
      "sudo apt install build-essential # C/C++ compiler, make, etc.\n",
      "sudo apt install ccache\n",
      "sudo apt install libboost-all-dev\n",
      "sudo apt install gcc-multilib g++-multilib # library for compiling 32-bit\n",
      "sudo apt install gdb\n",
      "sudo apt install gdbserver\n",
      "sudo apt install git\n",
      "sudo apt install libsqlite3-dev # C++ library for Sqlite\n",
      "sudo apt install sqlitebrowser\n",
      "curl -o Miniconda.sh https://repo.anaconda.com/miniconda/Miniconda3-latest-Linux-x86_64.sh\n",
      "bash Miniconda.sh # pick defaults; python 3 is installed!\n",
      "conda update conda\n",
      "conda install jupyter notebook # jupyter notebook\n",
      "conda install -c conda-forge xeus-cling # C++ kernel\n",
      "conda install -c conda-forge retrolab # replate classic notebook with retro style\n",
      "pip install ptpython # better python REPL for terminal\n",
      "```\n",
      "\n",
      "# Play with Notebooks\n",
      "\n",
      "- clone/download this repository\n",
      "- compile and run C++ programs found in `demos` folder\n",
      "- using a terminal `cd` into the repository folder and run `jupyter notebook`\n",
      "\n",
      "```bash\n",
      "cd <EthicalHacking_Repo>\n",
      "jupyter notebook\n",
      "```\n",
      "\n",
      "- copy and paste the link shown on a browser if it doesn't open on its own\n",
      "- open 00-TableOfContents.ipynb notebook that provides table of contents with link to all the notebooks\n",
      "\n"
     ]
    }
   ],
   "source": [
    "fileio();"
   ]
  },
  {
   "cell_type": "markdown",
   "metadata": {
    "hidden": true
   },
   "source": [
    "<a href=\"format\"></a>"
   ]
  },
  {
   "cell_type": "markdown",
   "metadata": {
    "heading_collapsed": true
   },
   "source": [
    "## output formatting\n",
    "- iomanip - https://en.cppreference.com/w/cpp/header/iomanip\n",
    "- hex, oct, fixed and scientific formats to display float values\n",
    "- showpoints"
   ]
  },
  {
   "cell_type": "code",
   "execution_count": 11,
   "metadata": {
    "hidden": true
   },
   "outputs": [
    {
     "name": "stdout",
     "output_type": "stream",
     "text": [
      "19.20\n",
      "hex 16 = 0x10 oct 8 = 010\n",
      "*******hi there!*********\n"
     ]
    }
   ],
   "source": [
    "cout << fixed << setprecision(2) << 19.19999 << endl;\n",
    "cout << hex << showbase << \"hex 16 = \" << 16 << \" oct 8 = \" << oct << 8 << endl;\n",
    "cout << setfill('*') << setw(10) << right << \"hi \" << left << setw(15) << \"there!\" << endl;\n"
   ]
  },
  {
   "cell_type": "markdown",
   "metadata": {
    "hidden": true
   },
   "source": [
    "<a id='functions'></a>"
   ]
  },
  {
   "cell_type": "markdown",
   "metadata": {},
   "source": [
    "## functions\n",
    "- sub-routine/sub-program/procedure\n",
    "- burrowed from math/algebra concept: y = f(x) = 2x^2 + 3x +10\n",
    "- block of code identified by a single identifier\n",
    "- two steps: 1. define function 2. call function\n",
    "- defination syntax:\n",
    "\n",
    "```c++\n",
    "type functionName(type1 para1, type2& para2, ...) {\n",
    "    /* block of code */\n",
    "    return;\n",
    "}\n",
    "```\n",
    "- call syntax:\n",
    "```c++\n",
    "functionName(arg1, arg2, ...);\n",
    "```\n",
    "- helps break problems into sub-problems\n",
    "- helps code reuse and code abstraction (hiding implementation details)\n",
    "- function can call many other functions\n",
    "- two ways to pass data to a function: by value and by reference\n",
    "- fruitful function can return answer/value from function\n",
    "    - fruitful functions can be automatically tested\n",
    "- void functions do not return a value; values printed are usually manually tested"
   ]
  },
  {
   "cell_type": "code",
   "execution_count": 12,
   "metadata": {},
   "outputs": [],
   "source": [
    "int add(int a, int b) {\n",
    "    return a+b;\n",
    "}"
   ]
  },
  {
   "cell_type": "code",
   "execution_count": 13,
   "metadata": {},
   "outputs": [
    {
     "name": "stdout",
     "output_type": "stream",
     "text": [
      "062\n"
     ]
    }
   ],
   "source": [
    "int num1 = 100;\n",
    "int num2 = -50;\n",
    "cout << add(num1, num2) << endl;"
   ]
  },
  {
   "cell_type": "markdown",
   "metadata": {},
   "source": [
    "<a id='unittest'></a>"
   ]
  },
  {
   "cell_type": "markdown",
   "metadata": {},
   "source": [
    "## unittest\n",
    "https://en.cppreference.com/w/cpp/error/assert\n",
    "- automatic testing of functions\n",
    "- use assert function defined in assert.h or cassert header file"
   ]
  },
  {
   "cell_type": "code",
   "execution_count": 14,
   "metadata": {},
   "outputs": [],
   "source": [
    "#include <cassert>\n",
    "//#include <assert.h>\n",
    "assert(add(99, 1) == 100);"
   ]
  },
  {
   "cell_type": "code",
   "execution_count": 15,
   "metadata": {},
   "outputs": [],
   "source": [
    "assert(add(100, 200) == 400); // this should give assertion error but doesn't work here...\n",
    "// try it here: https://coliru.stacked-crooked.com/"
   ]
  },
  {
   "cell_type": "markdown",
   "metadata": {},
   "source": [
    "<a id='string'></a>"
   ]
  },
  {
   "cell_type": "markdown",
   "metadata": {
    "heading_collapsed": true
   },
   "source": [
    "## string data\n",
    "https://en.cppreference.com/w/cpp/string/basic_string\n",
    "- two ways to work with string:\n",
    "    1. C string - array of char type \n",
    "    2. C++ string - Abstract Data Type (ADT);"
   ]
  },
  {
   "cell_type": "markdown",
   "metadata": {
    "hidden": true
   },
   "source": [
    "<a id=\"cstring\"></a>"
   ]
  },
  {
   "cell_type": "markdown",
   "metadata": {
    "hidden": true
   },
   "source": [
    "### C string\n",
    "- array of characters \n",
    "- must be \\0 (null terminated) to prevent from buffer-overrun\n",
    "- many limitations while manipulating c string\n",
    "- must learn to mitigate buffer overflow vulnerabiliy\n",
    "```c++\n",
    "    char name[size];\n",
    "```"
   ]
  },
  {
   "cell_type": "code",
   "execution_count": 16,
   "metadata": {
    "hidden": true
   },
   "outputs": [],
   "source": [
    "#include <cstring>"
   ]
  },
  {
   "cell_type": "code",
   "execution_count": 17,
   "metadata": {
    "hidden": true
   },
   "outputs": [],
   "source": [
    "// declare c-string\n",
    "char name[20];"
   ]
  },
  {
   "cell_type": "code",
   "execution_count": 18,
   "metadata": {
    "hidden": true
   },
   "outputs": [
    {
     "name": "stdout",
     "output_type": "stream",
     "text": [
      "John\n",
      "04\n"
     ]
    }
   ],
   "source": [
    "strncpy(name, \"John\\0\", 5);\n",
    "cout << name << endl;\n",
    "cout << strlen(name) << endl;"
   ]
  },
  {
   "cell_type": "code",
   "execution_count": 19,
   "metadata": {
    "hidden": true
   },
   "outputs": [],
   "source": [
    "// declare and initialize c-string\n",
    "char word[] = \"Hello\";"
   ]
  },
  {
   "cell_type": "code",
   "execution_count": 20,
   "metadata": {
    "hidden": true
   },
   "outputs": [
    {
     "name": "stdout",
     "output_type": "stream",
     "text": [
      "Hello\n",
      "len of word = 05\n"
     ]
    }
   ],
   "source": [
    "cout << word << endl;\n",
    "cout << \"len of word = \" << strlen(word) << endl;"
   ]
  },
  {
   "cell_type": "markdown",
   "metadata": {
    "hidden": true
   },
   "source": [
    "<a id=\"cppstring\"></a>"
   ]
  },
  {
   "cell_type": "markdown",
   "metadata": {
    "hidden": true
   },
   "source": [
    "### C++ string\n",
    "- string header file\n",
    "- not fundamental type; but ADT (Abstract Data Type); user-defined type that's part of library\n",
    "```c++\n",
    "    string varName;\n",
    "```"
   ]
  },
  {
   "cell_type": "code",
   "execution_count": 21,
   "metadata": {
    "hidden": true
   },
   "outputs": [],
   "source": [
    "string phrase;"
   ]
  },
  {
   "cell_type": "code",
   "execution_count": 22,
   "metadata": {
    "hidden": true
   },
   "outputs": [],
   "source": [
    "phrase = \"There may be a needle in the stack of stack of haystacks!\";"
   ]
  },
  {
   "cell_type": "code",
   "execution_count": 23,
   "metadata": {
    "hidden": true
   },
   "outputs": [
    {
     "name": "stdout",
     "output_type": "stream",
     "text": [
      "071\n",
      "T\n"
     ]
    },
    {
     "data": {
      "text/plain": [
       "@0x112d26558"
      ]
     },
     "execution_count": 23,
     "metadata": {},
     "output_type": "execute_result"
    }
   ],
   "source": [
    "cout << phrase.length() << endl;\n",
    "cout << phrase[0] << endl;\n",
    "// cout << phrase.find(\"needle\", 0);\n",
    "// https://en.cppreference.com/w/cpp/string/basic_string/find"
   ]
  },
  {
   "cell_type": "code",
   "execution_count": 24,
   "metadata": {
    "hidden": true
   },
   "outputs": [
    {
     "name": "stdout",
     "output_type": "stream",
     "text": [
      "T h e r e   m a y   b e   a   n e e d l e   i n   t h e   s t a c k   o f   s t a c k   o f   h a y s t a c k s ! "
     ]
    }
   ],
   "source": [
    "// loop throuch each char at a time\n",
    "for (auto c: phrase)\n",
    "    cout << c << \" \";"
   ]
  },
  {
   "cell_type": "code",
   "execution_count": 25,
   "metadata": {
    "hidden": true
   },
   "outputs": [],
   "source": [
    "// declare and initialize\n",
    "string phrase1 = \"Another phrase!\""
   ]
  },
  {
   "cell_type": "markdown",
   "metadata": {
    "hidden": true
   },
   "source": [
    "<a href=\"escape\"></a>"
   ]
  },
  {
   "cell_type": "markdown",
   "metadata": {},
   "source": [
    "## escape sequences\n",
    "https://en.cppreference.com/w/cpp/language/escape\n",
    "- used to represent certain special characters within string literals\n",
    "\n",
    "| character | description\n",
    "| --- | --- |\n",
    "| \\\\ | backslash \n",
    "| \\\\' | single quote\n",
    "| \\\\\" | double quote\n",
    "| \\\\n | new line - line feed\n",
    "| \\\\r | carriage return\n",
    "| \\t | horizontal tab\n",
    "| \\\\v | vertical tab\n",
    "| \\b | backspace\n"
   ]
  },
  {
   "cell_type": "code",
   "execution_count": 26,
   "metadata": {},
   "outputs": [
    {
     "name": "stdout",
     "output_type": "stream",
     "text": [
      "'"
     ]
    }
   ],
   "source": [
    "char q = '\\'';\n",
    "cout << q;"
   ]
  },
  {
   "cell_type": "code",
   "execution_count": 27,
   "metadata": {},
   "outputs": [
    {
     "name": "stdout",
     "output_type": "stream",
     "text": [
      "\"Oh no!\", exclaimed Jill. \"Jack broke my bike!\""
     ]
    }
   ],
   "source": [
    "string sent = \"\\\"Oh no!\\\", exclaimed Jill. \\\"Jack broke my bike!\\\"\";\n",
    "cout << sent;"
   ]
  },
  {
   "cell_type": "markdown",
   "metadata": {},
   "source": [
    "<a id=\"operators\"></a>"
   ]
  },
  {
   "cell_type": "markdown",
   "metadata": {},
   "source": [
    "## Operators\n",
    "- operators and precedence rule: https://en.cppreference.com/w/cpp/language/operator_precedence\n",
    "\n",
    "- arithmetic operators: https://en.cppreference.com/w/cpp/language/operator_arithmetic"
   ]
  },
  {
   "cell_type": "markdown",
   "metadata": {},
   "source": [
    "<a id=\"unary\"></a>"
   ]
  },
  {
   "cell_type": "markdown",
   "metadata": {},
   "source": [
    "## unary operators\n",
    "\n",
    "| Operator | Symbol | Syntax | Operation |\n",
    "|--- | --- | --- | --- |\n",
    "| positive | + | +100 | positive 100 (default) |\n",
    "| negative | - | -23.45 | negative 23.45 |"
   ]
  },
  {
   "cell_type": "markdown",
   "metadata": {},
   "source": [
    "<a id=\"binary\"></a>"
   ]
  },
  {
   "cell_type": "markdown",
   "metadata": {},
   "source": [
    "## binary operators\n",
    "- take two operands\n",
    "- follows PEMDAS rule of precedence\n",
    "\n",
    "| Operator | Symbol | Syntax | Operation |\n",
    "|--- | --- | --- | --- |\n",
    "| add | + | x + y | add the value of y with the value of x\n",
    "| subtract | - | x - y | subtract y from x |\n",
    "| multiply | * | x * y | multiply x by y |\n",
    "| divide | / | x / y | divide x by y (int division if x and y are both ints) |\n",
    "| modulo | % | x % y | remainder when "
   ]
  },
  {
   "cell_type": "markdown",
   "metadata": {},
   "source": [
    "<a id=\"bitwise\"></a>"
   ]
  },
  {
   "cell_type": "markdown",
   "metadata": {},
   "source": [
    "## binary bitwise operators\n",
    "- https://www.learncpp.com/cpp-tutorial/38-bitwise-operators/\n",
    "\n",
    "| Operator | Symbol | Syntax |\tOperation |\n",
    "|------| ------ | ---- | ---- |\n",
    "|bitwise left shift\t| << |\tx << y\t| all bits in x shifted left y bits; multiplication by 2\n",
    "|bitwise right shift |\t>> | x >> y\t| all bits in x shifted right y bits; division by 2\n",
    "bitwise NOT\t| ~\t| ~x\t| all bits in x flipped\n",
    "|bitwise AND |\t& |\tx & y |\teach bit in x AND each bit in y\n",
    "|bitwise OR\t| \\| |\tx \\| y\t| each bit in x OR each bit in y\n",
    "bitwise XOR |\t^ |\tx ^ y |\teach bit in x XOR each bit in y"
   ]
  },
  {
   "cell_type": "code",
   "execution_count": 28,
   "metadata": {},
   "outputs": [
    {
     "name": "stdout",
     "output_type": "stream",
     "text": [
      " bitwise and &\n",
      "01\n",
      "0\n",
      "0\n",
      "0\n"
     ]
    }
   ],
   "source": [
    "cout << \" bitwise and &\" << endl;\n",
    "cout << (1 & 1) << endl;\n",
    "cout << (1 & 0) << endl;\n",
    "cout << (0 & 1) << endl;\n",
    "cout << (0 & 0) << endl;"
   ]
  },
  {
   "cell_type": "code",
   "execution_count": 29,
   "metadata": {},
   "outputs": [
    {
     "name": "stdout",
     "output_type": "stream",
     "text": [
      "bitwise or | \n",
      "01\n",
      "01\n",
      "01\n",
      "0\n"
     ]
    }
   ],
   "source": [
    "cout << \"bitwise or | \" << endl;\n",
    "cout << (1 | 1) << endl;\n",
    "cout << (1 | 0) << endl;\n",
    "cout << (0 | 1) << endl;\n",
    "cout << (0 | 0) << endl;"
   ]
  },
  {
   "cell_type": "code",
   "execution_count": 30,
   "metadata": {},
   "outputs": [
    {
     "name": "stdout",
     "output_type": "stream",
     "text": [
      "bitwise not ~\n",
      "037777777776\n",
      "037777777777\n"
     ]
    }
   ],
   "source": [
    "cout << \"bitwise not ~\" << endl;\n",
    "cout << ~(1|1) << endl;\n",
    "cout << ~0 << endl;"
   ]
  },
  {
   "cell_type": "code",
   "execution_count": 31,
   "metadata": {},
   "outputs": [
    {
     "name": "stdout",
     "output_type": "stream",
     "text": [
      "bitwise xor ^\n",
      "0\n",
      "01\n",
      "01\n",
      "0\n"
     ]
    }
   ],
   "source": [
    "cout << \"bitwise xor ^\" << endl;\n",
    "cout << (1 ^ 1) << endl;\n",
    "cout << (1 ^ 0) << endl;\n",
    "cout << (0 ^ 1) << endl;\n",
    "cout << (0 ^ 0) << endl;"
   ]
  },
  {
   "cell_type": "code",
   "execution_count": 32,
   "metadata": {},
   "outputs": [
    {
     "name": "stdout",
     "output_type": "stream",
     "text": [
      "02000\n",
      "01\n"
     ]
    },
    {
     "data": {
      "text/plain": [
       "@0x112d26558"
      ]
     },
     "execution_count": 32,
     "metadata": {},
     "output_type": "execute_result"
    }
   ],
   "source": [
    "cout << (1 << 10) << endl; // pow(2, 10)\n",
    "cout << (1024 >> 10) << endl; //"
   ]
  },
  {
   "cell_type": "markdown",
   "metadata": {},
   "source": [
    "<a id=\"ternary\"></a>"
   ]
  },
  {
   "cell_type": "markdown",
   "metadata": {},
   "source": [
    "## Ternary conditional operator (? :)\n",
    "- syntax:\n",
    "```c++\n",
    "(condition) ? TrueValue : FalseValue;\n",
    "```"
   ]
  },
  {
   "cell_type": "code",
   "execution_count": 33,
   "metadata": {},
   "outputs": [],
   "source": [
    "int number1, number2, larger;"
   ]
  },
  {
   "cell_type": "code",
   "execution_count": 34,
   "metadata": {},
   "outputs": [],
   "source": [
    "number1 = 10;\n",
    "number2 = 20;"
   ]
  },
  {
   "cell_type": "code",
   "execution_count": 35,
   "metadata": {},
   "outputs": [
    {
     "name": "stdout",
     "output_type": "stream",
     "text": [
      "larger = 024\n"
     ]
    }
   ],
   "source": [
    "larger = (number1 > number2) ? number1 : number2;\n",
    "cout << \"larger = \" << larger << endl;"
   ]
  },
  {
   "cell_type": "markdown",
   "metadata": {},
   "source": [
    "<a id=\"other\"></a>"
   ]
  },
  {
   "cell_type": "markdown",
   "metadata": {},
   "source": [
    "## Other operators\n",
    "- scope resolution operator: ::\n",
    "    - std::string, std::cin\n",
    "    - can create your own namespace : http://www.cplusplus.com/doc/tutorial/namespaces/\n",
    "- increment/decrement (pre and post): ++, --\n",
    "- compound assignments: +=, -=, *=, /-, %=, <<=, >>=, &=, ^=, |=  "
   ]
  },
  {
   "cell_type": "markdown",
   "metadata": {},
   "source": [
    "<a id=\"math\"></a>"
   ]
  },
  {
   "cell_type": "markdown",
   "metadata": {},
   "source": [
    "## Math functions\n",
    "- cmath library for advanced math operations: https://en.cppreference.com/w/cpp/header/cmath\n",
    "    - ceil, floor, round, sqrt, pow, abs, log, sin, cos, tan"
   ]
  },
  {
   "cell_type": "markdown",
   "metadata": {},
   "source": [
    "<a id='conditionals'></a>"
   ]
  },
  {
   "cell_type": "markdown",
   "metadata": {},
   "source": [
    "## conditionals - control flow\n",
    "- select a block of code to execute based on some condition\n",
    "- add logic to the code as if your code is thinking and making a decision\n",
    "- use boolean expression that evaluates to true or false\n",
    "- use comparision operators ( == , != , <=, >= ) to compare values/expressions that will provide true or false or (yes or no) result\n",
    "- use logical operators (&&, ||) to formulate compound logical expression\n",
    "- three types: \n",
    "    1. one-way selector\n",
    "    2. two-way selector\n",
    "    3. multi-way selector\n",
    "- one selector type can be nested inside another!"
   ]
  },
  {
   "cell_type": "markdown",
   "metadata": {},
   "source": [
    "<a id='oneway'></a>"
   ]
  },
  {
   "cell_type": "markdown",
   "metadata": {
    "heading_collapsed": true
   },
   "source": [
    "### one way selector \n",
    "\n",
    "```c++\n",
    "if (expression == true) {\n",
    "  /* execute code... */   \n",
    "}\n",
    "```"
   ]
  },
  {
   "cell_type": "code",
   "execution_count": 36,
   "metadata": {
    "hidden": true
   },
   "outputs": [
    {
     "name": "stdout",
     "output_type": "stream",
     "text": [
      "done!"
     ]
    },
    {
     "data": {
      "text/plain": [
       "@0x112d26558"
      ]
     },
     "execution_count": 36,
     "metadata": {},
     "output_type": "execute_result"
    }
   ],
   "source": [
    "// one way selector\n",
    "bool execute = false;\n",
    "if (execute)\n",
    "    cout << \"this block executed!\" << endl;\n",
    "\n",
    "cout << \"done!\""
   ]
  },
  {
   "cell_type": "markdown",
   "metadata": {
    "hidden": true
   },
   "source": [
    "<a id='twoway'></a>"
   ]
  },
  {
   "cell_type": "markdown",
   "metadata": {
    "heading_collapsed": true
   },
   "source": [
    "### two way selector\n",
    "\n",
    "```c++\n",
    "if (expression == true) {\n",
    "    /* execute this block */\n",
    "}\n",
    "else {\n",
    "    /* otherwise, execute this block */\n",
    "}\n",
    "```"
   ]
  },
  {
   "cell_type": "code",
   "execution_count": 37,
   "metadata": {
    "hidden": true
   },
   "outputs": [],
   "source": [
    "// two way selector\n",
    "// test if a given number is even or odd\n",
    "bool isEven(int n) {\n",
    "    if (n%2 == 0) \n",
    "        return true;\n",
    "    else \n",
    "        return false;\n",
    "}"
   ]
  },
  {
   "cell_type": "code",
   "execution_count": 38,
   "metadata": {
    "hidden": true
   },
   "outputs": [],
   "source": [
    "int someNum;"
   ]
  },
  {
   "cell_type": "code",
   "execution_count": 39,
   "metadata": {
    "hidden": true
   },
   "outputs": [
    {
     "name": "stdout",
     "output_type": "stream",
     "text": [
      "013 is odd!"
     ]
    }
   ],
   "source": [
    "someNum = 11;\n",
    "if (isEven(someNum))\n",
    "    cout << someNum << \" is even!\";\n",
    "else\n",
    "    cout << someNum << \" is odd!\";"
   ]
  },
  {
   "cell_type": "markdown",
   "metadata": {
    "hidden": true
   },
   "source": [
    "<a id='multiway'></a>"
   ]
  },
  {
   "cell_type": "markdown",
   "metadata": {
    "heading_collapsed": true
   },
   "source": [
    "### multi-way selector\n",
    "\n",
    "```c++\n",
    "if (expression1 == true) {\n",
    "    /* execute this block and continue after else block */\n",
    "}\n",
    "else if (expression2 == true) {\n",
    "    /* execute this block and continue after else block */\n",
    "}\n",
    "else if (expression3 == true) {\n",
    "    /* execute this block and continue after else block*/\n",
    "}\n",
    "...\n",
    "else {\n",
    "   /* if no condition is evaluated true, by default execute\n",
    "   this block \n",
    "   */\n",
    "}\n",
    "```"
   ]
  },
  {
   "cell_type": "code",
   "execution_count": 40,
   "metadata": {
    "hidden": true
   },
   "outputs": [],
   "source": [
    "int day;"
   ]
  },
  {
   "cell_type": "code",
   "execution_count": 41,
   "metadata": {
    "hidden": true
   },
   "outputs": [
    {
     "name": "stdout",
     "output_type": "stream",
     "text": [
      "Sunday\n",
      "Yay!! it's a weekend!\n",
      "done...\n"
     ]
    }
   ],
   "source": [
    "// multiway selector\n",
    "day = 0;\n",
    "if (day == 0) {\n",
    "    cout << \"Sunday\" << endl;\n",
    "    cout << \"Yay!! it's a weekend!\\n\";\n",
    "}\n",
    "else if (day == 1)\n",
    "    cout << \"Monday\";\n",
    "else if (day == 2)\n",
    "    cout << \"Tuesday\";\n",
    "else if (day == 3)\n",
    "    cout << \"Wednesday\";\n",
    "else if (day == 4)\n",
    "    cout << \"Thursday\";\n",
    "else if (day == 5) {\n",
    "    cout << \"Friday\";\n",
    "    cout << \"Almost weekend!\";\n",
    "}\n",
    "else {\n",
    "    cout << \"Saturday\" << endl;\n",
    "    cout << \"Yay!! it's a weekend!\\n\";\n",
    "}\n",
    "cout << \"done...\" << endl;"
   ]
  },
  {
   "cell_type": "markdown",
   "metadata": {
    "hidden": true
   },
   "source": [
    "<a id='switch'></a>"
   ]
  },
  {
   "cell_type": "markdown",
   "metadata": {},
   "source": [
    "### swtich statment \n",
    "https://en.cppreference.com/w/cpp/language/switch\n",
    "- works on integral data/expression to compare its value with many cases\n",
    "- similar to multi-way selector are more efficient and adds readability\n",
    "\n",
    "```c++\n",
    "switch (expression) {\n",
    "    case value1:\n",
    "        //...\n",
    "        break;\n",
    "    case value2:\n",
    "    case value3:\n",
    "        //...\n",
    "        break;\n",
    "    default:\n",
    "        //...\n",
    "}\n",
    "```"
   ]
  },
  {
   "cell_type": "code",
   "execution_count": 42,
   "metadata": {},
   "outputs": [],
   "source": [
    "enum Colors\n",
    "{\n",
    "    COLOR_BLACK,\n",
    "    COLOR_WHITE,\n",
    "    COLOR_RED,\n",
    "    COLOR_GREEN,\n",
    "    COLOR_BLUE\n",
    "};"
   ]
  },
  {
   "cell_type": "code",
   "execution_count": 43,
   "metadata": {},
   "outputs": [],
   "source": [
    "void printColor(Colors color) {\n",
    "    switch (color) {\n",
    "        case COLOR_BLACK:\n",
    "            std::cout << \"Black\";\n",
    "            break;\n",
    "        case COLOR_WHITE:\n",
    "            std::cout << \"White\";\n",
    "            break;\n",
    "        case COLOR_RED:\n",
    "            std::cout << \"Red\";\n",
    "            break;\n",
    "        case COLOR_GREEN:\n",
    "            std::cout << \"Green\";\n",
    "            break;\n",
    "        case COLOR_BLUE:\n",
    "            std::cout << \"Blue\";\n",
    "            break;\n",
    "        default:\n",
    "            std::cout << \"Unknown\";\n",
    "            break;\n",
    "    }\n",
    "}"
   ]
  },
  {
   "cell_type": "code",
   "execution_count": 44,
   "metadata": {},
   "outputs": [],
   "source": [
    "Colors favColor;"
   ]
  },
  {
   "cell_type": "code",
   "execution_count": 45,
   "metadata": {},
   "outputs": [
    {
     "name": "stdout",
     "output_type": "stream",
     "text": [
      "Black"
     ]
    }
   ],
   "source": [
    "favColor = COLOR_BLACK;\n",
    "printColor(favColor);"
   ]
  },
  {
   "cell_type": "markdown",
   "metadata": {},
   "source": [
    "<a id='loop'></a>"
   ]
  },
  {
   "cell_type": "markdown",
   "metadata": {},
   "source": [
    "## loops  - control flows\n",
    "- repeatedly execute a block of code over-again with a different result\n",
    "- be careful of infinite loop!\n",
    "- `break` and `continue` keywords can be used inside loop\n",
    "    - `break` : breaks the loop immidiately ignoring all the trailing codes and execution continues after loop body\n",
    "    - `continue` : continues to the next iteration ignoring all the trailing codes inside loop\n",
    "- four types of loop structures\n",
    "   1. for loop\n",
    "   2. range based for loop\n",
    "   3. while loop\n",
    "   4. do while"
   ]
  },
  {
   "cell_type": "markdown",
   "metadata": {},
   "source": [
    "<a id='for'></a>"
   ]
  },
  {
   "cell_type": "markdown",
   "metadata": {},
   "source": [
    "### for loop\n",
    "https://en.cppreference.com/w/cpp/language/for\n",
    "```c++\n",
    "for(init; condition; update) {\n",
    "    // statements\n",
    "}\n",
    "```\n",
    "- order of execution: \n",
    "    1. init; only one\n",
    "    2. condition\n",
    "    3. statements\n",
    "    4. update\n",
    "    5. repeat from step 2"
   ]
  },
  {
   "cell_type": "code",
   "execution_count": 46,
   "metadata": {},
   "outputs": [
    {
     "name": "stdout",
     "output_type": "stream",
     "text": [
      "02 04 06 010 012 014 016 020 022 024 "
     ]
    }
   ],
   "source": [
    "for (int i=1; i<=20; i++) {\n",
    "    if (i%2 == 0)\n",
    "        cout << i << \" \";\n",
    "}"
   ]
  },
  {
   "cell_type": "markdown",
   "metadata": {},
   "source": [
    "<a id='range'></a>"
   ]
  },
  {
   "cell_type": "markdown",
   "metadata": {},
   "source": [
    "### range-based for loop\n",
    "https://en.cppreference.com/w/cpp/language/range-for\n",
    "```c++\n",
    "for(range_declaraion: range_expression) {\n",
    "    // statements\n",
    "}\n",
    "```"
   ]
  },
  {
   "cell_type": "code",
   "execution_count": 47,
   "metadata": {},
   "outputs": [
    {
     "name": "stdout",
     "output_type": "stream",
     "text": [
      "01 02 03 04 0144 "
     ]
    }
   ],
   "source": [
    "for (auto num: {1, 2, 3, 4, 100})\n",
    "    cout << num << \" \";"
   ]
  },
  {
   "cell_type": "code",
   "execution_count": 48,
   "metadata": {},
   "outputs": [
    {
     "name": "stdout",
     "output_type": "stream",
     "text": [
      "H*e*l*l*o* *W*o*r*l*d*\u0000*"
     ]
    }
   ],
   "source": [
    "for (char ch: \"Hello World\")\n",
    "    cout << ch << \"*\";\n"
   ]
  },
  {
   "cell_type": "markdown",
   "metadata": {},
   "source": [
    "<a id='while'></a>"
   ]
  },
  {
   "cell_type": "markdown",
   "metadata": {},
   "source": [
    "### while loop\n",
    "https://en.cppreference.com/w/cpp/language/while\n",
    "- Executes statement(s) repeatedly, until the value of condition becomes false. \n",
    "- The test takes place before each iteration.\n",
    "\n",
    "```c++\n",
    "while (condition) {\n",
    "    // statements\n",
    "}\n",
    "```"
   ]
  },
  {
   "cell_type": "code",
   "execution_count": 49,
   "metadata": {},
   "outputs": [],
   "source": [
    "int MAX;;\n",
    "int i;"
   ]
  },
  {
   "cell_type": "code",
   "execution_count": 50,
   "metadata": {},
   "outputs": [
    {
     "name": "stdout",
     "output_type": "stream",
     "text": [
      "0 02 04 06 010 012 014 016 020 022 024 "
     ]
    }
   ],
   "source": [
    "MAX = 20;\n",
    "i = 0;\n",
    "while (i <= MAX) {\n",
    "    if (i%2 == 0) \n",
    "        cout << i << \" \";\n",
    "    i += 1; // DO NOT FORGET TO UPDATE LOOP VARIABLE TO AVOID INFINITE LOOP!!!\n",
    "}"
   ]
  },
  {
   "cell_type": "markdown",
   "metadata": {},
   "source": [
    "<a id='dowhile'></a>"
   ]
  },
  {
   "cell_type": "markdown",
   "metadata": {
    "heading_collapsed": true
   },
   "source": [
    "### do while loop\n",
    "https://en.cppreference.com/w/cpp/language/do\n",
    "- executes statement(s) repeatedly, until the value of condition becomes false. \n",
    "- the test takes place after each iteration.\n",
    "\n",
    "```c++\n",
    "do {\n",
    "    // statements\n",
    "} while (condition);\n",
    "```"
   ]
  },
  {
   "cell_type": "code",
   "execution_count": 51,
   "metadata": {
    "hidden": true
   },
   "outputs": [],
   "source": [
    "int MAX_TIMES;\n",
    "int times;"
   ]
  },
  {
   "cell_type": "code",
   "execution_count": 52,
   "metadata": {
    "hidden": true
   },
   "outputs": [
    {
     "name": "stdout",
     "output_type": "stream",
     "text": [
      "0 "
     ]
    }
   ],
   "source": [
    "// DO NOT run do while... crashes kernel\n",
    "times = 0;\n",
    "MAX_TIMES = 20;\n",
    "do {\n",
    "    cout << times << \" \";\n",
    "    times ++; // DO NOT FORGET TO UPDATE LOOP VARIABLE TO AVOID INFINITE LOOP!!!\n",
    "    break;\n",
    "} while(times <= MAX_TIMES);"
   ]
  },
  {
   "cell_type": "markdown",
   "metadata": {
    "hidden": true
   },
   "source": [
    "<a id='arrays'></a>"
   ]
  },
  {
   "cell_type": "markdown",
   "metadata": {
    "heading_collapsed": true
   },
   "source": [
    "## arrays\n",
    "- container that stores 1 or more similar data called elements\n",
    "- use array when you need to store large number of data values as declaring individual variable for each variable is not desireable or not even possible!\n",
    "- size of the array has to be known and is fixed\n",
    "- use 0-based index to access each element stored in array\n",
    "- array is passed by reference ONLY to a function\n",
    "- array can't be returned from a function\n",
    "- aggregate operations such as IO, assignment, comparision are not allowed\n",
    "- syntax:\n",
    "```c++\n",
    "type arrayName[const_size];\n",
    "```"
   ]
  },
  {
   "cell_type": "code",
   "execution_count": 53,
   "metadata": {
    "hidden": true
   },
   "outputs": [],
   "source": [
    "int tests[10];\n",
    "float prices[] = {1, 2, 3, 100.99};\n",
    "string names[2] = {\"John\", \"James\"};"
   ]
  },
  {
   "cell_type": "code",
   "execution_count": 54,
   "metadata": {
    "hidden": true
   },
   "outputs": [
    {
     "data": {
      "text/plain": [
       "{ 0, 0, 0, 0, 0, 0, 0, 0, 0, 0 }"
      ]
     },
     "execution_count": 54,
     "metadata": {},
     "output_type": "execute_result"
    }
   ],
   "source": [
    "tests"
   ]
  },
  {
   "cell_type": "code",
   "execution_count": 55,
   "metadata": {
    "hidden": true
   },
   "outputs": [
    {
     "data": {
      "text/plain": [
       "{ 1.00000f, 2.00000f, 3.00000f, 100.990f }"
      ]
     },
     "execution_count": 55,
     "metadata": {},
     "output_type": "execute_result"
    }
   ],
   "source": [
    "prices"
   ]
  },
  {
   "cell_type": "code",
   "execution_count": 56,
   "metadata": {
    "hidden": true
   },
   "outputs": [
    {
     "data": {
      "text/plain": [
       "{ \"John\", \"James\" }"
      ]
     },
     "execution_count": 56,
     "metadata": {},
     "output_type": "execute_result"
    }
   ],
   "source": [
    "names"
   ]
  },
  {
   "cell_type": "code",
   "execution_count": 57,
   "metadata": {
    "hidden": true
   },
   "outputs": [
    {
     "data": {
      "text/plain": [
       "{ 100, 0, 0, 0, 0, 0, 0, 0, 0, 75 }"
      ]
     },
     "execution_count": 57,
     "metadata": {},
     "output_type": "execute_result"
    }
   ],
   "source": [
    "tests[0] = 100;\n",
    "tests[9] = 75;\n",
    "tests"
   ]
  },
  {
   "cell_type": "code",
   "execution_count": 58,
   "metadata": {
    "hidden": true
   },
   "outputs": [
    {
     "name": "stderr",
     "output_type": "stream",
     "text": [
      "\u001b[1minput_line_77:2:9: \u001b[0m\u001b[0;1;31merror: \u001b[0m\u001b[1marray type 'float [4]' is not assignable\u001b[0m\n",
      " prices = {2, 3, 4, 5}\n",
      "\u001b[0;1;32m ~~~~~~ ^\n",
      "\u001b[0m"
     ]
    },
    {
     "ename": "Interpreter Error",
     "evalue": "",
     "output_type": "error",
     "traceback": [
      "Interpreter Error: "
     ]
    }
   ],
   "source": [
    "prices = {2, 3, 4, 5} // once array is declared, it can't be assigned as a whole"
   ]
  },
  {
   "cell_type": "code",
   "execution_count": 59,
   "metadata": {
    "hidden": true
   },
   "outputs": [
    {
     "name": "stderr",
     "output_type": "stream",
     "text": [
      "\u001b[1minput_line_78:2:10: \u001b[0m\u001b[0;1;35mwarning: \u001b[0m\u001b[1marray index 10 is past the end of the array (which contains 4 elements) [-Warray-bounds]\u001b[0m\n",
      " cout << prices[10] << endl;\n",
      "\u001b[0;1;32m         ^      ~~\n",
      "\u001b[0m\u001b[1minput_line_67:3:1: \u001b[0m\u001b[0;1;30mnote: \u001b[0marray 'prices' declared here\u001b[0m\n",
      "float prices[] = {1, 2, 3, 100.99};\n",
      "\u001b[0;1;32m^\n",
      "\u001b[0m"
     ]
    },
    {
     "name": "stdout",
     "output_type": "stream",
     "text": [
      "0.00\n"
     ]
    }
   ],
   "source": [
    "cout << prices[10] << endl;"
   ]
  },
  {
   "cell_type": "markdown",
   "metadata": {
    "hidden": true
   },
   "source": [
    "<a id='2darrays'></a>"
   ]
  },
  {
   "cell_type": "markdown",
   "metadata": {
    "heading_collapsed": true
   },
   "source": [
    "## 2-D arrays\n",
    "- row-major 2-d arrays\n",
    "- syntax:\n",
    "```c++\n",
    "type name[rowSize][colSize];\n",
    "```"
   ]
  },
  {
   "cell_type": "code",
   "execution_count": 60,
   "metadata": {
    "hidden": true
   },
   "outputs": [],
   "source": [
    "int matrix[4][4] = {{1, 2, 3, 4}, {10, 20, 30, 40}, {100, 200, 300, 400}, {1, 1, 1, 1}};"
   ]
  },
  {
   "cell_type": "code",
   "execution_count": 61,
   "metadata": {
    "hidden": true
   },
   "outputs": [
    {
     "data": {
      "text/plain": [
       "{ { 1, 2, 3, 4 }, { 10, 20, 30, 40 }, { 100, 200, 300, 400 }, { 1, 1, 1, 1 } }"
      ]
     },
     "execution_count": 61,
     "metadata": {},
     "output_type": "execute_result"
    }
   ],
   "source": [
    "matrix"
   ]
  },
  {
   "cell_type": "code",
   "execution_count": 62,
   "metadata": {
    "hidden": true
   },
   "outputs": [
    {
     "data": {
      "text/plain": [
       "100"
      ]
     },
     "execution_count": 62,
     "metadata": {},
     "output_type": "execute_result"
    }
   ],
   "source": [
    "matrix[0][0] = matrix[2][0]*matrix[3][0]"
   ]
  },
  {
   "cell_type": "code",
   "execution_count": 63,
   "metadata": {
    "hidden": true
   },
   "outputs": [
    {
     "data": {
      "text/plain": [
       "{ { 100, 2, 3, 4 }, { 10, 20, 30, 40 }, { 100, 200, 300, 400 }, { 1, 1, 1, 1 } }"
      ]
     },
     "execution_count": 63,
     "metadata": {},
     "output_type": "execute_result"
    }
   ],
   "source": [
    "matrix"
   ]
  },
  {
   "cell_type": "code",
   "execution_count": 64,
   "metadata": {
    "hidden": true
   },
   "outputs": [
    {
     "name": "stdout",
     "output_type": "stream",
     "text": [
      "[ 0144, 02, 03, 04, ]\n",
      "[ 012, 024, 036, 050, ]\n",
      "[ 0144, 0310, 0454, 0620, ]\n",
      "[ 01, 01, 01, 01, ]\n"
     ]
    }
   ],
   "source": [
    "for(int i=0; i<4; i++) {\n",
    "    cout << \"[ \";\n",
    "    for(int j=0; j< 4; j++) {\n",
    "        cout << matrix[i][j] << \", \";\n",
    "    }\n",
    "    cout << \"]\" << endl;\n",
    "}"
   ]
  },
  {
   "cell_type": "code",
   "execution_count": null,
   "metadata": {
    "hidden": true
   },
   "outputs": [],
   "source": []
  }
 ],
 "metadata": {
  "kernelspec": {
   "display_name": "C++14",
   "language": "C++14",
   "name": "xcpp14"
  },
  "language_info": {
   "codemirror_mode": "text/x-c++src",
   "file_extension": ".cpp",
   "mimetype": "text/x-c++src",
   "name": "c++",
   "version": "14"
  }
 },
 "nbformat": 4,
 "nbformat_minor": 2
}
