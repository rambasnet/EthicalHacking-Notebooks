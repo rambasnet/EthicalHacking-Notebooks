{
 "cells": [
  {
   "cell_type": "markdown",
   "id": "58095e17",
   "metadata": {},
   "source": [
    "# Detecting and Mitigating Memory Corruption Errors\n",
    "\n",
    "## Memory corruption\n",
    "- https://cwe.mitre.org/data/definitions/787.html\n",
    "- according to MITRE, \"memory corruption\" is often used to describe the consequences of writing to memory outside the bounds of a buffer that is invalid, when the root cause is something other than a sequential copy of excessive data from a fixed starting location. This may include issues such as incorrect pointer arithmetic, accessing invalid pointers due to incomplete initialization or memory release, etc.\n",
    "\n",
    "- from programmers point-of-view, there are two main ways to detect memory corruption errors in C/C++ programs\n",
    "- White box and black box testing\n",
    "\n",
    "## White box testing\n",
    "- also called static analysis\n",
    "- have access to source code\n",
    "- manually read and review source code for memory related errors such as memory leak, buffer overflow, underflow, etc.\n",
    "    - pros and cons?\n",
    "- can use automated tools to scan for code and API that leads to memory related errors\n",
    "    - pros and cons?\n",
    "\n",
    "## Black box testing\n",
    "- also called dynamic analysis\n",
    "- manually test the binary/executable\n",
    "- employ `fuzz testing` - use automated tools called fuzzer to provide invalid, unexpected or random data as inputs to the program\n",
    "\n",
    "### Use 3rd party scanners such as Valgrind's Memcheck\n",
    "- https://valgrind.org/docs/manual/quick-start.html\n",
    "- compile your program using -g (dubuggin info) and -o1 (line numbers in error message)\n",
    "    - `-o0` is also a good idea, if you can tolerate the slowdown   \n",
    "- must install valgrind and libc6-dbg:i386 packages\n",
    "\n",
    "### Use gcc/g++ compiler flags\n",
    "\n",
    "### NOTE: Automated tools are not perfect!"
   ]
  },
  {
   "cell_type": "code",
   "execution_count": 1,
   "id": "2703cb07",
   "metadata": {},
   "outputs": [
    {
     "name": "stdout",
     "output_type": "stream",
     "text": [
      "Reading package lists... Done\n",
      "Building dependency tree... Done\n",
      "Reading state information... Done\n",
      "valgrind is already the newest version (1:3.19.0-1).\n",
      "The following packages were automatically installed and are no longer required:\n",
      "  catfish dh-elpa-helper docutils-common gir1.2-xfconf-0 libcfitsio9 libgdal31\n",
      "  libmpdec3 libnginx-mod-http-geoip libnginx-mod-http-image-filter\n",
      "  libnginx-mod-http-xslt-filter libnginx-mod-mail libnginx-mod-stream\n",
      "  libnginx-mod-stream-geoip libpoppler123 libprotobuf23 libpython3.10\n",
      "  libpython3.10-dev libpython3.10-minimal libpython3.10-stdlib libtiff5\n",
      "  libzxingcore1 nginx-common nginx-core python-pastedeploy-tpl\n",
      "  python3-alabaster python3-commonmark python3-docutils python3-imagesize\n",
      "  python3-roman python3-snowballstemmer python3-speaklater python3-sphinx\n",
      "  python3.10 python3.10-dev python3.10-minimal ruby3.0 ruby3.0-dev ruby3.0-doc\n",
      "  sphinx-common\n",
      "Use 'sudo apt autoremove' to remove them.\n",
      "0 upgraded, 0 newly installed, 0 to remove and 0 not upgraded.\n"
     ]
    }
   ],
   "source": [
    "! echo kali | sudo -S apt install valgrind -y"
   ]
  },
  {
   "cell_type": "code",
   "execution_count": 2,
   "id": "e300ccfe",
   "metadata": {},
   "outputs": [
    {
     "name": "stdout",
     "output_type": "stream",
     "text": [
      "valgrind-3.19.0\r\n"
     ]
    }
   ],
   "source": [
    "# check valgrind version\n",
    "! valgrind --version"
   ]
  },
  {
   "cell_type": "code",
   "execution_count": 3,
   "id": "567ea153",
   "metadata": {},
   "outputs": [
    {
     "name": "stderr",
     "output_type": "stream",
     "text": [
      "[sudo] password for kali: \n",
      "WARNING: apt does not have a stable CLI interface. Use with caution in scripts.\n",
      "\n"
     ]
    },
    {
     "name": "stdout",
     "output_type": "stream",
     "text": [
      "Reading package lists...\n",
      "Building dependency tree...\n",
      "Reading state information...\n",
      "libc6-dbg is already the newest version (2.36-8).\n",
      "The following packages were automatically installed and are no longer required:\n",
      "  catfish dh-elpa-helper docutils-common gir1.2-xfconf-0 libcfitsio9 libgdal31\n",
      "  libmpdec3 libnginx-mod-http-geoip libnginx-mod-http-image-filter\n",
      "  libnginx-mod-http-xslt-filter libnginx-mod-mail libnginx-mod-stream\n",
      "  libnginx-mod-stream-geoip libpoppler123 libprotobuf23 libpython3.10\n",
      "  libpython3.10-dev libpython3.10-minimal libpython3.10-stdlib libtiff5\n",
      "  libzxingcore1 nginx-common nginx-core python-pastedeploy-tpl\n",
      "  python3-alabaster python3-commonmark python3-docutils python3-imagesize\n",
      "  python3-roman python3-snowballstemmer python3-speaklater python3-sphinx\n",
      "  python3.10 python3.10-dev python3.10-minimal ruby3.0 ruby3.0-dev ruby3.0-doc\n",
      "  sphinx-common\n",
      "Use 'sudo apt autoremove' to remove them.\n",
      "0 upgraded, 0 newly installed, 0 to remove and 0 not upgraded.\n"
     ]
    },
    {
     "name": "stderr",
     "output_type": "stream",
     "text": [
      "\n",
      "WARNING: apt does not have a stable CLI interface. Use with caution in scripts.\n",
      "\n"
     ]
    },
    {
     "name": "stdout",
     "output_type": "stream",
     "text": [
      "Reading package lists...\n",
      "Building dependency tree...\n",
      "Reading state information...\n"
     ]
    },
    {
     "name": "stderr",
     "output_type": "stream",
     "text": [
      "E: Unable to locate package libc6-dbg:i386\n"
     ]
    },
    {
     "ename": "CalledProcessError",
     "evalue": "Command 'b'# install libc6-dbg:i386 for debugging x86 program in x64\\necho kali | sudo -S sudo apt install libc6-dbg -y\\necho kali | sudo -S sudo apt install libc6-dbg:i386 -y\\n'' returned non-zero exit status 100.",
     "output_type": "error",
     "traceback": [
      "\u001b[0;31m---------------------------------------------------------------------------\u001b[0m",
      "\u001b[0;31mCalledProcessError\u001b[0m                        Traceback (most recent call last)",
      "Cell \u001b[0;32mIn[3], line 1\u001b[0m\n\u001b[0;32m----> 1\u001b[0m \u001b[43mget_ipython\u001b[49m\u001b[43m(\u001b[49m\u001b[43m)\u001b[49m\u001b[38;5;241;43m.\u001b[39;49m\u001b[43mrun_cell_magic\u001b[49m\u001b[43m(\u001b[49m\u001b[38;5;124;43m'\u001b[39;49m\u001b[38;5;124;43mbash\u001b[39;49m\u001b[38;5;124;43m'\u001b[39;49m\u001b[43m,\u001b[49m\u001b[43m \u001b[49m\u001b[38;5;124;43m'\u001b[39;49m\u001b[38;5;124;43m'\u001b[39;49m\u001b[43m,\u001b[49m\u001b[43m \u001b[49m\u001b[38;5;124;43m'\u001b[39;49m\u001b[38;5;124;43m# install libc6-dbg:i386 for debugging x86 program in x64\u001b[39;49m\u001b[38;5;130;43;01m\\n\u001b[39;49;00m\u001b[38;5;124;43mecho kali | sudo -S sudo apt install libc6-dbg -y\u001b[39;49m\u001b[38;5;130;43;01m\\n\u001b[39;49;00m\u001b[38;5;124;43mecho kali | sudo -S sudo apt install libc6-dbg:i386 -y\u001b[39;49m\u001b[38;5;130;43;01m\\n\u001b[39;49;00m\u001b[38;5;124;43m'\u001b[39;49m\u001b[43m)\u001b[49m\n",
      "File \u001b[0;32m~/miniconda3/lib/python3.10/site-packages/IPython/core/interactiveshell.py:2430\u001b[0m, in \u001b[0;36mInteractiveShell.run_cell_magic\u001b[0;34m(self, magic_name, line, cell)\u001b[0m\n\u001b[1;32m   2428\u001b[0m \u001b[38;5;28;01mwith\u001b[39;00m \u001b[38;5;28mself\u001b[39m\u001b[38;5;241m.\u001b[39mbuiltin_trap:\n\u001b[1;32m   2429\u001b[0m     args \u001b[38;5;241m=\u001b[39m (magic_arg_s, cell)\n\u001b[0;32m-> 2430\u001b[0m     result \u001b[38;5;241m=\u001b[39m \u001b[43mfn\u001b[49m\u001b[43m(\u001b[49m\u001b[38;5;241;43m*\u001b[39;49m\u001b[43margs\u001b[49m\u001b[43m,\u001b[49m\u001b[43m \u001b[49m\u001b[38;5;241;43m*\u001b[39;49m\u001b[38;5;241;43m*\u001b[39;49m\u001b[43mkwargs\u001b[49m\u001b[43m)\u001b[49m\n\u001b[1;32m   2432\u001b[0m \u001b[38;5;66;03m# The code below prevents the output from being displayed\u001b[39;00m\n\u001b[1;32m   2433\u001b[0m \u001b[38;5;66;03m# when using magics with decodator @output_can_be_silenced\u001b[39;00m\n\u001b[1;32m   2434\u001b[0m \u001b[38;5;66;03m# when the last Python token in the expression is a ';'.\u001b[39;00m\n\u001b[1;32m   2435\u001b[0m \u001b[38;5;28;01mif\u001b[39;00m \u001b[38;5;28mgetattr\u001b[39m(fn, magic\u001b[38;5;241m.\u001b[39mMAGIC_OUTPUT_CAN_BE_SILENCED, \u001b[38;5;28;01mFalse\u001b[39;00m):\n",
      "File \u001b[0;32m~/miniconda3/lib/python3.10/site-packages/IPython/core/magics/script.py:153\u001b[0m, in \u001b[0;36mScriptMagics._make_script_magic.<locals>.named_script_magic\u001b[0;34m(line, cell)\u001b[0m\n\u001b[1;32m    151\u001b[0m \u001b[38;5;28;01melse\u001b[39;00m:\n\u001b[1;32m    152\u001b[0m     line \u001b[38;5;241m=\u001b[39m script\n\u001b[0;32m--> 153\u001b[0m \u001b[38;5;28;01mreturn\u001b[39;00m \u001b[38;5;28;43mself\u001b[39;49m\u001b[38;5;241;43m.\u001b[39;49m\u001b[43mshebang\u001b[49m\u001b[43m(\u001b[49m\u001b[43mline\u001b[49m\u001b[43m,\u001b[49m\u001b[43m \u001b[49m\u001b[43mcell\u001b[49m\u001b[43m)\u001b[49m\n",
      "File \u001b[0;32m~/miniconda3/lib/python3.10/site-packages/IPython/core/magics/script.py:305\u001b[0m, in \u001b[0;36mScriptMagics.shebang\u001b[0;34m(self, line, cell)\u001b[0m\n\u001b[1;32m    300\u001b[0m \u001b[38;5;28;01mif\u001b[39;00m args\u001b[38;5;241m.\u001b[39mraise_error \u001b[38;5;129;01mand\u001b[39;00m p\u001b[38;5;241m.\u001b[39mreturncode \u001b[38;5;241m!=\u001b[39m \u001b[38;5;241m0\u001b[39m:\n\u001b[1;32m    301\u001b[0m     \u001b[38;5;66;03m# If we get here and p.returncode is still None, we must have\u001b[39;00m\n\u001b[1;32m    302\u001b[0m     \u001b[38;5;66;03m# killed it but not yet seen its return code. We don't wait for it,\u001b[39;00m\n\u001b[1;32m    303\u001b[0m     \u001b[38;5;66;03m# in case it's stuck in uninterruptible sleep. -9 = SIGKILL\u001b[39;00m\n\u001b[1;32m    304\u001b[0m     rc \u001b[38;5;241m=\u001b[39m p\u001b[38;5;241m.\u001b[39mreturncode \u001b[38;5;129;01mor\u001b[39;00m \u001b[38;5;241m-\u001b[39m\u001b[38;5;241m9\u001b[39m\n\u001b[0;32m--> 305\u001b[0m     \u001b[38;5;28;01mraise\u001b[39;00m CalledProcessError(rc, cell)\n",
      "\u001b[0;31mCalledProcessError\u001b[0m: Command 'b'# install libc6-dbg:i386 for debugging x86 program in x64\\necho kali | sudo -S sudo apt install libc6-dbg -y\\necho kali | sudo -S sudo apt install libc6-dbg:i386 -y\\n'' returned non-zero exit status 100."
     ]
    }
   ],
   "source": [
    "%%bash\n",
    "# install libc6-dbg:i386 for debugging x86 program in x64\n",
    "echo kali | sudo -S sudo apt install libc6-dbg -y\n",
    "echo kali | sudo -S sudo apt install libc6-dbg:i386 -y"
   ]
  },
  {
   "cell_type": "code",
   "execution_count": 4,
   "id": "3697f31b",
   "metadata": {},
   "outputs": [
    {
     "name": "stdout",
     "output_type": "stream",
     "text": [
      "  #include <stdlib.h>\r\n",
      "  #include <cstring>\r\n",
      "  #include <cstdio>\r\n",
      "\r\n",
      "  void f(char * arg)\r\n",
      "  {\r\n",
      "\t // C dynamic memory\r\n",
      "\t int* x = (int *)malloc(10 * sizeof(int));\r\n",
      "\t // C++ dynamic memory\r\n",
      "\t char* name = new char[20];\r\n",
      "\t \r\n",
      "\t x[10] = 0;        // problem 1: heap block overrun\r\n",
      "\t\t                // problem 2: memory leak -- x not freed\r\n",
      "\t strcpy(name, arg);\r\n",
      "\t // problem 3: heap block overrun\r\n",
      "\t // problem 4: memory leak -- x not freed\r\n",
      "\t printf(\"Hello %s\\n\", arg);\r\n",
      "  }\r\n",
      "\r\n",
      "  int main(int argc, char* argv[1])\r\n",
      "  {\r\n",
      "\t // what if f() is called over and again in an infinite loop, e.g. \r\n",
      "\t f(argv[1]);\r\n",
      "\t return 0;\r\n",
      "  }\r\n"
     ]
    }
   ],
   "source": [
    "# let's use demos/memory_leak.cpp program for demo\n",
    "! cat demos/memory_leak.cpp"
   ]
  },
  {
   "cell_type": "code",
   "execution_count": 5,
   "id": "44ca4d1a",
   "metadata": {},
   "outputs": [],
   "source": [
    "# compile with -g -o0 options to use with valgrind\n",
    "# compile as 64-bit binary as valgrind will not work on 32-bit due to lack of \n",
    "# libc6-dbg:i386 library\n",
    "! g++ -g -o0 demos/memory_leak.cpp -o memory_leak.exe"
   ]
  },
  {
   "cell_type": "code",
   "execution_count": 6,
   "id": "804b3307",
   "metadata": {},
   "outputs": [
    {
     "name": "stdout",
     "output_type": "stream",
     "text": [
      "Hello John\r\n"
     ]
    }
   ],
   "source": [
    "# Run the program with an argument\n",
    "! ./memory_leak.exe John"
   ]
  },
  {
   "cell_type": "code",
   "execution_count": 7,
   "id": "631d900c",
   "metadata": {},
   "outputs": [
    {
     "name": "stdout",
     "output_type": "stream",
     "text": [
      "malloc(): corrupted top size\r\n"
     ]
    }
   ],
   "source": [
    "# program crashes or behaves unexpectedly\n",
    "! ./memory_leak.exe \"some very very very very long string\""
   ]
  },
  {
   "cell_type": "code",
   "execution_count": 8,
   "id": "eb661ce5",
   "metadata": {},
   "outputs": [
    {
     "name": "stdout",
     "output_type": "stream",
     "text": [
      "==305603== Memcheck, a memory error detector\n",
      "==305603== Copyright (C) 2002-2022, and GNU GPL'd, by Julian Seward et al.\n",
      "==305603== Using Valgrind-3.19.0 and LibVEX; rerun with -h for copyright info\n",
      "==305603== Command: ./memory_leak.exe John\\ Smith\n",
      "==305603== \n",
      "==305603== Invalid write of size 4\n",
      "==305603==    at 0x109199: f(char*) (memory_leak.cpp:12)\n",
      "==305603==    by 0x1091F1: main (memory_leak.cpp:23)\n",
      "==305603==  Address 0x4d7aca8 is 0 bytes after a block of size 40 alloc'd\n",
      "==305603==    at 0x48407B4: malloc (vg_replace_malloc.c:381)\n",
      "==305603==    by 0x10917E: f(char*) (memory_leak.cpp:8)\n",
      "==305603==    by 0x1091F1: main (memory_leak.cpp:23)\n",
      "==305603== \n",
      "Hello John Smith\n",
      "==305603== \n",
      "==305603== HEAP SUMMARY:\n",
      "==305603==     in use at exit: 60 bytes in 2 blocks\n",
      "==305603==   total heap usage: 4 allocs, 2 frees, 73,788 bytes allocated\n",
      "==305603== \n",
      "==305603== LEAK SUMMARY:\n",
      "==305603==    definitely lost: 60 bytes in 2 blocks\n",
      "==305603==    indirectly lost: 0 bytes in 0 blocks\n",
      "==305603==      possibly lost: 0 bytes in 0 blocks\n",
      "==305603==    still reachable: 0 bytes in 0 blocks\n",
      "==305603==         suppressed: 0 bytes in 0 blocks\n",
      "==305603== Rerun with --leak-check=full to see details of leaked memory\n",
      "==305603== \n",
      "==305603== For lists of detected and suppressed errors, rerun with: -s\n",
      "==305603== ERROR SUMMARY: 1 errors from 1 contexts (suppressed: 0 from 0)\n"
     ]
    }
   ],
   "source": [
    "# by default gives summary of memory leak\n",
    "# doesn't give the detail/full memory leaks info\n",
    "! valgrind ./memory_leak.exe \"John Smith\""
   ]
  },
  {
   "cell_type": "code",
   "execution_count": 9,
   "id": "e56778b8",
   "metadata": {},
   "outputs": [
    {
     "name": "stdout",
     "output_type": "stream",
     "text": [
      "==305612== Memcheck, a memory error detector\n",
      "==305612== Copyright (C) 2002-2022, and GNU GPL'd, by Julian Seward et al.\n",
      "==305612== Using Valgrind-3.19.0 and LibVEX; rerun with -h for copyright info\n",
      "==305612== Command: ./memory_leak.exe John\\ Smith\n",
      "==305612== \n",
      "==305612== Invalid write of size 4\n",
      "==305612==    at 0x109199: f(char*) (memory_leak.cpp:12)\n",
      "==305612==    by 0x1091F1: main (memory_leak.cpp:23)\n",
      "==305612==  Address 0x4d7aca8 is 0 bytes after a block of size 40 alloc'd\n",
      "==305612==    at 0x48407B4: malloc (vg_replace_malloc.c:381)\n",
      "==305612==    by 0x10917E: f(char*) (memory_leak.cpp:8)\n",
      "==305612==    by 0x1091F1: main (memory_leak.cpp:23)\n",
      "==305612== \n",
      "Hello John Smith\n",
      "==305612== \n",
      "==305612== HEAP SUMMARY:\n",
      "==305612==     in use at exit: 60 bytes in 2 blocks\n",
      "==305612==   total heap usage: 4 allocs, 2 frees, 73,788 bytes allocated\n",
      "==305612== \n",
      "==305612== 20 bytes in 1 blocks are definitely lost in loss record 1 of 2\n",
      "==305612==    at 0x484220F: operator new[](unsigned long) (vg_replace_malloc.c:640)\n",
      "==305612==    by 0x10918C: f(char*) (memory_leak.cpp:10)\n",
      "==305612==    by 0x1091F1: main (memory_leak.cpp:23)\n",
      "==305612== \n",
      "==305612== 40 bytes in 1 blocks are definitely lost in loss record 2 of 2\n",
      "==305612==    at 0x48407B4: malloc (vg_replace_malloc.c:381)\n",
      "==305612==    by 0x10917E: f(char*) (memory_leak.cpp:8)\n",
      "==305612==    by 0x1091F1: main (memory_leak.cpp:23)\n",
      "==305612== \n",
      "==305612== LEAK SUMMARY:\n",
      "==305612==    definitely lost: 60 bytes in 2 blocks\n",
      "==305612==    indirectly lost: 0 bytes in 0 blocks\n",
      "==305612==      possibly lost: 0 bytes in 0 blocks\n",
      "==305612==    still reachable: 0 bytes in 0 blocks\n",
      "==305612==         suppressed: 0 bytes in 0 blocks\n",
      "==305612== \n",
      "==305612== ERROR SUMMARY: 3 errors from 3 contexts (suppressed: 0 from 0)\n",
      "==305612== \n",
      "==305612== 1 errors in context 1 of 3:\n",
      "==305612== Invalid write of size 4\n",
      "==305612==    at 0x109199: f(char*) (memory_leak.cpp:12)\n",
      "==305612==    by 0x1091F1: main (memory_leak.cpp:23)\n",
      "==305612==  Address 0x4d7aca8 is 0 bytes after a block of size 40 alloc'd\n",
      "==305612==    at 0x48407B4: malloc (vg_replace_malloc.c:381)\n",
      "==305612==    by 0x10917E: f(char*) (memory_leak.cpp:8)\n",
      "==305612==    by 0x1091F1: main (memory_leak.cpp:23)\n",
      "==305612== \n",
      "==305612== ERROR SUMMARY: 3 errors from 3 contexts (suppressed: 0 from 0)\n"
     ]
    }
   ],
   "source": [
    "! valgrind --leak-check=full -s ./memory_leak.exe \"John Smith\""
   ]
  },
  {
   "cell_type": "markdown",
   "id": "7ce65407",
   "metadata": {},
   "source": [
    "## gcc/g++ Warning flags and AddressSanitizer\n",
    "- https://en.wikipedia.org/wiki/AddressSanitizer\n",
    "- https://gcc.gnu.org/onlinedocs/gcc-3.4.6/gcc/Warning-Options.html#Warning-Options\n",
    "\n",
    "- `-Wall` - display all the warning\n",
    "- `-Wpedantic` - display nonstandard warnings\n",
    "- `-Wextra` - print extra newer warning messages\n",
    "- `-Wconversion` - warning any implicit type conversions\n",
    "- Warnings are like static analysis\n",
    "\n",
    "- `-fsanitize=address` - use address sanitizer (ONLY works on Linux)\n",
    "- must compile and run the program to see the results of any buffer-over-flow errors (dynamic analysis)\n",
    "- For more: https://www.osc.edu/resources/getting_started/howto/howto_use_address_sanitizer"
   ]
  },
  {
   "cell_type": "code",
   "execution_count": 10,
   "id": "5c329140",
   "metadata": {},
   "outputs": [
    {
     "name": "stdout",
     "output_type": "stream",
     "text": [
      "\u001b[01m\u001b[Kdemos/memory_leak.cpp:\u001b[m\u001b[K In function ‘\u001b[01m\u001b[Kint main(int, char**)\u001b[m\u001b[K’:\r\n",
      "\u001b[01m\u001b[Kdemos/memory_leak.cpp:20:16:\u001b[m\u001b[K \u001b[01;35m\u001b[Kwarning: \u001b[m\u001b[Kunused parameter ‘\u001b[01m\u001b[Kargc\u001b[m\u001b[K’ [\u001b[01;35m\u001b[K\u001b]8;;https://gcc.gnu.org/onlinedocs/gcc/Warning-Options.html#index-Wunused-parameter\u0007-Wunused-parameter\u001b]8;;\u0007\u001b[m\u001b[K]\r\n",
      "   20 |   int main(\u001b[01;35m\u001b[Kint argc\u001b[m\u001b[K, char* argv[1])\r\n",
      "      |            \u001b[01;35m\u001b[K~~~~^~~~\u001b[m\u001b[K\r\n"
     ]
    }
   ],
   "source": [
    "! g++ -std=c++17 -g -o0 -Wall -Wpedantic -Wextra -Wconversion -fsanitize=address demos/memory_leak.cpp -o memory_leak.exe"
   ]
  },
  {
   "cell_type": "code",
   "execution_count": 11,
   "id": "77eda864",
   "metadata": {},
   "outputs": [
    {
     "name": "stdout",
     "output_type": "stream",
     "text": [
      "=================================================================\n",
      "\u001b[1m\u001b[31m==305876==ERROR: AddressSanitizer: heap-buffer-overflow on address 0x604000000038 at pc 0x559c34aa4230 bp 0x7ffcb0bc6910 sp 0x7ffcb0bc6908\n",
      "\u001b[1m\u001b[0m\u001b[1m\u001b[34mWRITE of size 4 at 0x604000000038 thread T0\u001b[1m\u001b[0m\n",
      "    #0 0x559c34aa422f in f(char*) demos/memory_leak.cpp:12\n",
      "    #1 0x559c34aa42a8 in main demos/memory_leak.cpp:23\n",
      "    #2 0x7f811b846189 in __libc_start_call_main ../sysdeps/nptl/libc_start_call_main.h:58\n",
      "    #3 0x7f811b846244 in __libc_start_main_impl ../csu/libc-start.c:381\n",
      "    #4 0x559c34aa4100 in _start (/home/kali/Sp23/SoftwareSecurity/memory_leak.exe+0x1100)\n",
      "\n",
      "\u001b[1m\u001b[32m0x604000000038 is located 0 bytes to the right of 40-byte region [0x604000000010,0x604000000038)\n",
      "\u001b[1m\u001b[0m\u001b[1m\u001b[35mallocated by thread T0 here:\u001b[1m\u001b[0m\n",
      "    #0 0x7f811beb89cf in __interceptor_malloc ../../../../src/libsanitizer/asan/asan_malloc_linux.cpp:69\n",
      "    #1 0x559c34aa41de in f(char*) demos/memory_leak.cpp:8\n",
      "    #2 0x559c34aa42a8 in main demos/memory_leak.cpp:23\n",
      "    #3 0x7f811b846189 in __libc_start_call_main ../sysdeps/nptl/libc_start_call_main.h:58\n",
      "\n",
      "SUMMARY: AddressSanitizer: heap-buffer-overflow demos/memory_leak.cpp:12 in f(char*)\n",
      "Shadow bytes around the buggy address:\n",
      "  0x0c087fff7fb0: \u001b[1m\u001b[0m00\u001b[1m\u001b[0m \u001b[1m\u001b[0m00\u001b[1m\u001b[0m \u001b[1m\u001b[0m00\u001b[1m\u001b[0m \u001b[1m\u001b[0m00\u001b[1m\u001b[0m \u001b[1m\u001b[0m00\u001b[1m\u001b[0m \u001b[1m\u001b[0m00\u001b[1m\u001b[0m \u001b[1m\u001b[0m00\u001b[1m\u001b[0m \u001b[1m\u001b[0m00\u001b[1m\u001b[0m \u001b[1m\u001b[0m00\u001b[1m\u001b[0m \u001b[1m\u001b[0m00\u001b[1m\u001b[0m \u001b[1m\u001b[0m00\u001b[1m\u001b[0m \u001b[1m\u001b[0m00\u001b[1m\u001b[0m \u001b[1m\u001b[0m00\u001b[1m\u001b[0m \u001b[1m\u001b[0m00\u001b[1m\u001b[0m \u001b[1m\u001b[0m00\u001b[1m\u001b[0m \u001b[1m\u001b[0m00\u001b[1m\u001b[0m\n",
      "  0x0c087fff7fc0: \u001b[1m\u001b[0m00\u001b[1m\u001b[0m \u001b[1m\u001b[0m00\u001b[1m\u001b[0m \u001b[1m\u001b[0m00\u001b[1m\u001b[0m \u001b[1m\u001b[0m00\u001b[1m\u001b[0m \u001b[1m\u001b[0m00\u001b[1m\u001b[0m \u001b[1m\u001b[0m00\u001b[1m\u001b[0m \u001b[1m\u001b[0m00\u001b[1m\u001b[0m \u001b[1m\u001b[0m00\u001b[1m\u001b[0m \u001b[1m\u001b[0m00\u001b[1m\u001b[0m \u001b[1m\u001b[0m00\u001b[1m\u001b[0m \u001b[1m\u001b[0m00\u001b[1m\u001b[0m \u001b[1m\u001b[0m00\u001b[1m\u001b[0m \u001b[1m\u001b[0m00\u001b[1m\u001b[0m \u001b[1m\u001b[0m00\u001b[1m\u001b[0m \u001b[1m\u001b[0m00\u001b[1m\u001b[0m \u001b[1m\u001b[0m00\u001b[1m\u001b[0m\n",
      "  0x0c087fff7fd0: \u001b[1m\u001b[0m00\u001b[1m\u001b[0m \u001b[1m\u001b[0m00\u001b[1m\u001b[0m \u001b[1m\u001b[0m00\u001b[1m\u001b[0m \u001b[1m\u001b[0m00\u001b[1m\u001b[0m \u001b[1m\u001b[0m00\u001b[1m\u001b[0m \u001b[1m\u001b[0m00\u001b[1m\u001b[0m \u001b[1m\u001b[0m00\u001b[1m\u001b[0m \u001b[1m\u001b[0m00\u001b[1m\u001b[0m \u001b[1m\u001b[0m00\u001b[1m\u001b[0m \u001b[1m\u001b[0m00\u001b[1m\u001b[0m \u001b[1m\u001b[0m00\u001b[1m\u001b[0m \u001b[1m\u001b[0m00\u001b[1m\u001b[0m \u001b[1m\u001b[0m00\u001b[1m\u001b[0m \u001b[1m\u001b[0m00\u001b[1m\u001b[0m \u001b[1m\u001b[0m00\u001b[1m\u001b[0m \u001b[1m\u001b[0m00\u001b[1m\u001b[0m\n",
      "  0x0c087fff7fe0: \u001b[1m\u001b[0m00\u001b[1m\u001b[0m \u001b[1m\u001b[0m00\u001b[1m\u001b[0m \u001b[1m\u001b[0m00\u001b[1m\u001b[0m \u001b[1m\u001b[0m00\u001b[1m\u001b[0m \u001b[1m\u001b[0m00\u001b[1m\u001b[0m \u001b[1m\u001b[0m00\u001b[1m\u001b[0m \u001b[1m\u001b[0m00\u001b[1m\u001b[0m \u001b[1m\u001b[0m00\u001b[1m\u001b[0m \u001b[1m\u001b[0m00\u001b[1m\u001b[0m \u001b[1m\u001b[0m00\u001b[1m\u001b[0m \u001b[1m\u001b[0m00\u001b[1m\u001b[0m \u001b[1m\u001b[0m00\u001b[1m\u001b[0m \u001b[1m\u001b[0m00\u001b[1m\u001b[0m \u001b[1m\u001b[0m00\u001b[1m\u001b[0m \u001b[1m\u001b[0m00\u001b[1m\u001b[0m \u001b[1m\u001b[0m00\u001b[1m\u001b[0m\n",
      "  0x0c087fff7ff0: \u001b[1m\u001b[0m00\u001b[1m\u001b[0m \u001b[1m\u001b[0m00\u001b[1m\u001b[0m \u001b[1m\u001b[0m00\u001b[1m\u001b[0m \u001b[1m\u001b[0m00\u001b[1m\u001b[0m \u001b[1m\u001b[0m00\u001b[1m\u001b[0m \u001b[1m\u001b[0m00\u001b[1m\u001b[0m \u001b[1m\u001b[0m00\u001b[1m\u001b[0m \u001b[1m\u001b[0m00\u001b[1m\u001b[0m \u001b[1m\u001b[0m00\u001b[1m\u001b[0m \u001b[1m\u001b[0m00\u001b[1m\u001b[0m \u001b[1m\u001b[0m00\u001b[1m\u001b[0m \u001b[1m\u001b[0m00\u001b[1m\u001b[0m \u001b[1m\u001b[0m00\u001b[1m\u001b[0m \u001b[1m\u001b[0m00\u001b[1m\u001b[0m \u001b[1m\u001b[0m00\u001b[1m\u001b[0m \u001b[1m\u001b[0m00\u001b[1m\u001b[0m\n",
      "=>0x0c087fff8000: \u001b[1m\u001b[31mfa\u001b[1m\u001b[0m \u001b[1m\u001b[31mfa\u001b[1m\u001b[0m \u001b[1m\u001b[0m00\u001b[1m\u001b[0m \u001b[1m\u001b[0m00\u001b[1m\u001b[0m \u001b[1m\u001b[0m00\u001b[1m\u001b[0m \u001b[1m\u001b[0m00\u001b[1m\u001b[0m \u001b[1m\u001b[0m00\u001b[1m\u001b[0m[\u001b[1m\u001b[31mfa\u001b[1m\u001b[0m]\u001b[1m\u001b[31mfa\u001b[1m\u001b[0m \u001b[1m\u001b[31mfa\u001b[1m\u001b[0m \u001b[1m\u001b[31mfa\u001b[1m\u001b[0m \u001b[1m\u001b[31mfa\u001b[1m\u001b[0m \u001b[1m\u001b[31mfa\u001b[1m\u001b[0m \u001b[1m\u001b[31mfa\u001b[1m\u001b[0m \u001b[1m\u001b[31mfa\u001b[1m\u001b[0m \u001b[1m\u001b[31mfa\u001b[1m\u001b[0m\n",
      "  0x0c087fff8010: \u001b[1m\u001b[31mfa\u001b[1m\u001b[0m \u001b[1m\u001b[31mfa\u001b[1m\u001b[0m \u001b[1m\u001b[31mfa\u001b[1m\u001b[0m \u001b[1m\u001b[31mfa\u001b[1m\u001b[0m \u001b[1m\u001b[31mfa\u001b[1m\u001b[0m \u001b[1m\u001b[31mfa\u001b[1m\u001b[0m \u001b[1m\u001b[31mfa\u001b[1m\u001b[0m \u001b[1m\u001b[31mfa\u001b[1m\u001b[0m \u001b[1m\u001b[31mfa\u001b[1m\u001b[0m \u001b[1m\u001b[31mfa\u001b[1m\u001b[0m \u001b[1m\u001b[31mfa\u001b[1m\u001b[0m \u001b[1m\u001b[31mfa\u001b[1m\u001b[0m \u001b[1m\u001b[31mfa\u001b[1m\u001b[0m \u001b[1m\u001b[31mfa\u001b[1m\u001b[0m \u001b[1m\u001b[31mfa\u001b[1m\u001b[0m \u001b[1m\u001b[31mfa\u001b[1m\u001b[0m\n",
      "  0x0c087fff8020: \u001b[1m\u001b[31mfa\u001b[1m\u001b[0m \u001b[1m\u001b[31mfa\u001b[1m\u001b[0m \u001b[1m\u001b[31mfa\u001b[1m\u001b[0m \u001b[1m\u001b[31mfa\u001b[1m\u001b[0m \u001b[1m\u001b[31mfa\u001b[1m\u001b[0m \u001b[1m\u001b[31mfa\u001b[1m\u001b[0m \u001b[1m\u001b[31mfa\u001b[1m\u001b[0m \u001b[1m\u001b[31mfa\u001b[1m\u001b[0m \u001b[1m\u001b[31mfa\u001b[1m\u001b[0m \u001b[1m\u001b[31mfa\u001b[1m\u001b[0m \u001b[1m\u001b[31mfa\u001b[1m\u001b[0m \u001b[1m\u001b[31mfa\u001b[1m\u001b[0m \u001b[1m\u001b[31mfa\u001b[1m\u001b[0m \u001b[1m\u001b[31mfa\u001b[1m\u001b[0m \u001b[1m\u001b[31mfa\u001b[1m\u001b[0m \u001b[1m\u001b[31mfa\u001b[1m\u001b[0m\n",
      "  0x0c087fff8030: \u001b[1m\u001b[31mfa\u001b[1m\u001b[0m \u001b[1m\u001b[31mfa\u001b[1m\u001b[0m \u001b[1m\u001b[31mfa\u001b[1m\u001b[0m \u001b[1m\u001b[31mfa\u001b[1m\u001b[0m \u001b[1m\u001b[31mfa\u001b[1m\u001b[0m \u001b[1m\u001b[31mfa\u001b[1m\u001b[0m \u001b[1m\u001b[31mfa\u001b[1m\u001b[0m \u001b[1m\u001b[31mfa\u001b[1m\u001b[0m \u001b[1m\u001b[31mfa\u001b[1m\u001b[0m \u001b[1m\u001b[31mfa\u001b[1m\u001b[0m \u001b[1m\u001b[31mfa\u001b[1m\u001b[0m \u001b[1m\u001b[31mfa\u001b[1m\u001b[0m \u001b[1m\u001b[31mfa\u001b[1m\u001b[0m \u001b[1m\u001b[31mfa\u001b[1m\u001b[0m \u001b[1m\u001b[31mfa\u001b[1m\u001b[0m \u001b[1m\u001b[31mfa\u001b[1m\u001b[0m\n",
      "  0x0c087fff8040: \u001b[1m\u001b[31mfa\u001b[1m\u001b[0m \u001b[1m\u001b[31mfa\u001b[1m\u001b[0m \u001b[1m\u001b[31mfa\u001b[1m\u001b[0m \u001b[1m\u001b[31mfa\u001b[1m\u001b[0m \u001b[1m\u001b[31mfa\u001b[1m\u001b[0m \u001b[1m\u001b[31mfa\u001b[1m\u001b[0m \u001b[1m\u001b[31mfa\u001b[1m\u001b[0m \u001b[1m\u001b[31mfa\u001b[1m\u001b[0m \u001b[1m\u001b[31mfa\u001b[1m\u001b[0m \u001b[1m\u001b[31mfa\u001b[1m\u001b[0m \u001b[1m\u001b[31mfa\u001b[1m\u001b[0m \u001b[1m\u001b[31mfa\u001b[1m\u001b[0m \u001b[1m\u001b[31mfa\u001b[1m\u001b[0m \u001b[1m\u001b[31mfa\u001b[1m\u001b[0m \u001b[1m\u001b[31mfa\u001b[1m\u001b[0m \u001b[1m\u001b[31mfa\u001b[1m\u001b[0m\n",
      "  0x0c087fff8050: \u001b[1m\u001b[31mfa\u001b[1m\u001b[0m \u001b[1m\u001b[31mfa\u001b[1m\u001b[0m \u001b[1m\u001b[31mfa\u001b[1m\u001b[0m \u001b[1m\u001b[31mfa\u001b[1m\u001b[0m \u001b[1m\u001b[31mfa\u001b[1m\u001b[0m \u001b[1m\u001b[31mfa\u001b[1m\u001b[0m \u001b[1m\u001b[31mfa\u001b[1m\u001b[0m \u001b[1m\u001b[31mfa\u001b[1m\u001b[0m \u001b[1m\u001b[31mfa\u001b[1m\u001b[0m \u001b[1m\u001b[31mfa\u001b[1m\u001b[0m \u001b[1m\u001b[31mfa\u001b[1m\u001b[0m \u001b[1m\u001b[31mfa\u001b[1m\u001b[0m \u001b[1m\u001b[31mfa\u001b[1m\u001b[0m \u001b[1m\u001b[31mfa\u001b[1m\u001b[0m \u001b[1m\u001b[31mfa\u001b[1m\u001b[0m \u001b[1m\u001b[31mfa\u001b[1m\u001b[0m\n",
      "Shadow byte legend (one shadow byte represents 8 application bytes):\n",
      "  Addressable:           \u001b[1m\u001b[0m00\u001b[1m\u001b[0m\n",
      "  Partially addressable: \u001b[1m\u001b[0m01\u001b[1m\u001b[0m \u001b[1m\u001b[0m02\u001b[1m\u001b[0m \u001b[1m\u001b[0m03\u001b[1m\u001b[0m \u001b[1m\u001b[0m04\u001b[1m\u001b[0m \u001b[1m\u001b[0m05\u001b[1m\u001b[0m \u001b[1m\u001b[0m06\u001b[1m\u001b[0m \u001b[1m\u001b[0m07\u001b[1m\u001b[0m \n",
      "  Heap left redzone:       \u001b[1m\u001b[31mfa\u001b[1m\u001b[0m\n",
      "  Freed heap region:       \u001b[1m\u001b[35mfd\u001b[1m\u001b[0m\n",
      "  Stack left redzone:      \u001b[1m\u001b[31mf1\u001b[1m\u001b[0m\n",
      "  Stack mid redzone:       \u001b[1m\u001b[31mf2\u001b[1m\u001b[0m\n",
      "  Stack right redzone:     \u001b[1m\u001b[31mf3\u001b[1m\u001b[0m\n",
      "  Stack after return:      \u001b[1m\u001b[35mf5\u001b[1m\u001b[0m\n",
      "  Stack use after scope:   \u001b[1m\u001b[35mf8\u001b[1m\u001b[0m\n",
      "  Global redzone:          \u001b[1m\u001b[31mf9\u001b[1m\u001b[0m\n",
      "  Global init order:       \u001b[1m\u001b[36mf6\u001b[1m\u001b[0m\n",
      "  Poisoned by user:        \u001b[1m\u001b[34mf7\u001b[1m\u001b[0m\n",
      "  Container overflow:      \u001b[1m\u001b[34mfc\u001b[1m\u001b[0m\n",
      "  Array cookie:            \u001b[1m\u001b[31mac\u001b[1m\u001b[0m\n",
      "  Intra object redzone:    \u001b[1m\u001b[33mbb\u001b[1m\u001b[0m\n",
      "  ASan internal:           \u001b[1m\u001b[33mfe\u001b[1m\u001b[0m\n",
      "  Left alloca redzone:     \u001b[1m\u001b[34mca\u001b[1m\u001b[0m\n",
      "  Right alloca redzone:    \u001b[1m\u001b[34mcb\u001b[1m\u001b[0m\n",
      "==305876==ABORTING\n"
     ]
    }
   ],
   "source": [
    "# run the program to see the Address Sanitizer's result\n",
    "# detects overflow during run-time\n",
    "! ./memory_leak.exe"
   ]
  },
  {
   "cell_type": "code",
   "execution_count": 9,
   "id": "ea68432f",
   "metadata": {},
   "outputs": [
    {
     "name": "stdout",
     "output_type": "stream",
     "text": [
      "\u001b[01m\u001b[Kdemos/stack_overflow/so_stdio.cpp:\u001b[m\u001b[K In function ‘\u001b[01m\u001b[Kchar* mgets(char*)\u001b[m\u001b[K’:\r\n",
      "\u001b[01m\u001b[Kdemos/stack_overflow/so_stdio.cpp:33:16:\u001b[m\u001b[K \u001b[01;35m\u001b[Kwarning: \u001b[m\u001b[Kconversion from ‘\u001b[01m\u001b[Kint\u001b[m\u001b[K’ to ‘\u001b[01m\u001b[Kchar\u001b[m\u001b[K’ may change value [\u001b[01;35m\u001b[K\u001b]8;;https://gcc.gnu.org/onlinedocs/gcc/Warning-Options.html#index-Wconversion\u0007-Wconversion\u001b]8;;\u0007\u001b[m\u001b[K]\r\n",
      "   33 |         *ptr = \u001b[01;35m\u001b[Kch\u001b[m\u001b[K;\r\n",
      "      |                \u001b[01;35m\u001b[K^~\u001b[m\u001b[K\r\n",
      "\u001b[01m\u001b[Kdemos/stack_overflow/so_stdio.cpp:39:20:\u001b[m\u001b[K \u001b[01;35m\u001b[Kwarning: \u001b[m\u001b[Kconversion from ‘\u001b[01m\u001b[Kint\u001b[m\u001b[K’ to ‘\u001b[01m\u001b[Kchar\u001b[m\u001b[K’ may change value [\u001b[01;35m\u001b[K\u001b]8;;https://gcc.gnu.org/onlinedocs/gcc/Warning-Options.html#index-Wconversion\u0007-Wconversion\u001b]8;;\u0007\u001b[m\u001b[K]\r\n",
      "   39 |         *(++ptr) = \u001b[01;35m\u001b[Kch\u001b[m\u001b[K;\r\n",
      "      |                    \u001b[01;35m\u001b[K^~\u001b[m\u001b[K\r\n",
      "\u001b[01m\u001b[Kdemos/stack_overflow/so_stdio.cpp:\u001b[m\u001b[K In function ‘\u001b[01m\u001b[Kint main(int, char**)\u001b[m\u001b[K’:\r\n",
      "\u001b[01m\u001b[Kdemos/stack_overflow/so_stdio.cpp:55:14:\u001b[m\u001b[K \u001b[01;35m\u001b[Kwarning: \u001b[m\u001b[Kunused parameter ‘\u001b[01m\u001b[Kargc\u001b[m\u001b[K’ [\u001b[01;35m\u001b[K\u001b]8;;https://gcc.gnu.org/onlinedocs/gcc/Warning-Options.html#index-Wunused-parameter\u0007-Wunused-parameter\u001b]8;;\u0007\u001b[m\u001b[K]\r\n",
      "   55 | int main(\u001b[01;35m\u001b[Kint argc\u001b[m\u001b[K, char *argv[]) {\r\n",
      "      |          \u001b[01;35m\u001b[K~~~~^~~~\u001b[m\u001b[K\r\n",
      "\u001b[01m\u001b[Kdemos/stack_overflow/so_stdio.cpp:55:26:\u001b[m\u001b[K \u001b[01;35m\u001b[Kwarning: \u001b[m\u001b[Kunused parameter ‘\u001b[01m\u001b[Kargv\u001b[m\u001b[K’ [\u001b[01;35m\u001b[K\u001b]8;;https://gcc.gnu.org/onlinedocs/gcc/Warning-Options.html#index-Wunused-parameter\u0007-Wunused-parameter\u001b]8;;\u0007\u001b[m\u001b[K]\r\n",
      "   55 | int main(int argc, \u001b[01;35m\u001b[Kchar *argv[]\u001b[m\u001b[K) {\r\n",
      "      |                    \u001b[01;35m\u001b[K~~~~~~^~~~~~\u001b[m\u001b[K\r\n"
     ]
    }
   ],
   "source": [
    "# let's compile demos/stack_overflow/so_stdio.cpp with address sanitize flag and warning\n",
    "! g++ -std=c++17 -m32 -g -o0 -Wall -Wpedantic -Wextra -Wconversion -fsanitize=address demos/stack_overflow/so_stdio.cpp -o so_stdio.exe"
   ]
  },
  {
   "cell_type": "code",
   "execution_count": 10,
   "id": "e594dd05",
   "metadata": {},
   "outputs": [
    {
     "name": "stdout",
     "output_type": "stream",
     "text": [
      "buffer is at 0xffffbd00\r\n",
      "Give me some text: Acknowledged: here you go some long long long string... with length 41\r\n",
      "Good bye!\r\n"
     ]
    }
   ],
   "source": [
    "# let's manually test it... perhaps string not long enough\n",
    "! echo \"here you go some long long long string...\" | ./so_stdio.exe"
   ]
  },
  {
   "cell_type": "code",
   "execution_count": 12,
   "id": "e0c5bf98",
   "metadata": {},
   "outputs": [
    {
     "name": "stdout",
     "output_type": "stream",
     "text": [
      "buffer is at 0xffc37b80\n",
      "Give me some text: =================================================================\n",
      "\u001b[1m\u001b[31m==305903==ERROR: AddressSanitizer: stack-buffer-overflow on address 0xffc37c00 at pc 0x565bd437 bp 0xffc37af8 sp 0xffc37aec\n",
      "\u001b[1m\u001b[0m\u001b[1m\u001b[34mWRITE of size 1 at 0xffc37c00 thread T0\u001b[1m\u001b[0m\n",
      "    #0 0x565bd436 in mgets(char*) demos/stack_overflow/so_stdio.cpp:39\n",
      "    #1 0x565bd5b4 in bad() demos/stack_overflow/so_stdio.cpp:50\n",
      "    #2 0x565bd6eb in main demos/stack_overflow/so_stdio.cpp:58\n",
      "    #3 0xf7023294  (/lib32/libc.so.6+0x23294)\n",
      "    #4 0xf7023357 in __libc_start_main (/lib32/libc.so.6+0x23357)\n",
      "    #5 0x565bd1c6 in _start (/home/kali/Sp23/SoftwareSecurity/so_stdio.exe+0x11c6)\n",
      "\n",
      "\u001b[1m\u001b[32mAddress 0xffc37c00 is located in stack of thread T0 at offset 160 in frame\u001b[1m\u001b[0m\n",
      "\u001b[1m\u001b[0m    #0 0x565bd498 in bad() demos/stack_overflow/so_stdio.cpp:45\n",
      "\n",
      "  This frame has 1 object(s):\n",
      "    [32, 160) 'buffer' (line 46)\u001b[1m\u001b[32m <== Memory access at offset 160 overflows this variable\u001b[1m\u001b[0m\n",
      "HINT: this may be a false positive if your program uses some custom stack unwind mechanism, swapcontext or vfork\n",
      "      (longjmp and C++ exceptions *are* supported)\n",
      "SUMMARY: AddressSanitizer: stack-buffer-overflow demos/stack_overflow/so_stdio.cpp:39 in mgets(char*)\n",
      "Shadow bytes around the buggy address:\n",
      "  0x3ff86f30: \u001b[1m\u001b[0m00\u001b[1m\u001b[0m \u001b[1m\u001b[0m00\u001b[1m\u001b[0m \u001b[1m\u001b[0m00\u001b[1m\u001b[0m \u001b[1m\u001b[0m00\u001b[1m\u001b[0m \u001b[1m\u001b[0m00\u001b[1m\u001b[0m \u001b[1m\u001b[0m00\u001b[1m\u001b[0m \u001b[1m\u001b[0m00\u001b[1m\u001b[0m \u001b[1m\u001b[0m00\u001b[1m\u001b[0m \u001b[1m\u001b[0m00\u001b[1m\u001b[0m \u001b[1m\u001b[0m00\u001b[1m\u001b[0m \u001b[1m\u001b[0m00\u001b[1m\u001b[0m \u001b[1m\u001b[0m00\u001b[1m\u001b[0m \u001b[1m\u001b[0m00\u001b[1m\u001b[0m \u001b[1m\u001b[0m00\u001b[1m\u001b[0m \u001b[1m\u001b[0m00\u001b[1m\u001b[0m \u001b[1m\u001b[0m00\u001b[1m\u001b[0m\n",
      "  0x3ff86f40: \u001b[1m\u001b[0m00\u001b[1m\u001b[0m \u001b[1m\u001b[0m00\u001b[1m\u001b[0m \u001b[1m\u001b[0m00\u001b[1m\u001b[0m \u001b[1m\u001b[0m00\u001b[1m\u001b[0m \u001b[1m\u001b[0m00\u001b[1m\u001b[0m \u001b[1m\u001b[0m00\u001b[1m\u001b[0m \u001b[1m\u001b[0m00\u001b[1m\u001b[0m \u001b[1m\u001b[0m00\u001b[1m\u001b[0m \u001b[1m\u001b[0m00\u001b[1m\u001b[0m \u001b[1m\u001b[0m00\u001b[1m\u001b[0m \u001b[1m\u001b[0m00\u001b[1m\u001b[0m \u001b[1m\u001b[0m00\u001b[1m\u001b[0m \u001b[1m\u001b[0m00\u001b[1m\u001b[0m \u001b[1m\u001b[0m00\u001b[1m\u001b[0m \u001b[1m\u001b[0m00\u001b[1m\u001b[0m \u001b[1m\u001b[0m00\u001b[1m\u001b[0m\n",
      "  0x3ff86f50: \u001b[1m\u001b[0m00\u001b[1m\u001b[0m \u001b[1m\u001b[0m00\u001b[1m\u001b[0m \u001b[1m\u001b[0m00\u001b[1m\u001b[0m \u001b[1m\u001b[0m00\u001b[1m\u001b[0m \u001b[1m\u001b[0m00\u001b[1m\u001b[0m \u001b[1m\u001b[0m00\u001b[1m\u001b[0m \u001b[1m\u001b[0m00\u001b[1m\u001b[0m \u001b[1m\u001b[0m00\u001b[1m\u001b[0m \u001b[1m\u001b[0m00\u001b[1m\u001b[0m \u001b[1m\u001b[0m00\u001b[1m\u001b[0m \u001b[1m\u001b[0m00\u001b[1m\u001b[0m \u001b[1m\u001b[0m00\u001b[1m\u001b[0m \u001b[1m\u001b[0m00\u001b[1m\u001b[0m \u001b[1m\u001b[0m00\u001b[1m\u001b[0m \u001b[1m\u001b[0m00\u001b[1m\u001b[0m \u001b[1m\u001b[0m00\u001b[1m\u001b[0m\n",
      "  0x3ff86f60: \u001b[1m\u001b[0m00\u001b[1m\u001b[0m \u001b[1m\u001b[0m00\u001b[1m\u001b[0m \u001b[1m\u001b[0m00\u001b[1m\u001b[0m \u001b[1m\u001b[0m00\u001b[1m\u001b[0m \u001b[1m\u001b[0m00\u001b[1m\u001b[0m \u001b[1m\u001b[0m00\u001b[1m\u001b[0m \u001b[1m\u001b[0m00\u001b[1m\u001b[0m \u001b[1m\u001b[0m00\u001b[1m\u001b[0m \u001b[1m\u001b[0m00\u001b[1m\u001b[0m \u001b[1m\u001b[0m00\u001b[1m\u001b[0m \u001b[1m\u001b[0m00\u001b[1m\u001b[0m \u001b[1m\u001b[0m00\u001b[1m\u001b[0m \u001b[1m\u001b[31mf1\u001b[1m\u001b[0m \u001b[1m\u001b[31mf1\u001b[1m\u001b[0m \u001b[1m\u001b[31mf1\u001b[1m\u001b[0m \u001b[1m\u001b[31mf1\u001b[1m\u001b[0m\n",
      "  0x3ff86f70: \u001b[1m\u001b[0m00\u001b[1m\u001b[0m \u001b[1m\u001b[0m00\u001b[1m\u001b[0m \u001b[1m\u001b[0m00\u001b[1m\u001b[0m \u001b[1m\u001b[0m00\u001b[1m\u001b[0m \u001b[1m\u001b[0m00\u001b[1m\u001b[0m \u001b[1m\u001b[0m00\u001b[1m\u001b[0m \u001b[1m\u001b[0m00\u001b[1m\u001b[0m \u001b[1m\u001b[0m00\u001b[1m\u001b[0m \u001b[1m\u001b[0m00\u001b[1m\u001b[0m \u001b[1m\u001b[0m00\u001b[1m\u001b[0m \u001b[1m\u001b[0m00\u001b[1m\u001b[0m \u001b[1m\u001b[0m00\u001b[1m\u001b[0m \u001b[1m\u001b[0m00\u001b[1m\u001b[0m \u001b[1m\u001b[0m00\u001b[1m\u001b[0m \u001b[1m\u001b[0m00\u001b[1m\u001b[0m \u001b[1m\u001b[0m00\u001b[1m\u001b[0m\n",
      "=>0x3ff86f80:[\u001b[1m\u001b[31mf3\u001b[1m\u001b[0m]\u001b[1m\u001b[31mf3\u001b[1m\u001b[0m \u001b[1m\u001b[31mf3\u001b[1m\u001b[0m \u001b[1m\u001b[31mf3\u001b[1m\u001b[0m \u001b[1m\u001b[0m00\u001b[1m\u001b[0m \u001b[1m\u001b[0m00\u001b[1m\u001b[0m \u001b[1m\u001b[0m00\u001b[1m\u001b[0m \u001b[1m\u001b[0m00\u001b[1m\u001b[0m \u001b[1m\u001b[0m00\u001b[1m\u001b[0m \u001b[1m\u001b[0m00\u001b[1m\u001b[0m \u001b[1m\u001b[0m00\u001b[1m\u001b[0m \u001b[1m\u001b[0m00\u001b[1m\u001b[0m \u001b[1m\u001b[0m00\u001b[1m\u001b[0m \u001b[1m\u001b[0m00\u001b[1m\u001b[0m \u001b[1m\u001b[0m00\u001b[1m\u001b[0m \u001b[1m\u001b[0m00\u001b[1m\u001b[0m\n",
      "  0x3ff86f90: \u001b[1m\u001b[0m00\u001b[1m\u001b[0m \u001b[1m\u001b[0m00\u001b[1m\u001b[0m \u001b[1m\u001b[0m00\u001b[1m\u001b[0m \u001b[1m\u001b[0m00\u001b[1m\u001b[0m \u001b[1m\u001b[0m00\u001b[1m\u001b[0m \u001b[1m\u001b[0m00\u001b[1m\u001b[0m \u001b[1m\u001b[0m00\u001b[1m\u001b[0m \u001b[1m\u001b[0m00\u001b[1m\u001b[0m \u001b[1m\u001b[0m00\u001b[1m\u001b[0m \u001b[1m\u001b[0m00\u001b[1m\u001b[0m \u001b[1m\u001b[0m00\u001b[1m\u001b[0m \u001b[1m\u001b[0m00\u001b[1m\u001b[0m \u001b[1m\u001b[0m00\u001b[1m\u001b[0m \u001b[1m\u001b[0m00\u001b[1m\u001b[0m \u001b[1m\u001b[0m00\u001b[1m\u001b[0m \u001b[1m\u001b[0m00\u001b[1m\u001b[0m\n",
      "  0x3ff86fa0: \u001b[1m\u001b[0m00\u001b[1m\u001b[0m \u001b[1m\u001b[0m00\u001b[1m\u001b[0m \u001b[1m\u001b[0m00\u001b[1m\u001b[0m \u001b[1m\u001b[0m00\u001b[1m\u001b[0m \u001b[1m\u001b[0m00\u001b[1m\u001b[0m \u001b[1m\u001b[0m00\u001b[1m\u001b[0m \u001b[1m\u001b[0m00\u001b[1m\u001b[0m \u001b[1m\u001b[0m00\u001b[1m\u001b[0m \u001b[1m\u001b[0m00\u001b[1m\u001b[0m \u001b[1m\u001b[0m00\u001b[1m\u001b[0m \u001b[1m\u001b[0m00\u001b[1m\u001b[0m \u001b[1m\u001b[0m00\u001b[1m\u001b[0m \u001b[1m\u001b[0m00\u001b[1m\u001b[0m \u001b[1m\u001b[0m00\u001b[1m\u001b[0m \u001b[1m\u001b[0m00\u001b[1m\u001b[0m \u001b[1m\u001b[0m00\u001b[1m\u001b[0m\n",
      "  0x3ff86fb0: \u001b[1m\u001b[0m00\u001b[1m\u001b[0m \u001b[1m\u001b[0m00\u001b[1m\u001b[0m \u001b[1m\u001b[0m00\u001b[1m\u001b[0m \u001b[1m\u001b[0m00\u001b[1m\u001b[0m \u001b[1m\u001b[0m00\u001b[1m\u001b[0m \u001b[1m\u001b[0m00\u001b[1m\u001b[0m \u001b[1m\u001b[0m00\u001b[1m\u001b[0m \u001b[1m\u001b[0m00\u001b[1m\u001b[0m \u001b[1m\u001b[0m00\u001b[1m\u001b[0m \u001b[1m\u001b[0m00\u001b[1m\u001b[0m \u001b[1m\u001b[0m00\u001b[1m\u001b[0m \u001b[1m\u001b[0m00\u001b[1m\u001b[0m \u001b[1m\u001b[0m00\u001b[1m\u001b[0m \u001b[1m\u001b[0m00\u001b[1m\u001b[0m \u001b[1m\u001b[0m00\u001b[1m\u001b[0m \u001b[1m\u001b[0m00\u001b[1m\u001b[0m\n",
      "  0x3ff86fc0: \u001b[1m\u001b[0m00\u001b[1m\u001b[0m \u001b[1m\u001b[0m00\u001b[1m\u001b[0m \u001b[1m\u001b[0m00\u001b[1m\u001b[0m \u001b[1m\u001b[0m00\u001b[1m\u001b[0m \u001b[1m\u001b[0m00\u001b[1m\u001b[0m \u001b[1m\u001b[0m00\u001b[1m\u001b[0m \u001b[1m\u001b[0m00\u001b[1m\u001b[0m \u001b[1m\u001b[0m00\u001b[1m\u001b[0m \u001b[1m\u001b[0m00\u001b[1m\u001b[0m \u001b[1m\u001b[0m00\u001b[1m\u001b[0m \u001b[1m\u001b[0m00\u001b[1m\u001b[0m \u001b[1m\u001b[0m00\u001b[1m\u001b[0m \u001b[1m\u001b[0m00\u001b[1m\u001b[0m \u001b[1m\u001b[0m00\u001b[1m\u001b[0m \u001b[1m\u001b[0m00\u001b[1m\u001b[0m \u001b[1m\u001b[0m00\u001b[1m\u001b[0m\n",
      "  0x3ff86fd0: \u001b[1m\u001b[0m00\u001b[1m\u001b[0m \u001b[1m\u001b[0m00\u001b[1m\u001b[0m \u001b[1m\u001b[0m00\u001b[1m\u001b[0m \u001b[1m\u001b[0m00\u001b[1m\u001b[0m \u001b[1m\u001b[0m00\u001b[1m\u001b[0m \u001b[1m\u001b[0m00\u001b[1m\u001b[0m \u001b[1m\u001b[0m00\u001b[1m\u001b[0m \u001b[1m\u001b[0m00\u001b[1m\u001b[0m \u001b[1m\u001b[0m00\u001b[1m\u001b[0m \u001b[1m\u001b[0m00\u001b[1m\u001b[0m \u001b[1m\u001b[0m00\u001b[1m\u001b[0m \u001b[1m\u001b[0m00\u001b[1m\u001b[0m \u001b[1m\u001b[0m00\u001b[1m\u001b[0m \u001b[1m\u001b[0m00\u001b[1m\u001b[0m \u001b[1m\u001b[0m00\u001b[1m\u001b[0m \u001b[1m\u001b[0m00\u001b[1m\u001b[0m\n",
      "Shadow byte legend (one shadow byte represents 8 application bytes):\n",
      "  Addressable:           \u001b[1m\u001b[0m00\u001b[1m\u001b[0m\n",
      "  Partially addressable: \u001b[1m\u001b[0m01\u001b[1m\u001b[0m \u001b[1m\u001b[0m02\u001b[1m\u001b[0m \u001b[1m\u001b[0m03\u001b[1m\u001b[0m \u001b[1m\u001b[0m04\u001b[1m\u001b[0m \u001b[1m\u001b[0m05\u001b[1m\u001b[0m \u001b[1m\u001b[0m06\u001b[1m\u001b[0m \u001b[1m\u001b[0m07\u001b[1m\u001b[0m \n",
      "  Heap left redzone:       \u001b[1m\u001b[31mfa\u001b[1m\u001b[0m\n",
      "  Freed heap region:       \u001b[1m\u001b[35mfd\u001b[1m\u001b[0m\n",
      "  Stack left redzone:      \u001b[1m\u001b[31mf1\u001b[1m\u001b[0m\n",
      "  Stack mid redzone:       \u001b[1m\u001b[31mf2\u001b[1m\u001b[0m\n",
      "  Stack right redzone:     \u001b[1m\u001b[31mf3\u001b[1m\u001b[0m\n",
      "  Stack after return:      \u001b[1m\u001b[35mf5\u001b[1m\u001b[0m\n",
      "  Stack use after scope:   \u001b[1m\u001b[35mf8\u001b[1m\u001b[0m\n",
      "  Global redzone:          \u001b[1m\u001b[31mf9\u001b[1m\u001b[0m\n",
      "  Global init order:       \u001b[1m\u001b[36mf6\u001b[1m\u001b[0m\n",
      "  Poisoned by user:        \u001b[1m\u001b[34mf7\u001b[1m\u001b[0m\n",
      "  Container overflow:      \u001b[1m\u001b[34mfc\u001b[1m\u001b[0m\n",
      "  Array cookie:            \u001b[1m\u001b[31mac\u001b[1m\u001b[0m\n",
      "  Intra object redzone:    \u001b[1m\u001b[33mbb\u001b[1m\u001b[0m\n",
      "  ASan internal:           \u001b[1m\u001b[33mfe\u001b[1m\u001b[0m\n",
      "  Left alloca redzone:     \u001b[1m\u001b[34mca\u001b[1m\u001b[0m\n",
      "  Right alloca redzone:    \u001b[1m\u001b[34mcb\u001b[1m\u001b[0m\n",
      "==305903==ABORTING\n"
     ]
    }
   ],
   "source": [
    "# just overflow BUFFSIZE of 128\n",
    "! python -c 'print(\"A\"*200)' | ./so_stdio.exe"
   ]
  },
  {
   "cell_type": "markdown",
   "id": "3f1da3d2",
   "metadata": {},
   "source": [
    "## Fixing memory leak and over-run vulnerabilities\n",
    "- find the vulnerable line of code/functions, etc. and fix it\n",
    "- see `demos/memory_leak_fixed.cpp` for demo"
   ]
  },
  {
   "cell_type": "code",
   "execution_count": 13,
   "id": "1c1a3899",
   "metadata": {},
   "outputs": [
    {
     "name": "stdout",
     "output_type": "stream",
     "text": [
      "#include <stdlib.h>\r\n",
      "#include <cstring>\r\n",
      "#include <cstdio>\r\n",
      "\r\n",
      "void f(char * arg)\r\n",
      "{\r\n",
      "\t// C dynamic memory\r\n",
      "\tint* x = (int *)malloc(10 * sizeof(int));\r\n",
      "\t// C++ dynamic memory\r\n",
      "\tchar* name = new char[20];\r\n",
      "\r\n",
      "\tx[9] = 0; // problem 1: heap block overrun\r\n",
      "\t\t\t// problem 2: memory leak -- x not freed\r\n",
      "\tstrncpy(name, arg, sizeof(char)*20-1);\r\n",
      "\tname[19] = '\\0';\r\n",
      "\t// problem 3: heap block overrun\r\n",
      "\t// problem 4: memory leak -- name not freed\r\n",
      "\tprintf(\"Hello %s\\n\", name);\r\n",
      "\tfree(x); // C\r\n",
      "\tdelete[] name; // C++\r\n",
      "}\r\n",
      "\r\n",
      "int main(int argc, char* argv[1])\r\n",
      "{\r\n",
      "\t// what if f() is called over and again in an infinite loop, e.g. \r\n",
      "\tf(argv[1]);\r\n",
      "\treturn 0;\r\n",
      "}\r\n"
     ]
    }
   ],
   "source": [
    "! cat demos/memory_leak_fixed.cpp"
   ]
  },
  {
   "cell_type": "code",
   "execution_count": 14,
   "id": "1fc3bb47",
   "metadata": {},
   "outputs": [],
   "source": [
    "# compile with -g -o0 options to use with valgrind\n",
    "! g++ -g -o0 -Wpedantic -Wextra -Wconversion -fsanitize=address demos/memory_leak_fixed.cpp -o memory_leak_fixed.exe"
   ]
  },
  {
   "cell_type": "code",
   "execution_count": 15,
   "id": "d5c81ee4",
   "metadata": {},
   "outputs": [
    {
     "name": "stdout",
     "output_type": "stream",
     "text": [
      "Hello some very very very\r\n"
     ]
    }
   ],
   "source": [
    "# manually check the fix\n",
    "! ./memory_leak_fixed.exe \"some very very very very long strin adfa asf afaf adfa dag\""
   ]
  },
  {
   "cell_type": "code",
   "execution_count": 16,
   "id": "93b80ea3",
   "metadata": {},
   "outputs": [
    {
     "name": "stdout",
     "output_type": "stream",
     "text": [
      "==306001== Memcheck, a memory error detector\n",
      "==306001== Copyright (C) 2002-2022, and GNU GPL'd, by Julian Seward et al.\n",
      "==306001== Using Valgrind-3.19.0 and LibVEX; rerun with -h for copyright info\n",
      "==306001== Command: ./memory_leak_fixed.exe some\\ very\\ very\\ very\\ very\\ long\\ string\n",
      "==306001== \n",
      "==306001==ASan runtime does not come first in initial library list; you should either link runtime to your application or manually preload it with LD_PRELOAD.\n",
      "==306001== \n",
      "==306001== HEAP SUMMARY:\n",
      "==306001==     in use at exit: 0 bytes in 0 blocks\n",
      "==306001==   total heap usage: 0 allocs, 0 frees, 0 bytes allocated\n",
      "==306001== \n",
      "==306001== All heap blocks were freed -- no leaks are possible\n",
      "==306001== \n",
      "==306001== For lists of detected and suppressed errors, rerun with: -s\n",
      "==306001== ERROR SUMMARY: 0 errors from 0 contexts (suppressed: 0 from 0)\n"
     ]
    }
   ],
   "source": [
    "# check with valgrind\n",
    "! valgrind --leak-check=yes ./memory_leak_fixed.exe \"some very very very very long string\""
   ]
  },
  {
   "cell_type": "code",
   "execution_count": null,
   "id": "a26eef70",
   "metadata": {},
   "outputs": [],
   "source": []
  }
 ],
 "metadata": {
  "kernelspec": {
   "display_name": "Python 3 (ipykernel)",
   "language": "python",
   "name": "python3"
  },
  "language_info": {
   "codemirror_mode": {
    "name": "ipython",
    "version": 3
   },
   "file_extension": ".py",
   "mimetype": "text/x-python",
   "name": "python",
   "nbconvert_exporter": "python",
   "pygments_lexer": "ipython3",
   "version": "3.10.9"
  }
 },
 "nbformat": 4,
 "nbformat_minor": 5
}
