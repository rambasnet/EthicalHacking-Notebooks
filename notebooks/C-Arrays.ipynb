{
 "cells": [
  {
   "cell_type": "markdown",
   "metadata": {},
   "source": [
    "# Arrays\n",
    "- array concept in C++ is burrowed from C\n",
    "\n",
    "## Array\n",
    "- range of a particular type of thing\n",
    "- we've used single variable to store single data/value\n",
    "- large programs typically deal with a large number of data values that must be stored in memory\n",
    "    e.g. sorting data values.\n",
    "- not practicle to declare a large number of variables to store a large number of values\n",
    "- array is a container used to store a large number of same type values under one name\n",
    "- array we're learning about in this chapter is C-array\n",
    "- array in this notebook refers to C-array\n",
    "- there are two types of arrays\n",
    "    1. static array\n",
    "    2. dynamic array\n",
    "    \n",
    "## Static array\n",
    "- the size of the array is determined during compile-time and is fixed\n",
    "- local static array is stored on stack memory segment\n",
    "- syntax to declare a static array\n",
    "```cpp\n",
    "type arrayName[size];\n",
    "```\n",
    "- size tells the compiler how many of similar type of values can be stored in the arrayName\n",
    "- size must be a positive integer (size_t type) - literal or variable\n",
    "- the following figure depicts what happens in computer memory when an array of int is declared\n",
    "\n",
    "![](resources/array.png)\n",
    "\n",
    "- each member of the array is called an element\n",
    "- each element has same type and name that only differs by its index\n",
    "- index -- also called offset -- ranges between 0 to size-1"
   ]
  },
  {
   "cell_type": "code",
   "execution_count": 1,
   "metadata": {},
   "outputs": [],
   "source": [
    "#include <iostream>\n",
    "#include <string>\n",
    "\n",
    "using namespace std;"
   ]
  },
  {
   "cell_type": "code",
   "execution_count": 2,
   "metadata": {},
   "outputs": [],
   "source": [
    "// nums array to store 5 integers\n",
    "int numbers[5];"
   ]
  },
  {
   "cell_type": "markdown",
   "metadata": {},
   "source": [
    "### accessing member elements\n",
    "- members can be accessed and used ONLY one element per operation\n",
    "- no aggregate operation is allowed on the array variable as a whole\n",
    "    - e.g. copy one array into another; printing the whole array, etc."
   ]
  },
  {
   "cell_type": "code",
   "execution_count": 3,
   "metadata": {},
   "outputs": [],
   "source": [
    "// access and store values into each element\n",
    "numbers[0] = 10;\n",
    "numbers[1] = 20;\n",
    "numbers[2] = 30;\n",
    "numbers[3] = 40;\n",
    "numbers[4] = 50;"
   ]
  },
  {
   "cell_type": "code",
   "execution_count": 4,
   "metadata": {},
   "outputs": [
    {
     "name": "stdout",
     "output_type": "stream",
     "text": [
      "10"
     ]
    }
   ],
   "source": [
    "// access some element\n",
    "cout << numbers[0];"
   ]
  },
  {
   "cell_type": "code",
   "execution_count": 5,
   "metadata": {},
   "outputs": [],
   "source": [
    "// each element can be used like a single variable\n",
    "numbers[1] = numbers[2] + numbers[3];"
   ]
  },
  {
   "cell_type": "code",
   "execution_count": 6,
   "metadata": {},
   "outputs": [
    {
     "name": "stdout",
     "output_type": "stream",
     "text": [
      "0 -> 10\n",
      "1 -> 70\n",
      "2 -> 30\n",
      "3 -> 40\n",
      "4 -> 50\n"
     ]
    }
   ],
   "source": [
    "// traverse an array\n",
    "for(int i=0; i<5; i++) {\n",
    "    cout << i << \" -> \" << numbers[i] << endl;\n",
    "}"
   ]
  },
  {
   "cell_type": "code",
   "execution_count": 7,
   "metadata": {},
   "outputs": [],
   "source": [
    "// declaring and initializing an array\n",
    "// size is optinal; will be determined with the no. of values it's initialzed with\n",
    "float grades[] = {90.5f, 34.5f, 56, 81, 99, 100, 89.9};"
   ]
  },
  {
   "cell_type": "code",
   "execution_count": 8,
   "metadata": {},
   "outputs": [
    {
     "data": {
      "text/plain": [
       "{ 90.5000f, 34.5000f, 56.0000f, 81.0000f, 99.0000f, 100.000f, 89.9000f }"
      ]
     },
     "execution_count": 8,
     "metadata": {},
     "output_type": "execute_result"
    }
   ],
   "source": [
    "grades"
   ]
  },
  {
   "cell_type": "markdown",
   "metadata": {},
   "source": [
    "## Member functions\n",
    "- C-array is so primitive that it doesn't come with any useful operations or member functions\n",
    "- implementing any array operation falls under programmer's responsibility!\n",
    "- e.g. how can you quickly tell the size or length of an array?"
   ]
  },
  {
   "cell_type": "code",
   "execution_count": 9,
   "metadata": {},
   "outputs": [],
   "source": [
    "// finding the size of the array\n",
    "size_t arr_size = sizeof(grades)/float(sizeof(float));"
   ]
  },
  {
   "cell_type": "code",
   "execution_count": 10,
   "metadata": {},
   "outputs": [
    {
     "name": "stdout",
     "output_type": "stream",
     "text": [
      "array's size or length = 7"
     ]
    }
   ],
   "source": [
    "cout << \"array's size or length = \" << arr_size;"
   ]
  },
  {
   "cell_type": "code",
   "execution_count": 11,
   "metadata": {},
   "outputs": [
    {
     "name": "stdout",
     "output_type": "stream",
     "text": [
      "last grade = 89.9\n"
     ]
    }
   ],
   "source": [
    "cout << \"last grade = \" << grades[arr_size-1] << endl;"
   ]
  },
  {
   "cell_type": "markdown",
   "metadata": {},
   "source": [
    "### array size is fixed!\n",
    "- one has to know how many elements will be stored in a given array\n",
    "- what happens when the array is full?"
   ]
  },
  {
   "cell_type": "code",
   "execution_count": 12,
   "metadata": {},
   "outputs": [
    {
     "name": "stderr",
     "output_type": "stream",
     "text": [
      "\u001b[1minput_line_22:3:1: \u001b[0m\u001b[0;1;35mwarning: \u001b[0m\u001b[1marray index 7 is past the end of the array (which contains 7 elements) [-Warray-bounds]\u001b[0m\n",
      "grades[7] = 67;\n",
      "\u001b[0;1;32m^      ~\n",
      "\u001b[0m\u001b[1minput_line_14:4:1: \u001b[0m\u001b[0;1;30mnote: \u001b[0marray 'grades' declared here\u001b[0m\n",
      "float grades[] = {90.5f, 34.5f, 56, 81, 99, 100, 89.9};\n",
      "\u001b[0;1;32m^\n",
      "\u001b[0m"
     ]
    }
   ],
   "source": [
    "// grades doesn't have index 7 as the size is 7\n",
    "grades[7] = 67;"
   ]
  },
  {
   "cell_type": "markdown",
   "metadata": {},
   "source": [
    "## Array and Pointers\n",
    "- there's a lot of similarity on how array and pointers work!\n",
    "    - they can be used interchangebly as needed"
   ]
  },
  {
   "cell_type": "code",
   "execution_count": 13,
   "metadata": {},
   "outputs": [],
   "source": [
    "int ids[] = {100, 200, 300, 400};"
   ]
  },
  {
   "cell_type": "code",
   "execution_count": 14,
   "metadata": {},
   "outputs": [],
   "source": [
    "// copy the base address of array\n",
    "// which is the address of element at index 0; which is &ids[0];\n",
    "int * ptr = ids;"
   ]
  },
  {
   "cell_type": "code",
   "execution_count": 15,
   "metadata": {},
   "outputs": [
    {
     "name": "stdout",
     "output_type": "stream",
     "text": [
      "0x7ffff7e45080 equals to 0x7ffff7e45080 equals to 0x7ffff7e45080"
     ]
    }
   ],
   "source": [
    "// print all the memory addresses\n",
    "cout << ptr << \" equals to \" << &ids[0] << \" equals to \" << ids;"
   ]
  },
  {
   "cell_type": "code",
   "execution_count": 16,
   "metadata": {},
   "outputs": [
    {
     "name": "stdout",
     "output_type": "stream",
     "text": [
      "100 equals to 100 equals to 100"
     ]
    }
   ],
   "source": [
    "// print the data\n",
    "cout << *ptr << \" equals to \" << ids[0] << \" equals to \" << *ids;"
   ]
  },
  {
   "cell_type": "code",
   "execution_count": 17,
   "metadata": {},
   "outputs": [],
   "source": [
    "// using pointers to traverse array\n",
    "// point to the second element\n",
    "ptr++;"
   ]
  },
  {
   "cell_type": "code",
   "execution_count": 18,
   "metadata": {},
   "outputs": [
    {
     "name": "stdout",
     "output_type": "stream",
     "text": [
      "200\n"
     ]
    }
   ],
   "source": [
    "cout << *ptr << endl;"
   ]
  },
  {
   "cell_type": "code",
   "execution_count": 19,
   "metadata": {},
   "outputs": [
    {
     "name": "stdout",
     "output_type": "stream",
     "text": [
      "0-> 100 == 100 == 100\n",
      "1-> 200 == 200 == 200\n",
      "2-> 300 == 300 == 300\n",
      "3-> 400 == 400 == 400\n"
     ]
    }
   ],
   "source": [
    "ptr = ids; // copy the base address\n",
    "for(int i=0; i<4; i++) {\n",
    "    cout << i << \"-> \" << *(ptr+i) << \" == \" << ptr[i] << \" == \" << ids[i] << endl;\n",
    "}"
   ]
  },
  {
   "cell_type": "markdown",
   "metadata": {},
   "source": [
    "## Dynamic array\n",
    "- array size can be determined during run time (program execution)\n",
    "    - once the size is set, it's fixed\n",
    "- local dynamic array is allocated on the heap memory segment using pointer and **new** operator\n",
    "- syntax to declare dynamic array:\n",
    "```cpp\n",
    "type * arrayName = new type[size];\n",
    "```\n",
    "- size can be a variable determined or assigned during program execution\n",
    "- once the dynamic array is declared, using dynamic array is same as using static array\n",
    "- dynamic memory must be deallocated to prevent memory leak\n",
    "- syntax:\n",
    "```\n",
    "delete[] arrayName;\n",
    "```\n",
    "\n",
    "### visualize dynamic array in [pythontutor.com](http://pythontutor.com/cpp.html#code=//%20pass%20by%20value%20demo%0A%23include%20%3Ciostream%3E%0Ausing%20namespace%20std%3B%0A%0Aint%20main%28%29%20%7B%0A%20%20size_t%20arr_size%20%3D%205%3B%0A%20%20int%20*%20nums%20%3D%20new%20int%5Barr_size%5D%3B%0A%20%20nums%5B0%5D%20%3D%2010%3B%0A%20%20nums%5B1%5D%20%3D%2020%3B%0A%20%20nums%5B2%5D%20%3D%2030%3B%0A%20%20nums%5B3%5D%20%3D%2040%3B%0A%20%20nums%5B4%5D%20%3D%2050%3B%0A%20%20nums%5B1%5D%20%3D%20nums%5B2%5D%20%2B%20nums%5B3%5D%3B%0A%20%20for%28int%20i%3D0%3B%20i%3C5%3B%20i%2B%2B%29%0A%20%20%20%20cout%20%3C%3C%20nums%5Bi%5D%20%3C%3C%20endl%3B%0A%20%20%0A%20%20delete%5B%5D%20nums%3B%0A%20%20return%200%3B%0A%7D&curInstr=0&mode=display&origin=opt-frontend.js&py=cpp&rawInputLstJSON=%5B%5D)"
   ]
  },
  {
   "cell_type": "code",
   "execution_count": 20,
   "metadata": {},
   "outputs": [],
   "source": [
    "size_t capacity;"
   ]
  },
  {
   "cell_type": "code",
   "execution_count": 21,
   "metadata": {},
   "outputs": [
    {
     "name": "stdout",
     "output_type": "stream",
     "text": [
      "How many integers would you like to enter? 3\n"
     ]
    }
   ],
   "source": [
    "cout << \"How many integers would you like to enter? \";\n",
    "cin >> capacity;"
   ]
  },
  {
   "cell_type": "code",
   "execution_count": 22,
   "metadata": {},
   "outputs": [],
   "source": [
    "int * some_array = new int[capacity];"
   ]
  },
  {
   "cell_type": "code",
   "execution_count": 23,
   "metadata": {},
   "outputs": [
    {
     "name": "stdout",
     "output_type": "stream",
     "text": [
      "Enter a number: 10\n",
      "Enter a number: 20\n",
      "Enter a number: 30\n"
     ]
    }
   ],
   "source": [
    "// prompt user to store capacity number of integers and store them into array\n",
    "for(int i=0; i<capacity; i++) {\n",
    "    cout << \"Enter a number: \";\n",
    "    cin >> some_array[i];\n",
    "}"
   ]
  },
  {
   "cell_type": "code",
   "execution_count": 24,
   "metadata": {},
   "outputs": [
    {
     "name": "stdout",
     "output_type": "stream",
     "text": [
      "3 10 30"
     ]
    }
   ],
   "source": [
    "// output some values\n",
    "cout << capacity << \" \" << some_array[0] << \" \" << some_array[capacity-1];"
   ]
  },
  {
   "cell_type": "markdown",
   "metadata": {},
   "source": [
    "## Aggregate operations on arrays\n",
    "- some commonly used aggregate operators are (=, math operators (+, \\*, etc.), comparison operators (>, ==, etc.)\n",
    "- array doesn't allow any aggregate operations as a whole\n",
    "    - e.g. copy one array into another; printing the whole array, etc. are arregate operations\n",
    "    - it doesn't make sense to compare two arrays (compare with what elements' values?)\n",
    "    - Input/Output needs to be done one element at a time\n",
    "    \n",
    "### shallow copy with = operator\n",
    "- both dynamic and static arrays CAN'T be copied to another static array using = operator\n",
    "- both dynamic and static array can be assigned to another dynamic array\n",
    "    - however, it doesn't actually copy the data\n",
    "- copying one array into another by its name copies only the base address\n",
    "    - thus creating two allias pointing to the same memory location\n",
    "    - if one is modified, the other is modified as well\n",
    "\n",
    "### visualize shallow copy using [pythontutor.com](http://pythontutor.com/cpp.html#code=//%20shallow%20copy%20array%0A%23include%20%3Ciostream%3E%0Ausing%20namespace%20std%3B%0A%0Aint%20main%28%29%20%7B%0A%20%20int%20array1%5B%5D%20%3D%20%7B1,%202,%203,%204%7D%3B%0A%20%20int%20*%20array2%20%3D%20new%20int%5B4%5D%3B%0A%20%20array2%20%3D%20array1%3B%0A%20%20array2%5B0%5D%20%3D%20100%3B%0A%20%20array1%5B3%5D%20%3D%20400%3B%0A%20%20return%200%3B%0A%7D&curInstr=0&mode=display&origin=opt-frontend.js&py=cpp&rawInputLstJSON=%5B%5D)"
   ]
  },
  {
   "cell_type": "code",
   "execution_count": 25,
   "metadata": {},
   "outputs": [],
   "source": [
    "int * copy_array = new int[arr_size];"
   ]
  },
  {
   "cell_type": "code",
   "execution_count": 26,
   "metadata": {},
   "outputs": [],
   "source": [
    "// try to copy some_array into copy_array as a whole\n",
    "copy_array = some_array;"
   ]
  },
  {
   "cell_type": "code",
   "execution_count": 27,
   "metadata": {},
   "outputs": [
    {
     "name": "stdout",
     "output_type": "stream",
     "text": [
      "10 == 10"
     ]
    }
   ],
   "source": [
    "// let's see some values\n",
    "cout << some_array[0] << \" == \" << copy_array[0];"
   ]
  },
  {
   "cell_type": "code",
   "execution_count": 28,
   "metadata": {},
   "outputs": [],
   "source": [
    "// let's update some_array\n",
    "some_array[0] = 100;"
   ]
  },
  {
   "cell_type": "code",
   "execution_count": 29,
   "metadata": {},
   "outputs": [
    {
     "name": "stdout",
     "output_type": "stream",
     "text": [
      "100 == 100"
     ]
    }
   ],
   "source": [
    "// now, let's see the value of copy_array[0]\n",
    "cout << some_array[0] << \" == \" << copy_array[0];"
   ]
  },
  {
   "cell_type": "markdown",
   "metadata": {},
   "source": [
    "### deep copy\n",
    "- deep copy refers to the actual copy of the data\n",
    "- data from one array must be copied to another array element by element\n",
    "- must write your own function or code to achieve the deep copy\n",
    "- Note: destination array type must match the source array type\n",
    "- Note: destination array size must be at least as big as the source array size"
   ]
  },
  {
   "cell_type": "code",
   "execution_count": 30,
   "metadata": {},
   "outputs": [],
   "source": [
    "// let's copy some_array created above\n",
    "// let's create an empty array to deep copy data to\n",
    "int * deep_copy = new int[capacity];"
   ]
  },
  {
   "cell_type": "code",
   "execution_count": 31,
   "metadata": {},
   "outputs": [],
   "source": [
    "// let's deep copy \n",
    "for(int i=0; i<capacity; i++)\n",
    "    deep_copy[i] = some_array[i];"
   ]
  },
  {
   "cell_type": "code",
   "execution_count": 32,
   "metadata": {},
   "outputs": [
    {
     "data": {
      "text/plain": [
       "200"
      ]
     },
     "execution_count": 32,
     "metadata": {},
     "output_type": "execute_result"
    }
   ],
   "source": [
    "// if one array is modified it doesn't affect the other array\n",
    "deep_copy[0] *= 2; // update the first element with twice its value"
   ]
  },
  {
   "cell_type": "code",
   "execution_count": 33,
   "metadata": {},
   "outputs": [
    {
     "name": "stdout",
     "output_type": "stream",
     "text": [
      "0 -> 200 100\n",
      "1 -> 20 20\n",
      "2 -> 30 30\n"
     ]
    }
   ],
   "source": [
    "// let's print the copied data side by side\n",
    "for(int i=0; i<capacity; i++) {\n",
    "    cout << i << \" -> \" << deep_copy[i] << \" \" << some_array[i] << endl;\n",
    "}"
   ]
  },
  {
   "cell_type": "code",
   "execution_count": 34,
   "metadata": {},
   "outputs": [
    {
     "data": {
      "text/plain": [
       "@0x7fffffffbf70"
      ]
     },
     "execution_count": 34,
     "metadata": {},
     "output_type": "execute_result"
    }
   ],
   "source": [
    "deep_copy"
   ]
  },
  {
   "cell_type": "markdown",
   "metadata": {},
   "source": [
    "## Passing array to function\n",
    "- arrays (both static and dynamic) can be passed to a function\n",
    "- array provides a very efficient way to pass a larger number of similar values without copying them\n",
    "    - pass-by reference is by default and the only way!\n",
    "    - array can't be pass-by value"
   ]
  },
  {
   "cell_type": "code",
   "execution_count": 35,
   "metadata": {},
   "outputs": [],
   "source": [
    "// since actual size of the array is not easy to determine,\n",
    "// size of the array is also passed as an argument\n",
    "void updateArray(int array[], int size) {\n",
    "    for(int i = 0; i<size; i++) {\n",
    "        array[i] *= 2; // simply double the value of each element\n",
    "    }\n",
    "}"
   ]
  },
  {
   "cell_type": "code",
   "execution_count": 36,
   "metadata": {},
   "outputs": [],
   "source": [
    "// print array function; notice passing pointer\n",
    "void printArray(int * array, int size) {\n",
    "    cout << \"{\";\n",
    "    for(int i=0; i<size; i++)\n",
    "        cout << array[i] << \", \";\n",
    "    cout << \"}\\n\";\n",
    "}"
   ]
  },
  {
   "cell_type": "code",
   "execution_count": 37,
   "metadata": {},
   "outputs": [
    {
     "name": "stdout",
     "output_type": "stream",
     "text": [
      "{100, 20, 30, 0, 32, 0, 737, }\n"
     ]
    }
   ],
   "source": [
    "printArray(some_array, arr_size);"
   ]
  },
  {
   "cell_type": "code",
   "execution_count": 38,
   "metadata": {},
   "outputs": [],
   "source": [
    "updateArray(some_array, arr_size);"
   ]
  },
  {
   "cell_type": "code",
   "execution_count": 39,
   "metadata": {},
   "outputs": [
    {
     "name": "stdout",
     "output_type": "stream",
     "text": [
      "{200, 40, 60, 0, 64, 0, 1474, }\n"
     ]
    }
   ],
   "source": [
    "printArray(some_array, arr_size);"
   ]
  },
  {
   "cell_type": "markdown",
   "metadata": {},
   "source": [
    "## Returning array from function\n",
    "- since assignment operator= is not allowed on array, returning a local static array is not possible\n",
    "- dynamic array is possbile but not the best practice!\n",
    "    - details as to why it's a bad practice is left for your own research and exploration\n",
    "    - it has to do with the ownership and memory management (deleting memory, etc.)\n",
    "- best practice is to pass an empty array (pass-by reference) and get it filled inside the function\n",
    "    - getting the data/result out of the function without explictly returing it from a function\n",
    "- quick demo of returning dynamic array can be visualized at [pythontutor.com](http://pythontutor.com/cpp.html#code=//%20returning%20dynamic%20array%20from%20a%20function%0A//%20not%20recommended%20best%20practice!%0A%23include%20%3Ciostream%3E%0Ausing%20namespace%20std%3B%0A%0Aint%20*%20getData%28%29%20%7B%0A%20%20int%20*%20nums%20%3D%20new%20int%5B2%5D%3B%0A%20%20nums%5B0%5D%20%3D%2010%3B%0A%20%20nums%5B1%5D%20%3D%2020%3B%0A%20%20return%20nums%3B%0A%7D%0A%0Aint%20main%28%29%20%7B%0A%20%20int%20*%20numsPtr%20%3D%20getData%28%29%3B%0A%20%20cout%20%3C%3C%20numsPtr%5B0%5D%20%3C%3C%20endl%3B%0A%20%20return%200%3B%0A%7D&curInstr=0&mode=display&origin=opt-frontend.js&py=cpp&rawInputLstJSON=%5B%5D) "
   ]
  },
  {
   "cell_type": "markdown",
   "metadata": {},
   "source": [
    "## Negative index and array bounds\n",
    "- TinyCore CTF level3 hint\n",
    "- negative index is allowed in array\n",
    "- you'll only get warning for going out of bounds on array on either end"
   ]
  },
  {
   "cell_type": "code",
   "execution_count": 40,
   "metadata": {},
   "outputs": [],
   "source": [
    "int nums2[] = {100, 200, 300};\n",
    "int nums[] = {1, 2, 3};\n",
    "int nums1[] = {10, 20, 30};"
   ]
  },
  {
   "cell_type": "code",
   "execution_count": 41,
   "metadata": {},
   "outputs": [
    {
     "name": "stdout",
     "output_type": "stream",
     "text": [
      "value at index 0 = 1\n"
     ]
    }
   ],
   "source": [
    "printf(\"value at index %d = %d\\n\", 0, nums[0]);"
   ]
  },
  {
   "cell_type": "code",
   "execution_count": 42,
   "metadata": {},
   "outputs": [
    {
     "name": "stdout",
     "output_type": "stream",
     "text": [
      "value at index 0 = 3\n"
     ]
    }
   ],
   "source": [
    "printf(\"value at index %d = %d\\n\", 0, nums[2]);"
   ]
  },
  {
   "cell_type": "code",
   "execution_count": 43,
   "metadata": {},
   "outputs": [
    {
     "name": "stderr",
     "output_type": "stream",
     "text": [
      "\u001b[1minput_line_55:2:40: \u001b[0m\u001b[0;1;35mwarning: \u001b[0m\u001b[1marray index 3 is past the end of the array (which contains 3 elements) [-Warray-bounds]\u001b[0m\n",
      " printf(\"value at index %d = %d\\n\", 0, nums[3]);\n",
      "\u001b[0;1;32m                                       ^    ~\n",
      "\u001b[0m\u001b[1minput_line_52:3:1: \u001b[0m\u001b[0;1;30mnote: \u001b[0marray 'nums' declared here\u001b[0m\n",
      "int nums[] = {1, 2, 3};\n",
      "\u001b[0;1;32m^\n",
      "\u001b[0m"
     ]
    },
    {
     "name": "stdout",
     "output_type": "stream",
     "text": [
      "value at index 0 = 10\n"
     ]
    }
   ],
   "source": [
    "printf(\"value at index %d = %d\\n\", 0, nums[3]);"
   ]
  },
  {
   "cell_type": "code",
   "execution_count": 44,
   "metadata": {},
   "outputs": [
    {
     "name": "stderr",
     "output_type": "stream",
     "text": [
      "\u001b[1minput_line_56:2:40: \u001b[0m\u001b[0;1;35mwarning: \u001b[0m\u001b[1marray index 5 is past the end of the array (which contains 3 elements) [-Warray-bounds]\u001b[0m\n",
      " printf(\"value at index %d = %d\\n\", 0, nums[5]);\n",
      "\u001b[0;1;32m                                       ^    ~\n",
      "\u001b[0m\u001b[1minput_line_52:3:1: \u001b[0m\u001b[0;1;30mnote: \u001b[0marray 'nums' declared here\u001b[0m\n",
      "int nums[] = {1, 2, 3};\n",
      "\u001b[0;1;32m^\n",
      "\u001b[0m"
     ]
    },
    {
     "name": "stdout",
     "output_type": "stream",
     "text": [
      "value at index 0 = 30\n"
     ]
    }
   ],
   "source": [
    "printf(\"value at index %d = %d\\n\", 0, nums[5]);"
   ]
  },
  {
   "cell_type": "code",
   "execution_count": 45,
   "metadata": {},
   "outputs": [
    {
     "name": "stderr",
     "output_type": "stream",
     "text": [
      "\u001b[1minput_line_57:2:40: \u001b[0m\u001b[0;1;35mwarning: \u001b[0m\u001b[1marray index -1 is before the beginning of the array [-Warray-bounds]\u001b[0m\n",
      " printf(\"value at index %d = %d\\n\", 0, nums[-1]);\n",
      "\u001b[0;1;32m                                       ^    ~~\n",
      "\u001b[0m\u001b[1minput_line_52:3:1: \u001b[0m\u001b[0;1;30mnote: \u001b[0marray 'nums' declared here\u001b[0m\n",
      "int nums[] = {1, 2, 3};\n",
      "\u001b[0;1;32m^\n",
      "\u001b[0m"
     ]
    },
    {
     "name": "stdout",
     "output_type": "stream",
     "text": [
      "value at index 0 = 300\n"
     ]
    }
   ],
   "source": [
    "printf(\"value at index %d = %d\\n\", 0, nums[-1]);"
   ]
  },
  {
   "cell_type": "code",
   "execution_count": 46,
   "metadata": {},
   "outputs": [
    {
     "name": "stderr",
     "output_type": "stream",
     "text": [
      "\u001b[1minput_line_58:2:40: \u001b[0m\u001b[0;1;35mwarning: \u001b[0m\u001b[1marray index -3 is before the beginning of the array [-Warray-bounds]\u001b[0m\n",
      " printf(\"value at index %d = %d\\n\", 0, nums[-3]);\n",
      "\u001b[0;1;32m                                       ^    ~~\n",
      "\u001b[0m\u001b[1minput_line_52:3:1: \u001b[0m\u001b[0;1;30mnote: \u001b[0marray 'nums' declared here\u001b[0m\n",
      "int nums[] = {1, 2, 3};\n",
      "\u001b[0;1;32m^\n",
      "\u001b[0m"
     ]
    },
    {
     "name": "stdout",
     "output_type": "stream",
     "text": [
      "value at index 0 = 100\n"
     ]
    }
   ],
   "source": [
    "printf(\"value at index %d = %d\\n\", 0, nums[-3]);"
   ]
  },
  {
   "cell_type": "code",
   "execution_count": null,
   "metadata": {},
   "outputs": [],
   "source": []
  }
 ],
 "metadata": {
  "kernelspec": {
   "display_name": "C++17",
   "language": "C++17",
   "name": "xcpp17"
  },
  "language_info": {
   "codemirror_mode": "text/x-c++src",
   "file_extension": ".cpp",
   "mimetype": "text/x-c++src",
   "name": "c++",
   "version": "17"
  }
 },
 "nbformat": 4,
 "nbformat_minor": 4
}
