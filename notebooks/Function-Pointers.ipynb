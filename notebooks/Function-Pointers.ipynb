{
 "cells": [
  {
   "cell_type": "markdown",
   "metadata": {},
   "source": [
    "# Functions pointers\n",
    "\n",
    "- pointers can store addresses of functions as well; called function pointers\n",
    "- used for passing a function as an argument to another higher order function\n",
    "- declaring function pointer is very similar to declaring functions\n",
    "- parenthesis around function pointer name is required!\n",
    "- syntax:\n",
    "```c++\n",
    "    type (* functionPtrName) ( parameter list... );\n",
    "```"
   ]
  },
  {
   "cell_type": "code",
   "execution_count": 1,
   "metadata": {},
   "outputs": [],
   "source": [
    "#include <iostream>\n",
    "#include <cstdio>\n",
    "\n",
    "using namespace std;"
   ]
  },
  {
   "cell_type": "code",
   "execution_count": 2,
   "metadata": {},
   "outputs": [],
   "source": [
    "// function that takes two integers and returns the sum\n",
    "int addition (int a, int b) { \n",
    "    return (a + b); \n",
    "}"
   ]
  },
  {
   "cell_type": "code",
   "execution_count": 3,
   "metadata": {},
   "outputs": [],
   "source": [
    "int subtraction (int a, int b) {\n",
    "    return (a - b);\n",
    "}"
   ]
  },
  {
   "cell_type": "code",
   "execution_count": 4,
   "metadata": {},
   "outputs": [],
   "source": [
    "int multiplication(int a, int b) {\n",
    "    return a*b;\n",
    "}"
   ]
  },
  {
   "cell_type": "code",
   "execution_count": 5,
   "metadata": {},
   "outputs": [],
   "source": [
    "int operation (int x, int y, int (*func)(int, int)) {\n",
    "  int g;\n",
    "  g = (*func)(x, y); // dereferece func\n",
    "  return g;\n",
    "}"
   ]
  },
  {
   "cell_type": "code",
   "execution_count": 6,
   "metadata": {},
   "outputs": [],
   "source": [
    "// declare a function pointer func\n",
    "int (* func)(int, int);"
   ]
  },
  {
   "cell_type": "code",
   "execution_count": 7,
   "metadata": {},
   "outputs": [
    {
     "data": {
      "text/plain": [
       "@0x7ffee65fc140"
      ]
     },
     "execution_count": 7,
     "metadata": {},
     "output_type": "execute_result"
    }
   ],
   "source": [
    "func = addition"
   ]
  },
  {
   "cell_type": "code",
   "execution_count": 8,
   "metadata": {},
   "outputs": [
    {
     "name": "stdout",
     "output_type": "stream",
     "text": [
      "10 + 20 = 30"
     ]
    }
   ],
   "source": [
    "cout << \"10 + 20 = \" << func(10, 20);"
   ]
  },
  {
   "cell_type": "code",
   "execution_count": 9,
   "metadata": {},
   "outputs": [
    {
     "data": {
      "text/plain": [
       "@0x7ffee65fc140"
      ]
     },
     "execution_count": 9,
     "metadata": {},
     "output_type": "execute_result"
    }
   ],
   "source": [
    "func = subtraction"
   ]
  },
  {
   "cell_type": "code",
   "execution_count": 10,
   "metadata": {},
   "outputs": [
    {
     "name": "stdout",
     "output_type": "stream",
     "text": [
      "10 - 20 = -10"
     ]
    }
   ],
   "source": [
    "cout << \"10 - 20 = \" << func(10, 20);"
   ]
  },
  {
   "cell_type": "code",
   "execution_count": 11,
   "metadata": {},
   "outputs": [
    {
     "data": {
      "text/plain": [
       "@0x7ffee65fc140"
      ]
     },
     "execution_count": 11,
     "metadata": {},
     "output_type": "execute_result"
    }
   ],
   "source": [
    "func = multiplication"
   ]
  },
  {
   "cell_type": "code",
   "execution_count": 12,
   "metadata": {},
   "outputs": [
    {
     "name": "stdout",
     "output_type": "stream",
     "text": [
      "10 * 20 = 200"
     ]
    }
   ],
   "source": [
    "cout << \"10 * 20 = \" << func(10, 20);"
   ]
  },
  {
   "cell_type": "code",
   "execution_count": 13,
   "metadata": {},
   "outputs": [],
   "source": [
    "// array of function pointer\n",
    "int (* functions[])(int, int) = {addition, subtraction, multiplication};"
   ]
  },
  {
   "cell_type": "code",
   "execution_count": 14,
   "metadata": {},
   "outputs": [
    {
     "name": "stdout",
     "output_type": "stream",
     "text": [
      "10 + 20 = 30"
     ]
    }
   ],
   "source": [
    "cout << \"10 + 20 = \" << functions[0](10, 20);"
   ]
  },
  {
   "cell_type": "code",
   "execution_count": 15,
   "metadata": {},
   "outputs": [
    {
     "name": "stdout",
     "output_type": "stream",
     "text": [
      "10 - 20 = -10"
     ]
    }
   ],
   "source": [
    "cout << \"10 - 20 = \" << functions[1](10, 20);"
   ]
  },
  {
   "cell_type": "code",
   "execution_count": 16,
   "metadata": {},
   "outputs": [
    {
     "name": "stdout",
     "output_type": "stream",
     "text": [
      "10 * 20 = 200"
     ]
    }
   ],
   "source": [
    "cout << \"10 * 20 = \" << functions[2](10, 20);"
   ]
  },
  {
   "cell_type": "code",
   "execution_count": 17,
   "metadata": {},
   "outputs": [],
   "source": [
    "int x, y;"
   ]
  },
  {
   "cell_type": "code",
   "execution_count": 18,
   "metadata": {},
   "outputs": [],
   "source": [
    "x = 10; y = 20;"
   ]
  },
  {
   "cell_type": "code",
   "execution_count": 19,
   "metadata": {},
   "outputs": [
    {
     "name": "stdout",
     "output_type": "stream",
     "text": [
      "address of function 0 = 0x109f750c0\n",
      "function 0 result = 30\n",
      "function 0 result = 30\n",
      "address of function 1 = 0x109fa50b0\n",
      "function 1 result = -10\n",
      "function 1 result = -10\n",
      "address of function 2 = 0x109fc30b0\n",
      "function 2 result = 200\n",
      "function 2 result = 200\n"
     ]
    }
   ],
   "source": [
    "// different ways to invoke functions\n",
    "for (int i=0; i<3; i++) {\n",
    "    printf(\"address of function %d = %p\\n\", i, functions[i]);\n",
    "    printf(\"function %d result = %d\\n\", i, (*(functions+i))(x, y));\n",
    "    printf(\"function %d result = %d\\n\", i, functions[i](x, y));\n",
    "}"
   ]
  },
  {
   "cell_type": "code",
   "execution_count": 20,
   "metadata": {},
   "outputs": [
    {
     "name": "stdout",
     "output_type": "stream",
     "text": [
      "address of addition = 0x109f750c0\n",
      "address of subtraction = 0x109fa50b0\n",
      "address of multiplication = 0x109fc30b0\n"
     ]
    }
   ],
   "source": [
    "// let's print the addres\n",
    "printf(\"address of addition = %p\\n\", addition);\n",
    "printf(\"address of subtraction = %p\\n\", &subtraction);\n",
    "printf(\"address of multiplication = %p\\n\", &multiplication);"
   ]
  },
  {
   "cell_type": "code",
   "execution_count": null,
   "metadata": {},
   "outputs": [],
   "source": []
  }
 ],
 "metadata": {
  "kernelspec": {
   "display_name": "C++14",
   "language": "C++14",
   "name": "xcpp14"
  },
  "language_info": {
   "codemirror_mode": "text/x-c++src",
   "file_extension": ".cpp",
   "mimetype": "text/x-c++src",
   "name": "c++",
   "version": "14"
  }
 },
 "nbformat": 4,
 "nbformat_minor": 4
}
