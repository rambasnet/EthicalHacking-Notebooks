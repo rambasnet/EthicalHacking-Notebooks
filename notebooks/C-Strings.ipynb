{
 "cells": [
  {
   "cell_type": "markdown",
   "metadata": {},
   "source": [
    "# C Strings\n",
    "\n",
    "- also called buffer that can store range of bytes/characters (string)\n",
    "- C programming language doesn't provide a type to work string data\n",
    "- C++ provies `<string>` class library that makes it easier to work with string data\n",
    "- this is a quick review of C-string and the library functions to deal with the string data\n",
    "- c-string requires array of **char** to store string\n",
    "- `cin` and other operations on c-strings are not easier without knowing array and pointers well"
   ]
  },
  {
   "cell_type": "markdown",
   "metadata": {},
   "source": [
    "## C++ string objects\n",
    "- std::string is a std::basic_string&lt;char&gt; template type defined in **string** header\n",
    "- more: https://en.cppreference.com/w/cpp/string/basic_string\n",
    "- string is an advanced type of container with many member variables and member functions\n",
    "    - variables of advanced type are called objects\n",
    "    - member functions are called methods\n",
    "    - one can define any type using **struct** or **class** that we'll learn later"
   ]
  },
  {
   "cell_type": "code",
   "execution_count": 1,
   "metadata": {},
   "outputs": [],
   "source": [
    "#include <string> // C++ string\n",
    "#include <cstdio>\n",
    "#include <iostream>\n",
    "\n",
    "using namespace std;\n",
    "\n",
    "// declare a string variable/object\n",
    "string first;"
   ]
  },
  {
   "cell_type": "code",
   "execution_count": 3,
   "metadata": {},
   "outputs": [],
   "source": [
    "// assing string value to string object\n",
    "first = \"Hello, \";"
   ]
  },
  {
   "cell_type": "code",
   "execution_count": 4,
   "metadata": {},
   "outputs": [],
   "source": [
    "// declare and initialize string object\n",
    "string second = \"World\";"
   ]
  },
  {
   "cell_type": "code",
   "execution_count": 5,
   "metadata": {},
   "outputs": [
    {
     "name": "stdout",
     "output_type": "stream",
     "text": [
      "Hello,  World!\n"
     ]
    }
   ],
   "source": [
    "// std output C++ string\n",
    "cout << first << ' ' << second << '!' << endl;"
   ]
  },
  {
   "cell_type": "code",
   "execution_count": 6,
   "metadata": {},
   "outputs": [
    {
     "name": "stdout",
     "output_type": "stream",
     "text": [
      "Enter your first name: John\n"
     ]
    }
   ],
   "source": [
    "// std input C++ string\n",
    "cout << \"Enter your first name: \";\n",
    "cin >> first;"
   ]
  },
  {
   "cell_type": "code",
   "execution_count": 8,
   "metadata": {},
   "outputs": [
    {
     "name": "stdout",
     "output_type": "stream",
     "text": [
      "Hello, John!"
     ]
    }
   ],
   "source": [
    "// converting c++string to c_string for printf function\n",
    "printf(\"Hello, %s!\", first.c_str());"
   ]
  },
  {
   "cell_type": "markdown",
   "metadata": {},
   "source": [
    "## C-string\n",
    "\n",
    "- C language doesn't have a type defiend to work with string like in C++\n",
    "- now that we understand pointer and C-array, let's revisit C-string\n",
    "- C-string is array of characters that ends with a NULL character '\\0' (ASCII 0)"
   ]
  },
  {
   "cell_type": "code",
   "execution_count": 9,
   "metadata": {},
   "outputs": [],
   "source": [
    "// declare and initialization is easier\n",
    "// null character is automatically added at the end!\n",
    "char name[] = \"John Smith\";"
   ]
  },
  {
   "cell_type": "code",
   "execution_count": 10,
   "metadata": {},
   "outputs": [],
   "source": [
    "// once declared; working with C-string is pain\n",
    "// work one character at a time!\n",
    "char f_name[10];"
   ]
  },
  {
   "cell_type": "code",
   "execution_count": 11,
   "metadata": {},
   "outputs": [],
   "source": [
    "f_name[0] = 'J';\n",
    "f_name[1] = 'a';\n",
    "f_name[2] = 'k';\n",
    "f_name[3] = 'e'; \n",
    "f_name[4] = '\\0';"
   ]
  },
  {
   "cell_type": "code",
   "execution_count": 12,
   "metadata": {},
   "outputs": [
    {
     "name": "stdout",
     "output_type": "stream",
     "text": [
      "Jake"
     ]
    }
   ],
   "source": [
    "// C-string must end with null-character '\\0'\n",
    "cout << f_name;"
   ]
  },
  {
   "cell_type": "code",
   "execution_count": 13,
   "metadata": {},
   "outputs": [
    {
     "name": "stdout",
     "output_type": "stream",
     "text": [
      "Hello, Jake\n"
     ]
    }
   ],
   "source": [
    "printf(\"Hello, %s\\n\", f_name);"
   ]
  },
  {
   "cell_type": "markdown",
   "metadata": {},
   "source": [
    "## Library Functions to work with C-string\n",
    "- http://www.cplusplus.com/reference/cstring/\n",
    "- strcpy, strcat, strlen - are commonly used operations on c-strings"
   ]
  },
  {
   "cell_type": "markdown",
   "metadata": {},
   "source": [
    "## Array of char *\n",
    "- array of C-string (char *)\n",
    "- similar to array of C++ string conceptually; harder to work with however!\n",
    "- must use as a parameter for **main(int argc, char* argv[])**\n"
   ]
  },
  {
   "cell_type": "code",
   "execution_count": 4,
   "metadata": {},
   "outputs": [],
   "source": [
    "// create array of char * that stores addresses of 4 c-strings\n",
    "char * stuff[4];"
   ]
  },
  {
   "cell_type": "code",
   "execution_count": 5,
   "metadata": {},
   "outputs": [],
   "source": [
    "char val1[20] = \"ball\";"
   ]
  },
  {
   "cell_type": "code",
   "execution_count": 6,
   "metadata": {},
   "outputs": [],
   "source": [
    "char val2[20] = \"test\";"
   ]
  },
  {
   "cell_type": "code",
   "execution_count": 7,
   "metadata": {},
   "outputs": [
    {
     "data": {
      "text/plain": [
       "\"ball\""
      ]
     },
     "execution_count": 7,
     "metadata": {},
     "output_type": "execute_result"
    }
   ],
   "source": [
    "stuff[0] = val1; // copy address of val1 to stuff[0]"
   ]
  },
  {
   "cell_type": "code",
   "execution_count": 8,
   "metadata": {},
   "outputs": [
    {
     "data": {
      "text/plain": [
       "\"test\""
      ]
     },
     "execution_count": 8,
     "metadata": {},
     "output_type": "execute_result"
    }
   ],
   "source": [
    "stuff[1] = val2; // cop address of val2 to stuff[1]"
   ]
  },
  {
   "cell_type": "markdown",
   "metadata": {},
   "source": [
    "### passing array of char * to function"
   ]
  },
  {
   "cell_type": "code",
   "execution_count": 2,
   "metadata": {},
   "outputs": [],
   "source": [
    "// write a function similar to main\n",
    "int my_main(int argc, char* argv[]) {\n",
    "    cout << \"argc = \" << argc << endl;\n",
    "    for(int i=0; i< argc; i++) {\n",
    "        printf(\"argv[%d] = '%s'\\n\", i, argv[i]);\n",
    "        if (string(argv[i]) == \"test\")\n",
    "            cout << \"test is found in argv[]\\n\";\n",
    "    }\n",
    "    return 0;\n",
    "}"
   ]
  },
  {
   "cell_type": "code",
   "execution_count": 9,
   "metadata": {},
   "outputs": [
    {
     "name": "stdout",
     "output_type": "stream",
     "text": [
      "argc = 2\n",
      "argv[0] = 'ball'\n",
      "argv[1] = 'test'\n",
      " test is found in argv[]\n"
     ]
    }
   ],
   "source": [
    "my_main(2, stuff);"
   ]
  },
  {
   "cell_type": "code",
   "execution_count": null,
   "metadata": {},
   "outputs": [],
   "source": []
  }
 ],
 "metadata": {
  "kernelspec": {
   "display_name": "C++17",
   "language": "C++17",
   "name": "xcpp17"
  },
  "language_info": {
   "codemirror_mode": "text/x-c++src",
   "file_extension": ".cpp",
   "mimetype": "text/x-c++src",
   "name": "c++",
   "version": "17"
  }
 },
 "nbformat": 4,
 "nbformat_minor": 2
}
