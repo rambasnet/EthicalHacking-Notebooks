{
 "cells": [
  {
   "cell_type": "markdown",
   "metadata": {},
   "source": [
    "# User Defined Functions and Unit testing"
   ]
  },
  {
   "cell_type": "markdown",
   "metadata": {},
   "source": [
    "## Adding new functions\n",
    "\n",
    "- we've used a several functions provided in various standard libraries\n",
    "- **main( )** is a function that is required for any C++ program\n",
    "    - indicates where the execution of the program begins\n",
    "- one can add as many functions as required in the program\n",
    "- function is a block of code that execute as a group\n",
    "- the ultimate goal of the function is to break the problem into smaller sub-problems\n",
    "- if you have many tasks/steps in algoritm steps, function can be used to solve each task/step\n",
    "- using function is a two-step process\n",
    "    1. define a function\n",
    "    2. call or use the function\n",
    "\n",
    "### Why functions?\n",
    "\n",
    "- dividing a program into functions or sub-programs have several advantages\n",
    "    - each sub-problem can be solved using a function\n",
    "    - makes it easier to design a solution to a big problem\n",
    "    - makes the solution modular\n",
    "    - helps reuse the code\n",
    "        - function once defined can be used many times!\n",
    "    - makes the solution concise\n",
    "    - helps test and update a part of program without affecting the rest\n",
    "    - makes it easier to work in a team where each member can focus on a function"
   ]
  },
  {
   "cell_type": "code",
   "execution_count": 1,
   "metadata": {},
   "outputs": [],
   "source": [
    "#include <iostream>\n",
    "using namespace std;"
   ]
  },
  {
   "cell_type": "code",
   "execution_count": 2,
   "metadata": {},
   "outputs": [],
   "source": [
    "//1. define a function that prints Hello World!\n",
    "void sayHello() {\n",
    "    cout << \"Hello World!\" << endl;\n",
    "}"
   ]
  },
  {
   "cell_type": "code",
   "execution_count": 3,
   "metadata": {},
   "outputs": [
    {
     "name": "stdout",
     "output_type": "stream",
     "text": [
      "Hello World!\n"
     ]
    }
   ],
   "source": [
    "// 2. call sayHello\n",
    "sayHello();"
   ]
  },
  {
   "cell_type": "code",
   "execution_count": 4,
   "metadata": {},
   "outputs": [],
   "source": [
    "// define a function that prints Hello World! three times\n",
    "// caller function\n",
    "void sayHelloThrice() {\n",
    "    // caller calls other functions\n",
    "    sayHello(); // callee\n",
    "    sayHello(); // callee\n",
    "    cout << \"Hello World!\" << endl;\n",
    "}"
   ]
  },
  {
   "cell_type": "code",
   "execution_count": 5,
   "metadata": {},
   "outputs": [
    {
     "name": "stdout",
     "output_type": "stream",
     "text": [
      "Hello World!\n",
      "Hello World!\n",
      "Hello World!\n"
     ]
    }
   ],
   "source": [
    "// call sayHelloThrice\n",
    "sayHelloThrice();"
   ]
  },
  {
   "cell_type": "code",
   "execution_count": 6,
   "metadata": {},
   "outputs": [],
   "source": [
    "// define a function that greets a person by their name\n",
    "#include <string>\n",
    "\n",
    "// name is the only parameter of type string\n",
    "void greeting(string name) {\n",
    "    cout << \"Hello there, \" << name << endl;\n",
    "}"
   ]
  },
  {
   "cell_type": "code",
   "execution_count": 7,
   "metadata": {},
   "outputs": [
    {
     "name": "stderr",
     "output_type": "stream",
     "text": [
      "\u001b[1minput_line_16:3:1: \u001b[0m\u001b[0;1;31merror: \u001b[0m\u001b[1mno matching function for call to 'greeting'\u001b[0m\n",
      "greeting();\n",
      "\u001b[0;1;32m^~~~~~~~\n",
      "\u001b[0m\u001b[1minput_line_15:2:6: \u001b[0m\u001b[0;1;30mnote: \u001b[0mcandidate function not viable: requires single argument 'name', but no arguments were provided\u001b[0m\n",
      "void greeting(string name) {\n",
      "\u001b[0;1;32m     ^\n",
      "\u001b[0m"
     ]
    },
    {
     "ename": "Interpreter Error",
     "evalue": "",
     "output_type": "error",
     "traceback": [
      "Interpreter Error: "
     ]
    }
   ],
   "source": [
    "// wrong way... calling greeting without argument will generate error!\n",
    "greeting();"
   ]
  },
  {
   "cell_type": "code",
   "execution_count": 8,
   "metadata": {},
   "outputs": [
    {
     "name": "stdout",
     "output_type": "stream",
     "text": [
      "Hello there, John\n"
     ]
    }
   ],
   "source": [
    "// right way: calling greeting with one string argument\n",
    "greeting(\"John\"); // passing literal value"
   ]
  },
  {
   "cell_type": "code",
   "execution_count": 9,
   "metadata": {},
   "outputs": [
    {
     "name": "stderr",
     "output_type": "stream",
     "text": [
      "\u001b[1minput_line_18:3:1: \u001b[0m\u001b[0;1;31merror: \u001b[0m\u001b[1mno matching function for call to 'greeting'\u001b[0m\n",
      "greeting(123);\n",
      "\u001b[0;1;32m^~~~~~~~\n",
      "\u001b[0m\u001b[1minput_line_15:2:6: \u001b[0m\u001b[0;1;30mnote: \u001b[0mcandidate function not viable: no known conversion from 'int' to 'std::__cxx11::string'\n",
      "      (aka 'basic_string<char>') for 1st argument\u001b[0m\n",
      "void greeting(string name) {\n",
      "\u001b[0;1;32m     ^\n",
      "\u001b[0m"
     ]
    },
    {
     "ename": "Interpreter Error",
     "evalue": "",
     "output_type": "error",
     "traceback": [
      "Interpreter Error: "
     ]
    }
   ],
   "source": [
    "// wrong way to call greeting passing wrong type of argument\n",
    "greeting(123);"
   ]
  },
  {
   "cell_type": "markdown",
   "metadata": {},
   "source": [
    "## Types of functions\n",
    "- functions can be roughly divided into two types:\n",
    "    1. void functions or fruitless functions\n",
    "        - functions that do not return any value\n",
    "        - all the functions defined previously in this notebook are void functions\n",
    "        - NOTE: printing result/value is NOT the same as returning value\n",
    "    2. type functions or fruitful functions\n",
    "        - functions that return some value\n",
    "- syntax of fruitful functions\n",
    "\n",
    "```cpp\n",
    "    type NAME(type PARAMETER1, ...) {\n",
    "        // body\n",
    "        return someValue;\n",
    "    }\n",
    "```\n",
    "\n",
    "- type of the return value must match the type of the function NAME\n",
    "- fruitful parameterized functions are the most useful ones\n",
    "    - can use the returned value however you want!\n",
    "    - can automatically test the results from the functions\n",
    "    - most library functions are fruitful and parameterized"
   ]
  },
  {
   "cell_type": "code",
   "execution_count": 10,
   "metadata": {},
   "outputs": [],
   "source": [
    "// define a function that takes two numbers and returns their sum\n",
    "long find_sum(int num1, int num2) {\n",
    "    long total = num1 + num2;\n",
    "    return total;\n",
    "}"
   ]
  },
  {
   "cell_type": "code",
   "execution_count": 11,
   "metadata": {},
   "outputs": [
    {
     "data": {
      "text/plain": [
       "20"
      ]
     },
     "execution_count": 11,
     "metadata": {},
     "output_type": "execute_result"
    }
   ],
   "source": [
    "// call function with values\n",
    "find_sum(12, 8);\n",
    "// where is the returned value or result?"
   ]
  },
  {
   "cell_type": "markdown",
   "metadata": {},
   "source": [
    "## Passing data/value or reference\n",
    "- C++ provides two ways to pass data to functions:\n",
    "    1. pass by value\n",
    "    2. pass by reference\n",
    "    \n",
    "### pass by value\n",
    " - data of argument is copied into parameter\n",
    " - default way the data is passed as we've seen above examples\n",
    " - easier to understand; no side effect\n",
    " - slower to copy large amount of data\n",
    " - since the data is copied, anything done to the data via parameter doesn't affect the actual argument\n",
    "     - if the formal parameter is modified, the actual parameter or argument is not modified!"
   ]
  },
  {
   "cell_type": "code",
   "execution_count": 12,
   "metadata": {},
   "outputs": [],
   "source": [
    "// function to demonstrate pass by value\n",
    "// num1 and num2 are also called formal parameters\n",
    "long another_sum(int num1, int num2) {\n",
    "  num1 += 10; // we don't do this, but only to demonstrate pass by value\n",
    "  num2 += 20;\n",
    "  long total = num1 + num2;\n",
    "  return total;\n",
    "}"
   ]
  },
  {
   "cell_type": "code",
   "execution_count": 13,
   "metadata": {},
   "outputs": [],
   "source": [
    "// pass data stored in variables; declare variables\n",
    "int n1, n2;\n",
    "long answer;"
   ]
  },
  {
   "cell_type": "code",
   "execution_count": 14,
   "metadata": {},
   "outputs": [
    {
     "name": "stdout",
     "output_type": "stream",
     "text": [
      "20 + 30 = 80\n"
     ]
    },
    {
     "data": {
      "text/plain": [
       "@0x7ffff7fc7b60"
      ]
     },
     "execution_count": 14,
     "metadata": {},
     "output_type": "execute_result"
    }
   ],
   "source": [
    "n1 = 20;\n",
    "n2 = 30;\n",
    "// n1 and n2 are actual parameters or arguments\n",
    "answer = another_sum(n1, n2);\n",
    "cout << n1 << \" + \" << n2 << \" = \" << answer << endl;\n",
    "// gives wrong answer because another_sum() is not correctly implemented\n",
    "// at least values of n1 and n2 remain intact, because of the way pass by value works!"
   ]
  },
  {
   "cell_type": "markdown",
   "metadata": {},
   "source": [
    "### visualize pass by value on [pythontutor.com](http://pythontutor.com/cpp.html#code=//%20pass%20by%20value%20demo%0A%23include%20%3Ciostream%3E%0Ausing%20namespace%20std%3B%0A%0Along%20sum%28int%20num1,%20int%20num2%29%20%7B%0A%20%20num1%20%2B%3D%2010%3B%0A%20%20num2%20%2B%3D%2020%3B%0A%20%20long%20total%20%3D%20num1%20%2B%20num2%3B%0A%20%20return%20total%3B%0A%7D%0A%0Aint%20main%28%29%20%7B%0A%20%20int%20n1,%20n2%3B%0A%20%20n1%20%3D%2020%3B%0A%20%20n2%20%3D%2030%3B%0A%20%20cout%20%3C%3C%20n1%20%3C%3C%20%22%20%2B%20%22%20%3C%3C%20n2%20%3C%3C%20%22%20%3D%20%22%20%3C%3C%20sum%28n1,%20n2%29%20%3C%3C%20endl%3B%0A%20%20//%20n1%20and%20n2%20still%20have%20same%20original%20values%0A%20%20return%200%3B%0A%7D&curInstr=0&mode=display&origin=opt-frontend.js&py=cpp&rawInputLstJSON=%5B%5D)\n",
    "\n",
    "### pass by reference\n",
    "- copying data is expensive/slow operation in terms of memory usage and CPU time\n",
    "    - avoid copying data with **pass by reference** technique\n",
    "- pass by reference occurs when the parameter has **&** symbol in-between the type and name\n",
    "- syntax for pass by reference:\n",
    "\n",
    "```cpp\n",
    "    // function definition\n",
    "    type NAME(type & PARAMETER1, type & PARAMETER2,...) {\n",
    "        // body\n",
    "    }\n",
    "    // function call\n",
    "    NAME(argument1, argument2, ...);\n",
    "```\n",
    "\n",
    "- data is not copied but the refernce (memory address) is passed to function\n",
    "    - meaning actual and formal parameter reference the same memory location\n",
    "- ONLY variable arguments (NOT literal) can be passed to the reference parameters\n",
    "- if the formal parameter is modified, argument or actual parameter is also modified!\n",
    "- efficient, but may have unintended side effect\n",
    "- provides a way to retrieve data from function!"
   ]
  },
  {
   "cell_type": "code",
   "execution_count": 15,
   "metadata": {},
   "outputs": [],
   "source": [
    "// function to demonstrate pass by reference\n",
    "// num1 and num2 are also called formal parameters that are passed by reference\n",
    "long yet_another_sum(int & num1, int & num2) {\n",
    "  long total = num1 + num2;\n",
    "  return total;\n",
    "}"
   ]
  },
  {
   "cell_type": "code",
   "execution_count": 16,
   "metadata": {},
   "outputs": [
    {
     "name": "stderr",
     "output_type": "stream",
     "text": [
      "\u001b[1minput_line_29:3:1: \u001b[0m\u001b[0;1;31merror: \u001b[0m\u001b[1mno matching function for call to 'yet_another_sum'\u001b[0m\n",
      "yet_another_sum(20, 30)\n",
      "\u001b[0;1;32m^~~~~~~~~~~~~~~\n",
      "\u001b[0m\u001b[1minput_line_28:3:6: \u001b[0m\u001b[0;1;30mnote: \u001b[0mcandidate function not viable: expects an l-value for 1st argument\u001b[0m\n",
      "long yet_another_sum(int & num1, int & num2) {\n",
      "\u001b[0;1;32m     ^\n",
      "\u001b[0m"
     ]
    },
    {
     "ename": "Interpreter Error",
     "evalue": "",
     "output_type": "error",
     "traceback": [
      "Interpreter Error: "
     ]
    }
   ],
   "source": [
    "// can't pass literals for pass by reference parameters\n",
    "yet_another_sum(20, 30)"
   ]
  },
  {
   "cell_type": "code",
   "execution_count": 17,
   "metadata": {},
   "outputs": [
    {
     "name": "stdout",
     "output_type": "stream",
     "text": [
      "20 + 30 = 50\n"
     ]
    },
    {
     "data": {
      "text/plain": [
       "@0x7ffff7fc7b60"
      ]
     },
     "execution_count": 17,
     "metadata": {},
     "output_type": "execute_result"
    }
   ],
   "source": [
    "// n1 and n2 are already declared as integers above\n",
    "n1 = 20;\n",
    "n2 = 30;\n",
    "// n1 and n2 are actual parameters or arguments\n",
    "answer = yet_another_sum(n1, n2);\n",
    "cout << n1 << \" + \" << n2 << \" = \" << answer << endl;\n",
    "// gives right answer n1 and n2 values are modified"
   ]
  },
  {
   "cell_type": "code",
   "execution_count": 18,
   "metadata": {},
   "outputs": [],
   "source": [
    "// swap function \n",
    "// swaps/exchanges the values of two variables\n",
    "void intSwap(int & n1, int & n2) {\n",
    "    int temp = n1;\n",
    "    n1 = n2;\n",
    "    n2 = temp;\n",
    "}"
   ]
  },
  {
   "cell_type": "code",
   "execution_count": 19,
   "metadata": {},
   "outputs": [],
   "source": [
    "// let's swap the values of these two variables\n",
    "int value1 = 10;\n",
    "int value2 = 1000;"
   ]
  },
  {
   "cell_type": "code",
   "execution_count": 20,
   "metadata": {},
   "outputs": [],
   "source": [
    "intSwap(value1, value2);"
   ]
  },
  {
   "cell_type": "code",
   "execution_count": 21,
   "metadata": {},
   "outputs": [
    {
     "name": "stdout",
     "output_type": "stream",
     "text": [
      "1000 10\n"
     ]
    }
   ],
   "source": [
    "cout << value1 << \" \" << value2 << endl;"
   ]
  },
  {
   "cell_type": "markdown",
   "metadata": {},
   "source": [
    "### visualize pass by reference on [pythontutor.com](http://pythontutor.com/cpp.html#code=void%20intSwap%28int%20%26%20n1,%20int%20%26%20n2%29%20%7B%0A%20%20%20%20int%20temp%20%3D%20n1%3B%0A%20%20%20%20n1%20%3D%20n2%3B%0A%20%20%20%20n2%20%3D%20temp%3B%0A%7D%0Aint%20main%28%29%20%7B%0A%20%20//%20let's%20swap%20the%20values%20of%20these%20two%20variables%0A%20%20int%20value1%20%3D%2010%3B%0A%20%20int%20value2%20%3D%201000%3B%0A%20%20intSwap%28value1,%20value2%29%3B%0A%20%20return%200%3B%0A%7D&curInstr=0&mode=display&origin=opt-frontend.js&py=cpp&rawInputLstJSON=%5B%5D)\n"
   ]
  },
  {
   "cell_type": "markdown",
   "metadata": {},
   "source": [
    "### retrieve data from void function\n",
    "- pass by reference can be used to retrieve one or more values/answers from functions"
   ]
  },
  {
   "cell_type": "code",
   "execution_count": 22,
   "metadata": {},
   "outputs": [],
   "source": [
    "// extracting value from a function with passed by reference technique\n",
    "// num1 is passed by value num2 and sum are passed by reference\n",
    "void computeSum(int num1, int& num2, long &sum) {\n",
    "    sum = num1 + num2; // sum is modified\n",
    "    // notice void function, no return value!\n",
    "}"
   ]
  },
  {
   "cell_type": "code",
   "execution_count": 27,
   "metadata": {},
   "outputs": [
    {
     "name": "stdout",
     "output_type": "stream",
     "text": [
      "100 + 300 = 400\n"
     ]
    }
   ],
   "source": [
    "n1 = 100;\n",
    "n2 = 300;\n",
    "answer = 0; // initilize ans to 0; just in case!\n",
    "// n1, n2, and ans are actual parameters or arguments\n",
    "computeSum(n1, n2, answer);\n",
    "cout << n1 << \" + \" << n2 << \" = \" << answer << endl;"
   ]
  },
  {
   "cell_type": "code",
   "execution_count": 28,
   "metadata": {},
   "outputs": [],
   "source": [
    "// define a function that computes and returns both area and perimeter\n",
    "// C++ doesn't allow returning multiple values from a function\n",
    "// use pass-by-reference technique!\n",
    "void area_and_perimeter(const float & l, const float & w, float & area, float & peri) {\n",
    "    area = l*w;\n",
    "    peri = 2*(l+w);\n",
    "}"
   ]
  },
  {
   "cell_type": "code",
   "execution_count": 29,
   "metadata": {},
   "outputs": [],
   "source": [
    "float len = 4.5;\n",
    "float width = 3.99;\n",
    "float area, perimeter;"
   ]
  },
  {
   "cell_type": "code",
   "execution_count": 34,
   "metadata": {},
   "outputs": [],
   "source": [
    "area_and_perimeter(len, width, area, perimeter);"
   ]
  },
  {
   "cell_type": "code",
   "execution_count": 35,
   "metadata": {},
   "outputs": [
    {
     "data": {
      "text/plain": [
       "17.9550f"
      ]
     },
     "execution_count": 35,
     "metadata": {},
     "output_type": "execute_result"
    }
   ],
   "source": [
    "area"
   ]
  },
  {
   "cell_type": "code",
   "execution_count": 36,
   "metadata": {},
   "outputs": [
    {
     "data": {
      "text/plain": [
       "16.9800f"
      ]
     },
     "execution_count": 36,
     "metadata": {},
     "output_type": "execute_result"
    }
   ],
   "source": [
    "perimeter"
   ]
  },
  {
   "cell_type": "markdown",
   "metadata": {},
   "source": [
    "### visualize retrieving data from function on [pythontutor.com](http://pythontutor.com/cpp.html#code=//%20pass%20by%20value%20demo%0A%23include%20%3Ciostream%3E%0Ausing%20namespace%20std%3B%0A%0A//%20extracting%20value%20from%20a%20function%20with%20passed%20by%20reference%20technique%0A//%20num1%20is%20passed%20by%20value%20num%202%20and%20sum%20are%20passed%20by%20reference%0Avoid%20computeSum%28int%20num1,%20int%26%20num2,%20long%20%26sum%29%20%7B%0A%20%20%20%20sum%20%3D%20num1%20%2B%20num2%3B%20//%20sum%20is%20modified%0A%20%20%20%20//%20notice%20void%20function,%20no%20return%20value!%0A%7D%0A%0Aint%20main%28%29%20%7B%0A%20%20int%20n1,%20n2%3B%0A%20%20n1%20%3D%2020%3B%0A%20%20n2%20%3D%2030%3B%0A%20%20long%20ans%20%3D%200%3B%0A%20%20computeSum%28n1,%20n2,%20ans%29%3B%0A%20%20cout%20%3C%3C%20n1%20%3C%3C%20%22%20%2B%20%22%20%3C%3C%20n2%20%3C%3C%20%22%20%3D%20%22%20%3C%3C%20ans%20%3C%3C%20endl%3B%0A%20%20return%200%3B%0A%7D&curInstr=0&mode=display&origin=opt-frontend.js&py=cpp&rawInputLstJSON=%5B%5D)"
   ]
  },
  {
   "cell_type": "markdown",
   "metadata": {},
   "source": [
    "## Debugging and Unittesting with assert( )\n",
    "- if a problem is broken into sub-problems, it can be easily debugged\n",
    "- functions can be used to solve sub-problems that can be designed and tested independently\n",
    "- testing code at the functional level is called **unittesting**\n",
    "- we'll learn the basics of unittesting by automatically testing functions\n",
    "- $3^{rd}$ party frameworks such as googletest is used for comprehensive unittesting\n",
    "- we use **assert()** macro function provided in **&lt;cassert&gt;** library\n",
    "- syntax to use assert\n",
    "\n",
    "```cpp\n",
    "    assert(boolean expression);\n",
    "```\n",
    "- boolean expression is created comparing two data values using e.g., **==** operator\n",
    "    - more on comparison operators covered in Conditionals chapter\n",
    "- if condition evaluates to true (two values are indeed equal), assertion passes\n",
    "    - otherwise, assertion fails and the program halts immidiately\n",
    "- more on assert: https://en.cppreference.com/w/cpp/error/assert\n",
    "- **NOTE: assert( ) doesn't work in Jupyter notebook**; see the following demo programs"
   ]
  },
  {
   "cell_type": "markdown",
   "metadata": {},
   "source": [
    "### makefile demos\n",
    "- make is a program that allows to compile and build complex C/C++ programs\n",
    "- see the following demos\n",
    "\n",
    "### debugging demo\n",
    "- debugging with assert function [demos/assert/assertdebug.cpp](demos/assert/assertdebug.cpp)\n",
    "\n",
    "```bash\n",
    "cd ./demos/assertassertdebug.cpp\n",
    "make\n",
    "# runt the program\n",
    "make clean\n",
    "```\n",
    "\n",
    "\n",
    "### unittesting demos\n",
    "- using this concept, we can automatically test if the returned results from functions are correct or not\n",
    "- see unittesting function with assert here [demos/unittest1/unittesting.cpp](demos/unittest1/unittesting.cpp)\n",
    "\n",
    "- see improved version 2.0 unittesting example [demos/unittest2/unittesting_v2.cpp](demos/unittest2/unittesting_v2.cpp)"
   ]
  },
  {
   "cell_type": "markdown",
   "metadata": {},
   "source": [
    "## Scope and name resolution\n",
    "- scope is the area of visibility of identifiers such as variables and constants within the program\n",
    "    - scope determines where the variables and identifiers are valid\n",
    "- scopes can be conceptualized as box frames\n",
    "- C++ provides 3 common types of identifiers' scopes\n",
    "    1. global scope\n",
    "    2. local scope\n",
    "    3. block scope\n",
    "    \n",
    "### global scope\n",
    "- any identifiers (variables, constants, functions) decalared outside any function have global scope\n",
    "- most functions have global scopes\n",
    "- can be used anywhere in the program\n",
    "\n",
    "### local scope\n",
    "- any variables and constants defined inside function scope\n",
    "    - including parameters have local scope\n",
    "- local identifiers can be used anywhere within the function scope\n",
    "\n",
    "### block scope\n",
    "- smallest region that is enclosed inside curly braces { }\n",
    "- any identifiers declared inside curly braces can be used only withing that block\n",
    "- very limited scope and rarely used\n",
    "\n",
    "### name resolution\n",
    "- program needs to know and resolve what different names are\n",
    "    - where the names are declared and their scope or visibility\n",
    "- compiler first looks into the current scope or frame then the frame it's immidiately inside and so on until global frame to try to resolve any name used in the program\n",
    "\n",
    "- the following figure depicts the various scopes and name resolution in C++\n",
    "\n",
    "![](resources/scopesandnameresolution.png)\n"
   ]
  },
  {
   "cell_type": "code",
   "execution_count": null,
   "metadata": {},
   "outputs": [],
   "source": []
  }
 ],
 "metadata": {
  "kernelspec": {
   "display_name": "C++17",
   "language": "C++17",
   "name": "xcpp17"
  },
  "language_info": {
   "codemirror_mode": "text/x-c++src",
   "file_extension": ".cpp",
   "mimetype": "text/x-c++src",
   "name": "c++",
   "version": "17"
  }
 },
 "nbformat": 4,
 "nbformat_minor": 2
}
